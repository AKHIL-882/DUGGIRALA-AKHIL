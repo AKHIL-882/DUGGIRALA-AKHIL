{
  "nbformat": 4,
  "nbformat_minor": 0,
  "metadata": {
    "colab": {
      "name": "Assignment2.ipynb",
      "provenance": [],
      "authorship_tag": "ABX9TyMqOskXkTW9uhvTdzoZUWhl",
      "include_colab_link": true
    },
    "kernelspec": {
      "name": "python3",
      "display_name": "Python 3"
    }
  },
  "cells": [
    {
      "cell_type": "markdown",
      "metadata": {
        "id": "view-in-github",
        "colab_type": "text"
      },
      "source": [
        "<a href=\"https://colab.research.google.com/github/AKHIL-882/DUGGIRALA-AKHIL/blob/master/Assignment2.ipynb\" target=\"_parent\"><img src=\"https://colab.research.google.com/assets/colab-badge.svg\" alt=\"Open In Colab\"/></a>"
      ]
    },
    {
      "cell_type": "markdown",
      "metadata": {
        "id": "Vr7XjigRsUXx"
      },
      "source": [
        "### **Program to find the fibonacci series**"
      ]
    },
    {
      "cell_type": "code",
      "metadata": {
        "colab": {
          "base_uri": "https://localhost:8080/"
        },
        "id": "9aBCcX5RsB_t",
        "outputId": "922303d7-87e8-4031-eba8-7518ee7cbcab"
      },
      "source": [
        "n = int(input(\"Enter the Length \"))\n",
        "num1, num2 = 0, 1\n",
        "count = 0\n",
        "if n <= 0:\n",
        "   print(\"Enter Positive Integers Only!!\")\n",
        "elif n == 1:\n",
        "   print(\"Fibonacci sequence upto\",nterms,\":\")\n",
        "   print(num1)\n",
        "else:\n",
        "   print(\"Fibonacci sequence for the given range is :\")\n",
        "   while count < n:\n",
        "       print(num1)\n",
        "       num3 = num1 + num2\n",
        "       num1 = num2\n",
        "       num2 = num3\n",
        "       count += 1"
      ],
      "execution_count": 32,
      "outputs": [
        {
          "output_type": "stream",
          "text": [
            "Enter the Length 10\n",
            "Fibonacci sequence for the given range is :\n",
            "0\n",
            "1\n",
            "1\n",
            "2\n",
            "3\n",
            "5\n",
            "8\n",
            "13\n",
            "21\n",
            "34\n"
          ],
          "name": "stdout"
        }
      ]
    },
    {
      "cell_type": "markdown",
      "metadata": {
        "id": "GgZssMVauOtp"
      },
      "source": [
        "### **Python program to print leap year or not**"
      ]
    },
    {
      "cell_type": "code",
      "metadata": {
        "colab": {
          "base_uri": "https://localhost:8080/"
        },
        "id": "ngjM0xtpt6d1",
        "outputId": "4fcbbaa8-f87c-4ad5-ec4e-98d4f7460009"
      },
      "source": [
        "\n",
        "year = int(input(\"Enter any year : \"))\n",
        "if (year % 4) == 0:\n",
        "   if (year % 100) == 0:\n",
        "       if (year % 400) == 0:\n",
        "           print(\"{} is a leap year\".format(year))\n",
        "       else:\n",
        "           print(\"{} is not a leap year\".format(year))\n",
        "   else:\n",
        "       print(\"{} is a leap year\".format(year))\n",
        "else:\n",
        "   print(\"{} is not a leap year\".format(year))"
      ],
      "execution_count": 31,
      "outputs": [
        {
          "output_type": "stream",
          "text": [
            "Enter any year : 2020\n",
            "2020 is a leap year\n"
          ],
          "name": "stdout"
        }
      ]
    },
    {
      "cell_type": "markdown",
      "metadata": {
        "id": "xc2a6qgbu8CJ"
      },
      "source": [
        "### **Python Program to Print Even or Odd**"
      ]
    },
    {
      "cell_type": "code",
      "metadata": {
        "colab": {
          "base_uri": "https://localhost:8080/"
        },
        "id": "qPYkBfvtujzz",
        "outputId": "b948023f-6545-45c2-cfb4-68894e79418f"
      },
      "source": [
        "num = int(input(\"Enter a number: \"))\n",
        "if (num % 2) == 0:\n",
        "   print(\"{} is Even\".format(num))\n",
        "else:\n",
        "   print(\"{} is Odd\".format(num))"
      ],
      "execution_count": 26,
      "outputs": [
        {
          "output_type": "stream",
          "text": [
            "Enter a number: 5\n",
            "5 is Odd\n"
          ],
          "name": "stdout"
        }
      ]
    },
    {
      "cell_type": "markdown",
      "metadata": {
        "id": "xtb8XrmtvKy5"
      },
      "source": [
        "### **Python Program to print largest of three numbers**"
      ]
    },
    {
      "cell_type": "code",
      "metadata": {
        "colab": {
          "base_uri": "https://localhost:8080/"
        },
        "id": "mH2XE4ymvCPH",
        "outputId": "bf9970b2-45e7-4d81-8526-b09b5bb0165d"
      },
      "source": [
        "num1 = int(input(\"Enter the Number1: \"))\n",
        "num2 = int(input(\"Enter the Number2: \"))\n",
        "num3 = int(input(\"Enter the Number2: \"))\n",
        "if (num1 >= num2) and (num1 >= num3):\n",
        "   largest_num = num1\n",
        "elif (num2 >= num1) and (num2 >= num3):\n",
        "   largest_num = num2\n",
        "else:\n",
        "   largest_num = num3\n",
        "\n",
        "print(\"The largest number is\", largest_num)"
      ],
      "execution_count": 28,
      "outputs": [
        {
          "output_type": "stream",
          "text": [
            "Enter the Number1: 1\n",
            "Enter the Number2: 3\n",
            "Enter the Number2: 2\n",
            "The largest number is 3\n"
          ],
          "name": "stdout"
        }
      ]
    },
    {
      "cell_type": "markdown",
      "metadata": {
        "id": "0aV1DJMvvpmC"
      },
      "source": [
        "### **Python Program to print a string is palindrome or not**"
      ]
    },
    {
      "cell_type": "code",
      "metadata": {
        "colab": {
          "base_uri": "https://localhost:8080/"
        },
        "id": "BE-wXwOwviah",
        "outputId": "5c0d865f-d1f7-4452-e47e-a30b8e7740a5"
      },
      "source": [
        "user_string = input(\"Enter the String: \")\n",
        "user_string = user_string.casefold()\n",
        "\n",
        "string_reverse = reversed(user_string)\n",
        "\n",
        "if list(user_string) == list(string_reverse):\n",
        "   print(\"The string is a palindrome.\")\n",
        "else:\n",
        "   print(\"The string is not a palindrome.\")"
      ],
      "execution_count": 30,
      "outputs": [
        {
          "output_type": "stream",
          "text": [
            "Enter the String: madam\n",
            "The string is a palindrome.\n"
          ],
          "name": "stdout"
        }
      ]
    },
    {
      "cell_type": "code",
      "metadata": {
        "id": "xLIVoFl1wM74"
      },
      "source": [
        ""
      ],
      "execution_count": null,
      "outputs": []
    }
  ]
}