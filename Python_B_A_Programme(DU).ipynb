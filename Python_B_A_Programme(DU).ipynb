{
  "nbformat": 4,
  "nbformat_minor": 0,
  "metadata": {
    "colab": {
      "name": "Python B.A Programme(DU).ipynb",
      "provenance": [],
      "collapsed_sections": [],
      "authorship_tag": "ABX9TyOJfU584uF+JzNzfsb05WO1",
      "include_colab_link": true
    },
    "kernelspec": {
      "name": "python3",
      "display_name": "Python 3"
    }
  },
  "cells": [
    {
      "cell_type": "markdown",
      "metadata": {
        "id": "view-in-github",
        "colab_type": "text"
      },
      "source": [
        "<a href=\"https://colab.research.google.com/github/AKHIL-882/DUGGIRALA-AKHIL/blob/master/Python_B_A_Programme(DU).ipynb\" target=\"_parent\"><img src=\"https://colab.research.google.com/assets/colab-badge.svg\" alt=\"Open In Colab\"/></a>"
      ]
    },
    {
      "cell_type": "markdown",
      "metadata": {
        "id": "wT44fBNOSvH8"
      },
      "source": [
        "####**Define a class Rectangle that has the two data members Length and Breadth and following methods: • Constructor to initialize the data members Length and Breadth • Area – This computes area of the rectangle • __str__ function to generate a string that may be used to display the data members of the rectangle.Also, write Python statements to: • Create an object of the class Rectangle with suitable values. • Invoke the method Area • Print all the data members of the class • Give the output that will be produced on execution of the followingstatement: print(12 & 7, 12 | 7, ~12, 12^ 7, 12 << 3)**"
      ]
    },
    {
      "cell_type": "code",
      "metadata": {
        "colab": {
          "base_uri": "https://localhost:8080/"
        },
        "id": "gTQdKW2HSl40",
        "outputId": "b5367916-6a86-4215-982d-06637c35059c"
      },
      "source": [
        "class rectangle():\r\n",
        "    def __init__(self,breadth,length):\r\n",
        "        self.breadth=breadth\r\n",
        "        self.length=length\r\n",
        "    def area(self):\r\n",
        "        return self.breadth*self.length\r\n",
        "    def __str__(self):\r\n",
        "        return \"Member of Test\"\r\n",
        "\r\n",
        "length=int(input(\"Enter length of rectangle: \"))\r\n",
        "breadth=int(input(\"Enter breadth of rectangle: \"))\r\n",
        "area_of_rectangle=rectangle(length,breadth)\r\n",
        "print(\"Area of rectangle:\",area_of_rectangle.area())\r\n",
        "print()\r\n",
        "print(\"The Datamembers of rectangle\",rectangle)"
      ],
      "execution_count": 32,
      "outputs": [
        {
          "output_type": "stream",
          "text": [
            "Enter length of rectangle: 2\n",
            "Enter breadth of rectangle: 4\n",
            "Area of rectangle: 8\n",
            "\n",
            "The Datamembers of rectangle <class '__main__.rectangle'>\n"
          ],
          "name": "stdout"
        }
      ]
    },
    {
      "cell_type": "markdown",
      "metadata": {
        "id": "BatAjVrUYnCx"
      },
      "source": [
        "**1(b) Answer**"
      ]
    },
    {
      "cell_type": "code",
      "metadata": {
        "colab": {
          "base_uri": "https://localhost:8080/"
        },
        "id": "UfFvfE9RSt5j",
        "outputId": "e0dad87d-52f9-4fbd-a9fd-a87bcbd9abcf"
      },
      "source": [
        "class Rectangle:\r\n",
        "    \"This is Rectangle class\"\r\n",
        "    length = 15\r\n",
        "    breadth = 10\r\n",
        "    print(\"Lenght and Breadth\",length,breadth)\r\n",
        "\r\n",
        "    def area(self):\r\n",
        "      length = 2\r\n",
        "      breadth = 3\r\n",
        "      print('Area of rectangle', length * breadth)\r\n",
        "\r\n",
        "# create a new object of Rectangle class\r\n",
        "Object_created = Rectangle()\r\n",
        "\r\n",
        "print(Rectangle.area)\r\n",
        "\r\n",
        "print(Object_created.area)\r\n",
        "\r\n",
        "# Calling object's area() method\r\n",
        "\r\n",
        "Object_created.area()\r\n",
        "\r\n",
        "print(\"\\n\")\r\n",
        "print(Rectangle.area)\r\n",
        "Rectangle.area\r\n"
      ],
      "execution_count": 28,
      "outputs": [
        {
          "output_type": "stream",
          "text": [
            "Lenght and Breadth 15 10\n",
            "<function Rectangle.area at 0x7fb9d7033a60>\n",
            "<bound method Rectangle.area of <__main__.Rectangle object at 0x7fb9d7031ba8>>\n",
            "Area of rectangle 6\n",
            "\n",
            "\n",
            "<function Rectangle.area at 0x7fb9d7033a60>\n"
          ],
          "name": "stdout"
        },
        {
          "output_type": "execute_result",
          "data": {
            "text/plain": [
              "<function __main__.Rectangle.area>"
            ]
          },
          "metadata": {
            "tags": []
          },
          "execution_count": 28
        }
      ]
    },
    {
      "cell_type": "markdown",
      "metadata": {
        "id": "DnePdKgIZIE2"
      },
      "source": [
        "**1(c) Output**"
      ]
    },
    {
      "cell_type": "code",
      "metadata": {
        "colab": {
          "base_uri": "https://localhost:8080/"
        },
        "id": "3k0Eye4hU_Kr",
        "outputId": "88029268-c8d2-4bc1-fc74-7e7a00e3cd79"
      },
      "source": [
        "print(12 & 7, 12 | 7,~12, -12 ^ 7, 12 << 3)"
      ],
      "execution_count": 30,
      "outputs": [
        {
          "output_type": "stream",
          "text": [
            "4 15 -13 -13 96\n"
          ],
          "name": "stdout"
        }
      ]
    },
    {
      "cell_type": "markdown",
      "metadata": {
        "id": "tC0edu31dd-m"
      },
      "source": [
        "**3(3) Answer**"
      ]
    },
    {
      "cell_type": "code",
      "metadata": {
        "colab": {
          "base_uri": "https://localhost:8080/"
        },
        "id": "u-xZWkDcZDKK",
        "outputId": "343e4f98-c26b-44f5-bdac-56eb7704613e"
      },
      "source": [
        "def func1(m,n):\r\n",
        "  if(m<100):\r\n",
        "    if(n>50):\r\n",
        "      m +=1\r\n",
        "    else:\r\n",
        "      n +=1\r\n",
        "  print(m,n)\r\n",
        "\r\n",
        "(m,n) = 15,20\r\n",
        "print(m,n)"
      ],
      "execution_count": 31,
      "outputs": [
        {
          "output_type": "stream",
          "text": [
            "15 20\n"
          ],
          "name": "stdout"
        }
      ]
    },
    {
      "cell_type": "markdown",
      "metadata": {
        "id": "VpIOz8jGgXcl"
      },
      "source": [
        "### **Write your own Python function indexE(L1, e) that accepts a list L1 and an element e and returns the index of the element e, if element e is found in the list, else returns -1. Write python statements to apply the function indexE on the list L1: [31, 28, 63, 86, 15, 79, 44,52]to print the index of the values 86 and 87 in the list L1.**"
      ]
    },
    {
      "cell_type": "code",
      "metadata": {
        "colab": {
          "base_uri": "https://localhost:8080/"
        },
        "id": "JUIJHrv_d42N",
        "outputId": "05fb7b2a-9b3d-4f72-8691-ef7ae78bc3ed"
      },
      "source": [
        "def indexE(L1, n, e):\r\n",
        "    for i in range(0, n):\r\n",
        "        if (L1[i] == e):\r\n",
        "            return i\r\n",
        "    return -1\r\n",
        "\r\n",
        "L1 = [31, 28, 63, 86, 15, 79, 44]\r\n",
        "e = int(input(\"Enter the element to be search:  \"))\r\n",
        "n = len(L1)\r\n",
        "result = indexE(L1, n, e)\r\n",
        "if(result == -1):\r\n",
        "    print(\"Element not found | -1\")\r\n",
        "else:\r\n",
        "    print(\"Element found at index: \", result)\r\n"
      ],
      "execution_count": 74,
      "outputs": [
        {
          "output_type": "stream",
          "text": [
            "Enter the element to be search:  28\n",
            "Element found at index:  1\n"
          ],
          "name": "stdout"
        }
      ]
    },
    {
      "cell_type": "code",
      "metadata": {
        "colab": {
          "base_uri": "https://localhost:8080/",
          "height": 212
        },
        "id": "w0RQ8BR2g87k",
        "outputId": "9723ee50-5292-4e8f-b18b-aafbe4ede49f"
      },
      "source": [
        "L1 = [31, 28, 63, 86, 15, 79, 44]\r\n",
        "print(\"The index of 86 is : \", L1.index(86, 0, 7))\r\n",
        "print(\"The index value of 87 is: \",L1.index(87, 0, 7))"
      ],
      "execution_count": 75,
      "outputs": [
        {
          "output_type": "stream",
          "text": [
            "The index of 86 is :  3\n"
          ],
          "name": "stdout"
        },
        {
          "output_type": "error",
          "ename": "ValueError",
          "evalue": "ignored",
          "traceback": [
            "\u001b[0;31m---------------------------------------------------------------------------\u001b[0m",
            "\u001b[0;31mValueError\u001b[0m                                Traceback (most recent call last)",
            "\u001b[0;32m<ipython-input-75-6758fd769088>\u001b[0m in \u001b[0;36m<module>\u001b[0;34m()\u001b[0m\n\u001b[1;32m      1\u001b[0m \u001b[0mL1\u001b[0m \u001b[0;34m=\u001b[0m \u001b[0;34m[\u001b[0m\u001b[0;36m31\u001b[0m\u001b[0;34m,\u001b[0m \u001b[0;36m28\u001b[0m\u001b[0;34m,\u001b[0m \u001b[0;36m63\u001b[0m\u001b[0;34m,\u001b[0m \u001b[0;36m86\u001b[0m\u001b[0;34m,\u001b[0m \u001b[0;36m15\u001b[0m\u001b[0;34m,\u001b[0m \u001b[0;36m79\u001b[0m\u001b[0;34m,\u001b[0m \u001b[0;36m44\u001b[0m\u001b[0;34m]\u001b[0m\u001b[0;34m\u001b[0m\u001b[0;34m\u001b[0m\u001b[0m\n\u001b[1;32m      2\u001b[0m \u001b[0mprint\u001b[0m\u001b[0;34m(\u001b[0m\u001b[0;34m\"The index of 86 is : \"\u001b[0m\u001b[0;34m,\u001b[0m \u001b[0mL1\u001b[0m\u001b[0;34m.\u001b[0m\u001b[0mindex\u001b[0m\u001b[0;34m(\u001b[0m\u001b[0;36m86\u001b[0m\u001b[0;34m,\u001b[0m \u001b[0;36m0\u001b[0m\u001b[0;34m,\u001b[0m \u001b[0;36m7\u001b[0m\u001b[0;34m)\u001b[0m\u001b[0;34m)\u001b[0m\u001b[0;34m\u001b[0m\u001b[0;34m\u001b[0m\u001b[0m\n\u001b[0;32m----> 3\u001b[0;31m \u001b[0mprint\u001b[0m\u001b[0;34m(\u001b[0m\u001b[0;34m\"The index value of 87 is: \"\u001b[0m\u001b[0;34m,\u001b[0m\u001b[0mL1\u001b[0m\u001b[0;34m.\u001b[0m\u001b[0mindex\u001b[0m\u001b[0;34m(\u001b[0m\u001b[0;36m87\u001b[0m\u001b[0;34m,\u001b[0m \u001b[0;36m0\u001b[0m\u001b[0;34m,\u001b[0m \u001b[0;36m7\u001b[0m\u001b[0;34m)\u001b[0m\u001b[0;34m)\u001b[0m\u001b[0;34m\u001b[0m\u001b[0;34m\u001b[0m\u001b[0m\n\u001b[0m",
            "\u001b[0;31mValueError\u001b[0m: 87 is not in list"
          ]
        }
      ]
    },
    {
      "cell_type": "markdown",
      "metadata": {
        "id": "y9v1YElyjmFO"
      },
      "source": [
        "**4.2.1 Display first 3 elements**"
      ]
    },
    {
      "cell_type": "code",
      "metadata": {
        "colab": {
          "base_uri": "https://localhost:8080/"
        },
        "id": "7_TzAyTki6ZD",
        "outputId": "4c82cde8-35d1-431f-f811-50830f53172e"
      },
      "source": [
        "print(L1[0:3])"
      ],
      "execution_count": 76,
      "outputs": [
        {
          "output_type": "stream",
          "text": [
            "[31, 28, 63]\n"
          ],
          "name": "stdout"
        }
      ]
    },
    {
      "cell_type": "markdown",
      "metadata": {
        "id": "WNyfASlglryf"
      },
      "source": [
        "**4.2.2 Display last 2 elements**"
      ]
    },
    {
      "cell_type": "code",
      "metadata": {
        "colab": {
          "base_uri": "https://localhost:8080/"
        },
        "id": "gfqxeGIsjs_G",
        "outputId": "565ae20e-d17f-4430-eea2-b3ad9e768a1a"
      },
      "source": [
        "print(L1[-2:])"
      ],
      "execution_count": 77,
      "outputs": [
        {
          "output_type": "stream",
          "text": [
            "[79, 44]\n"
          ],
          "name": "stdout"
        }
      ]
    },
    {
      "cell_type": "markdown",
      "metadata": {
        "id": "WhxVqmFIlvkq"
      },
      "source": [
        "**4.2.3 Delete element at Index 2**"
      ]
    },
    {
      "cell_type": "code",
      "metadata": {
        "colab": {
          "base_uri": "https://localhost:8080/"
        },
        "id": "TSNvGxqhj21N",
        "outputId": "03c3d3e4-78e4-43de-a794-0f0edf9dfc46"
      },
      "source": [
        "del(L1[2])\r\n",
        "L1"
      ],
      "execution_count": 78,
      "outputs": [
        {
          "output_type": "execute_result",
          "data": {
            "text/plain": [
              "[31, 28, 86, 15, 79, 44]"
            ]
          },
          "metadata": {
            "tags": []
          },
          "execution_count": 78
        }
      ]
    },
    {
      "cell_type": "markdown",
      "metadata": {
        "id": "3tW5EkLQl2ui"
      },
      "source": [
        "**4.2.4 Inserting the list[11,6]**"
      ]
    },
    {
      "cell_type": "code",
      "metadata": {
        "colab": {
          "base_uri": "https://localhost:8080/"
        },
        "id": "9eEZNiQjkc34",
        "outputId": "20a233db-36dd-4cdd-f8cc-e2fa608879ea"
      },
      "source": [
        "new_elements = [11,6]\r\n",
        "\r\n",
        "# inserting a new elements to the list\r\n",
        "L1.insert(7, new_elements)\r\n",
        "\r\n",
        "print('Updated List-L2', L1)"
      ],
      "execution_count": 79,
      "outputs": [
        {
          "output_type": "stream",
          "text": [
            "Updated List-L2 [31, 28, 86, 15, 79, 44, [11, 6]]\n"
          ],
          "name": "stdout"
        }
      ]
    },
    {
      "cell_type": "markdown",
      "metadata": {
        "id": "gXkkLbAgl722"
      },
      "source": [
        "**4.3 Output of a program**"
      ]
    },
    {
      "cell_type": "code",
      "metadata": {
        "colab": {
          "base_uri": "https://localhost:8080/"
        },
        "id": "UMWeaLJYkn9M",
        "outputId": "9181cfe3-9075-4fa7-c101-2b5f019cb2e9"
      },
      "source": [
        "def test():\r\n",
        "  a=9\r\n",
        "  def test2():\r\n",
        "    a=6\r\n",
        "  test2()\r\n",
        "  a+=1\r\n",
        "  print(a)\r\n",
        "test()"
      ],
      "execution_count": 80,
      "outputs": [
        {
          "output_type": "stream",
          "text": [
            "10\n"
          ],
          "name": "stdout"
        }
      ]
    },
    {
      "cell_type": "markdown",
      "metadata": {
        "id": "BbtqPmMsmu95"
      },
      "source": [
        "### **Write a Python function vowel_cons(s)that accepts a string s and counts the vowels and consonant that occurs in s and prints the result.**"
      ]
    },
    {
      "cell_type": "code",
      "metadata": {
        "colab": {
          "base_uri": "https://localhost:8080/"
        },
        "id": "OgBxdw7xmtvk",
        "outputId": "77fb8325-12b2-425f-b396-05ad994cc737"
      },
      "source": [
        "\r\n",
        "def vowel_cons(str): \r\n",
        "  \r\n",
        "    # Declare the variable vowels,  \r\n",
        "    # consonant\r\n",
        "    vowels = 0\r\n",
        "    consonant = 0\r\n",
        "  \r\n",
        "    for i in range(0, len(str)):  \r\n",
        "          \r\n",
        "        ch = str[i]  \r\n",
        "  \r\n",
        "        if ( (ch >= 'a' and ch <= 'z') or \r\n",
        "             (ch >= 'A' and ch <= 'Z') ):  \r\n",
        "  \r\n",
        "            # To handle upper case letters \r\n",
        "            ch = ch.lower() \r\n",
        "  \r\n",
        "            if (ch == 'a' or ch == 'e' or ch == 'i' \r\n",
        "                        or ch == 'o' or ch == 'u'): \r\n",
        "                vowels += 1\r\n",
        "            else: \r\n",
        "                consonant += 1\r\n",
        "          \r\n",
        "      \r\n",
        "    print(\"The number of Vowels: \", vowels) \r\n",
        "    print(\"The number of Consonant: \", consonant)  \r\n",
        "   \r\n",
        "str = input(\"Enter the string:  \")\r\n",
        "vowel_cons(str)  "
      ],
      "execution_count": 85,
      "outputs": [
        {
          "output_type": "stream",
          "text": [
            "Enter the string:  aeiouzyxwv\n",
            "The number of Vowels:  5\n",
            "The number of Consonant:  5\n"
          ],
          "name": "stdout"
        }
      ]
    },
    {
      "cell_type": "markdown",
      "metadata": {
        "id": "n9hrKzQxny_I"
      },
      "source": [
        "**5.2 Output**"
      ]
    },
    {
      "cell_type": "code",
      "metadata": {
        "colab": {
          "base_uri": "https://localhost:8080/"
        },
        "id": "9BHfK7E-nymw",
        "outputId": "ea720f30-274c-4bb7-fc02-ce547e0d116b"
      },
      "source": [
        "a = True\r\n",
        "b = False\r\n",
        "if not a or b:\r\n",
        "  print(1)\r\n",
        "elif not a or not b:\r\n",
        "  print(2)\r\n",
        "else:\r\n",
        "  print(3)"
      ],
      "execution_count": 86,
      "outputs": [
        {
          "output_type": "stream",
          "text": [
            "2\n"
          ],
          "name": "stdout"
        }
      ]
    },
    {
      "cell_type": "markdown",
      "metadata": {
        "id": "pYcIqYd-oGPt"
      },
      "source": [
        "**5.3 Output and Errors**"
      ]
    },
    {
      "cell_type": "code",
      "metadata": {
        "colab": {
          "base_uri": "https://localhost:8080/"
        },
        "id": "ubBIwh8Oo5F7",
        "outputId": "65cf45da-0c57-4a08-ab9c-ba2b1a399a4c"
      },
      "source": [
        "a = \"one\"\r\n",
        "def Show():\r\n",
        "  Show.b = \"two\"   #error indentation and Accessing the variable\r\n",
        "  print(a)\r\n",
        "  print(Show.b)\r\n",
        "\r\n",
        "Show()   #Error while calling the function\r\n",
        "print(a)\r\n",
        "print(Show.b)  # Error in calling the value of a variable from function"
      ],
      "execution_count": 99,
      "outputs": [
        {
          "output_type": "stream",
          "text": [
            "one\n",
            "two\n",
            "one\n",
            "two\n"
          ],
          "name": "stdout"
        }
      ]
    },
    {
      "cell_type": "markdown",
      "metadata": {
        "id": "8pFFC2m4qkH9"
      },
      "source": [
        "**5.4 Output and Error**"
      ]
    },
    {
      "cell_type": "code",
      "metadata": {
        "colab": {
          "base_uri": "https://localhost:8080/"
        },
        "id": "iGnjv-Iqpqbb",
        "outputId": "c91ad9fa-3b49-4f38-ed76-f6e43cdb0499"
      },
      "source": [
        "def sample():\r\n",
        "  a = input ('Enter first number')\r\n",
        "  b = input ('Enter first number')\r\n",
        "  print (a,b)\r\n",
        "  b = a\r\n",
        "  print(\"The b value after changing is : \",b)\r\n",
        "\r\n",
        "sample()   #function calling is missing"
      ],
      "execution_count": 103,
      "outputs": [
        {
          "output_type": "stream",
          "text": [
            "Enter first number2\n",
            "Enter first number3\n",
            "2 3\n",
            "The b value after changing is :  2\n"
          ],
          "name": "stdout"
        }
      ]
    },
    {
      "cell_type": "markdown",
      "metadata": {
        "id": "-wUT2AOSrVdv"
      },
      "source": [
        "###**Write a Python function triangle(n)that accepts a positive integer n(here n≤9) as an argument and produces the pattern given below as output. In the pattern, for example, when 4 is entered as the value of n, the**"
      ]
    },
    {
      "cell_type": "code",
      "metadata": {
        "colab": {
          "base_uri": "https://localhost:8080/"
        },
        "id": "hZ9_5q7dqsRc",
        "outputId": "4fe51a90-f1cd-400d-fa36-543ee8cc0423"
      },
      "source": [
        "\r\n",
        "def traingle(n):\r\n",
        "  for n in range(1, n+1):\r\n",
        "    for c in range(1, n + 1):\r\n",
        "        print(c, end=' ')\r\n",
        "    print(\"\")\r\n",
        "n = int(input(\"Enter the value less than or equal to 9\"))\r\n",
        "if(n<=9):\r\n",
        "  traingle(n)\r\n",
        "else:\r\n",
        "  print(\"The value entered is greater than 9 \")"
      ],
      "execution_count": 123,
      "outputs": [
        {
          "output_type": "stream",
          "text": [
            "Requirement already satisfied: goto-statement in /usr/local/lib/python3.6/dist-packages (1.2)\n",
            "Enter the value less than or equal to 95\n",
            "1 \n",
            "1 2 \n",
            "1 2 3 \n",
            "1 2 3 4 \n",
            "1 2 3 4 5 \n"
          ],
          "name": "stdout"
        }
      ]
    },
    {
      "cell_type": "code",
      "metadata": {
        "colab": {
          "base_uri": "https://localhost:8080/"
        },
        "id": "2uYyFTXWspX4",
        "outputId": "e955afb7-6db9-4e1b-a57f-228bc18e36b9"
      },
      "source": [
        "s1 = 'Have a good day'\r\n",
        "print(s1.upper())\r\n",
        "print(s1.title())\r\n",
        "print(s1.isdigit())\r\n",
        "print(s1.isalpha())\r\n",
        "print(s1.count('a'))"
      ],
      "execution_count": 124,
      "outputs": [
        {
          "output_type": "stream",
          "text": [
            "HAVE A GOOD DAY\n",
            "Have A Good Day\n",
            "False\n",
            "False\n",
            "3\n"
          ],
          "name": "stdout"
        }
      ]
    },
    {
      "cell_type": "code",
      "metadata": {
        "colab": {
          "base_uri": "https://localhost:8080/"
        },
        "id": "I2_Lb4lFvGWx",
        "outputId": "742bb895-748e-4bfd-f09e-7d7cd5d18138"
      },
      "source": [
        "set1 = set(['Red','Orange','Green', 'Blue'])\r\n",
        "set2 = set(['Lightblue','Red','Voilet','Saffron'])\r\n",
        "\r\n",
        "print(set2 | set1)\r\n",
        "print(set2 - set2)\r\n",
        "print(set2 & set1)\r\n",
        "print('X' in set2)"
      ],
      "execution_count": 125,
      "outputs": [
        {
          "output_type": "stream",
          "text": [
            "{'Saffron', 'Blue', 'Lightblue', 'Green', 'Voilet', 'Orange', 'Red'}\n",
            "set()\n",
            "{'Red'}\n",
            "False\n"
          ],
          "name": "stdout"
        }
      ]
    },
    {
      "cell_type": "code",
      "metadata": {
        "id": "b_x_BjBNvjB_"
      },
      "source": [
        ""
      ],
      "execution_count": null,
      "outputs": []
    }
  ]
}