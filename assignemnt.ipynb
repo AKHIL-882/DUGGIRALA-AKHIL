{
  "nbformat": 4,
  "nbformat_minor": 0,
  "metadata": {
    "colab": {
      "name": "Untitled23.ipynb",
      "provenance": [],
      "authorship_tag": "ABX9TyNHw7zbh5Zg4Mv0isEezXDk",
      "include_colab_link": true
    },
    "kernelspec": {
      "name": "python3",
      "display_name": "Python 3"
    },
    "accelerator": "GPU"
  },
  "cells": [
    {
      "cell_type": "markdown",
      "metadata": {
        "id": "view-in-github",
        "colab_type": "text"
      },
      "source": [
        "<a href=\"https://colab.research.google.com/github/AKHIL-882/DUGGIRALA-AKHIL/blob/master/assignemnt.ipynb\" target=\"_parent\"><img src=\"https://colab.research.google.com/assets/colab-badge.svg\" alt=\"Open In Colab\"/></a>"
      ]
    },
    {
      "cell_type": "markdown",
      "metadata": {
        "id": "wavGlY4lpoRS"
      },
      "source": [
        "### **Python Program to Reverse a string**"
      ]
    },
    {
      "cell_type": "code",
      "metadata": {
        "id": "6j9isG4bpMue",
        "outputId": "e5146971-8762-4eec-e5f5-6930c5e2c351",
        "colab": {
          "base_uri": "https://localhost:8080/",
          "height": 0
        }
      },
      "source": [
        "def my_function(x):\n",
        "  return x[::-1]\n",
        "\n",
        "new_string = input(\"Enter the string:: \\n\")\n",
        "mytxt = my_function(new_string)\n",
        "\n",
        "print(\"The reverse of \" + new_string + \" is :: \" +mytxt)\n"
      ],
      "execution_count": 45,
      "outputs": [
        {
          "output_type": "stream",
          "text": [
            "Enter the string:: \n",
            "benarji\n",
            "The reverse of benarji is :: ijraneb\n"
          ],
          "name": "stdout"
        }
      ]
    },
    {
      "cell_type": "markdown",
      "metadata": {
        "id": "EbEbiNzPqX8r"
      },
      "source": [
        "### **Python Program to Print Pyramid**"
      ]
    },
    {
      "cell_type": "code",
      "metadata": {
        "id": "NJGD1wg8qXnf",
        "outputId": "b9e8e006-e19a-4a54-c687-5bd3f2b93dd9",
        "colab": {
          "base_uri": "https://localhost:8080/",
          "height": 0
        }
      },
      "source": [
        "def pyramid(n):\n",
        "      k = 2 * n - 2\n",
        "      for i in range(0,n):\n",
        "           for j in range(0,k):\n",
        "               print(end=\" \")\n",
        "           k = k - 1\n",
        "           for j in range(0, i+1):\n",
        "                print(\"*\", end=\" \")\n",
        "           print(\"\")\n",
        "num = int(input(\"Enter the range \"))\n",
        "pyramid(num)"
      ],
      "execution_count": 56,
      "outputs": [
        {
          "output_type": "stream",
          "text": [
            "Enter the range 5\n",
            "        * \n",
            "       * * \n",
            "      * * * \n",
            "     * * * * \n",
            "    * * * * * \n"
          ],
          "name": "stdout"
        }
      ]
    },
    {
      "cell_type": "markdown",
      "metadata": {
        "id": "3sg61UcUrCHf"
      },
      "source": [
        "### **Python Program to count number of 4 in a given List**"
      ]
    },
    {
      "cell_type": "code",
      "metadata": {
        "id": "w0DjITDspNIX",
        "outputId": "fa932a9c-868b-4dbd-c4f9-da051e048223",
        "colab": {
          "base_uri": "https://localhost:8080/",
          "height": 0
        }
      },
      "source": [
        "# def count_number_4(nums):\n",
        "#   count = 0  \n",
        "#   for num in nums:\n",
        "#     if num == 4:\n",
        "#       count = count + 1\n",
        "\n",
        "#   return count\n",
        "# print(\"The occurance of 4 in the list is\",count_number_4([1,2,3,4,5]), \"times\")\n",
        "\n",
        "count_number_4=[]\n",
        "i=0\n",
        "n=int(input(\"Enter the range\"))\n",
        "for i in range(n):\n",
        "  val = int(input())\n",
        "  count_number_4.append(val)\n",
        "print(count_number_4)\n",
        "\n",
        "count = 0  \n",
        "for num in count_number_4:\n",
        "  if num == 4:\n",
        "    count = count + 1\n",
        "print(\"The number of times 4 occured is: \",count)\n",
        "\n",
        "\n",
        "\n",
        "\n"
      ],
      "execution_count": 50,
      "outputs": [
        {
          "output_type": "stream",
          "text": [
            "The occurance of 4 in the list is 1 times\n"
          ],
          "name": "stdout"
        }
      ]
    },
    {
      "cell_type": "markdown",
      "metadata": {
        "id": "Br0SgE8KuUQX"
      },
      "source": [
        "### **GCD of Two Numbers**"
      ]
    },
    {
      "cell_type": "code",
      "metadata": {
        "id": "Tz64SuhLrK3O",
        "outputId": "bedfb264-3e56-405c-c7d0-1efe9db59b29",
        "colab": {
          "base_uri": "https://localhost:8080/",
          "height": 0
        }
      },
      "source": [
        "def gcd(a,b):\n",
        "  if(b==0):\n",
        "    return a\n",
        "  else:\n",
        "    return gcd(b,a%b)\n",
        "\n",
        "num1=int(input(\"Enter the number_1: \"))\n",
        "num2=int(input(\"Enter the number_2: \"))\n",
        "GCD=gcd(num1,num2)\n",
        "print(\"The GCD of two numbers is \",GCD)"
      ],
      "execution_count": 51,
      "outputs": [
        {
          "output_type": "stream",
          "text": [
            "Enter the number_1: 25\n",
            "Enter the number_2: 5\n",
            "The GCD of two numbers is  5\n"
          ],
          "name": "stdout"
        }
      ]
    },
    {
      "cell_type": "markdown",
      "metadata": {
        "id": "jC7c3sI6u1wJ"
      },
      "source": [
        "### **Python Program two merge Three List**"
      ]
    },
    {
      "cell_type": "code",
      "metadata": {
        "id": "Pn49Q4NXtl0k",
        "outputId": "8dc2fbdf-c261-47e5-8b41-434775a425db",
        "colab": {
          "base_uri": "https://localhost:8080/",
          "height": 0
        }
      },
      "source": [
        "\n",
        "\n",
        "# list1 = [1, 2, 3]\n",
        "# list2 = [4, 5, 6]\n",
        "# list3 = [7, 8, 9]\n",
        "# new_list = list1 + list2 + list3\n",
        "# print(new_list)\n",
        "\n",
        "list1=[]\n",
        "list2=[]\n",
        "list3=[]\n",
        "new_list=[]\n",
        "i=0\n",
        "print(\"Enter the range and values of List1\")\n",
        "n=int(input(\"Enter the range\"))\n",
        "for i in range(n):\n",
        "  val = int(input())\n",
        "  list1.append(val)\n",
        "print(list1)\n",
        "\n",
        "print(\"Enter the range and values of List2\")\n",
        "n=int(input(\"Enter the range\"))\n",
        "for i in range(n):\n",
        "  val = int(input())\n",
        "  list2.append(val)\n",
        "print(list2)\n",
        "\n",
        "print(\"Enter the range and values of List3\")\n",
        "n=int(input(\"Enter the range\"))\n",
        "for i in range(n):\n",
        "  val = int(input())\n",
        "  list3.append(val)\n",
        "print(list3)\n",
        "\n",
        "print(\"Merged List\")\n",
        "new_list = list1 + list2 + list3\n",
        "print(new_list)\n"
      ],
      "execution_count": 57,
      "outputs": [
        {
          "output_type": "stream",
          "text": [
            "Enter the range and values of List1\n",
            "Enter the range2\n",
            "1\n",
            "2\n",
            "[1, 2]\n",
            "Enter the range and values of List2\n",
            "Enter the range3\n",
            "3\n",
            "4\n",
            "5\n",
            "[3, 4, 5]\n",
            "Enter the range and values of List3\n",
            "Enter the range2\n",
            "6\n",
            "7\n",
            "[6, 7]\n",
            "Merged List\n",
            "[1, 2, 3, 4, 5, 6, 7]\n"
          ],
          "name": "stdout"
        }
      ]
    },
    {
      "cell_type": "code",
      "metadata": {
        "id": "eXj4Vzulu7Em"
      },
      "source": [
        "22"
      ],
      "execution_count": null,
      "outputs": []
    }
  ]
}