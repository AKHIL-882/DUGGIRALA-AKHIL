{
  "nbformat": 4,
  "nbformat_minor": 0,
  "metadata": {
    "colab": {
      "name": "Innomatics Research Lab Hackathon.ipynb",
      "provenance": [],
      "authorship_tag": "ABX9TyNHQD+DWK+by75mPyeLjbIW",
      "include_colab_link": true
    },
    "kernelspec": {
      "name": "python3",
      "display_name": "Python 3"
    },
    "accelerator": "GPU"
  },
  "cells": [
    {
      "cell_type": "markdown",
      "metadata": {
        "id": "view-in-github",
        "colab_type": "text"
      },
      "source": [
        "<a href=\"https://colab.research.google.com/github/AKHIL-882/Python-Program-of-DU/blob/master/Innomatics_Research_Lab_Hackathon.ipynb\" target=\"_parent\"><img src=\"https://colab.research.google.com/assets/colab-badge.svg\" alt=\"Open In Colab\"/></a>"
      ]
    },
    {
      "cell_type": "markdown",
      "metadata": {
        "id": "Vof_QwueKk_E"
      },
      "source": [
        "# **Modelling the data** "
      ]
    },
    {
      "cell_type": "markdown",
      "metadata": {
        "id": "rAI2Erj5LUEJ"
      },
      "source": [
        "### **What Is Exploratory Data Analysis ?** \n",
        "\n",
        "Exploratory Data Analysis or (EDA) is understanding the data sets by summarizing their main characteristics often plotting them visual!)y. This step is very important especially when we arrive at modeling the data in order to apply Machine learning. Plotting in EDA consists of Histograms, Box plot, Scatter plot and many more. It often takes much time to explore the data. Through the process of EDA, we understand the problem better and try to uncover hidden insights \n",
        "\n",
        "### **How to perform Exploratory Data Analysis ?**\n",
        "\n",
        "Well, the answer is it depends on the data set that you are working. There is no one method or common methods in order to perform EDA whereas in this notebook you can understand some common methods and plots that would be used In the EDA process. \n",
        "\n",
        "\n",
        "**Resource: Google**"
      ]
    },
    {
      "cell_type": "markdown",
      "metadata": {
        "id": "GW6j-Xl-St_n"
      },
      "source": [
        "### **Importiing the Required Libraries**"
      ]
    },
    {
      "cell_type": "code",
      "metadata": {
        "id": "EjNFAEGxSMT2"
      },
      "source": [
        "import pandas as pd\n",
        "import numpy as np\n",
        "import matplotlib.pyplot as plt        #visualisation\n",
        "import seaborn as sns                  #Visualisation\n",
        "%matplotlib inline\n"
      ],
      "execution_count": null,
      "outputs": []
    },
    {
      "cell_type": "markdown",
      "metadata": {
        "id": "nBebiyjHNLWh"
      },
      "source": [
        "For more info on how to load dataset into colab. Check this [3 ways to load data into colab](https://towardsdatascience.com/3-ways-to-load-csv-files-into-colab-7c14fcbdcb92#:~:text=Click%20on%20%E2%80%9CChoose%20Files%E2%80%9D%20then,name%20of%20the%20uploaded%20file).)"
      ]
    },
    {
      "cell_type": "code",
      "metadata": {
        "id": "mdPcXv1nW0Z2",
        "colab": {
          "resources": {
            "http://localhost:8080/nbextensions/google.colab/files.js": {
              "data": "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",
              "ok": true,
              "headers": [
                [
                  "content-type",
                  "application/javascript"
                ]
              ],
              "status": 200,
              "status_text": ""
            }
          },
          "base_uri": "https://localhost:8080/",
          "height": 73
        },
        "outputId": "0bfb9ecd-3098-4255-e9cc-b124256562d5"
      },
      "source": [
        "from google.colab import files\n",
        "uploaded = files.upload()"
      ],
      "execution_count": null,
      "outputs": [
        {
          "output_type": "display_data",
          "data": {
            "text/html": [
              "\n",
              "     <input type=\"file\" id=\"files-61bebf41-9ce2-4fc4-b8b9-88e3c83f434b\" name=\"files[]\" multiple disabled\n",
              "        style=\"border:none\" />\n",
              "     <output id=\"result-61bebf41-9ce2-4fc4-b8b9-88e3c83f434b\">\n",
              "      Upload widget is only available when the cell has been executed in the\n",
              "      current browser session. Please rerun this cell to enable.\n",
              "      </output>\n",
              "      <script src=\"/nbextensions/google.colab/files.js\"></script> "
            ],
            "text/plain": [
              "<IPython.core.display.HTML object>"
            ]
          },
          "metadata": {
            "tags": []
          }
        },
        {
          "output_type": "stream",
          "text": [
            "Saving data.csv to data (3).csv\n"
          ],
          "name": "stdout"
        }
      ]
    },
    {
      "cell_type": "code",
      "metadata": {
        "id": "Wwixc3h5XGfU"
      },
      "source": [
        "import io\n",
        "dataset = pd.read_csv(io.BytesIO(uploaded['data.csv']))"
      ],
      "execution_count": null,
      "outputs": []
    },
    {
      "cell_type": "markdown",
      "metadata": {
        "id": "GDV2QqyYTuF2"
      },
      "source": [
        "**Printing the first 10 rows of the dataset**"
      ]
    },
    {
      "cell_type": "code",
      "metadata": {
        "id": "QJ8PZNkjSpB4",
        "colab": {
          "base_uri": "https://localhost:8080/",
          "height": 343
        },
        "outputId": "67b6904c-e14d-49d8-e123-91a2927b12d5"
      },
      "source": [
        "dataset.head(10)"
      ],
      "execution_count": null,
      "outputs": [
        {
          "output_type": "execute_result",
          "data": {
            "text/html": [
              "<div>\n",
              "<style scoped>\n",
              "    .dataframe tbody tr th:only-of-type {\n",
              "        vertical-align: middle;\n",
              "    }\n",
              "\n",
              "    .dataframe tbody tr th {\n",
              "        vertical-align: top;\n",
              "    }\n",
              "\n",
              "    .dataframe thead th {\n",
              "        text-align: right;\n",
              "    }\n",
              "</style>\n",
              "<table border=\"1\" class=\"dataframe\">\n",
              "  <thead>\n",
              "    <tr style=\"text-align: right;\">\n",
              "      <th></th>\n",
              "      <th>x1</th>\n",
              "      <th>x2</th>\n",
              "      <th>y</th>\n",
              "    </tr>\n",
              "  </thead>\n",
              "  <tbody>\n",
              "    <tr>\n",
              "      <th>0</th>\n",
              "      <td>-119.366669</td>\n",
              "      <td>115.000000</td>\n",
              "      <td>1</td>\n",
              "    </tr>\n",
              "    <tr>\n",
              "      <th>1</th>\n",
              "      <td>-101.108044</td>\n",
              "      <td>97.777159</td>\n",
              "      <td>1</td>\n",
              "    </tr>\n",
              "    <tr>\n",
              "      <th>2</th>\n",
              "      <td>-130.278658</td>\n",
              "      <td>106.767654</td>\n",
              "      <td>1</td>\n",
              "    </tr>\n",
              "    <tr>\n",
              "      <th>3</th>\n",
              "      <td>-114.703415</td>\n",
              "      <td>101.195477</td>\n",
              "      <td>1</td>\n",
              "    </tr>\n",
              "    <tr>\n",
              "      <th>4</th>\n",
              "      <td>-119.366669</td>\n",
              "      <td>115.000000</td>\n",
              "      <td>1</td>\n",
              "    </tr>\n",
              "    <tr>\n",
              "      <th>5</th>\n",
              "      <td>-121.393638</td>\n",
              "      <td>120.037573</td>\n",
              "      <td>1</td>\n",
              "    </tr>\n",
              "    <tr>\n",
              "      <th>6</th>\n",
              "      <td>-102.569918</td>\n",
              "      <td>113.840641</td>\n",
              "      <td>1</td>\n",
              "    </tr>\n",
              "    <tr>\n",
              "      <th>7</th>\n",
              "      <td>-118.175619</td>\n",
              "      <td>110.460679</td>\n",
              "      <td>1</td>\n",
              "    </tr>\n",
              "    <tr>\n",
              "      <th>8</th>\n",
              "      <td>-118.366669</td>\n",
              "      <td>115.000000</td>\n",
              "      <td>1</td>\n",
              "    </tr>\n",
              "    <tr>\n",
              "      <th>9</th>\n",
              "      <td>-102.731143</td>\n",
              "      <td>122.923042</td>\n",
              "      <td>1</td>\n",
              "    </tr>\n",
              "  </tbody>\n",
              "</table>\n",
              "</div>"
            ],
            "text/plain": [
              "           x1          x2  y\n",
              "0 -119.366669  115.000000  1\n",
              "1 -101.108044   97.777159  1\n",
              "2 -130.278658  106.767654  1\n",
              "3 -114.703415  101.195477  1\n",
              "4 -119.366669  115.000000  1\n",
              "5 -121.393638  120.037573  1\n",
              "6 -102.569918  113.840641  1\n",
              "7 -118.175619  110.460679  1\n",
              "8 -118.366669  115.000000  1\n",
              "9 -102.731143  122.923042  1"
            ]
          },
          "metadata": {
            "tags": []
          },
          "execution_count": 43
        }
      ]
    },
    {
      "cell_type": "markdown",
      "metadata": {
        "id": "BkhyGOQHT7gz"
      },
      "source": [
        "**Printing the last 10 rows of the dataset**"
      ]
    },
    {
      "cell_type": "code",
      "metadata": {
        "id": "_vCMw39sSqPV",
        "colab": {
          "base_uri": "https://localhost:8080/",
          "height": 343
        },
        "outputId": "e9a39fbd-dc42-4151-e5cf-8ba929fc27c1"
      },
      "source": [
        "dataset.tail(10)"
      ],
      "execution_count": null,
      "outputs": [
        {
          "output_type": "execute_result",
          "data": {
            "text/html": [
              "<div>\n",
              "<style scoped>\n",
              "    .dataframe tbody tr th:only-of-type {\n",
              "        vertical-align: middle;\n",
              "    }\n",
              "\n",
              "    .dataframe tbody tr th {\n",
              "        vertical-align: top;\n",
              "    }\n",
              "\n",
              "    .dataframe thead th {\n",
              "        text-align: right;\n",
              "    }\n",
              "</style>\n",
              "<table border=\"1\" class=\"dataframe\">\n",
              "  <thead>\n",
              "    <tr style=\"text-align: right;\">\n",
              "      <th></th>\n",
              "      <th>x1</th>\n",
              "      <th>x2</th>\n",
              "      <th>y</th>\n",
              "    </tr>\n",
              "  </thead>\n",
              "  <tbody>\n",
              "    <tr>\n",
              "      <th>2217</th>\n",
              "      <td>102.043673</td>\n",
              "      <td>1.056439e+02</td>\n",
              "      <td>0</td>\n",
              "    </tr>\n",
              "    <tr>\n",
              "      <th>2218</th>\n",
              "      <td>104.492501</td>\n",
              "      <td>9.008542e+01</td>\n",
              "      <td>0</td>\n",
              "    </tr>\n",
              "    <tr>\n",
              "      <th>2219</th>\n",
              "      <td>96.633331</td>\n",
              "      <td>9.100000e+01</td>\n",
              "      <td>0</td>\n",
              "    </tr>\n",
              "    <tr>\n",
              "      <th>2220</th>\n",
              "      <td>76.924198</td>\n",
              "      <td>9.111424e+01</td>\n",
              "      <td>0</td>\n",
              "    </tr>\n",
              "    <tr>\n",
              "      <th>2221</th>\n",
              "      <td>88.129639</td>\n",
              "      <td>1.075149e+02</td>\n",
              "      <td>0</td>\n",
              "    </tr>\n",
              "    <tr>\n",
              "      <th>2222</th>\n",
              "      <td>98.714112</td>\n",
              "      <td>8.964312e+01</td>\n",
              "      <td>0</td>\n",
              "    </tr>\n",
              "    <tr>\n",
              "      <th>2223</th>\n",
              "      <td>96.633331</td>\n",
              "      <td>9.100000e+01</td>\n",
              "      <td>0</td>\n",
              "    </tr>\n",
              "    <tr>\n",
              "      <th>2224</th>\n",
              "      <td>85.673940</td>\n",
              "      <td>1.038393e+02</td>\n",
              "      <td>0</td>\n",
              "    </tr>\n",
              "    <tr>\n",
              "      <th>2225</th>\n",
              "      <td>78.958862</td>\n",
              "      <td>7.860537e+01</td>\n",
              "      <td>0</td>\n",
              "    </tr>\n",
              "    <tr>\n",
              "      <th>2226</th>\n",
              "      <td>109.624009</td>\n",
              "      <td>1.000000e+08</td>\n",
              "      <td>0</td>\n",
              "    </tr>\n",
              "  </tbody>\n",
              "</table>\n",
              "</div>"
            ],
            "text/plain": [
              "              x1            x2  y\n",
              "2217  102.043673  1.056439e+02  0\n",
              "2218  104.492501  9.008542e+01  0\n",
              "2219   96.633331  9.100000e+01  0\n",
              "2220   76.924198  9.111424e+01  0\n",
              "2221   88.129639  1.075149e+02  0\n",
              "2222   98.714112  8.964312e+01  0\n",
              "2223   96.633331  9.100000e+01  0\n",
              "2224   85.673940  1.038393e+02  0\n",
              "2225   78.958862  7.860537e+01  0\n",
              "2226  109.624009  1.000000e+08  0"
            ]
          },
          "metadata": {
            "tags": []
          },
          "execution_count": 44
        }
      ]
    },
    {
      "cell_type": "markdown",
      "metadata": {
        "id": "hbI_5HE_a6VE"
      },
      "source": [
        "### **1 Checking the types of data and basic summary stats**"
      ]
    },
    {
      "cell_type": "markdown",
      "metadata": {
        "id": "RtBCEDBVbSFH"
      },
      "source": [
        "**1.1 Displaying datatype of each column and also display the non-null row**"
      ]
    },
    {
      "cell_type": "code",
      "metadata": {
        "id": "lPTjrQpRbadx",
        "colab": {
          "base_uri": "https://localhost:8080/"
        },
        "outputId": "3b88368e-509e-4e21-e03c-1a80a4b37d81"
      },
      "source": [
        "dataset.info()"
      ],
      "execution_count": null,
      "outputs": [
        {
          "output_type": "stream",
          "text": [
            "<class 'pandas.core.frame.DataFrame'>\n",
            "RangeIndex: 2227 entries, 0 to 2226\n",
            "Data columns (total 3 columns):\n",
            " #   Column  Non-Null Count  Dtype  \n",
            "---  ------  --------------  -----  \n",
            " 0   x1      2222 non-null   float64\n",
            " 1   x2      2224 non-null   float64\n",
            " 2   y       2227 non-null   int64  \n",
            "dtypes: float64(2), int64(1)\n",
            "memory usage: 52.3 KB\n"
          ],
          "name": "stdout"
        }
      ]
    },
    {
      "cell_type": "markdown",
      "metadata": {
        "id": "eEOoKJYGbnAn"
      },
      "source": [
        "**1.2 Display the Summary stats which include count, mean, std, min, max etc**"
      ]
    },
    {
      "cell_type": "code",
      "metadata": {
        "id": "yjof4M9abu9t",
        "colab": {
          "base_uri": "https://localhost:8080/",
          "height": 284
        },
        "outputId": "ade2769c-3d56-403c-8fcc-4a7e95c9325e"
      },
      "source": [
        "dataset.describe()"
      ],
      "execution_count": null,
      "outputs": [
        {
          "output_type": "execute_result",
          "data": {
            "text/html": [
              "<div>\n",
              "<style scoped>\n",
              "    .dataframe tbody tr th:only-of-type {\n",
              "        vertical-align: middle;\n",
              "    }\n",
              "\n",
              "    .dataframe tbody tr th {\n",
              "        vertical-align: top;\n",
              "    }\n",
              "\n",
              "    .dataframe thead th {\n",
              "        text-align: right;\n",
              "    }\n",
              "</style>\n",
              "<table border=\"1\" class=\"dataframe\">\n",
              "  <thead>\n",
              "    <tr style=\"text-align: right;\">\n",
              "      <th></th>\n",
              "      <th>x1</th>\n",
              "      <th>x2</th>\n",
              "      <th>y</th>\n",
              "    </tr>\n",
              "  </thead>\n",
              "  <tbody>\n",
              "    <tr>\n",
              "      <th>count</th>\n",
              "      <td>2222.000000</td>\n",
              "      <td>2.224000e+03</td>\n",
              "      <td>2227.000000</td>\n",
              "    </tr>\n",
              "    <tr>\n",
              "      <th>mean</th>\n",
              "      <td>-4.818766</td>\n",
              "      <td>8.947626e+04</td>\n",
              "      <td>0.442299</td>\n",
              "    </tr>\n",
              "    <tr>\n",
              "      <th>std</th>\n",
              "      <td>74.939909</td>\n",
              "      <td>2.983323e+06</td>\n",
              "      <td>0.496771</td>\n",
              "    </tr>\n",
              "    <tr>\n",
              "      <th>min</th>\n",
              "      <td>-134.369160</td>\n",
              "      <td>-1.348761e+02</td>\n",
              "      <td>0.000000</td>\n",
              "    </tr>\n",
              "    <tr>\n",
              "      <th>25%</th>\n",
              "      <td>-71.757030</td>\n",
              "      <td>-8.012983e+01</td>\n",
              "      <td>0.000000</td>\n",
              "    </tr>\n",
              "    <tr>\n",
              "      <th>50%</th>\n",
              "      <td>-9.836555</td>\n",
              "      <td>-1.046151e+00</td>\n",
              "      <td>0.000000</td>\n",
              "    </tr>\n",
              "    <tr>\n",
              "      <th>75%</th>\n",
              "      <td>59.813962</td>\n",
              "      <td>6.389086e+01</td>\n",
              "      <td>1.000000</td>\n",
              "    </tr>\n",
              "    <tr>\n",
              "      <th>max</th>\n",
              "      <td>134.508687</td>\n",
              "      <td>1.000000e+08</td>\n",
              "      <td>1.000000</td>\n",
              "    </tr>\n",
              "  </tbody>\n",
              "</table>\n",
              "</div>"
            ],
            "text/plain": [
              "                x1            x2            y\n",
              "count  2222.000000  2.224000e+03  2227.000000\n",
              "mean     -4.818766  8.947626e+04     0.442299\n",
              "std      74.939909  2.983323e+06     0.496771\n",
              "min    -134.369160 -1.348761e+02     0.000000\n",
              "25%     -71.757030 -8.012983e+01     0.000000\n",
              "50%      -9.836555 -1.046151e+00     0.000000\n",
              "75%      59.813962  6.389086e+01     1.000000\n",
              "max     134.508687  1.000000e+08     1.000000"
            ]
          },
          "metadata": {
            "tags": []
          },
          "execution_count": 46
        }
      ]
    },
    {
      "cell_type": "markdown",
      "metadata": {
        "id": "CWESA3Hecr-m"
      },
      "source": [
        "**1.3 Displaying null values in each column**"
      ]
    },
    {
      "cell_type": "code",
      "metadata": {
        "id": "Bs7SiZMtbzc2",
        "colab": {
          "base_uri": "https://localhost:8080/"
        },
        "outputId": "8d0b64cc-398f-4314-d7ec-e24ff4cc23f5"
      },
      "source": [
        "dataset.isnull().sum()"
      ],
      "execution_count": null,
      "outputs": [
        {
          "output_type": "execute_result",
          "data": {
            "text/plain": [
              "x1    5\n",
              "x2    3\n",
              "y     0\n",
              "dtype: int64"
            ]
          },
          "metadata": {
            "tags": []
          },
          "execution_count": 47
        }
      ]
    },
    {
      "cell_type": "markdown",
      "metadata": {
        "id": "lO3VFs-gRq73"
      },
      "source": [
        "**Observation** : There are no null values"
      ]
    },
    {
      "cell_type": "markdown",
      "metadata": {
        "id": "ruXpb6Ssb64t"
      },
      "source": [
        "### **2. Dropping Irrelevant Columns**"
      ]
    },
    {
      "cell_type": "markdown",
      "metadata": {
        "id": "NVGwJvh6OqAh"
      },
      "source": [
        "This step is certainly needed in EDA because sometimes there would be columns that we never use and in such cases dropping is useful.\n"
      ]
    },
    {
      "cell_type": "markdown",
      "metadata": {
        "id": "BQzKVChFPJ9s"
      },
      "source": [
        "**2.1 Finding the correlation between x1 column and x2 column**"
      ]
    },
    {
      "cell_type": "code",
      "metadata": {
        "id": "7TaRzu0BcEH2",
        "colab": {
          "base_uri": "https://localhost:8080/"
        },
        "outputId": "570d03f2-ebfd-4bdd-ebab-12cc484baa52"
      },
      "source": [
        "x1_col = dataset['x1']\n",
        "x2_col = dataset['x2']\n",
        "correlation = x1_col.corr(x2_col)\n",
        "correlation"
      ],
      "execution_count": null,
      "outputs": [
        {
          "output_type": "execute_result",
          "data": {
            "text/plain": [
              "0.037288320416439036"
            ]
          },
          "metadata": {
            "tags": []
          },
          "execution_count": 48
        }
      ]
    },
    {
      "cell_type": "markdown",
      "metadata": {
        "id": "FA6_9j5JOr6g"
      },
      "source": [
        "**2.2 Finding Correlation by Pearson methon**"
      ]
    },
    {
      "cell_type": "code",
      "metadata": {
        "id": "TAfR_Q_WOzrl",
        "colab": {
          "base_uri": "https://localhost:8080/",
          "height": 136
        },
        "outputId": "a63acf5d-6fa0-4f59-872e-1b62e96530c9"
      },
      "source": [
        "corr = dataset.corr(method = 'pearson')\n",
        "corr"
      ],
      "execution_count": null,
      "outputs": [
        {
          "output_type": "execute_result",
          "data": {
            "text/html": [
              "<div>\n",
              "<style scoped>\n",
              "    .dataframe tbody tr th:only-of-type {\n",
              "        vertical-align: middle;\n",
              "    }\n",
              "\n",
              "    .dataframe tbody tr th {\n",
              "        vertical-align: top;\n",
              "    }\n",
              "\n",
              "    .dataframe thead th {\n",
              "        text-align: right;\n",
              "    }\n",
              "</style>\n",
              "<table border=\"1\" class=\"dataframe\">\n",
              "  <thead>\n",
              "    <tr style=\"text-align: right;\">\n",
              "      <th></th>\n",
              "      <th>x1</th>\n",
              "      <th>x2</th>\n",
              "      <th>y</th>\n",
              "    </tr>\n",
              "  </thead>\n",
              "  <tbody>\n",
              "    <tr>\n",
              "      <th>x1</th>\n",
              "      <td>1.000000</td>\n",
              "      <td>0.037288</td>\n",
              "      <td>-0.121299</td>\n",
              "    </tr>\n",
              "    <tr>\n",
              "      <th>x2</th>\n",
              "      <td>0.037288</td>\n",
              "      <td>1.000000</td>\n",
              "      <td>-0.026724</td>\n",
              "    </tr>\n",
              "    <tr>\n",
              "      <th>y</th>\n",
              "      <td>-0.121299</td>\n",
              "      <td>-0.026724</td>\n",
              "      <td>1.000000</td>\n",
              "    </tr>\n",
              "  </tbody>\n",
              "</table>\n",
              "</div>"
            ],
            "text/plain": [
              "          x1        x2         y\n",
              "x1  1.000000  0.037288 -0.121299\n",
              "x2  0.037288  1.000000 -0.026724\n",
              "y  -0.121299 -0.026724  1.000000"
            ]
          },
          "metadata": {
            "tags": []
          },
          "execution_count": 49
        }
      ]
    },
    {
      "cell_type": "markdown",
      "metadata": {
        "id": "llUDS72fQO0f"
      },
      "source": [
        "### **3. Dropping the duplicate rows**"
      ]
    },
    {
      "cell_type": "markdown",
      "metadata": {
        "id": "ae_zOXNGQav2"
      },
      "source": [
        "This is often a handy thing to do because a huge dataset as in this case contains 2227 rows often have some duplicate data,so here we remove all the duplicate value from the dataset"
      ]
    },
    {
      "cell_type": "code",
      "metadata": {
        "id": "eFxuVxBWQV5m",
        "colab": {
          "base_uri": "https://localhost:8080/"
        },
        "outputId": "dc0d2978-ac5e-4863-e014-4513d599ceae"
      },
      "source": [
        "dataset.shape"
      ],
      "execution_count": null,
      "outputs": [
        {
          "output_type": "execute_result",
          "data": {
            "text/plain": [
              "(2227, 3)"
            ]
          },
          "metadata": {
            "tags": []
          },
          "execution_count": 50
        }
      ]
    },
    {
      "cell_type": "markdown",
      "metadata": {
        "id": "_pD5WYH7x1wY"
      },
      "source": [
        "**3.1 Finding duplicate rows**"
      ]
    },
    {
      "cell_type": "code",
      "metadata": {
        "id": "Bj0RRpRnQtdC",
        "colab": {
          "base_uri": "https://localhost:8080/"
        },
        "outputId": "365f486d-f586-4f69-8e7d-62e7194a291d"
      },
      "source": [
        "duplicate_rows_dataset = dataset[dataset.duplicated()]\n",
        "print(\"Number of duplicate rows\", duplicate_rows_dataset)"
      ],
      "execution_count": null,
      "outputs": [
        {
          "output_type": "stream",
          "text": [
            "Number of duplicate rows               x1     x2  y\n",
            "4    -119.366669  115.0  1\n",
            "477  -118.366669  107.0  1\n",
            "484  -118.366669  107.0  1\n",
            "490  -118.366669  132.0  1\n",
            "707   129.633331 -122.0  1\n",
            "775   -50.366669   46.0  1\n",
            "981    85.633331 -126.0  1\n",
            "1356   34.633331   17.0  0\n",
            "1380   30.633331    9.0  0\n",
            "1479 -117.366669 -124.0  0\n",
            "1633  -51.366669  -84.0  0\n",
            "1685 -114.366669 -121.0  0\n",
            "1918   97.633331  103.0  0\n",
            "2175   39.633331   30.0  0\n",
            "2179   49.633331   42.0  0\n",
            "2223   96.633331   91.0  0\n"
          ],
          "name": "stdout"
        }
      ]
    },
    {
      "cell_type": "markdown",
      "metadata": {
        "id": "F8ROSvvHRUT6"
      },
      "source": [
        "**Observation** : There are no duplicate values"
      ]
    },
    {
      "cell_type": "markdown",
      "metadata": {
        "id": "nrjXp_1uRsFi"
      },
      "source": [
        "### **4. Dropping the missing or null values**"
      ]
    },
    {
      "cell_type": "markdown",
      "metadata": {
        "id": "lCKi6AhYR2jO"
      },
      "source": [
        "This is mostly similar to the previous step but in here all the missing values are detected and are dropped later. Now, this is not the best approach and generally people just replace the missing values with the mean or the average of that column. This helps in fine tuning the model performance as more the data, a model has the better it performs."
      ]
    },
    {
      "cell_type": "code",
      "metadata": {
        "id": "G1kDlUnnSTpP",
        "colab": {
          "base_uri": "https://localhost:8080/"
        },
        "outputId": "5ece455b-e1a7-467d-f32a-b24d98613e54"
      },
      "source": [
        "print(dataset.isnull().sum)"
      ],
      "execution_count": null,
      "outputs": [
        {
          "output_type": "stream",
          "text": [
            "<bound method DataFrame.sum of          x1     x2      y\n",
            "0     False  False  False\n",
            "1     False  False  False\n",
            "2     False  False  False\n",
            "3     False  False  False\n",
            "4     False  False  False\n",
            "...     ...    ...    ...\n",
            "2222  False  False  False\n",
            "2223  False  False  False\n",
            "2224  False  False  False\n",
            "2225  False  False  False\n",
            "2226  False  False  False\n",
            "\n",
            "[2227 rows x 3 columns]>\n"
          ],
          "name": "stdout"
        }
      ]
    },
    {
      "cell_type": "code",
      "metadata": {
        "id": "q3zNWv87SggM",
        "colab": {
          "base_uri": "https://localhost:8080/"
        },
        "outputId": "935c6c15-4b3a-4bb6-b980-508bc4fa8bcc"
      },
      "source": [
        "dataset = dataset.dropna()\n",
        "dataset.count()"
      ],
      "execution_count": null,
      "outputs": [
        {
          "output_type": "execute_result",
          "data": {
            "text/plain": [
              "x1    2219\n",
              "x2    2219\n",
              "y     2219\n",
              "dtype: int64"
            ]
          },
          "metadata": {
            "tags": []
          },
          "execution_count": 53
        }
      ]
    },
    {
      "cell_type": "markdown",
      "metadata": {
        "id": "wrfnaV77Sroe"
      },
      "source": [
        " **Observation**: There are no Null values to remove from the dataset"
      ]
    },
    {
      "cell_type": "markdown",
      "metadata": {
        "id": "k5jXBL44cFJH"
      },
      "source": [
        "### **5 . EDA**"
      ]
    },
    {
      "cell_type": "markdown",
      "metadata": {
        "id": "TtCUE4F8jBXf"
      },
      "source": [
        "**5.1 Number of unique in each Column**"
      ]
    },
    {
      "cell_type": "code",
      "metadata": {
        "id": "6hfPD5nTcBHR",
        "colab": {
          "base_uri": "https://localhost:8080/"
        },
        "outputId": "92e419cb-2a48-4ea8-9e5e-b94b1ab13cdc"
      },
      "source": [
        "dataset.nunique()"
      ],
      "execution_count": null,
      "outputs": [
        {
          "output_type": "execute_result",
          "data": {
            "text/plain": [
              "x1    1884\n",
              "x2    1879\n",
              "y        2\n",
              "dtype: int64"
            ]
          },
          "metadata": {
            "tags": []
          },
          "execution_count": 54
        }
      ]
    },
    {
      "cell_type": "code",
      "metadata": {
        "id": "RcEjSbs9RIIn",
        "colab": {
          "base_uri": "https://localhost:8080/"
        },
        "outputId": "fcb49f38-a7d2-4950-b151-fd7176fc1300"
      },
      "source": [
        "l = ['x1','x2','y']\n",
        "for col in l:\n",
        "    print(\"***\"*40)\n",
        "    print(col)\n",
        "    print(dataset[col].value_counts())\n",
        "    print(\"***\"* 40)\n",
        "    print(\"\\n\")\n"
      ],
      "execution_count": null,
      "outputs": [
        {
          "output_type": "stream",
          "text": [
            "************************************************************************************************************************\n",
            "x1\n",
            "-118.366669    8\n",
            " 31.633331     6\n",
            "-80.366669     5\n",
            " 103.633331    5\n",
            " 30.633331     5\n",
            "              ..\n",
            "-19.907256     1\n",
            " 58.434396     1\n",
            " 18.408090     1\n",
            "-99.593049     1\n",
            " 54.003740     1\n",
            "Name: x1, Length: 1884, dtype: int64\n",
            "************************************************************************************************************************\n",
            "\n",
            "\n",
            "************************************************************************************************************************\n",
            "x2\n",
            "-55.000000     7\n",
            "-113.000000    7\n",
            " 47.000000     6\n",
            "-121.000000    6\n",
            " 126.000000    6\n",
            "              ..\n",
            "-114.715946    1\n",
            "-80.804223     1\n",
            " 49.639026     1\n",
            " 46.993822     1\n",
            "-14.035979     1\n",
            "Name: x2, Length: 1879, dtype: int64\n",
            "************************************************************************************************************************\n",
            "\n",
            "\n",
            "************************************************************************************************************************\n",
            "y\n",
            "0    1238\n",
            "1     981\n",
            "Name: y, dtype: int64\n",
            "************************************************************************************************************************\n",
            "\n",
            "\n"
          ],
          "name": "stdout"
        }
      ]
    },
    {
      "cell_type": "markdown",
      "metadata": {
        "id": "JrNz_TWkTLcD"
      },
      "source": [
        "**5.2 Visualizing the Categorical Attributes**"
      ]
    },
    {
      "cell_type": "code",
      "metadata": {
        "id": "zxLc3djzTTDb",
        "colab": {
          "base_uri": "https://localhost:8080/",
          "height": 392
        },
        "outputId": "d6a235c0-b4ba-4101-8e0e-d12ed177a65c"
      },
      "source": [
        "dataset['x1'].value_counts().plot(kind = 'bar')"
      ],
      "execution_count": null,
      "outputs": [
        {
          "output_type": "execute_result",
          "data": {
            "text/plain": [
              "<matplotlib.axes._subplots.AxesSubplot at 0x7f636229ac90>"
            ]
          },
          "metadata": {
            "tags": []
          },
          "execution_count": 56
        },
        {
          "output_type": "display_data",
          "data": {
            "image/png": "[encoded data removed]",
            "text/plain": [
              "<Figure size 432x288 with 1 Axes>"
            ]
          },
          "metadata": {
            "tags": [],
            "needs_background": "light"
          }
        }
      ]
    },
    {
      "cell_type": "code",
      "metadata": {
        "id": "HGByzKn9ToyW",
        "colab": {
          "base_uri": "https://localhost:8080/",
          "height": 395
        },
        "outputId": "4966f568-360e-4ec0-e569-6df7874c3a87"
      },
      "source": [
        "dataset['x2'].value_counts().plot(kind = 'bar')"
      ],
      "execution_count": null,
      "outputs": [
        {
          "output_type": "execute_result",
          "data": {
            "text/plain": [
              "<matplotlib.axes._subplots.AxesSubplot at 0x7f62828d4590>"
            ]
          },
          "metadata": {
            "tags": []
          },
          "execution_count": 57
        },
        {
          "output_type": "display_data",
          "data": {
            "image/png": "[encoded data removed]",
            "text/plain": [
              "<Figure size 432x288 with 1 Axes>"
            ]
          },
          "metadata": {
            "tags": [],
            "needs_background": "light"
          }
        }
      ]
    },
    {
      "cell_type": "code",
      "metadata": {
        "id": "FWs6JOMrUCNI",
        "colab": {
          "base_uri": "https://localhost:8080/",
          "height": 279
        },
        "outputId": "bfd565d4-2b75-46be-f07d-e785dc308acd"
      },
      "source": [
        "dataset['y'].value_counts().plot(kind = 'bar')"
      ],
      "execution_count": null,
      "outputs": [
        {
          "output_type": "execute_result",
          "data": {
            "text/plain": [
              "<matplotlib.axes._subplots.AxesSubplot at 0x7f6275546950>"
            ]
          },
          "metadata": {
            "tags": []
          },
          "execution_count": 58
        },
        {
          "output_type": "display_data",
          "data": {
            "image/png": "[encoded data removed]",
            "text/plain": [
              "<Figure size 432x288 with 1 Axes>"
            ]
          },
          "metadata": {
            "tags": [],
            "needs_background": "light"
          }
        }
      ]
    },
    {
      "cell_type": "code",
      "metadata": {
        "id": "pr8l6RFsVyIu",
        "colab": {
          "base_uri": "https://localhost:8080/",
          "height": 350
        },
        "outputId": "d8e04edb-7dfa-4211-acb2-a136ec7a0f89"
      },
      "source": [
        "sns.countplot(dataset['x1'])"
      ],
      "execution_count": null,
      "outputs": [
        {
          "output_type": "stream",
          "text": [
            "/usr/local/lib/python3.7/dist-packages/seaborn/_decorators.py:43: FutureWarning: Pass the following variable as a keyword arg: x. From version 0.12, the only valid positional argument will be `data`, and passing other arguments without an explicit keyword will result in an error or misinterpretation.\n",
            "  FutureWarning\n"
          ],
          "name": "stderr"
        },
        {
          "output_type": "execute_result",
          "data": {
            "text/plain": [
              "<matplotlib.axes._subplots.AxesSubplot at 0x7f6287a6dfd0>"
            ]
          },
          "metadata": {
            "tags": []
          },
          "execution_count": 59
        },
        {
          "output_type": "display_data",
          "data": {
            "image/png": "[encoded data removed]",
            "text/plain": [
              "<Figure size 432x288 with 1 Axes>"
            ]
          },
          "metadata": {
            "tags": [],
            "needs_background": "light"
          }
        }
      ]
    },
    {
      "cell_type": "markdown",
      "metadata": {
        "id": "T6YTHjv2lFzu"
      },
      "source": [
        "##### **5.6 Value Count of All Categorial Columns**"
      ]
    },
    {
      "cell_type": "code",
      "metadata": {
        "id": "Nhdu8IKEk8jy",
        "colab": {
          "base_uri": "https://localhost:8080/"
        },
        "outputId": "3cd93b75-cfd0-4376-f5f9-fb35aef25717"
      },
      "source": [
        "dataset.x1.value_counts()"
      ],
      "execution_count": null,
      "outputs": [
        {
          "output_type": "execute_result",
          "data": {
            "text/plain": [
              "-118.366669    8\n",
              " 31.633331     6\n",
              "-80.366669     5\n",
              " 103.633331    5\n",
              " 30.633331     5\n",
              "              ..\n",
              "-19.907256     1\n",
              " 58.434396     1\n",
              " 18.408090     1\n",
              "-99.593049     1\n",
              " 54.003740     1\n",
              "Name: x1, Length: 1884, dtype: int64"
            ]
          },
          "metadata": {
            "tags": []
          },
          "execution_count": 60
        }
      ]
    },
    {
      "cell_type": "code",
      "metadata": {
        "id": "uUAlUQH_lVIn",
        "colab": {
          "base_uri": "https://localhost:8080/"
        },
        "outputId": "9205e6fa-ada5-4af9-e073-9c0753ce0000"
      },
      "source": [
        "dataset.x2.value_counts()"
      ],
      "execution_count": null,
      "outputs": [
        {
          "output_type": "execute_result",
          "data": {
            "text/plain": [
              "-55.000000     7\n",
              "-113.000000    7\n",
              " 47.000000     6\n",
              "-121.000000    6\n",
              " 126.000000    6\n",
              "              ..\n",
              "-114.715946    1\n",
              "-80.804223     1\n",
              " 49.639026     1\n",
              " 46.993822     1\n",
              "-14.035979     1\n",
              "Name: x2, Length: 1879, dtype: int64"
            ]
          },
          "metadata": {
            "tags": []
          },
          "execution_count": 61
        }
      ]
    },
    {
      "cell_type": "code",
      "metadata": {
        "id": "_APB4jHNlY3U",
        "colab": {
          "base_uri": "https://localhost:8080/"
        },
        "outputId": "cff6aa0c-92a1-4d7a-8444-50253003f124"
      },
      "source": [
        "dataset['y'].value_counts()"
      ],
      "execution_count": null,
      "outputs": [
        {
          "output_type": "execute_result",
          "data": {
            "text/plain": [
              "0    1238\n",
              "1     981\n",
              "Name: y, dtype: int64"
            ]
          },
          "metadata": {
            "tags": []
          },
          "execution_count": 62
        }
      ]
    },
    {
      "cell_type": "markdown",
      "metadata": {
        "id": "bRG1yw97mALm"
      },
      "source": [
        "**5.7 Univariate Analysis**"
      ]
    },
    {
      "cell_type": "code",
      "metadata": {
        "id": "XhNchyIyl8us",
        "colab": {
          "base_uri": "https://localhost:8080/",
          "height": 350
        },
        "outputId": "6ec66554-9ff9-4ed8-c7a7-c0aaf347ba2b"
      },
      "source": [
        " #univatiate Analysis on x1\n",
        " sns.distplot(dataset.x1)"
      ],
      "execution_count": null,
      "outputs": [
        {
          "output_type": "stream",
          "text": [
            "/usr/local/lib/python3.7/dist-packages/seaborn/distributions.py:2557: FutureWarning: `distplot` is a deprecated function and will be removed in a future version. Please adapt your code to use either `displot` (a figure-level function with similar flexibility) or `histplot` (an axes-level function for histograms).\n",
            "  warnings.warn(msg, FutureWarning)\n"
          ],
          "name": "stderr"
        },
        {
          "output_type": "execute_result",
          "data": {
            "text/plain": [
              "<matplotlib.axes._subplots.AxesSubplot at 0x7f6287c11d50>"
            ]
          },
          "metadata": {
            "tags": []
          },
          "execution_count": 63
        },
        {
          "output_type": "display_data",
          "data": {
            "image/png": "[encoded data removed]",
            "text/plain": [
              "<Figure size 432x288 with 1 Axes>"
            ]
          },
          "metadata": {
            "tags": [],
            "needs_background": "light"
          }
        }
      ]
    },
    {
      "cell_type": "code",
      "metadata": {
        "id": "75GeWudFmded",
        "colab": {
          "base_uri": "https://localhost:8080/",
          "height": 361
        },
        "outputId": "b0eb5d8f-a539-4269-e3ac-f6e5cd6175a2"
      },
      "source": [
        "#univatiate Analysis on x2\n",
        "sns.distplot(dataset.x2)"
      ],
      "execution_count": null,
      "outputs": [
        {
          "output_type": "stream",
          "text": [
            "/usr/local/lib/python3.7/dist-packages/seaborn/distributions.py:2557: FutureWarning: `distplot` is a deprecated function and will be removed in a future version. Please adapt your code to use either `displot` (a figure-level function with similar flexibility) or `histplot` (an axes-level function for histograms).\n",
            "  warnings.warn(msg, FutureWarning)\n"
          ],
          "name": "stderr"
        },
        {
          "output_type": "execute_result",
          "data": {
            "text/plain": [
              "<matplotlib.axes._subplots.AxesSubplot at 0x7f6287f63850>"
            ]
          },
          "metadata": {
            "tags": []
          },
          "execution_count": 64
        },
        {
          "output_type": "display_data",
          "data": {
            "image/png": "[encoded data removed]",
            "text/plain": [
              "<Figure size 432x288 with 1 Axes>"
            ]
          },
          "metadata": {
            "tags": [],
            "needs_background": "light"
          }
        }
      ]
    },
    {
      "cell_type": "code",
      "metadata": {
        "id": "-byB3hEGmlLD",
        "colab": {
          "base_uri": "https://localhost:8080/",
          "height": 350
        },
        "outputId": "14805a39-4020-433a-c2ee-dfe4a25ade52"
      },
      "source": [
        "#univatiate Analysis on y\n",
        "sns.distplot(dataset.y)"
      ],
      "execution_count": null,
      "outputs": [
        {
          "output_type": "stream",
          "text": [
            "/usr/local/lib/python3.7/dist-packages/seaborn/distributions.py:2557: FutureWarning: `distplot` is a deprecated function and will be removed in a future version. Please adapt your code to use either `displot` (a figure-level function with similar flexibility) or `histplot` (an axes-level function for histograms).\n",
            "  warnings.warn(msg, FutureWarning)\n"
          ],
          "name": "stderr"
        },
        {
          "output_type": "execute_result",
          "data": {
            "text/plain": [
              "<matplotlib.axes._subplots.AxesSubplot at 0x7f6286ceb950>"
            ]
          },
          "metadata": {
            "tags": []
          },
          "execution_count": 65
        },
        {
          "output_type": "display_data",
          "data": {
            "image/png": "[encoded data removed]",
            "text/plain": [
              "<Figure size 432x288 with 1 Axes>"
            ]
          },
          "metadata": {
            "tags": [],
            "needs_background": "light"
          }
        }
      ]
    },
    {
      "cell_type": "code",
      "metadata": {
        "id": "gaFoxwr0nmSF",
        "colab": {
          "base_uri": "https://localhost:8080/",
          "height": 350
        },
        "outputId": "26103eb8-cdd3-4cf6-e154-6ea1457fbbe7"
      },
      "source": [
        "#Countplot on y\n",
        "sns.countplot(dataset.y)"
      ],
      "execution_count": null,
      "outputs": [
        {
          "output_type": "stream",
          "text": [
            "/usr/local/lib/python3.7/dist-packages/seaborn/_decorators.py:43: FutureWarning: Pass the following variable as a keyword arg: x. From version 0.12, the only valid positional argument will be `data`, and passing other arguments without an explicit keyword will result in an error or misinterpretation.\n",
            "  FutureWarning\n"
          ],
          "name": "stderr"
        },
        {
          "output_type": "execute_result",
          "data": {
            "text/plain": [
              "<matplotlib.axes._subplots.AxesSubplot at 0x7f6286d0ce50>"
            ]
          },
          "metadata": {
            "tags": []
          },
          "execution_count": 66
        },
        {
          "output_type": "display_data",
          "data": {
            "image/png": "[encoded data removed]",
            "text/plain": [
              "<Figure size 432x288 with 1 Axes>"
            ]
          },
          "metadata": {
            "tags": [],
            "needs_background": "light"
          }
        }
      ]
    },
    {
      "cell_type": "markdown",
      "metadata": {
        "id": "bR5dHQwIoEDv"
      },
      "source": [
        "**5.8 Mutivariate Analysis**"
      ]
    },
    {
      "cell_type": "code",
      "metadata": {
        "id": "GRWEhacIpCYA",
        "colab": {
          "base_uri": "https://localhost:8080/",
          "height": 613
        },
        "outputId": "f1ff70be-8f15-4160-94d5-e0076471b81b"
      },
      "source": [
        "\n",
        "#finding correlation using Heatmap\n",
        "fig,ax = plt.subplots(figsize = (15,10))\n",
        "sns.heatmap(dataset.corr(),cmap='plasma',annot=True)"
      ],
      "execution_count": null,
      "outputs": [
        {
          "output_type": "execute_result",
          "data": {
            "text/plain": [
              "<matplotlib.axes._subplots.AxesSubplot at 0x7f6286cab350>"
            ]
          },
          "metadata": {
            "tags": []
          },
          "execution_count": 67
        },
        {
          "output_type": "display_data",
          "data": {
            "image/png": "[encoded data removed]",
            "text/plain": [
              "<Figure size 1080x720 with 2 Axes>"
            ]
          },
          "metadata": {
            "tags": [],
            "needs_background": "light"
          }
        }
      ]
    },
    {
      "cell_type": "markdown",
      "metadata": {
        "id": "ajKw2uRT4-zC"
      },
      "source": [
        "### **6. Scatterplot**"
      ]
    },
    {
      "cell_type": "markdown",
      "metadata": {
        "id": "UvmYVZnh5FQA"
      },
      "source": [
        "We generally use scatterplot to find the correlation between two variables. Here the scatter plots are plotted between x1 and x2 and we can see the plot below. With the plot given below, we can easily draw a trend line"
      ]
    },
    {
      "cell_type": "code",
      "metadata": {
        "colab": {
          "base_uri": "https://localhost:8080/",
          "height": 399
        },
        "id": "s-Z8O9WMOjvM",
        "outputId": "d426200e-5417-478b-f05b-bdb36d546e58"
      },
      "source": [
        "fig, ax = plt.subplots(figsize = (10,6))\n",
        "ax.scatter(dataset['x1'],dataset['x2'])\n",
        "ax.set_xlabel('x1')\n",
        "ax.set_ylabel('x2')\n",
        "plt.show()"
      ],
      "execution_count": null,
      "outputs": [
        {
          "output_type": "display_data",
          "data": {
            "image/png": "[encoded data removed]",
            "text/plain": [
              "<Figure size 720x432 with 1 Axes>"
            ]
          },
          "metadata": {
            "tags": [],
            "needs_background": "light"
          }
        }
      ]
    },
    {
      "cell_type": "markdown",
      "metadata": {
        "id": "AhCn-Dc8YT-P"
      },
      "source": [
        "### **7. Transformations of feature variables**"
      ]
    },
    {
      "cell_type": "markdown",
      "metadata": {
        "id": "HqcwPs5szMJG"
      },
      "source": [
        "**7.1 Collecting data into x and y variables**"
      ]
    },
    {
      "cell_type": "code",
      "metadata": {
        "id": "8O9rFiLdZfKn",
        "colab": {
          "base_uri": "https://localhost:8080/",
          "height": 476
        },
        "outputId": "65c8cd3e-3c71-4a01-81af-fb393a5ea127"
      },
      "source": [
        "x = dataset[['x1','x2']]\n",
        "y = dataset['y'].values\n"
      ],
      "execution_count": null,
      "outputs": [
        {
          "output_type": "error",
          "ename": "NameError",
          "evalue": "ignored",
          "traceback": [
            "\u001b[0;31m---------------------------------------------------------------------------\u001b[0m",
            "\u001b[0;31mNameError\u001b[0m                                 Traceback (most recent call last)",
            "\u001b[0;32m<ipython-input-1-3b21182d79a3>\u001b[0m in \u001b[0;36m<module>\u001b[0;34m()\u001b[0m\n\u001b[0;32m----> 1\u001b[0;31m \u001b[0mx\u001b[0m \u001b[0;34m=\u001b[0m \u001b[0mdataset\u001b[0m\u001b[0;34m[\u001b[0m\u001b[0;34m[\u001b[0m\u001b[0;34m'x1'\u001b[0m\u001b[0;34m,\u001b[0m\u001b[0;34m'x2'\u001b[0m\u001b[0;34m]\u001b[0m\u001b[0;34m]\u001b[0m\u001b[0;34m\u001b[0m\u001b[0;34m\u001b[0m\u001b[0m\n\u001b[0m\u001b[1;32m      2\u001b[0m \u001b[0my\u001b[0m \u001b[0;34m=\u001b[0m \u001b[0mdataset\u001b[0m\u001b[0;34m[\u001b[0m\u001b[0;34m'y'\u001b[0m\u001b[0;34m]\u001b[0m\u001b[0;34m.\u001b[0m\u001b[0mvalues\u001b[0m\u001b[0;34m\u001b[0m\u001b[0;34m\u001b[0m\u001b[0m\n",
            "\u001b[0;31mNameError\u001b[0m: name 'dataset' is not defined"
          ]
        }
      ]
    },
    {
      "cell_type": "markdown",
      "metadata": {
        "id": "Y56OsrbyjlGg"
      },
      "source": [
        "**7.2 We have to scale Income and CCAvg**"
      ]
    },
    {
      "cell_type": "code",
      "metadata": {
        "id": "ii64dzDHYZHC"
      },
      "source": [
        "from sklearn.preprocessing import PowerTransformer\n",
        "pt = PowerTransformer(method='yeo-johnson',standardize=False)\n",
        "pt.fit(x['x1'].values.reshape(-1,1))\n",
        "sns.distplot(pt.transform(x['x1'].values.reshape(-1,1)))\n"
      ],
      "execution_count": null,
      "outputs": []
    },
    {
      "cell_type": "code",
      "metadata": {
        "id": "V6G7FyeJZ1I4"
      },
      "source": [
        "pt = PowerTransformer(method='yeo-johnson',standardize=False)\n",
        "pt.fit(x['x2'].values.reshape(-1,1))\n",
        "sns.distplot(pt.transform(x['x2'].values.reshape(-1,1)))"
      ],
      "execution_count": null,
      "outputs": []
    },
    {
      "cell_type": "markdown",
      "metadata": {
        "id": "dRIXMElNj5wu"
      },
      "source": [
        "**Observation** : Both **CCAvg** and **Income** are transformed. We also have to transform the mortgage column as it as more 0 values."
      ]
    },
    {
      "cell_type": "code",
      "metadata": {
        "id": "cwdVy1vza849"
      },
      "source": [
        "x.head()"
      ],
      "execution_count": null,
      "outputs": []
    },
    {
      "cell_type": "markdown",
      "metadata": {
        "id": "nfK-qWFUeapY"
      },
      "source": [
        "### **8.1. Building the Machine Learning Model - Logistic Regression**"
      ]
    },
    {
      "cell_type": "markdown",
      "metadata": {
        "id": "iC0zYdjknIJz"
      },
      "source": [
        "**Logistic regression** is a classification algorithm, used when the value of the target variable is categorical in nature. Logistic regression is most commonly used when the data in question has binary output, so when it belongs to one class or another, or is either a 0 or 1\n",
        "\n",
        "\n",
        "**Resource: Google**"
      ]
    },
    {
      "cell_type": "markdown",
      "metadata": {
        "id": "pc8zSubYzsDM"
      },
      "source": [
        "**8.1.1 Importing the StandardScaler and Train_test_split**"
      ]
    },
    {
      "cell_type": "code",
      "metadata": {
        "id": "bWYu3vR1_NRJ",
        "colab": {
          "base_uri": "https://localhost:8080/"
        },
        "outputId": "3bf48b58-0d8b-4f39-a15b-461a0b277fc8"
      },
      "source": [
        "\n",
        "from sklearn.model_selection import train_test_split\n",
        "from sklearn.preprocessing import StandardScaler\n",
        "\n",
        "scx = StandardScaler()\n",
        "scy = StandardScaler()\n",
        "x_train,x_test,y_train,y_test = train_test_split(x,y,test_size = 0.3, random_state = 0,stratify = y)\n",
        "scx.fit_transform(x_train)\n",
        "scx.transform(x_test)\n"
      ],
      "execution_count": null,
      "outputs": [
        {
          "output_type": "execute_result",
          "data": {
            "text/plain": [
              "array([[ 0.27648847, -0.03590292],\n",
              "       [-0.85526951, -0.03589167],\n",
              "       [-0.40701977, -0.03591857],\n",
              "       ...,\n",
              "       [-0.75043981, -0.03589734],\n",
              "       [-0.63224917, -0.03593569],\n",
              "       [ 0.99912943, -0.03592993]])"
            ]
          },
          "metadata": {
            "tags": []
          },
          "execution_count": 73
        }
      ]
    },
    {
      "cell_type": "markdown",
      "metadata": {
        "id": "3OVebmEzkg-O"
      },
      "source": [
        "**Observation** : Here we are standardizing the data and splited the data in the ratio 70:30 for training and testing"
      ]
    },
    {
      "cell_type": "markdown",
      "metadata": {
        "id": "Nkaeb26Ek3IP"
      },
      "source": [
        "**8.1.2 Importing Logistic Regression from Linear Model**"
      ]
    },
    {
      "cell_type": "code",
      "metadata": {
        "id": "HKi6bLcuk2Sq"
      },
      "source": [
        "from sklearn.linear_model import LogisticRegression\n",
        "model = LogisticRegression()"
      ],
      "execution_count": null,
      "outputs": []
    },
    {
      "cell_type": "markdown",
      "metadata": {
        "id": "okE1n-btk-3C"
      },
      "source": [
        "**8.1.3 Fitting the data into the model**"
      ]
    },
    {
      "cell_type": "code",
      "metadata": {
        "id": "PyNv3j6Xk-NJ",
        "colab": {
          "base_uri": "https://localhost:8080/"
        },
        "outputId": "35da94da-ccc3-4af7-f7da-7d885094ac47"
      },
      "source": [
        "model.fit(x_train,y_train)"
      ],
      "execution_count": null,
      "outputs": [
        {
          "output_type": "execute_result",
          "data": {
            "text/plain": [
              "LogisticRegression(C=1.0, class_weight=None, dual=False, fit_intercept=True,\n",
              "                   intercept_scaling=1, l1_ratio=None, max_iter=100,\n",
              "                   multi_class='auto', n_jobs=None, penalty='l2',\n",
              "                   random_state=None, solver='lbfgs', tol=0.0001, verbose=0,\n",
              "                   warm_start=False)"
            ]
          },
          "metadata": {
            "tags": []
          },
          "execution_count": 75
        }
      ]
    },
    {
      "cell_type": "markdown",
      "metadata": {
        "id": "ycPx_a4ZlD3h"
      },
      "source": [
        "**8.1.4 Calculating the Prediction**"
      ]
    },
    {
      "cell_type": "code",
      "metadata": {
        "id": "pQRBkpPFlEL1"
      },
      "source": [
        "y_pred = model.predict(x_test)"
      ],
      "execution_count": null,
      "outputs": []
    },
    {
      "cell_type": "code",
      "metadata": {
        "id": "Fe6wQ8XDoNjK"
      },
      "source": [
        "from sklearn import metrics"
      ],
      "execution_count": null,
      "outputs": []
    },
    {
      "cell_type": "code",
      "metadata": {
        "id": "ewNg5V__oNjP",
        "colab": {
          "base_uri": "https://localhost:8080/"
        },
        "outputId": "3b5a2db1-81fc-48f3-8102-13406e2d5de7"
      },
      "source": [
        "print(\"Mean Absolute Error :\",metrics.mean_absolute_error(y_test,y_pred))\n",
        "print(\"R2 score:\",metrics.r2_score(y_test,y_pred))"
      ],
      "execution_count": null,
      "outputs": [
        {
          "output_type": "stream",
          "text": [
            "Mean Absolute Error : 0.4069069069069069\n",
            "R2 score: -0.650263331138907\n"
          ],
          "name": "stdout"
        }
      ]
    },
    {
      "cell_type": "code",
      "metadata": {
        "id": "0emB7q28oNjV",
        "colab": {
          "base_uri": "https://localhost:8080/"
        },
        "outputId": "26e6d6d3-9ce0-4b47-a916-c577f64e52f8"
      },
      "source": [
        "print(metrics.accuracy_score(y_test,y_pred))"
      ],
      "execution_count": null,
      "outputs": [
        {
          "output_type": "stream",
          "text": [
            "0.5930930930930931\n"
          ],
          "name": "stdout"
        }
      ]
    },
    {
      "cell_type": "code",
      "metadata": {
        "id": "W0_9htY6oNje",
        "colab": {
          "base_uri": "https://localhost:8080/"
        },
        "outputId": "05762e96-ad0c-4611-8178-a6e23adc1898"
      },
      "source": [
        "print(metrics.accuracy_score(y_train,model.predict(x_train)))"
      ],
      "execution_count": null,
      "outputs": [
        {
          "output_type": "stream",
          "text": [
            "0.5692208628461043\n"
          ],
          "name": "stdout"
        }
      ]
    },
    {
      "cell_type": "markdown",
      "metadata": {
        "id": "l3qh1LRw0GuV"
      },
      "source": [
        "**8.1.5 Printing the Confusion Matrix**"
      ]
    },
    {
      "cell_type": "code",
      "metadata": {
        "id": "fLJ5Jdy2oNj-",
        "colab": {
          "base_uri": "https://localhost:8080/"
        },
        "outputId": "01944c05-8a64-4409-a4de-df4dce7791ff"
      },
      "source": [
        "from sklearn.metrics import confusion_matrix\n",
        "print(confusion_matrix(y_test,y_pred))"
      ],
      "execution_count": null,
      "outputs": [
        {
          "output_type": "stream",
          "text": [
            "[[342  30]\n",
            " [241  53]]\n"
          ],
          "name": "stdout"
        }
      ]
    },
    {
      "cell_type": "markdown",
      "metadata": {
        "id": "K10dEzs-0N1x"
      },
      "source": [
        "**8.1.6 Printing the Classification Report**"
      ]
    },
    {
      "cell_type": "code",
      "metadata": {
        "id": "KZooawBeoNkE",
        "colab": {
          "base_uri": "https://localhost:8080/"
        },
        "outputId": "5689fb17-c1ce-4e64-f287-fef7d2d25bf5"
      },
      "source": [
        "from sklearn.metrics import classification_report\n",
        "print(classification_report(y_test,y_pred))"
      ],
      "execution_count": null,
      "outputs": [
        {
          "output_type": "stream",
          "text": [
            "              precision    recall  f1-score   support\n",
            "\n",
            "           0       0.59      0.92      0.72       372\n",
            "           1       0.64      0.18      0.28       294\n",
            "\n",
            "    accuracy                           0.59       666\n",
            "   macro avg       0.61      0.55      0.50       666\n",
            "weighted avg       0.61      0.59      0.52       666\n",
            "\n"
          ],
          "name": "stdout"
        }
      ]
    },
    {
      "cell_type": "markdown",
      "metadata": {
        "id": "XCh_RHYqmEyJ"
      },
      "source": [
        "------------------------------------------------------------------------------------------------------------------------\n",
        "----------------------------------------\n",
        "\n",
        "**Conclusion from Logistic Regression**\n",
        "Accuracy score for the test data is 59%. But in confusion matrix , the false negative are very much that is above 241 .    \n",
        "\n",
        "------------------------------------------------------------------------------------------------------------------------\n",
        "----------------------------------------"
      ]
    },
    {
      "cell_type": "markdown",
      "metadata": {
        "id": "37VLa2IPo2Tt"
      },
      "source": [
        "### **8.2. Building the Machine Learning Model - Decision Tree**"
      ]
    },
    {
      "cell_type": "markdown",
      "metadata": {
        "id": "yLMijogcpHKw"
      },
      "source": [
        "\n",
        "**Decision tree** is one of the predictive modelling approaches used in statistics , data mining and machine learning . ... Decision trees are constructed via an algorithmic approach that identifies ways to split a data set based on different conditions.\n",
        "\n",
        "\n",
        "**Resource: Google**"
      ]
    },
    {
      "cell_type": "markdown",
      "metadata": {
        "id": "TOmv48Jvp2_Q"
      },
      "source": [
        "**8.2.1 Importing the Decision Tree Classifier**"
      ]
    },
    {
      "cell_type": "code",
      "metadata": {
        "id": "idMOI9h3pI_-"
      },
      "source": [
        "from sklearn.tree import DecisionTreeClassifier\n",
        "clf = DecisionTreeClassifier()\n",
        "clf = clf.fit(x_train,y_train)\n"
      ],
      "execution_count": null,
      "outputs": []
    },
    {
      "cell_type": "markdown",
      "metadata": {
        "id": "qra1p7iepxPC"
      },
      "source": [
        "**8.2.2 Visualizing the Decision Tree**"
      ]
    },
    {
      "cell_type": "code",
      "metadata": {
        "id": "y_ZRnboepKi-",
        "colab": {
          "base_uri": "https://localhost:8080/",
          "height": 1000
        },
        "outputId": "49e18942-f7ff-40ba-de6e-4e5467cd2b38"
      },
      "source": [
        "import graphviz\n",
        "from sklearn import tree\n",
        "dot_data = tree.export_graphviz(clf, out_file=None,feature_names=['x1','x2'],filled=True, rounded=True) \n",
        "graph = graphviz.Source(dot_data) \n",
        "graph"
      ],
      "execution_count": null,
      "outputs": [
        {
          "output_type": "execute_result",
          "data": {
            "text/plain": [
              "<graphviz.files.Source at 0x7f627563a9d0>"
            ],
            "image/svg+xml": "<?xml version=\"1.0\" encoding=\"UTF-8\" standalone=\"no\"?>\n<!DOCTYPE svg PUBLIC \"-//W3C//DTD SVG 1.1//EN\"\n \"http://www.w3.org/Graphics/SVG/1.1/DTD/svg11.dtd\">\n<!-- Generated by graphviz version 2.40.1 (20161225.0304)\n -->\n<!-- Title: Tree Pages: 1 -->\n<svg width=\"2608pt\" height=\"2037pt\"\n viewBox=\"0.00 0.00 2607.50 2037.00\" xmlns=\"http://www.w3.org/2000/svg\" xmlns:xlink=\"http://www.w3.org/1999/xlink\">\n<g id=\"graph0\" class=\"graph\" transform=\"scale(1 1) rotate(0) translate(4 2033)\">\n<title>Tree</title>\n<polygon fill=\"#ffffff\" stroke=\"transparent\" points=\"-4,4 -4,-2033 2603.5,-2033 2603.5,4 -4,4\"/>\n<!-- 0 -->\n<g id=\"node1\" class=\"node\">\n<title>0</title>\n<path fill=\"#fae5d6\" stroke=\"#000000\" d=\"M1808,-2029C1808,-2029 1700,-2029 1700,-2029 1694,-2029 1688,-2023 1688,-2017 1688,-2017 1688,-1973 1688,-1973 1688,-1967 1694,-1961 1700,-1961 1700,-1961 1808,-1961 1808,-1961 1814,-1961 1820,-1967 1820,-1973 1820,-1973 1820,-2017 1820,-2017 1820,-2023 1814,-2029 1808,-2029\"/>\n<text text-anchor=\"middle\" x=\"1754\" y=\"-2013.8\" font-family=\"Helvetica,sans-Serif\" font-size=\"14.00\" fill=\"#000000\">x1 &lt;= &#45;64.784</text>\n<text text-anchor=\"middle\" x=\"1754\" y=\"-1998.8\" font-family=\"Helvetica,sans-Serif\" font-size=\"14.00\" fill=\"#000000\">gini = 0.493</text>\n<text text-anchor=\"middle\" x=\"1754\" y=\"-1983.8\" font-family=\"Helvetica,sans-Serif\" font-size=\"14.00\" fill=\"#000000\">samples = 1553</text>\n<text text-anchor=\"middle\" x=\"1754\" y=\"-1968.8\" font-family=\"Helvetica,sans-Serif\" font-size=\"14.00\" fill=\"#000000\">value = [866, 687]</text>\n</g>\n<!-- 1 -->\n<g id=\"node2\" class=\"node\">\n<title>1</title>\n<path fill=\"#d9ecfa\" stroke=\"#000000\" d=\"M1733,-1925C1733,-1925 1625,-1925 1625,-1925 1619,-1925 1613,-1919 1613,-1913 1613,-1913 1613,-1869 1613,-1869 1613,-1863 1619,-1857 1625,-1857 1625,-1857 1733,-1857 1733,-1857 1739,-1857 1745,-1863 1745,-1869 1745,-1869 1745,-1913 1745,-1913 1745,-1919 1739,-1925 1733,-1925\"/>\n<text text-anchor=\"middle\" x=\"1679\" y=\"-1909.8\" font-family=\"Helvetica,sans-Serif\" font-size=\"14.00\" fill=\"#000000\">x2 &lt;= &#45;32.456</text>\n<text text-anchor=\"middle\" x=\"1679\" y=\"-1894.8\" font-family=\"Helvetica,sans-Serif\" font-size=\"14.00\" fill=\"#000000\">gini = 0.494</text>\n<text text-anchor=\"middle\" x=\"1679\" y=\"-1879.8\" font-family=\"Helvetica,sans-Serif\" font-size=\"14.00\" fill=\"#000000\">samples = 445</text>\n<text text-anchor=\"middle\" x=\"1679\" y=\"-1864.8\" font-family=\"Helvetica,sans-Serif\" font-size=\"14.00\" fill=\"#000000\">value = [199, 246]</text>\n</g>\n<!-- 0&#45;&gt;1 -->\n<g id=\"edge1\" class=\"edge\">\n<title>0&#45;&gt;1</title>\n<path fill=\"none\" stroke=\"#000000\" d=\"M1729.4422,-1960.9465C1723.0968,-1952.1475 1716.1879,-1942.5672 1709.5764,-1933.3993\"/>\n<polygon fill=\"#000000\" stroke=\"#000000\" points=\"1712.3011,-1931.1937 1703.613,-1925.13 1706.6234,-1935.2882 1712.3011,-1931.1937\"/>\n<text text-anchor=\"middle\" x=\"1699.6148\" y=\"-1946.1082\" font-family=\"Helvetica,sans-Serif\" font-size=\"14.00\" fill=\"#000000\">True</text>\n</g>\n<!-- 4 -->\n<g id=\"node5\" class=\"node\">\n<title>4</title>\n<path fill=\"#f6d4bc\" stroke=\"#000000\" d=\"M1883,-1925C1883,-1925 1775,-1925 1775,-1925 1769,-1925 1763,-1919 1763,-1913 1763,-1913 1763,-1869 1763,-1869 1763,-1863 1769,-1857 1775,-1857 1775,-1857 1883,-1857 1883,-1857 1889,-1857 1895,-1863 1895,-1869 1895,-1869 1895,-1913 1895,-1913 1895,-1919 1889,-1925 1883,-1925\"/>\n<text text-anchor=\"middle\" x=\"1829\" y=\"-1909.8\" font-family=\"Helvetica,sans-Serif\" font-size=\"14.00\" fill=\"#000000\">x2 &lt;= 16.099</text>\n<text text-anchor=\"middle\" x=\"1829\" y=\"-1894.8\" font-family=\"Helvetica,sans-Serif\" font-size=\"14.00\" fill=\"#000000\">gini = 0.479</text>\n<text text-anchor=\"middle\" x=\"1829\" y=\"-1879.8\" font-family=\"Helvetica,sans-Serif\" font-size=\"14.00\" fill=\"#000000\">samples = 1108</text>\n<text text-anchor=\"middle\" x=\"1829\" y=\"-1864.8\" font-family=\"Helvetica,sans-Serif\" font-size=\"14.00\" fill=\"#000000\">value = [667, 441]</text>\n</g>\n<!-- 0&#45;&gt;4 -->\n<g id=\"edge4\" class=\"edge\">\n<title>0&#45;&gt;4</title>\n<path fill=\"none\" stroke=\"#000000\" d=\"M1778.5578,-1960.9465C1784.9032,-1952.1475 1791.8121,-1942.5672 1798.4236,-1933.3993\"/>\n<polygon fill=\"#000000\" stroke=\"#000000\" points=\"1801.3766,-1935.2882 1804.387,-1925.13 1795.6989,-1931.1937 1801.3766,-1935.2882\"/>\n<text text-anchor=\"middle\" x=\"1808.3852\" y=\"-1946.1082\" font-family=\"Helvetica,sans-Serif\" font-size=\"14.00\" fill=\"#000000\">False</text>\n</g>\n<!-- 2 -->\n<g id=\"node3\" class=\"node\">\n<title>2</title>\n<path fill=\"#e58139\" stroke=\"#000000\" d=\"M1593,-1813.5C1593,-1813.5 1501,-1813.5 1501,-1813.5 1495,-1813.5 1489,-1807.5 1489,-1801.5 1489,-1801.5 1489,-1772.5 1489,-1772.5 1489,-1766.5 1495,-1760.5 1501,-1760.5 1501,-1760.5 1593,-1760.5 1593,-1760.5 1599,-1760.5 1605,-1766.5 1605,-1772.5 1605,-1772.5 1605,-1801.5 1605,-1801.5 1605,-1807.5 1599,-1813.5 1593,-1813.5\"/>\n<text text-anchor=\"middle\" x=\"1547\" y=\"-1798.3\" font-family=\"Helvetica,sans-Serif\" font-size=\"14.00\" fill=\"#000000\">gini = 0.0</text>\n<text text-anchor=\"middle\" x=\"1547\" y=\"-1783.3\" font-family=\"Helvetica,sans-Serif\" font-size=\"14.00\" fill=\"#000000\">samples = 199</text>\n<text text-anchor=\"middle\" x=\"1547\" y=\"-1768.3\" font-family=\"Helvetica,sans-Serif\" font-size=\"14.00\" fill=\"#000000\">value = [199, 0]</text>\n</g>\n<!-- 1&#45;&gt;2 -->\n<g id=\"edge2\" class=\"edge\">\n<title>1&#45;&gt;2</title>\n<path fill=\"none\" stroke=\"#000000\" d=\"M1635.7783,-1856.9465C1620.6794,-1845.0504 1603.7676,-1831.726 1588.7878,-1819.9237\"/>\n<polygon fill=\"#000000\" stroke=\"#000000\" points=\"1590.7091,-1816.9817 1580.6881,-1813.5422 1586.377,-1822.4802 1590.7091,-1816.9817\"/>\n</g>\n<!-- 3 -->\n<g id=\"node4\" class=\"node\">\n<title>3</title>\n<path fill=\"#399de5\" stroke=\"#000000\" d=\"M1727,-1813.5C1727,-1813.5 1635,-1813.5 1635,-1813.5 1629,-1813.5 1623,-1807.5 1623,-1801.5 1623,-1801.5 1623,-1772.5 1623,-1772.5 1623,-1766.5 1629,-1760.5 1635,-1760.5 1635,-1760.5 1727,-1760.5 1727,-1760.5 1733,-1760.5 1739,-1766.5 1739,-1772.5 1739,-1772.5 1739,-1801.5 1739,-1801.5 1739,-1807.5 1733,-1813.5 1727,-1813.5\"/>\n<text text-anchor=\"middle\" x=\"1681\" y=\"-1798.3\" font-family=\"Helvetica,sans-Serif\" font-size=\"14.00\" fill=\"#000000\">gini = 0.0</text>\n<text text-anchor=\"middle\" x=\"1681\" y=\"-1783.3\" font-family=\"Helvetica,sans-Serif\" font-size=\"14.00\" fill=\"#000000\">samples = 246</text>\n<text text-anchor=\"middle\" x=\"1681\" y=\"-1768.3\" font-family=\"Helvetica,sans-Serif\" font-size=\"14.00\" fill=\"#000000\">value = [0, 246]</text>\n</g>\n<!-- 1&#45;&gt;3 -->\n<g id=\"edge3\" class=\"edge\">\n<title>1&#45;&gt;3</title>\n<path fill=\"none\" stroke=\"#000000\" d=\"M1679.6549,-1856.9465C1679.8603,-1846.2621 1680.088,-1834.4254 1680.2966,-1823.5742\"/>\n<polygon fill=\"#000000\" stroke=\"#000000\" points=\"1683.7966,-1823.6076 1680.4896,-1813.5422 1676.7979,-1823.473 1683.7966,-1823.6076\"/>\n</g>\n<!-- 5 -->\n<g id=\"node6\" class=\"node\">\n<title>5</title>\n<path fill=\"#d1e8f9\" stroke=\"#000000\" d=\"M1881,-1821C1881,-1821 1773,-1821 1773,-1821 1767,-1821 1761,-1815 1761,-1809 1761,-1809 1761,-1765 1761,-1765 1761,-1759 1767,-1753 1773,-1753 1773,-1753 1881,-1753 1881,-1753 1887,-1753 1893,-1759 1893,-1765 1893,-1765 1893,-1809 1893,-1809 1893,-1815 1887,-1821 1881,-1821\"/>\n<text text-anchor=\"middle\" x=\"1827\" y=\"-1805.8\" font-family=\"Helvetica,sans-Serif\" font-size=\"14.00\" fill=\"#000000\">x1 &lt;= 21.134</text>\n<text text-anchor=\"middle\" x=\"1827\" y=\"-1790.8\" font-family=\"Helvetica,sans-Serif\" font-size=\"14.00\" fill=\"#000000\">gini = 0.492</text>\n<text text-anchor=\"middle\" x=\"1827\" y=\"-1775.8\" font-family=\"Helvetica,sans-Serif\" font-size=\"14.00\" fill=\"#000000\">samples = 653</text>\n<text text-anchor=\"middle\" x=\"1827\" y=\"-1760.8\" font-family=\"Helvetica,sans-Serif\" font-size=\"14.00\" fill=\"#000000\">value = [284, 369]</text>\n</g>\n<!-- 4&#45;&gt;5 -->\n<g id=\"edge5\" class=\"edge\">\n<title>4&#45;&gt;5</title>\n<path fill=\"none\" stroke=\"#000000\" d=\"M1828.3451,-1856.9465C1828.188,-1848.776 1828.0179,-1839.9318 1827.8533,-1831.3697\"/>\n<polygon fill=\"#000000\" stroke=\"#000000\" points=\"1831.3481,-1831.0608 1827.6563,-1821.13 1824.3494,-1831.1955 1831.3481,-1831.0608\"/>\n</g>\n<!-- 146 -->\n<g id=\"node147\" class=\"node\">\n<title>146</title>\n<path fill=\"#ea995e\" stroke=\"#000000\" d=\"M2070,-1821C2070,-1821 1970,-1821 1970,-1821 1964,-1821 1958,-1815 1958,-1809 1958,-1809 1958,-1765 1958,-1765 1958,-1759 1964,-1753 1970,-1753 1970,-1753 2070,-1753 2070,-1753 2076,-1753 2082,-1759 2082,-1765 2082,-1765 2082,-1809 2082,-1809 2082,-1815 2076,-1821 2070,-1821\"/>\n<text text-anchor=\"middle\" x=\"2020\" y=\"-1805.8\" font-family=\"Helvetica,sans-Serif\" font-size=\"14.00\" fill=\"#000000\">x1 &lt;= &#45;6.918</text>\n<text text-anchor=\"middle\" x=\"2020\" y=\"-1790.8\" font-family=\"Helvetica,sans-Serif\" font-size=\"14.00\" fill=\"#000000\">gini = 0.266</text>\n<text text-anchor=\"middle\" x=\"2020\" y=\"-1775.8\" font-family=\"Helvetica,sans-Serif\" font-size=\"14.00\" fill=\"#000000\">samples = 455</text>\n<text text-anchor=\"middle\" x=\"2020\" y=\"-1760.8\" font-family=\"Helvetica,sans-Serif\" font-size=\"14.00\" fill=\"#000000\">value = [383, 72]</text>\n</g>\n<!-- 4&#45;&gt;146 -->\n<g id=\"edge146\" class=\"edge\">\n<title>4&#45;&gt;146</title>\n<path fill=\"none\" stroke=\"#000000\" d=\"M1891.5405,-1856.9465C1909.9492,-1846.9229 1930.2202,-1835.8853 1949.1121,-1825.5986\"/>\n<polygon fill=\"#000000\" stroke=\"#000000\" points=\"1950.8625,-1828.6308 1957.9713,-1820.7748 1947.5151,-1822.4831 1950.8625,-1828.6308\"/>\n</g>\n<!-- 6 -->\n<g id=\"node7\" class=\"node\">\n<title>6</title>\n<path fill=\"#f0b68c\" stroke=\"#000000\" d=\"M1415,-1717C1415,-1717 1307,-1717 1307,-1717 1301,-1717 1295,-1711 1295,-1705 1295,-1705 1295,-1661 1295,-1661 1295,-1655 1301,-1649 1307,-1649 1307,-1649 1415,-1649 1415,-1649 1421,-1649 1427,-1655 1427,-1661 1427,-1661 1427,-1705 1427,-1705 1427,-1711 1421,-1717 1415,-1717\"/>\n<text text-anchor=\"middle\" x=\"1361\" y=\"-1701.8\" font-family=\"Helvetica,sans-Serif\" font-size=\"14.00\" fill=\"#000000\">x2 &lt;= &#45;40.579</text>\n<text text-anchor=\"middle\" x=\"1361\" y=\"-1686.8\" font-family=\"Helvetica,sans-Serif\" font-size=\"14.00\" fill=\"#000000\">gini = 0.416</text>\n<text text-anchor=\"middle\" x=\"1361\" y=\"-1671.8\" font-family=\"Helvetica,sans-Serif\" font-size=\"14.00\" fill=\"#000000\">samples = 362</text>\n<text text-anchor=\"middle\" x=\"1361\" y=\"-1656.8\" font-family=\"Helvetica,sans-Serif\" font-size=\"14.00\" fill=\"#000000\">value = [255, 107]</text>\n</g>\n<!-- 5&#45;&gt;6 -->\n<g id=\"edge6\" class=\"edge\">\n<title>5&#45;&gt;6</title>\n<path fill=\"none\" stroke=\"#000000\" d=\"M1760.5913,-1757.157C1756.3665,-1755.6519 1752.146,-1754.2493 1748,-1753 1642.5778,-1721.2326 1516.4091,-1701.7111 1437.4629,-1691.6129\"/>\n<polygon fill=\"#000000\" stroke=\"#000000\" points=\"1437.4802,-1688.0874 1427.121,-1690.3094 1436.6048,-1695.0325 1437.4802,-1688.0874\"/>\n</g>\n<!-- 131 -->\n<g id=\"node132\" class=\"node\">\n<title>131</title>\n<path fill=\"#4fa8e8\" stroke=\"#000000\" d=\"M1877,-1717C1877,-1717 1777,-1717 1777,-1717 1771,-1717 1765,-1711 1765,-1705 1765,-1705 1765,-1661 1765,-1661 1765,-1655 1771,-1649 1777,-1649 1777,-1649 1877,-1649 1877,-1649 1883,-1649 1889,-1655 1889,-1661 1889,-1661 1889,-1705 1889,-1705 1889,-1711 1883,-1717 1877,-1717\"/>\n<text text-anchor=\"middle\" x=\"1827\" y=\"-1701.8\" font-family=\"Helvetica,sans-Serif\" font-size=\"14.00\" fill=\"#000000\">x2 &lt;= &#45;4.03</text>\n<text text-anchor=\"middle\" x=\"1827\" y=\"-1686.8\" font-family=\"Helvetica,sans-Serif\" font-size=\"14.00\" fill=\"#000000\">gini = 0.179</text>\n<text text-anchor=\"middle\" x=\"1827\" y=\"-1671.8\" font-family=\"Helvetica,sans-Serif\" font-size=\"14.00\" fill=\"#000000\">samples = 291</text>\n<text text-anchor=\"middle\" x=\"1827\" y=\"-1656.8\" font-family=\"Helvetica,sans-Serif\" font-size=\"14.00\" fill=\"#000000\">value = [29, 262]</text>\n</g>\n<!-- 5&#45;&gt;131 -->\n<g id=\"edge131\" class=\"edge\">\n<title>5&#45;&gt;131</title>\n<path fill=\"none\" stroke=\"#000000\" d=\"M1827,-1752.9465C1827,-1744.776 1827,-1735.9318 1827,-1727.3697\"/>\n<polygon fill=\"#000000\" stroke=\"#000000\" points=\"1830.5001,-1727.13 1827,-1717.13 1823.5001,-1727.13 1830.5001,-1727.13\"/>\n</g>\n<!-- 7 -->\n<g id=\"node8\" class=\"node\">\n<title>7</title>\n<path fill=\"#e78a48\" stroke=\"#000000\" d=\"M420,-1613C420,-1613 320,-1613 320,-1613 314,-1613 308,-1607 308,-1601 308,-1601 308,-1557 308,-1557 308,-1551 314,-1545 320,-1545 320,-1545 420,-1545 420,-1545 426,-1545 432,-1551 432,-1557 432,-1557 432,-1601 432,-1601 432,-1607 426,-1613 420,-1613\"/>\n<text text-anchor=\"middle\" x=\"370\" y=\"-1597.8\" font-family=\"Helvetica,sans-Serif\" font-size=\"14.00\" fill=\"#000000\">x1 &lt;= &#45;3.328</text>\n<text text-anchor=\"middle\" x=\"370\" y=\"-1582.8\" font-family=\"Helvetica,sans-Serif\" font-size=\"14.00\" fill=\"#000000\">gini = 0.128</text>\n<text text-anchor=\"middle\" x=\"370\" y=\"-1567.8\" font-family=\"Helvetica,sans-Serif\" font-size=\"14.00\" fill=\"#000000\">samples = 203</text>\n<text text-anchor=\"middle\" x=\"370\" y=\"-1552.8\" font-family=\"Helvetica,sans-Serif\" font-size=\"14.00\" fill=\"#000000\">value = [189, 14]</text>\n</g>\n<!-- 6&#45;&gt;7 -->\n<g id=\"edge7\" class=\"edge\">\n<title>6&#45;&gt;7</title>\n<path fill=\"none\" stroke=\"#000000\" d=\"M1294.8251,-1676.0553C1116.6021,-1657.3518 627.5308,-1606.0264 442.3474,-1586.5925\"/>\n<polygon fill=\"#000000\" stroke=\"#000000\" points=\"442.4852,-1583.0878 432.1745,-1585.5249 441.7545,-1590.0496 442.4852,-1583.0878\"/>\n</g>\n<!-- 26 -->\n<g id=\"node27\" class=\"node\">\n<title>26</title>\n<path fill=\"#c6e3f7\" stroke=\"#000000\" d=\"M1407,-1613C1407,-1613 1315,-1613 1315,-1613 1309,-1613 1303,-1607 1303,-1601 1303,-1601 1303,-1557 1303,-1557 1303,-1551 1309,-1545 1315,-1545 1315,-1545 1407,-1545 1407,-1545 1413,-1545 1419,-1551 1419,-1557 1419,-1557 1419,-1601 1419,-1601 1419,-1607 1413,-1613 1407,-1613\"/>\n<text text-anchor=\"middle\" x=\"1361\" y=\"-1597.8\" font-family=\"Helvetica,sans-Serif\" font-size=\"14.00\" fill=\"#000000\">x2 &lt;= &#45;0.609</text>\n<text text-anchor=\"middle\" x=\"1361\" y=\"-1582.8\" font-family=\"Helvetica,sans-Serif\" font-size=\"14.00\" fill=\"#000000\">gini = 0.486</text>\n<text text-anchor=\"middle\" x=\"1361\" y=\"-1567.8\" font-family=\"Helvetica,sans-Serif\" font-size=\"14.00\" fill=\"#000000\">samples = 159</text>\n<text text-anchor=\"middle\" x=\"1361\" y=\"-1552.8\" font-family=\"Helvetica,sans-Serif\" font-size=\"14.00\" fill=\"#000000\">value = [66, 93]</text>\n</g>\n<!-- 6&#45;&gt;26 -->\n<g id=\"edge26\" class=\"edge\">\n<title>6&#45;&gt;26</title>\n<path fill=\"none\" stroke=\"#000000\" d=\"M1361,-1648.9465C1361,-1640.776 1361,-1631.9318 1361,-1623.3697\"/>\n<polygon fill=\"#000000\" stroke=\"#000000\" points=\"1364.5001,-1623.13 1361,-1613.13 1357.5001,-1623.13 1364.5001,-1623.13\"/>\n</g>\n<!-- 8 -->\n<g id=\"node9\" class=\"node\">\n<title>8</title>\n<path fill=\"#e5823b\" stroke=\"#000000\" d=\"M232,-1509C232,-1509 140,-1509 140,-1509 134,-1509 128,-1503 128,-1497 128,-1497 128,-1453 128,-1453 128,-1447 134,-1441 140,-1441 140,-1441 232,-1441 232,-1441 238,-1441 244,-1447 244,-1453 244,-1453 244,-1497 244,-1497 244,-1503 238,-1509 232,-1509\"/>\n<text text-anchor=\"middle\" x=\"186\" y=\"-1493.8\" font-family=\"Helvetica,sans-Serif\" font-size=\"14.00\" fill=\"#000000\">x1 &lt;= &#45;13.782</text>\n<text text-anchor=\"middle\" x=\"186\" y=\"-1478.8\" font-family=\"Helvetica,sans-Serif\" font-size=\"14.00\" fill=\"#000000\">gini = 0.021</text>\n<text text-anchor=\"middle\" x=\"186\" y=\"-1463.8\" font-family=\"Helvetica,sans-Serif\" font-size=\"14.00\" fill=\"#000000\">samples = 188</text>\n<text text-anchor=\"middle\" x=\"186\" y=\"-1448.8\" font-family=\"Helvetica,sans-Serif\" font-size=\"14.00\" fill=\"#000000\">value = [186, 2]</text>\n</g>\n<!-- 7&#45;&gt;8 -->\n<g id=\"edge8\" class=\"edge\">\n<title>7&#45;&gt;8</title>\n<path fill=\"none\" stroke=\"#000000\" d=\"M309.7515,-1544.9465C291.5651,-1534.6672 271.492,-1523.3215 252.8997,-1512.8129\"/>\n<polygon fill=\"#000000\" stroke=\"#000000\" points=\"254.619,-1509.7643 244.1911,-1507.8906 251.1745,-1515.8582 254.619,-1509.7643\"/>\n</g>\n<!-- 17 -->\n<g id=\"node18\" class=\"node\">\n<title>17</title>\n<path fill=\"#6ab6ec\" stroke=\"#000000\" d=\"M411.5,-1509C411.5,-1509 328.5,-1509 328.5,-1509 322.5,-1509 316.5,-1503 316.5,-1497 316.5,-1497 316.5,-1453 316.5,-1453 316.5,-1447 322.5,-1441 328.5,-1441 328.5,-1441 411.5,-1441 411.5,-1441 417.5,-1441 423.5,-1447 423.5,-1453 423.5,-1453 423.5,-1497 423.5,-1497 423.5,-1503 417.5,-1509 411.5,-1509\"/>\n<text text-anchor=\"middle\" x=\"370\" y=\"-1493.8\" font-family=\"Helvetica,sans-Serif\" font-size=\"14.00\" fill=\"#000000\">x1 &lt;= 5.384</text>\n<text text-anchor=\"middle\" x=\"370\" y=\"-1478.8\" font-family=\"Helvetica,sans-Serif\" font-size=\"14.00\" fill=\"#000000\">gini = 0.32</text>\n<text text-anchor=\"middle\" x=\"370\" y=\"-1463.8\" font-family=\"Helvetica,sans-Serif\" font-size=\"14.00\" fill=\"#000000\">samples = 15</text>\n<text text-anchor=\"middle\" x=\"370\" y=\"-1448.8\" font-family=\"Helvetica,sans-Serif\" font-size=\"14.00\" fill=\"#000000\">value = [3, 12]</text>\n</g>\n<!-- 7&#45;&gt;17 -->\n<g id=\"edge17\" class=\"edge\">\n<title>7&#45;&gt;17</title>\n<path fill=\"none\" stroke=\"#000000\" d=\"M370,-1544.9465C370,-1536.776 370,-1527.9318 370,-1519.3697\"/>\n<polygon fill=\"#000000\" stroke=\"#000000\" points=\"373.5001,-1519.13 370,-1509.13 366.5001,-1519.13 373.5001,-1519.13\"/>\n</g>\n<!-- 9 -->\n<g id=\"node10\" class=\"node\">\n<title>9</title>\n<path fill=\"#e58139\" stroke=\"#000000\" d=\"M104,-1397.5C104,-1397.5 12,-1397.5 12,-1397.5 6,-1397.5 0,-1391.5 0,-1385.5 0,-1385.5 0,-1356.5 0,-1356.5 0,-1350.5 6,-1344.5 12,-1344.5 12,-1344.5 104,-1344.5 104,-1344.5 110,-1344.5 116,-1350.5 116,-1356.5 116,-1356.5 116,-1385.5 116,-1385.5 116,-1391.5 110,-1397.5 104,-1397.5\"/>\n<text text-anchor=\"middle\" x=\"58\" y=\"-1382.3\" font-family=\"Helvetica,sans-Serif\" font-size=\"14.00\" fill=\"#000000\">gini = 0.0</text>\n<text text-anchor=\"middle\" x=\"58\" y=\"-1367.3\" font-family=\"Helvetica,sans-Serif\" font-size=\"14.00\" fill=\"#000000\">samples = 177</text>\n<text text-anchor=\"middle\" x=\"58\" y=\"-1352.3\" font-family=\"Helvetica,sans-Serif\" font-size=\"14.00\" fill=\"#000000\">value = [177, 0]</text>\n</g>\n<!-- 8&#45;&gt;9 -->\n<g id=\"edge9\" class=\"edge\">\n<title>8&#45;&gt;9</title>\n<path fill=\"none\" stroke=\"#000000\" d=\"M144.088,-1440.9465C129.4467,-1429.0504 113.0474,-1415.726 98.5215,-1403.9237\"/>\n<polygon fill=\"#000000\" stroke=\"#000000\" points=\"100.6355,-1401.1317 90.6673,-1397.5422 96.2214,-1406.5645 100.6355,-1401.1317\"/>\n</g>\n<!-- 10 -->\n<g id=\"node11\" class=\"node\">\n<title>10</title>\n<path fill=\"#eb9d65\" stroke=\"#000000\" d=\"M226,-1405C226,-1405 146,-1405 146,-1405 140,-1405 134,-1399 134,-1393 134,-1393 134,-1349 134,-1349 134,-1343 140,-1337 146,-1337 146,-1337 226,-1337 226,-1337 232,-1337 238,-1343 238,-1349 238,-1349 238,-1393 238,-1393 238,-1399 232,-1405 226,-1405\"/>\n<text text-anchor=\"middle\" x=\"186\" y=\"-1389.8\" font-family=\"Helvetica,sans-Serif\" font-size=\"14.00\" fill=\"#000000\">x1 &lt;= &#45;12.38</text>\n<text text-anchor=\"middle\" x=\"186\" y=\"-1374.8\" font-family=\"Helvetica,sans-Serif\" font-size=\"14.00\" fill=\"#000000\">gini = 0.298</text>\n<text text-anchor=\"middle\" x=\"186\" y=\"-1359.8\" font-family=\"Helvetica,sans-Serif\" font-size=\"14.00\" fill=\"#000000\">samples = 11</text>\n<text text-anchor=\"middle\" x=\"186\" y=\"-1344.8\" font-family=\"Helvetica,sans-Serif\" font-size=\"14.00\" fill=\"#000000\">value = [9, 2]</text>\n</g>\n<!-- 8&#45;&gt;10 -->\n<g id=\"edge10\" class=\"edge\">\n<title>8&#45;&gt;10</title>\n<path fill=\"none\" stroke=\"#000000\" d=\"M186,-1440.9465C186,-1432.776 186,-1423.9318 186,-1415.3697\"/>\n<polygon fill=\"#000000\" stroke=\"#000000\" points=\"189.5001,-1415.13 186,-1405.13 182.5001,-1415.13 189.5001,-1415.13\"/>\n</g>\n<!-- 11 -->\n<g id=\"node12\" class=\"node\">\n<title>11</title>\n<path fill=\"#399de5\" stroke=\"#000000\" d=\"M102.5,-1293.5C102.5,-1293.5 27.5,-1293.5 27.5,-1293.5 21.5,-1293.5 15.5,-1287.5 15.5,-1281.5 15.5,-1281.5 15.5,-1252.5 15.5,-1252.5 15.5,-1246.5 21.5,-1240.5 27.5,-1240.5 27.5,-1240.5 102.5,-1240.5 102.5,-1240.5 108.5,-1240.5 114.5,-1246.5 114.5,-1252.5 114.5,-1252.5 114.5,-1281.5 114.5,-1281.5 114.5,-1287.5 108.5,-1293.5 102.5,-1293.5\"/>\n<text text-anchor=\"middle\" x=\"65\" y=\"-1278.3\" font-family=\"Helvetica,sans-Serif\" font-size=\"14.00\" fill=\"#000000\">gini = 0.0</text>\n<text text-anchor=\"middle\" x=\"65\" y=\"-1263.3\" font-family=\"Helvetica,sans-Serif\" font-size=\"14.00\" fill=\"#000000\">samples = 1</text>\n<text text-anchor=\"middle\" x=\"65\" y=\"-1248.3\" font-family=\"Helvetica,sans-Serif\" font-size=\"14.00\" fill=\"#000000\">value = [0, 1]</text>\n</g>\n<!-- 10&#45;&gt;11 -->\n<g id=\"edge11\" class=\"edge\">\n<title>10&#45;&gt;11</title>\n<path fill=\"none\" stroke=\"#000000\" d=\"M146.3801,-1336.9465C132.6676,-1325.1606 117.3239,-1311.9726 103.6873,-1300.2519\"/>\n<polygon fill=\"#000000\" stroke=\"#000000\" points=\"105.7459,-1297.4061 95.8808,-1293.5422 101.1831,-1302.7147 105.7459,-1297.4061\"/>\n</g>\n<!-- 12 -->\n<g id=\"node13\" class=\"node\">\n<title>12</title>\n<path fill=\"#e88f4f\" stroke=\"#000000\" d=\"M227,-1301C227,-1301 145,-1301 145,-1301 139,-1301 133,-1295 133,-1289 133,-1289 133,-1245 133,-1245 133,-1239 139,-1233 145,-1233 145,-1233 227,-1233 227,-1233 233,-1233 239,-1239 239,-1245 239,-1245 239,-1289 239,-1289 239,-1295 233,-1301 227,-1301\"/>\n<text text-anchor=\"middle\" x=\"186\" y=\"-1285.8\" font-family=\"Helvetica,sans-Serif\" font-size=\"14.00\" fill=\"#000000\">x2 &lt;= &#45;51.299</text>\n<text text-anchor=\"middle\" x=\"186\" y=\"-1270.8\" font-family=\"Helvetica,sans-Serif\" font-size=\"14.00\" fill=\"#000000\">gini = 0.18</text>\n<text text-anchor=\"middle\" x=\"186\" y=\"-1255.8\" font-family=\"Helvetica,sans-Serif\" font-size=\"14.00\" fill=\"#000000\">samples = 10</text>\n<text text-anchor=\"middle\" x=\"186\" y=\"-1240.8\" font-family=\"Helvetica,sans-Serif\" font-size=\"14.00\" fill=\"#000000\">value = [9, 1]</text>\n</g>\n<!-- 10&#45;&gt;12 -->\n<g id=\"edge12\" class=\"edge\">\n<title>10&#45;&gt;12</title>\n<path fill=\"none\" stroke=\"#000000\" d=\"M186,-1336.9465C186,-1328.776 186,-1319.9318 186,-1311.3697\"/>\n<polygon fill=\"#000000\" stroke=\"#000000\" points=\"189.5001,-1311.13 186,-1301.13 182.5001,-1311.13 189.5001,-1311.13\"/>\n</g>\n<!-- 13 -->\n<g id=\"node14\" class=\"node\">\n<title>13</title>\n<path fill=\"#e58139\" stroke=\"#000000\" d=\"M107.5,-1189.5C107.5,-1189.5 32.5,-1189.5 32.5,-1189.5 26.5,-1189.5 20.5,-1183.5 20.5,-1177.5 20.5,-1177.5 20.5,-1148.5 20.5,-1148.5 20.5,-1142.5 26.5,-1136.5 32.5,-1136.5 32.5,-1136.5 107.5,-1136.5 107.5,-1136.5 113.5,-1136.5 119.5,-1142.5 119.5,-1148.5 119.5,-1148.5 119.5,-1177.5 119.5,-1177.5 119.5,-1183.5 113.5,-1189.5 107.5,-1189.5\"/>\n<text text-anchor=\"middle\" x=\"70\" y=\"-1174.3\" font-family=\"Helvetica,sans-Serif\" font-size=\"14.00\" fill=\"#000000\">gini = 0.0</text>\n<text text-anchor=\"middle\" x=\"70\" y=\"-1159.3\" font-family=\"Helvetica,sans-Serif\" font-size=\"14.00\" fill=\"#000000\">samples = 7</text>\n<text text-anchor=\"middle\" x=\"70\" y=\"-1144.3\" font-family=\"Helvetica,sans-Serif\" font-size=\"14.00\" fill=\"#000000\">value = [7, 0]</text>\n</g>\n<!-- 12&#45;&gt;13 -->\n<g id=\"edge13\" class=\"edge\">\n<title>12&#45;&gt;13</title>\n<path fill=\"none\" stroke=\"#000000\" d=\"M148.0173,-1232.9465C134.8714,-1221.1606 120.1618,-1207.9726 107.0887,-1196.2519\"/>\n<polygon fill=\"#000000\" stroke=\"#000000\" points=\"109.3869,-1193.6116 99.6047,-1189.5422 104.714,-1198.8236 109.3869,-1193.6116\"/>\n</g>\n<!-- 14 -->\n<g id=\"node15\" class=\"node\">\n<title>14</title>\n<path fill=\"#f2c09c\" stroke=\"#000000\" d=\"M224.5,-1197C224.5,-1197 149.5,-1197 149.5,-1197 143.5,-1197 137.5,-1191 137.5,-1185 137.5,-1185 137.5,-1141 137.5,-1141 137.5,-1135 143.5,-1129 149.5,-1129 149.5,-1129 224.5,-1129 224.5,-1129 230.5,-1129 236.5,-1135 236.5,-1141 236.5,-1141 236.5,-1185 236.5,-1185 236.5,-1191 230.5,-1197 224.5,-1197\"/>\n<text text-anchor=\"middle\" x=\"187\" y=\"-1181.8\" font-family=\"Helvetica,sans-Serif\" font-size=\"14.00\" fill=\"#000000\">x1 &lt;= &#45;8.341</text>\n<text text-anchor=\"middle\" x=\"187\" y=\"-1166.8\" font-family=\"Helvetica,sans-Serif\" font-size=\"14.00\" fill=\"#000000\">gini = 0.444</text>\n<text text-anchor=\"middle\" x=\"187\" y=\"-1151.8\" font-family=\"Helvetica,sans-Serif\" font-size=\"14.00\" fill=\"#000000\">samples = 3</text>\n<text text-anchor=\"middle\" x=\"187\" y=\"-1136.8\" font-family=\"Helvetica,sans-Serif\" font-size=\"14.00\" fill=\"#000000\">value = [2, 1]</text>\n</g>\n<!-- 12&#45;&gt;14 -->\n<g id=\"edge14\" class=\"edge\">\n<title>12&#45;&gt;14</title>\n<path fill=\"none\" stroke=\"#000000\" d=\"M186.3274,-1232.9465C186.406,-1224.776 186.491,-1215.9318 186.5734,-1207.3697\"/>\n<polygon fill=\"#000000\" stroke=\"#000000\" points=\"190.0754,-1207.1632 186.6718,-1197.13 183.0757,-1207.0958 190.0754,-1207.1632\"/>\n</g>\n<!-- 15 -->\n<g id=\"node16\" class=\"node\">\n<title>15</title>\n<path fill=\"#e58139\" stroke=\"#000000\" d=\"M166.5,-1085.5C166.5,-1085.5 91.5,-1085.5 91.5,-1085.5 85.5,-1085.5 79.5,-1079.5 79.5,-1073.5 79.5,-1073.5 79.5,-1044.5 79.5,-1044.5 79.5,-1038.5 85.5,-1032.5 91.5,-1032.5 91.5,-1032.5 166.5,-1032.5 166.5,-1032.5 172.5,-1032.5 178.5,-1038.5 178.5,-1044.5 178.5,-1044.5 178.5,-1073.5 178.5,-1073.5 178.5,-1079.5 172.5,-1085.5 166.5,-1085.5\"/>\n<text text-anchor=\"middle\" x=\"129\" y=\"-1070.3\" font-family=\"Helvetica,sans-Serif\" font-size=\"14.00\" fill=\"#000000\">gini = 0.0</text>\n<text text-anchor=\"middle\" x=\"129\" y=\"-1055.3\" font-family=\"Helvetica,sans-Serif\" font-size=\"14.00\" fill=\"#000000\">samples = 2</text>\n<text text-anchor=\"middle\" x=\"129\" y=\"-1040.3\" font-family=\"Helvetica,sans-Serif\" font-size=\"14.00\" fill=\"#000000\">value = [2, 0]</text>\n</g>\n<!-- 14&#45;&gt;15 -->\n<g id=\"edge15\" class=\"edge\">\n<title>14&#45;&gt;15</title>\n<path fill=\"none\" stroke=\"#000000\" d=\"M168.0086,-1128.9465C161.8657,-1117.9316 155.0399,-1105.6922 148.8373,-1094.5703\"/>\n<polygon fill=\"#000000\" stroke=\"#000000\" points=\"151.7299,-1092.5711 143.8024,-1085.5422 145.6163,-1095.9806 151.7299,-1092.5711\"/>\n</g>\n<!-- 16 -->\n<g id=\"node17\" class=\"node\">\n<title>16</title>\n<path fill=\"#399de5\" stroke=\"#000000\" d=\"M283.5,-1085.5C283.5,-1085.5 208.5,-1085.5 208.5,-1085.5 202.5,-1085.5 196.5,-1079.5 196.5,-1073.5 196.5,-1073.5 196.5,-1044.5 196.5,-1044.5 196.5,-1038.5 202.5,-1032.5 208.5,-1032.5 208.5,-1032.5 283.5,-1032.5 283.5,-1032.5 289.5,-1032.5 295.5,-1038.5 295.5,-1044.5 295.5,-1044.5 295.5,-1073.5 295.5,-1073.5 295.5,-1079.5 289.5,-1085.5 283.5,-1085.5\"/>\n<text text-anchor=\"middle\" x=\"246\" y=\"-1070.3\" font-family=\"Helvetica,sans-Serif\" font-size=\"14.00\" fill=\"#000000\">gini = 0.0</text>\n<text text-anchor=\"middle\" x=\"246\" y=\"-1055.3\" font-family=\"Helvetica,sans-Serif\" font-size=\"14.00\" fill=\"#000000\">samples = 1</text>\n<text text-anchor=\"middle\" x=\"246\" y=\"-1040.3\" font-family=\"Helvetica,sans-Serif\" font-size=\"14.00\" fill=\"#000000\">value = [0, 1]</text>\n</g>\n<!-- 14&#45;&gt;16 -->\n<g id=\"edge16\" class=\"edge\">\n<title>14&#45;&gt;16</title>\n<path fill=\"none\" stroke=\"#000000\" d=\"M206.3188,-1128.9465C212.5676,-1117.9316 219.5112,-1105.6922 225.8207,-1094.5703\"/>\n<polygon fill=\"#000000\" stroke=\"#000000\" points=\"229.0523,-1095.967 230.9424,-1085.5422 222.9638,-1092.513 229.0523,-1095.967\"/>\n</g>\n<!-- 18 -->\n<g id=\"node19\" class=\"node\">\n<title>18</title>\n<path fill=\"#cee6f8\" stroke=\"#000000\" d=\"M375.5,-1405C375.5,-1405 300.5,-1405 300.5,-1405 294.5,-1405 288.5,-1399 288.5,-1393 288.5,-1393 288.5,-1349 288.5,-1349 288.5,-1343 294.5,-1337 300.5,-1337 300.5,-1337 375.5,-1337 375.5,-1337 381.5,-1337 387.5,-1343 387.5,-1349 387.5,-1349 387.5,-1393 387.5,-1393 387.5,-1399 381.5,-1405 375.5,-1405\"/>\n<text text-anchor=\"middle\" x=\"338\" y=\"-1389.8\" font-family=\"Helvetica,sans-Serif\" font-size=\"14.00\" fill=\"#000000\">x1 &lt;= &#45;2.911</text>\n<text text-anchor=\"middle\" x=\"338\" y=\"-1374.8\" font-family=\"Helvetica,sans-Serif\" font-size=\"14.00\" fill=\"#000000\">gini = 0.49</text>\n<text text-anchor=\"middle\" x=\"338\" y=\"-1359.8\" font-family=\"Helvetica,sans-Serif\" font-size=\"14.00\" fill=\"#000000\">samples = 7</text>\n<text text-anchor=\"middle\" x=\"338\" y=\"-1344.8\" font-family=\"Helvetica,sans-Serif\" font-size=\"14.00\" fill=\"#000000\">value = [3, 4]</text>\n</g>\n<!-- 17&#45;&gt;18 -->\n<g id=\"edge18\" class=\"edge\">\n<title>17&#45;&gt;18</title>\n<path fill=\"none\" stroke=\"#000000\" d=\"M359.522,-1440.9465C356.9528,-1432.5965 354.167,-1423.5427 351.4786,-1414.8056\"/>\n<polygon fill=\"#000000\" stroke=\"#000000\" points=\"354.7877,-1413.6585 348.5015,-1405.13 348.0972,-1415.7171 354.7877,-1413.6585\"/>\n</g>\n<!-- 25 -->\n<g id=\"node26\" class=\"node\">\n<title>25</title>\n<path fill=\"#399de5\" stroke=\"#000000\" d=\"M492.5,-1397.5C492.5,-1397.5 417.5,-1397.5 417.5,-1397.5 411.5,-1397.5 405.5,-1391.5 405.5,-1385.5 405.5,-1385.5 405.5,-1356.5 405.5,-1356.5 405.5,-1350.5 411.5,-1344.5 417.5,-1344.5 417.5,-1344.5 492.5,-1344.5 492.5,-1344.5 498.5,-1344.5 504.5,-1350.5 504.5,-1356.5 504.5,-1356.5 504.5,-1385.5 504.5,-1385.5 504.5,-1391.5 498.5,-1397.5 492.5,-1397.5\"/>\n<text text-anchor=\"middle\" x=\"455\" y=\"-1382.3\" font-family=\"Helvetica,sans-Serif\" font-size=\"14.00\" fill=\"#000000\">gini = 0.0</text>\n<text text-anchor=\"middle\" x=\"455\" y=\"-1367.3\" font-family=\"Helvetica,sans-Serif\" font-size=\"14.00\" fill=\"#000000\">samples = 8</text>\n<text text-anchor=\"middle\" x=\"455\" y=\"-1352.3\" font-family=\"Helvetica,sans-Serif\" font-size=\"14.00\" fill=\"#000000\">value = [0, 8]</text>\n</g>\n<!-- 17&#45;&gt;25 -->\n<g id=\"edge25\" class=\"edge\">\n<title>17&#45;&gt;25</title>\n<path fill=\"none\" stroke=\"#000000\" d=\"M397.8322,-1440.9465C407.1048,-1429.6012 417.4392,-1416.9567 426.7437,-1405.5724\"/>\n<polygon fill=\"#000000\" stroke=\"#000000\" points=\"429.6885,-1407.5 433.3069,-1397.5422 424.2685,-1403.0701 429.6885,-1407.5\"/>\n</g>\n<!-- 19 -->\n<g id=\"node20\" class=\"node\">\n<title>19</title>\n<path fill=\"#399de5\" stroke=\"#000000\" d=\"M344.5,-1293.5C344.5,-1293.5 269.5,-1293.5 269.5,-1293.5 263.5,-1293.5 257.5,-1287.5 257.5,-1281.5 257.5,-1281.5 257.5,-1252.5 257.5,-1252.5 257.5,-1246.5 263.5,-1240.5 269.5,-1240.5 269.5,-1240.5 344.5,-1240.5 344.5,-1240.5 350.5,-1240.5 356.5,-1246.5 356.5,-1252.5 356.5,-1252.5 356.5,-1281.5 356.5,-1281.5 356.5,-1287.5 350.5,-1293.5 344.5,-1293.5\"/>\n<text text-anchor=\"middle\" x=\"307\" y=\"-1278.3\" font-family=\"Helvetica,sans-Serif\" font-size=\"14.00\" fill=\"#000000\">gini = 0.0</text>\n<text text-anchor=\"middle\" x=\"307\" y=\"-1263.3\" font-family=\"Helvetica,sans-Serif\" font-size=\"14.00\" fill=\"#000000\">samples = 2</text>\n<text text-anchor=\"middle\" x=\"307\" y=\"-1248.3\" font-family=\"Helvetica,sans-Serif\" font-size=\"14.00\" fill=\"#000000\">value = [0, 2]</text>\n</g>\n<!-- 18&#45;&gt;19 -->\n<g id=\"edge19\" class=\"edge\">\n<title>18&#45;&gt;19</title>\n<path fill=\"none\" stroke=\"#000000\" d=\"M327.8494,-1336.9465C324.6318,-1326.1519 321.0636,-1314.1813 317.802,-1303.2389\"/>\n<polygon fill=\"#000000\" stroke=\"#000000\" points=\"321.1224,-1302.1257 314.9116,-1293.5422 314.4141,-1304.1253 321.1224,-1302.1257\"/>\n</g>\n<!-- 20 -->\n<g id=\"node21\" class=\"node\">\n<title>20</title>\n<path fill=\"#f6d5bd\" stroke=\"#000000\" d=\"M461.5,-1301C461.5,-1301 386.5,-1301 386.5,-1301 380.5,-1301 374.5,-1295 374.5,-1289 374.5,-1289 374.5,-1245 374.5,-1245 374.5,-1239 380.5,-1233 386.5,-1233 386.5,-1233 461.5,-1233 461.5,-1233 467.5,-1233 473.5,-1239 473.5,-1245 473.5,-1245 473.5,-1289 473.5,-1289 473.5,-1295 467.5,-1301 461.5,-1301\"/>\n<text text-anchor=\"middle\" x=\"424\" y=\"-1285.8\" font-family=\"Helvetica,sans-Serif\" font-size=\"14.00\" fill=\"#000000\">x1 &lt;= 0.016</text>\n<text text-anchor=\"middle\" x=\"424\" y=\"-1270.8\" font-family=\"Helvetica,sans-Serif\" font-size=\"14.00\" fill=\"#000000\">gini = 0.48</text>\n<text text-anchor=\"middle\" x=\"424\" y=\"-1255.8\" font-family=\"Helvetica,sans-Serif\" font-size=\"14.00\" fill=\"#000000\">samples = 5</text>\n<text text-anchor=\"middle\" x=\"424\" y=\"-1240.8\" font-family=\"Helvetica,sans-Serif\" font-size=\"14.00\" fill=\"#000000\">value = [3, 2]</text>\n</g>\n<!-- 18&#45;&gt;20 -->\n<g id=\"edge20\" class=\"edge\">\n<title>18&#45;&gt;20</title>\n<path fill=\"none\" stroke=\"#000000\" d=\"M366.1596,-1336.9465C373.5842,-1327.968 381.6815,-1318.1758 389.4028,-1308.8385\"/>\n<polygon fill=\"#000000\" stroke=\"#000000\" points=\"392.1017,-1311.0669 395.7771,-1301.13 386.7072,-1306.606 392.1017,-1311.0669\"/>\n</g>\n<!-- 21 -->\n<g id=\"node22\" class=\"node\">\n<title>21</title>\n<path fill=\"#e58139\" stroke=\"#000000\" d=\"M344.5,-1189.5C344.5,-1189.5 269.5,-1189.5 269.5,-1189.5 263.5,-1189.5 257.5,-1183.5 257.5,-1177.5 257.5,-1177.5 257.5,-1148.5 257.5,-1148.5 257.5,-1142.5 263.5,-1136.5 269.5,-1136.5 269.5,-1136.5 344.5,-1136.5 344.5,-1136.5 350.5,-1136.5 356.5,-1142.5 356.5,-1148.5 356.5,-1148.5 356.5,-1177.5 356.5,-1177.5 356.5,-1183.5 350.5,-1189.5 344.5,-1189.5\"/>\n<text text-anchor=\"middle\" x=\"307\" y=\"-1174.3\" font-family=\"Helvetica,sans-Serif\" font-size=\"14.00\" fill=\"#000000\">gini = 0.0</text>\n<text text-anchor=\"middle\" x=\"307\" y=\"-1159.3\" font-family=\"Helvetica,sans-Serif\" font-size=\"14.00\" fill=\"#000000\">samples = 2</text>\n<text text-anchor=\"middle\" x=\"307\" y=\"-1144.3\" font-family=\"Helvetica,sans-Serif\" font-size=\"14.00\" fill=\"#000000\">value = [2, 0]</text>\n</g>\n<!-- 20&#45;&gt;21 -->\n<g id=\"edge21\" class=\"edge\">\n<title>20&#45;&gt;21</title>\n<path fill=\"none\" stroke=\"#000000\" d=\"M385.6898,-1232.9465C372.4306,-1221.1606 357.5942,-1207.9726 344.4084,-1196.2519\"/>\n<polygon fill=\"#000000\" stroke=\"#000000\" points=\"346.6593,-1193.5699 336.8599,-1189.5422 342.0088,-1198.8018 346.6593,-1193.5699\"/>\n</g>\n<!-- 22 -->\n<g id=\"node23\" class=\"node\">\n<title>22</title>\n<path fill=\"#9ccef2\" stroke=\"#000000\" d=\"M461.5,-1197C461.5,-1197 386.5,-1197 386.5,-1197 380.5,-1197 374.5,-1191 374.5,-1185 374.5,-1185 374.5,-1141 374.5,-1141 374.5,-1135 380.5,-1129 386.5,-1129 386.5,-1129 461.5,-1129 461.5,-1129 467.5,-1129 473.5,-1135 473.5,-1141 473.5,-1141 473.5,-1185 473.5,-1185 473.5,-1191 467.5,-1197 461.5,-1197\"/>\n<text text-anchor=\"middle\" x=\"424\" y=\"-1181.8\" font-family=\"Helvetica,sans-Serif\" font-size=\"14.00\" fill=\"#000000\">x1 &lt;= 2.664</text>\n<text text-anchor=\"middle\" x=\"424\" y=\"-1166.8\" font-family=\"Helvetica,sans-Serif\" font-size=\"14.00\" fill=\"#000000\">gini = 0.444</text>\n<text text-anchor=\"middle\" x=\"424\" y=\"-1151.8\" font-family=\"Helvetica,sans-Serif\" font-size=\"14.00\" fill=\"#000000\">samples = 3</text>\n<text text-anchor=\"middle\" x=\"424\" y=\"-1136.8\" font-family=\"Helvetica,sans-Serif\" font-size=\"14.00\" fill=\"#000000\">value = [1, 2]</text>\n</g>\n<!-- 20&#45;&gt;22 -->\n<g id=\"edge22\" class=\"edge\">\n<title>20&#45;&gt;22</title>\n<path fill=\"none\" stroke=\"#000000\" d=\"M424,-1232.9465C424,-1224.776 424,-1215.9318 424,-1207.3697\"/>\n<polygon fill=\"#000000\" stroke=\"#000000\" points=\"427.5001,-1207.13 424,-1197.13 420.5001,-1207.13 427.5001,-1207.13\"/>\n</g>\n<!-- 23 -->\n<g id=\"node24\" class=\"node\">\n<title>23</title>\n<path fill=\"#399de5\" stroke=\"#000000\" d=\"M459.5,-1085.5C459.5,-1085.5 384.5,-1085.5 384.5,-1085.5 378.5,-1085.5 372.5,-1079.5 372.5,-1073.5 372.5,-1073.5 372.5,-1044.5 372.5,-1044.5 372.5,-1038.5 378.5,-1032.5 384.5,-1032.5 384.5,-1032.5 459.5,-1032.5 459.5,-1032.5 465.5,-1032.5 471.5,-1038.5 471.5,-1044.5 471.5,-1044.5 471.5,-1073.5 471.5,-1073.5 471.5,-1079.5 465.5,-1085.5 459.5,-1085.5\"/>\n<text text-anchor=\"middle\" x=\"422\" y=\"-1070.3\" font-family=\"Helvetica,sans-Serif\" font-size=\"14.00\" fill=\"#000000\">gini = 0.0</text>\n<text text-anchor=\"middle\" x=\"422\" y=\"-1055.3\" font-family=\"Helvetica,sans-Serif\" font-size=\"14.00\" fill=\"#000000\">samples = 2</text>\n<text text-anchor=\"middle\" x=\"422\" y=\"-1040.3\" font-family=\"Helvetica,sans-Serif\" font-size=\"14.00\" fill=\"#000000\">value = [0, 2]</text>\n</g>\n<!-- 22&#45;&gt;23 -->\n<g id=\"edge23\" class=\"edge\">\n<title>22&#45;&gt;23</title>\n<path fill=\"none\" stroke=\"#000000\" d=\"M423.3451,-1128.9465C423.1397,-1118.2621 422.912,-1106.4254 422.7034,-1095.5742\"/>\n<polygon fill=\"#000000\" stroke=\"#000000\" points=\"426.2021,-1095.473 422.5104,-1085.5422 419.2034,-1095.6076 426.2021,-1095.473\"/>\n</g>\n<!-- 24 -->\n<g id=\"node25\" class=\"node\">\n<title>24</title>\n<path fill=\"#e58139\" stroke=\"#000000\" d=\"M576.5,-1085.5C576.5,-1085.5 501.5,-1085.5 501.5,-1085.5 495.5,-1085.5 489.5,-1079.5 489.5,-1073.5 489.5,-1073.5 489.5,-1044.5 489.5,-1044.5 489.5,-1038.5 495.5,-1032.5 501.5,-1032.5 501.5,-1032.5 576.5,-1032.5 576.5,-1032.5 582.5,-1032.5 588.5,-1038.5 588.5,-1044.5 588.5,-1044.5 588.5,-1073.5 588.5,-1073.5 588.5,-1079.5 582.5,-1085.5 576.5,-1085.5\"/>\n<text text-anchor=\"middle\" x=\"539\" y=\"-1070.3\" font-family=\"Helvetica,sans-Serif\" font-size=\"14.00\" fill=\"#000000\">gini = 0.0</text>\n<text text-anchor=\"middle\" x=\"539\" y=\"-1055.3\" font-family=\"Helvetica,sans-Serif\" font-size=\"14.00\" fill=\"#000000\">samples = 1</text>\n<text text-anchor=\"middle\" x=\"539\" y=\"-1040.3\" font-family=\"Helvetica,sans-Serif\" font-size=\"14.00\" fill=\"#000000\">value = [1, 0]</text>\n</g>\n<!-- 22&#45;&gt;24 -->\n<g id=\"edge24\" class=\"edge\">\n<title>22&#45;&gt;24</title>\n<path fill=\"none\" stroke=\"#000000\" d=\"M461.6553,-1128.9465C474.6878,-1117.1606 489.2706,-1103.9726 502.2311,-1092.2519\"/>\n<polygon fill=\"#000000\" stroke=\"#000000\" points=\"504.5812,-1094.8456 509.6505,-1085.5422 499.886,-1089.6537 504.5812,-1094.8456\"/>\n</g>\n<!-- 27 -->\n<g id=\"node28\" class=\"node\">\n<title>27</title>\n<path fill=\"#fffdfc\" stroke=\"#000000\" d=\"M1246,-1509C1246,-1509 1154,-1509 1154,-1509 1148,-1509 1142,-1503 1142,-1497 1142,-1497 1142,-1453 1142,-1453 1142,-1447 1148,-1441 1154,-1441 1154,-1441 1246,-1441 1246,-1441 1252,-1441 1258,-1447 1258,-1453 1258,-1453 1258,-1497 1258,-1497 1258,-1503 1252,-1509 1246,-1509\"/>\n<text text-anchor=\"middle\" x=\"1200\" y=\"-1493.8\" font-family=\"Helvetica,sans-Serif\" font-size=\"14.00\" fill=\"#000000\">x1 &lt;= &#45;28.963</text>\n<text text-anchor=\"middle\" x=\"1200\" y=\"-1478.8\" font-family=\"Helvetica,sans-Serif\" font-size=\"14.00\" fill=\"#000000\">gini = 0.5</text>\n<text text-anchor=\"middle\" x=\"1200\" y=\"-1463.8\" font-family=\"Helvetica,sans-Serif\" font-size=\"14.00\" fill=\"#000000\">samples = 121</text>\n<text text-anchor=\"middle\" x=\"1200\" y=\"-1448.8\" font-family=\"Helvetica,sans-Serif\" font-size=\"14.00\" fill=\"#000000\">value = [61, 60]</text>\n</g>\n<!-- 26&#45;&gt;27 -->\n<g id=\"edge27\" class=\"edge\">\n<title>26&#45;&gt;27</title>\n<path fill=\"none\" stroke=\"#000000\" d=\"M1308.2826,-1544.9465C1293.2712,-1535.2497 1276.7906,-1524.6039 1261.3146,-1514.6069\"/>\n<polygon fill=\"#000000\" stroke=\"#000000\" points=\"1263.1349,-1511.6161 1252.8359,-1509.13 1259.3367,-1517.496 1263.1349,-1511.6161\"/>\n</g>\n<!-- 120 -->\n<g id=\"node121\" class=\"node\">\n<title>120</title>\n<path fill=\"#57ace9\" stroke=\"#000000\" d=\"M1497.5,-1509C1497.5,-1509 1414.5,-1509 1414.5,-1509 1408.5,-1509 1402.5,-1503 1402.5,-1497 1402.5,-1497 1402.5,-1453 1402.5,-1453 1402.5,-1447 1408.5,-1441 1414.5,-1441 1414.5,-1441 1497.5,-1441 1497.5,-1441 1503.5,-1441 1509.5,-1447 1509.5,-1453 1509.5,-1453 1509.5,-1497 1509.5,-1497 1509.5,-1503 1503.5,-1509 1497.5,-1509\"/>\n<text text-anchor=\"middle\" x=\"1456\" y=\"-1493.8\" font-family=\"Helvetica,sans-Serif\" font-size=\"14.00\" fill=\"#000000\">x1 &lt;= 13.799</text>\n<text text-anchor=\"middle\" x=\"1456\" y=\"-1478.8\" font-family=\"Helvetica,sans-Serif\" font-size=\"14.00\" fill=\"#000000\">gini = 0.229</text>\n<text text-anchor=\"middle\" x=\"1456\" y=\"-1463.8\" font-family=\"Helvetica,sans-Serif\" font-size=\"14.00\" fill=\"#000000\">samples = 38</text>\n<text text-anchor=\"middle\" x=\"1456\" y=\"-1448.8\" font-family=\"Helvetica,sans-Serif\" font-size=\"14.00\" fill=\"#000000\">value = [5, 33]</text>\n</g>\n<!-- 26&#45;&gt;120 -->\n<g id=\"edge120\" class=\"edge\">\n<title>26&#45;&gt;120</title>\n<path fill=\"none\" stroke=\"#000000\" d=\"M1392.1066,-1544.9465C1400.3901,-1535.8782 1409.4318,-1525.9799 1418.0379,-1516.5585\"/>\n<polygon fill=\"#000000\" stroke=\"#000000\" points=\"1420.6633,-1518.8739 1424.8236,-1509.13 1415.495,-1514.1528 1420.6633,-1518.8739\"/>\n</g>\n<!-- 28 -->\n<g id=\"node29\" class=\"node\">\n<title>28</title>\n<path fill=\"#76bbed\" stroke=\"#000000\" d=\"M885.5,-1405C885.5,-1405 802.5,-1405 802.5,-1405 796.5,-1405 790.5,-1399 790.5,-1393 790.5,-1393 790.5,-1349 790.5,-1349 790.5,-1343 796.5,-1337 802.5,-1337 802.5,-1337 885.5,-1337 885.5,-1337 891.5,-1337 897.5,-1343 897.5,-1349 897.5,-1349 897.5,-1393 897.5,-1393 897.5,-1399 891.5,-1405 885.5,-1405\"/>\n<text text-anchor=\"middle\" x=\"844\" y=\"-1389.8\" font-family=\"Helvetica,sans-Serif\" font-size=\"14.00\" fill=\"#000000\">x2 &lt;= &#45;32.321</text>\n<text text-anchor=\"middle\" x=\"844\" y=\"-1374.8\" font-family=\"Helvetica,sans-Serif\" font-size=\"14.00\" fill=\"#000000\">gini = 0.36</text>\n<text text-anchor=\"middle\" x=\"844\" y=\"-1359.8\" font-family=\"Helvetica,sans-Serif\" font-size=\"14.00\" fill=\"#000000\">samples = 17</text>\n<text text-anchor=\"middle\" x=\"844\" y=\"-1344.8\" font-family=\"Helvetica,sans-Serif\" font-size=\"14.00\" fill=\"#000000\">value = [4, 13]</text>\n</g>\n<!-- 27&#45;&gt;28 -->\n<g id=\"edge28\" class=\"edge\">\n<title>27&#45;&gt;28</title>\n<path fill=\"none\" stroke=\"#000000\" d=\"M1141.6125,-1457.943C1077.2566,-1439.1424 974.0754,-1408.9995 907.6796,-1389.603\"/>\n<polygon fill=\"#000000\" stroke=\"#000000\" points=\"908.3357,-1386.1485 897.7554,-1386.7038 906.3727,-1392.8676 908.3357,-1386.1485\"/>\n</g>\n<!-- 41 -->\n<g id=\"node42\" class=\"node\">\n<title>41</title>\n<path fill=\"#fae9dc\" stroke=\"#000000\" d=\"M1246,-1405C1246,-1405 1154,-1405 1154,-1405 1148,-1405 1142,-1399 1142,-1393 1142,-1393 1142,-1349 1142,-1349 1142,-1343 1148,-1337 1154,-1337 1154,-1337 1246,-1337 1246,-1337 1252,-1337 1258,-1343 1258,-1349 1258,-1349 1258,-1393 1258,-1393 1258,-1399 1252,-1405 1246,-1405\"/>\n<text text-anchor=\"middle\" x=\"1200\" y=\"-1389.8\" font-family=\"Helvetica,sans-Serif\" font-size=\"14.00\" fill=\"#000000\">x2 &lt;= &#45;38.955</text>\n<text text-anchor=\"middle\" x=\"1200\" y=\"-1374.8\" font-family=\"Helvetica,sans-Serif\" font-size=\"14.00\" fill=\"#000000\">gini = 0.495</text>\n<text text-anchor=\"middle\" x=\"1200\" y=\"-1359.8\" font-family=\"Helvetica,sans-Serif\" font-size=\"14.00\" fill=\"#000000\">samples = 104</text>\n<text text-anchor=\"middle\" x=\"1200\" y=\"-1344.8\" font-family=\"Helvetica,sans-Serif\" font-size=\"14.00\" fill=\"#000000\">value = [57, 47]</text>\n</g>\n<!-- 27&#45;&gt;41 -->\n<g id=\"edge41\" class=\"edge\">\n<title>27&#45;&gt;41</title>\n<path fill=\"none\" stroke=\"#000000\" d=\"M1200,-1440.9465C1200,-1432.776 1200,-1423.9318 1200,-1415.3697\"/>\n<polygon fill=\"#000000\" stroke=\"#000000\" points=\"1203.5001,-1415.13 1200,-1405.13 1196.5001,-1415.13 1203.5001,-1415.13\"/>\n</g>\n<!-- 29 -->\n<g id=\"node30\" class=\"node\">\n<title>29</title>\n<path fill=\"#f2c09c\" stroke=\"#000000\" d=\"M699,-1301C699,-1301 617,-1301 617,-1301 611,-1301 605,-1295 605,-1289 605,-1289 605,-1245 605,-1245 605,-1239 611,-1233 617,-1233 617,-1233 699,-1233 699,-1233 705,-1233 711,-1239 711,-1245 711,-1245 711,-1289 711,-1289 711,-1295 705,-1301 699,-1301\"/>\n<text text-anchor=\"middle\" x=\"658\" y=\"-1285.8\" font-family=\"Helvetica,sans-Serif\" font-size=\"14.00\" fill=\"#000000\">x1 &lt;= &#45;34.552</text>\n<text text-anchor=\"middle\" x=\"658\" y=\"-1270.8\" font-family=\"Helvetica,sans-Serif\" font-size=\"14.00\" fill=\"#000000\">gini = 0.444</text>\n<text text-anchor=\"middle\" x=\"658\" y=\"-1255.8\" font-family=\"Helvetica,sans-Serif\" font-size=\"14.00\" fill=\"#000000\">samples = 3</text>\n<text text-anchor=\"middle\" x=\"658\" y=\"-1240.8\" font-family=\"Helvetica,sans-Serif\" font-size=\"14.00\" fill=\"#000000\">value = [2, 1]</text>\n</g>\n<!-- 28&#45;&gt;29 -->\n<g id=\"edge29\" class=\"edge\">\n<title>28&#45;&gt;29</title>\n<path fill=\"none\" stroke=\"#000000\" d=\"M790.2011,-1340.9189C768.2266,-1328.6321 742.678,-1314.3469 719.9311,-1301.6282\"/>\n<polygon fill=\"#000000\" stroke=\"#000000\" points=\"721.4721,-1298.4798 711.0357,-1296.6544 718.0558,-1304.5896 721.4721,-1298.4798\"/>\n</g>\n<!-- 32 -->\n<g id=\"node33\" class=\"node\">\n<title>32</title>\n<path fill=\"#5aade9\" stroke=\"#000000\" d=\"M885.5,-1301C885.5,-1301 802.5,-1301 802.5,-1301 796.5,-1301 790.5,-1295 790.5,-1289 790.5,-1289 790.5,-1245 790.5,-1245 790.5,-1239 796.5,-1233 802.5,-1233 802.5,-1233 885.5,-1233 885.5,-1233 891.5,-1233 897.5,-1239 897.5,-1245 897.5,-1245 897.5,-1289 897.5,-1289 897.5,-1295 891.5,-1301 885.5,-1301\"/>\n<text text-anchor=\"middle\" x=\"844\" y=\"-1285.8\" font-family=\"Helvetica,sans-Serif\" font-size=\"14.00\" fill=\"#000000\">x1 &lt;= &#45;29.839</text>\n<text text-anchor=\"middle\" x=\"844\" y=\"-1270.8\" font-family=\"Helvetica,sans-Serif\" font-size=\"14.00\" fill=\"#000000\">gini = 0.245</text>\n<text text-anchor=\"middle\" x=\"844\" y=\"-1255.8\" font-family=\"Helvetica,sans-Serif\" font-size=\"14.00\" fill=\"#000000\">samples = 14</text>\n<text text-anchor=\"middle\" x=\"844\" y=\"-1240.8\" font-family=\"Helvetica,sans-Serif\" font-size=\"14.00\" fill=\"#000000\">value = [2, 12]</text>\n</g>\n<!-- 28&#45;&gt;32 -->\n<g id=\"edge32\" class=\"edge\">\n<title>28&#45;&gt;32</title>\n<path fill=\"none\" stroke=\"#000000\" d=\"M844,-1336.9465C844,-1328.776 844,-1319.9318 844,-1311.3697\"/>\n<polygon fill=\"#000000\" stroke=\"#000000\" points=\"847.5001,-1311.13 844,-1301.13 840.5001,-1311.13 847.5001,-1311.13\"/>\n</g>\n<!-- 30 -->\n<g id=\"node31\" class=\"node\">\n<title>30</title>\n<path fill=\"#e58139\" stroke=\"#000000\" d=\"M578.5,-1189.5C578.5,-1189.5 503.5,-1189.5 503.5,-1189.5 497.5,-1189.5 491.5,-1183.5 491.5,-1177.5 491.5,-1177.5 491.5,-1148.5 491.5,-1148.5 491.5,-1142.5 497.5,-1136.5 503.5,-1136.5 503.5,-1136.5 578.5,-1136.5 578.5,-1136.5 584.5,-1136.5 590.5,-1142.5 590.5,-1148.5 590.5,-1148.5 590.5,-1177.5 590.5,-1177.5 590.5,-1183.5 584.5,-1189.5 578.5,-1189.5\"/>\n<text text-anchor=\"middle\" x=\"541\" y=\"-1174.3\" font-family=\"Helvetica,sans-Serif\" font-size=\"14.00\" fill=\"#000000\">gini = 0.0</text>\n<text text-anchor=\"middle\" x=\"541\" y=\"-1159.3\" font-family=\"Helvetica,sans-Serif\" font-size=\"14.00\" fill=\"#000000\">samples = 2</text>\n<text text-anchor=\"middle\" x=\"541\" y=\"-1144.3\" font-family=\"Helvetica,sans-Serif\" font-size=\"14.00\" fill=\"#000000\">value = [2, 0]</text>\n</g>\n<!-- 29&#45;&gt;30 -->\n<g id=\"edge30\" class=\"edge\">\n<title>29&#45;&gt;30</title>\n<path fill=\"none\" stroke=\"#000000\" d=\"M619.6898,-1232.9465C606.4306,-1221.1606 591.5942,-1207.9726 578.4084,-1196.2519\"/>\n<polygon fill=\"#000000\" stroke=\"#000000\" points=\"580.6593,-1193.5699 570.8599,-1189.5422 576.0088,-1198.8018 580.6593,-1193.5699\"/>\n</g>\n<!-- 31 -->\n<g id=\"node32\" class=\"node\">\n<title>31</title>\n<path fill=\"#399de5\" stroke=\"#000000\" d=\"M695.5,-1189.5C695.5,-1189.5 620.5,-1189.5 620.5,-1189.5 614.5,-1189.5 608.5,-1183.5 608.5,-1177.5 608.5,-1177.5 608.5,-1148.5 608.5,-1148.5 608.5,-1142.5 614.5,-1136.5 620.5,-1136.5 620.5,-1136.5 695.5,-1136.5 695.5,-1136.5 701.5,-1136.5 707.5,-1142.5 707.5,-1148.5 707.5,-1148.5 707.5,-1177.5 707.5,-1177.5 707.5,-1183.5 701.5,-1189.5 695.5,-1189.5\"/>\n<text text-anchor=\"middle\" x=\"658\" y=\"-1174.3\" font-family=\"Helvetica,sans-Serif\" font-size=\"14.00\" fill=\"#000000\">gini = 0.0</text>\n<text text-anchor=\"middle\" x=\"658\" y=\"-1159.3\" font-family=\"Helvetica,sans-Serif\" font-size=\"14.00\" fill=\"#000000\">samples = 1</text>\n<text text-anchor=\"middle\" x=\"658\" y=\"-1144.3\" font-family=\"Helvetica,sans-Serif\" font-size=\"14.00\" fill=\"#000000\">value = [0, 1]</text>\n</g>\n<!-- 29&#45;&gt;31 -->\n<g id=\"edge31\" class=\"edge\">\n<title>29&#45;&gt;31</title>\n<path fill=\"none\" stroke=\"#000000\" d=\"M658,-1232.9465C658,-1222.2621 658,-1210.4254 658,-1199.5742\"/>\n<polygon fill=\"#000000\" stroke=\"#000000\" points=\"661.5001,-1199.5421 658,-1189.5422 654.5001,-1199.5422 661.5001,-1199.5421\"/>\n</g>\n<!-- 33 -->\n<g id=\"node34\" class=\"node\">\n<title>33</title>\n<path fill=\"#4ba6e7\" stroke=\"#000000\" d=\"M820.5,-1197C820.5,-1197 737.5,-1197 737.5,-1197 731.5,-1197 725.5,-1191 725.5,-1185 725.5,-1185 725.5,-1141 725.5,-1141 725.5,-1135 731.5,-1129 737.5,-1129 737.5,-1129 820.5,-1129 820.5,-1129 826.5,-1129 832.5,-1135 832.5,-1141 832.5,-1141 832.5,-1185 832.5,-1185 832.5,-1191 826.5,-1197 820.5,-1197\"/>\n<text text-anchor=\"middle\" x=\"779\" y=\"-1181.8\" font-family=\"Helvetica,sans-Serif\" font-size=\"14.00\" fill=\"#000000\">x2 &lt;= &#45;14.467</text>\n<text text-anchor=\"middle\" x=\"779\" y=\"-1166.8\" font-family=\"Helvetica,sans-Serif\" font-size=\"14.00\" fill=\"#000000\">gini = 0.153</text>\n<text text-anchor=\"middle\" x=\"779\" y=\"-1151.8\" font-family=\"Helvetica,sans-Serif\" font-size=\"14.00\" fill=\"#000000\">samples = 12</text>\n<text text-anchor=\"middle\" x=\"779\" y=\"-1136.8\" font-family=\"Helvetica,sans-Serif\" font-size=\"14.00\" fill=\"#000000\">value = [1, 11]</text>\n</g>\n<!-- 32&#45;&gt;33 -->\n<g id=\"edge33\" class=\"edge\">\n<title>32&#45;&gt;33</title>\n<path fill=\"none\" stroke=\"#000000\" d=\"M822.7166,-1232.9465C817.2733,-1224.2373 811.3516,-1214.7626 805.675,-1205.6801\"/>\n<polygon fill=\"#000000\" stroke=\"#000000\" points=\"808.5993,-1203.755 800.3312,-1197.13 802.6633,-1207.465 808.5993,-1203.755\"/>\n</g>\n<!-- 38 -->\n<g id=\"node39\" class=\"node\">\n<title>38</title>\n<path fill=\"#ffffff\" stroke=\"#000000\" d=\"M945,-1197C945,-1197 863,-1197 863,-1197 857,-1197 851,-1191 851,-1185 851,-1185 851,-1141 851,-1141 851,-1135 857,-1129 863,-1129 863,-1129 945,-1129 945,-1129 951,-1129 957,-1135 957,-1141 957,-1141 957,-1185 957,-1185 957,-1191 951,-1197 945,-1197\"/>\n<text text-anchor=\"middle\" x=\"904\" y=\"-1181.8\" font-family=\"Helvetica,sans-Serif\" font-size=\"14.00\" fill=\"#000000\">x2 &lt;= &#45;18.904</text>\n<text text-anchor=\"middle\" x=\"904\" y=\"-1166.8\" font-family=\"Helvetica,sans-Serif\" font-size=\"14.00\" fill=\"#000000\">gini = 0.5</text>\n<text text-anchor=\"middle\" x=\"904\" y=\"-1151.8\" font-family=\"Helvetica,sans-Serif\" font-size=\"14.00\" fill=\"#000000\">samples = 2</text>\n<text text-anchor=\"middle\" x=\"904\" y=\"-1136.8\" font-family=\"Helvetica,sans-Serif\" font-size=\"14.00\" fill=\"#000000\">value = [1, 1]</text>\n</g>\n<!-- 32&#45;&gt;38 -->\n<g id=\"edge38\" class=\"edge\">\n<title>32&#45;&gt;38</title>\n<path fill=\"none\" stroke=\"#000000\" d=\"M863.6462,-1232.9465C868.619,-1224.3271 874.0243,-1214.9579 879.2148,-1205.9611\"/>\n<polygon fill=\"#000000\" stroke=\"#000000\" points=\"882.344,-1207.5409 884.3096,-1197.13 876.2807,-1204.0428 882.344,-1207.5409\"/>\n</g>\n<!-- 34 -->\n<g id=\"node35\" class=\"node\">\n<title>34</title>\n<path fill=\"#399de5\" stroke=\"#000000\" d=\"M700.5,-1085.5C700.5,-1085.5 625.5,-1085.5 625.5,-1085.5 619.5,-1085.5 613.5,-1079.5 613.5,-1073.5 613.5,-1073.5 613.5,-1044.5 613.5,-1044.5 613.5,-1038.5 619.5,-1032.5 625.5,-1032.5 625.5,-1032.5 700.5,-1032.5 700.5,-1032.5 706.5,-1032.5 712.5,-1038.5 712.5,-1044.5 712.5,-1044.5 712.5,-1073.5 712.5,-1073.5 712.5,-1079.5 706.5,-1085.5 700.5,-1085.5\"/>\n<text text-anchor=\"middle\" x=\"663\" y=\"-1070.3\" font-family=\"Helvetica,sans-Serif\" font-size=\"14.00\" fill=\"#000000\">gini = 0.0</text>\n<text text-anchor=\"middle\" x=\"663\" y=\"-1055.3\" font-family=\"Helvetica,sans-Serif\" font-size=\"14.00\" fill=\"#000000\">samples = 6</text>\n<text text-anchor=\"middle\" x=\"663\" y=\"-1040.3\" font-family=\"Helvetica,sans-Serif\" font-size=\"14.00\" fill=\"#000000\">value = [0, 6]</text>\n</g>\n<!-- 33&#45;&gt;34 -->\n<g id=\"edge34\" class=\"edge\">\n<title>33&#45;&gt;34</title>\n<path fill=\"none\" stroke=\"#000000\" d=\"M741.0173,-1128.9465C727.8714,-1117.1606 713.1618,-1103.9726 700.0887,-1092.2519\"/>\n<polygon fill=\"#000000\" stroke=\"#000000\" points=\"702.3869,-1089.6116 692.6047,-1085.5422 697.714,-1094.8236 702.3869,-1089.6116\"/>\n</g>\n<!-- 35 -->\n<g id=\"node36\" class=\"node\">\n<title>35</title>\n<path fill=\"#61b1ea\" stroke=\"#000000\" d=\"M817.5,-1093C817.5,-1093 742.5,-1093 742.5,-1093 736.5,-1093 730.5,-1087 730.5,-1081 730.5,-1081 730.5,-1037 730.5,-1037 730.5,-1031 736.5,-1025 742.5,-1025 742.5,-1025 817.5,-1025 817.5,-1025 823.5,-1025 829.5,-1031 829.5,-1037 829.5,-1037 829.5,-1081 829.5,-1081 829.5,-1087 823.5,-1093 817.5,-1093\"/>\n<text text-anchor=\"middle\" x=\"780\" y=\"-1077.8\" font-family=\"Helvetica,sans-Serif\" font-size=\"14.00\" fill=\"#000000\">x2 &lt;= &#45;13.48</text>\n<text text-anchor=\"middle\" x=\"780\" y=\"-1062.8\" font-family=\"Helvetica,sans-Serif\" font-size=\"14.00\" fill=\"#000000\">gini = 0.278</text>\n<text text-anchor=\"middle\" x=\"780\" y=\"-1047.8\" font-family=\"Helvetica,sans-Serif\" font-size=\"14.00\" fill=\"#000000\">samples = 6</text>\n<text text-anchor=\"middle\" x=\"780\" y=\"-1032.8\" font-family=\"Helvetica,sans-Serif\" font-size=\"14.00\" fill=\"#000000\">value = [1, 5]</text>\n</g>\n<!-- 33&#45;&gt;35 -->\n<g id=\"edge35\" class=\"edge\">\n<title>33&#45;&gt;35</title>\n<path fill=\"none\" stroke=\"#000000\" d=\"M779.3274,-1128.9465C779.406,-1120.776 779.491,-1111.9318 779.5734,-1103.3697\"/>\n<polygon fill=\"#000000\" stroke=\"#000000\" points=\"783.0754,-1103.1632 779.6718,-1093.13 776.0757,-1103.0958 783.0754,-1103.1632\"/>\n</g>\n<!-- 36 -->\n<g id=\"node37\" class=\"node\">\n<title>36</title>\n<path fill=\"#e58139\" stroke=\"#000000\" d=\"M759.5,-981.5C759.5,-981.5 684.5,-981.5 684.5,-981.5 678.5,-981.5 672.5,-975.5 672.5,-969.5 672.5,-969.5 672.5,-940.5 672.5,-940.5 672.5,-934.5 678.5,-928.5 684.5,-928.5 684.5,-928.5 759.5,-928.5 759.5,-928.5 765.5,-928.5 771.5,-934.5 771.5,-940.5 771.5,-940.5 771.5,-969.5 771.5,-969.5 771.5,-975.5 765.5,-981.5 759.5,-981.5\"/>\n<text text-anchor=\"middle\" x=\"722\" y=\"-966.3\" font-family=\"Helvetica,sans-Serif\" font-size=\"14.00\" fill=\"#000000\">gini = 0.0</text>\n<text text-anchor=\"middle\" x=\"722\" y=\"-951.3\" font-family=\"Helvetica,sans-Serif\" font-size=\"14.00\" fill=\"#000000\">samples = 1</text>\n<text text-anchor=\"middle\" x=\"722\" y=\"-936.3\" font-family=\"Helvetica,sans-Serif\" font-size=\"14.00\" fill=\"#000000\">value = [1, 0]</text>\n</g>\n<!-- 35&#45;&gt;36 -->\n<g id=\"edge36\" class=\"edge\">\n<title>35&#45;&gt;36</title>\n<path fill=\"none\" stroke=\"#000000\" d=\"M761.0086,-1024.9465C754.8657,-1013.9316 748.0399,-1001.6922 741.8373,-990.5703\"/>\n<polygon fill=\"#000000\" stroke=\"#000000\" points=\"744.7299,-988.5711 736.8024,-981.5422 738.6163,-991.9806 744.7299,-988.5711\"/>\n</g>\n<!-- 37 -->\n<g id=\"node38\" class=\"node\">\n<title>37</title>\n<path fill=\"#399de5\" stroke=\"#000000\" d=\"M876.5,-981.5C876.5,-981.5 801.5,-981.5 801.5,-981.5 795.5,-981.5 789.5,-975.5 789.5,-969.5 789.5,-969.5 789.5,-940.5 789.5,-940.5 789.5,-934.5 795.5,-928.5 801.5,-928.5 801.5,-928.5 876.5,-928.5 876.5,-928.5 882.5,-928.5 888.5,-934.5 888.5,-940.5 888.5,-940.5 888.5,-969.5 888.5,-969.5 888.5,-975.5 882.5,-981.5 876.5,-981.5\"/>\n<text text-anchor=\"middle\" x=\"839\" y=\"-966.3\" font-family=\"Helvetica,sans-Serif\" font-size=\"14.00\" fill=\"#000000\">gini = 0.0</text>\n<text text-anchor=\"middle\" x=\"839\" y=\"-951.3\" font-family=\"Helvetica,sans-Serif\" font-size=\"14.00\" fill=\"#000000\">samples = 5</text>\n<text text-anchor=\"middle\" x=\"839\" y=\"-936.3\" font-family=\"Helvetica,sans-Serif\" font-size=\"14.00\" fill=\"#000000\">value = [0, 5]</text>\n</g>\n<!-- 35&#45;&gt;37 -->\n<g id=\"edge37\" class=\"edge\">\n<title>35&#45;&gt;37</title>\n<path fill=\"none\" stroke=\"#000000\" d=\"M799.3188,-1024.9465C805.5676,-1013.9316 812.5112,-1001.6922 818.8207,-990.5703\"/>\n<polygon fill=\"#000000\" stroke=\"#000000\" points=\"822.0523,-991.967 823.9424,-981.5422 815.9638,-988.513 822.0523,-991.967\"/>\n</g>\n<!-- 39 -->\n<g id=\"node40\" class=\"node\">\n<title>39</title>\n<path fill=\"#e58139\" stroke=\"#000000\" d=\"M935.5,-1085.5C935.5,-1085.5 860.5,-1085.5 860.5,-1085.5 854.5,-1085.5 848.5,-1079.5 848.5,-1073.5 848.5,-1073.5 848.5,-1044.5 848.5,-1044.5 848.5,-1038.5 854.5,-1032.5 860.5,-1032.5 860.5,-1032.5 935.5,-1032.5 935.5,-1032.5 941.5,-1032.5 947.5,-1038.5 947.5,-1044.5 947.5,-1044.5 947.5,-1073.5 947.5,-1073.5 947.5,-1079.5 941.5,-1085.5 935.5,-1085.5\"/>\n<text text-anchor=\"middle\" x=\"898\" y=\"-1070.3\" font-family=\"Helvetica,sans-Serif\" font-size=\"14.00\" fill=\"#000000\">gini = 0.0</text>\n<text text-anchor=\"middle\" x=\"898\" y=\"-1055.3\" font-family=\"Helvetica,sans-Serif\" font-size=\"14.00\" fill=\"#000000\">samples = 1</text>\n<text text-anchor=\"middle\" x=\"898\" y=\"-1040.3\" font-family=\"Helvetica,sans-Serif\" font-size=\"14.00\" fill=\"#000000\">value = [1, 0]</text>\n</g>\n<!-- 38&#45;&gt;39 -->\n<g id=\"edge39\" class=\"edge\">\n<title>38&#45;&gt;39</title>\n<path fill=\"none\" stroke=\"#000000\" d=\"M902.0354,-1128.9465C901.419,-1118.2621 900.7361,-1106.4254 900.1101,-1095.5742\"/>\n<polygon fill=\"#000000\" stroke=\"#000000\" points=\"903.6015,-1095.3239 899.5313,-1085.5422 896.6131,-1095.7272 903.6015,-1095.3239\"/>\n</g>\n<!-- 40 -->\n<g id=\"node41\" class=\"node\">\n<title>40</title>\n<path fill=\"#399de5\" stroke=\"#000000\" d=\"M1052.5,-1085.5C1052.5,-1085.5 977.5,-1085.5 977.5,-1085.5 971.5,-1085.5 965.5,-1079.5 965.5,-1073.5 965.5,-1073.5 965.5,-1044.5 965.5,-1044.5 965.5,-1038.5 971.5,-1032.5 977.5,-1032.5 977.5,-1032.5 1052.5,-1032.5 1052.5,-1032.5 1058.5,-1032.5 1064.5,-1038.5 1064.5,-1044.5 1064.5,-1044.5 1064.5,-1073.5 1064.5,-1073.5 1064.5,-1079.5 1058.5,-1085.5 1052.5,-1085.5\"/>\n<text text-anchor=\"middle\" x=\"1015\" y=\"-1070.3\" font-family=\"Helvetica,sans-Serif\" font-size=\"14.00\" fill=\"#000000\">gini = 0.0</text>\n<text text-anchor=\"middle\" x=\"1015\" y=\"-1055.3\" font-family=\"Helvetica,sans-Serif\" font-size=\"14.00\" fill=\"#000000\">samples = 1</text>\n<text text-anchor=\"middle\" x=\"1015\" y=\"-1040.3\" font-family=\"Helvetica,sans-Serif\" font-size=\"14.00\" fill=\"#000000\">value = [0, 1]</text>\n</g>\n<!-- 38&#45;&gt;40 -->\n<g id=\"edge40\" class=\"edge\">\n<title>38&#45;&gt;40</title>\n<path fill=\"none\" stroke=\"#000000\" d=\"M940.3456,-1128.9465C952.8072,-1117.2707 966.7374,-1104.219 979.1588,-1092.5809\"/>\n<polygon fill=\"#000000\" stroke=\"#000000\" points=\"981.7669,-1094.9335 986.6713,-1085.5422 976.9809,-1089.8253 981.7669,-1094.9335\"/>\n</g>\n<!-- 42 -->\n<g id=\"node43\" class=\"node\">\n<title>42</title>\n<path fill=\"#6ab6ec\" stroke=\"#000000\" d=\"M1176.5,-1301C1176.5,-1301 1101.5,-1301 1101.5,-1301 1095.5,-1301 1089.5,-1295 1089.5,-1289 1089.5,-1289 1089.5,-1245 1089.5,-1245 1089.5,-1239 1095.5,-1233 1101.5,-1233 1101.5,-1233 1176.5,-1233 1176.5,-1233 1182.5,-1233 1188.5,-1239 1188.5,-1245 1188.5,-1245 1188.5,-1289 1188.5,-1289 1188.5,-1295 1182.5,-1301 1176.5,-1301\"/>\n<text text-anchor=\"middle\" x=\"1139\" y=\"-1285.8\" font-family=\"Helvetica,sans-Serif\" font-size=\"14.00\" fill=\"#000000\">x1 &lt;= &#45;5.894</text>\n<text text-anchor=\"middle\" x=\"1139\" y=\"-1270.8\" font-family=\"Helvetica,sans-Serif\" font-size=\"14.00\" fill=\"#000000\">gini = 0.32</text>\n<text text-anchor=\"middle\" x=\"1139\" y=\"-1255.8\" font-family=\"Helvetica,sans-Serif\" font-size=\"14.00\" fill=\"#000000\">samples = 5</text>\n<text text-anchor=\"middle\" x=\"1139\" y=\"-1240.8\" font-family=\"Helvetica,sans-Serif\" font-size=\"14.00\" fill=\"#000000\">value = [1, 4]</text>\n</g>\n<!-- 41&#45;&gt;42 -->\n<g id=\"edge42\" class=\"edge\">\n<title>41&#45;&gt;42</title>\n<path fill=\"none\" stroke=\"#000000\" d=\"M1180.0263,-1336.9465C1174.9707,-1328.3271 1169.4753,-1318.9579 1164.1983,-1309.9611\"/>\n<polygon fill=\"#000000\" stroke=\"#000000\" points=\"1167.0969,-1307.985 1159.0186,-1301.13 1161.0589,-1311.5265 1167.0969,-1307.985\"/>\n</g>\n<!-- 45 -->\n<g id=\"node46\" class=\"node\">\n<title>45</title>\n<path fill=\"#f9e2d1\" stroke=\"#000000\" d=\"M1311,-1301C1311,-1301 1219,-1301 1219,-1301 1213,-1301 1207,-1295 1207,-1289 1207,-1289 1207,-1245 1207,-1245 1207,-1239 1213,-1233 1219,-1233 1219,-1233 1311,-1233 1311,-1233 1317,-1233 1323,-1239 1323,-1245 1323,-1245 1323,-1289 1323,-1289 1323,-1295 1317,-1301 1311,-1301\"/>\n<text text-anchor=\"middle\" x=\"1265\" y=\"-1285.8\" font-family=\"Helvetica,sans-Serif\" font-size=\"14.00\" fill=\"#000000\">x2 &lt;= &#45;28.987</text>\n<text text-anchor=\"middle\" x=\"1265\" y=\"-1270.8\" font-family=\"Helvetica,sans-Serif\" font-size=\"14.00\" fill=\"#000000\">gini = 0.491</text>\n<text text-anchor=\"middle\" x=\"1265\" y=\"-1255.8\" font-family=\"Helvetica,sans-Serif\" font-size=\"14.00\" fill=\"#000000\">samples = 99</text>\n<text text-anchor=\"middle\" x=\"1265\" y=\"-1240.8\" font-family=\"Helvetica,sans-Serif\" font-size=\"14.00\" fill=\"#000000\">value = [56, 43]</text>\n</g>\n<!-- 41&#45;&gt;45 -->\n<g id=\"edge45\" class=\"edge\">\n<title>41&#45;&gt;45</title>\n<path fill=\"none\" stroke=\"#000000\" d=\"M1221.2834,-1336.9465C1226.7267,-1328.2373 1232.6484,-1318.7626 1238.325,-1309.6801\"/>\n<polygon fill=\"#000000\" stroke=\"#000000\" points=\"1241.3367,-1311.465 1243.6688,-1301.13 1235.4007,-1307.755 1241.3367,-1311.465\"/>\n</g>\n<!-- 43 -->\n<g id=\"node44\" class=\"node\">\n<title>43</title>\n<path fill=\"#399de5\" stroke=\"#000000\" d=\"M1062.5,-1189.5C1062.5,-1189.5 987.5,-1189.5 987.5,-1189.5 981.5,-1189.5 975.5,-1183.5 975.5,-1177.5 975.5,-1177.5 975.5,-1148.5 975.5,-1148.5 975.5,-1142.5 981.5,-1136.5 987.5,-1136.5 987.5,-1136.5 1062.5,-1136.5 1062.5,-1136.5 1068.5,-1136.5 1074.5,-1142.5 1074.5,-1148.5 1074.5,-1148.5 1074.5,-1177.5 1074.5,-1177.5 1074.5,-1183.5 1068.5,-1189.5 1062.5,-1189.5\"/>\n<text text-anchor=\"middle\" x=\"1025\" y=\"-1174.3\" font-family=\"Helvetica,sans-Serif\" font-size=\"14.00\" fill=\"#000000\">gini = 0.0</text>\n<text text-anchor=\"middle\" x=\"1025\" y=\"-1159.3\" font-family=\"Helvetica,sans-Serif\" font-size=\"14.00\" fill=\"#000000\">samples = 4</text>\n<text text-anchor=\"middle\" x=\"1025\" y=\"-1144.3\" font-family=\"Helvetica,sans-Serif\" font-size=\"14.00\" fill=\"#000000\">value = [0, 4]</text>\n</g>\n<!-- 42&#45;&gt;43 -->\n<g id=\"edge43\" class=\"edge\">\n<title>42&#45;&gt;43</title>\n<path fill=\"none\" stroke=\"#000000\" d=\"M1101.6721,-1232.9465C1088.8737,-1221.2707 1074.567,-1208.219 1061.8099,-1196.5809\"/>\n<polygon fill=\"#000000\" stroke=\"#000000\" points=\"1063.8409,-1193.6961 1054.0943,-1189.5422 1059.1231,-1198.8675 1063.8409,-1193.6961\"/>\n</g>\n<!-- 44 -->\n<g id=\"node45\" class=\"node\">\n<title>44</title>\n<path fill=\"#e58139\" stroke=\"#000000\" d=\"M1179.5,-1189.5C1179.5,-1189.5 1104.5,-1189.5 1104.5,-1189.5 1098.5,-1189.5 1092.5,-1183.5 1092.5,-1177.5 1092.5,-1177.5 1092.5,-1148.5 1092.5,-1148.5 1092.5,-1142.5 1098.5,-1136.5 1104.5,-1136.5 1104.5,-1136.5 1179.5,-1136.5 1179.5,-1136.5 1185.5,-1136.5 1191.5,-1142.5 1191.5,-1148.5 1191.5,-1148.5 1191.5,-1177.5 1191.5,-1177.5 1191.5,-1183.5 1185.5,-1189.5 1179.5,-1189.5\"/>\n<text text-anchor=\"middle\" x=\"1142\" y=\"-1174.3\" font-family=\"Helvetica,sans-Serif\" font-size=\"14.00\" fill=\"#000000\">gini = 0.0</text>\n<text text-anchor=\"middle\" x=\"1142\" y=\"-1159.3\" font-family=\"Helvetica,sans-Serif\" font-size=\"14.00\" fill=\"#000000\">samples = 1</text>\n<text text-anchor=\"middle\" x=\"1142\" y=\"-1144.3\" font-family=\"Helvetica,sans-Serif\" font-size=\"14.00\" fill=\"#000000\">value = [1, 0]</text>\n</g>\n<!-- 42&#45;&gt;44 -->\n<g id=\"edge44\" class=\"edge\">\n<title>42&#45;&gt;44</title>\n<path fill=\"none\" stroke=\"#000000\" d=\"M1139.9823,-1232.9465C1140.2905,-1222.2621 1140.632,-1210.4254 1140.945,-1199.5742\"/>\n<polygon fill=\"#000000\" stroke=\"#000000\" points=\"1144.4445,-1199.639 1141.2344,-1189.5422 1137.4474,-1199.4371 1144.4445,-1199.639\"/>\n</g>\n<!-- 46 -->\n<g id=\"node47\" class=\"node\">\n<title>46</title>\n<path fill=\"#f1b991\" stroke=\"#000000\" d=\"M1304.5,-1197C1304.5,-1197 1221.5,-1197 1221.5,-1197 1215.5,-1197 1209.5,-1191 1209.5,-1185 1209.5,-1185 1209.5,-1141 1209.5,-1141 1209.5,-1135 1215.5,-1129 1221.5,-1129 1221.5,-1129 1304.5,-1129 1304.5,-1129 1310.5,-1129 1316.5,-1135 1316.5,-1141 1316.5,-1141 1316.5,-1185 1316.5,-1185 1316.5,-1191 1310.5,-1197 1304.5,-1197\"/>\n<text text-anchor=\"middle\" x=\"1263\" y=\"-1181.8\" font-family=\"Helvetica,sans-Serif\" font-size=\"14.00\" fill=\"#000000\">x1 &lt;= &#45;5.649</text>\n<text text-anchor=\"middle\" x=\"1263\" y=\"-1166.8\" font-family=\"Helvetica,sans-Serif\" font-size=\"14.00\" fill=\"#000000\">gini = 0.426</text>\n<text text-anchor=\"middle\" x=\"1263\" y=\"-1151.8\" font-family=\"Helvetica,sans-Serif\" font-size=\"14.00\" fill=\"#000000\">samples = 26</text>\n<text text-anchor=\"middle\" x=\"1263\" y=\"-1136.8\" font-family=\"Helvetica,sans-Serif\" font-size=\"14.00\" fill=\"#000000\">value = [18, 8]</text>\n</g>\n<!-- 45&#45;&gt;46 -->\n<g id=\"edge46\" class=\"edge\">\n<title>45&#45;&gt;46</title>\n<path fill=\"none\" stroke=\"#000000\" d=\"M1264.3451,-1232.9465C1264.188,-1224.776 1264.0179,-1215.9318 1263.8533,-1207.3697\"/>\n<polygon fill=\"#000000\" stroke=\"#000000\" points=\"1267.3481,-1207.0608 1263.6563,-1197.13 1260.3494,-1207.1955 1267.3481,-1207.0608\"/>\n</g>\n<!-- 57 -->\n<g id=\"node58\" class=\"node\">\n<title>57</title>\n<path fill=\"#fdf5ef\" stroke=\"#000000\" d=\"M1439,-1197C1439,-1197 1347,-1197 1347,-1197 1341,-1197 1335,-1191 1335,-1185 1335,-1185 1335,-1141 1335,-1141 1335,-1135 1341,-1129 1347,-1129 1347,-1129 1439,-1129 1439,-1129 1445,-1129 1451,-1135 1451,-1141 1451,-1141 1451,-1185 1451,-1185 1451,-1191 1445,-1197 1439,-1197\"/>\n<text text-anchor=\"middle\" x=\"1393\" y=\"-1181.8\" font-family=\"Helvetica,sans-Serif\" font-size=\"14.00\" fill=\"#000000\">x1 &lt;= 2.073</text>\n<text text-anchor=\"middle\" x=\"1393\" y=\"-1166.8\" font-family=\"Helvetica,sans-Serif\" font-size=\"14.00\" fill=\"#000000\">gini = 0.499</text>\n<text text-anchor=\"middle\" x=\"1393\" y=\"-1151.8\" font-family=\"Helvetica,sans-Serif\" font-size=\"14.00\" fill=\"#000000\">samples = 73</text>\n<text text-anchor=\"middle\" x=\"1393\" y=\"-1136.8\" font-family=\"Helvetica,sans-Serif\" font-size=\"14.00\" fill=\"#000000\">value = [38, 35]</text>\n</g>\n<!-- 45&#45;&gt;57 -->\n<g id=\"edge57\" class=\"edge\">\n<title>45&#45;&gt;57</title>\n<path fill=\"none\" stroke=\"#000000\" d=\"M1306.912,-1232.9465C1318.515,-1223.519 1331.2221,-1213.1946 1343.2259,-1203.4415\"/>\n<polygon fill=\"#000000\" stroke=\"#000000\" points=\"1345.4398,-1206.1524 1350.9939,-1197.13 1341.0256,-1200.7196 1345.4398,-1206.1524\"/>\n</g>\n<!-- 47 -->\n<g id=\"node48\" class=\"node\">\n<title>47</title>\n<path fill=\"#e58139\" stroke=\"#000000\" d=\"M1179.5,-1085.5C1179.5,-1085.5 1096.5,-1085.5 1096.5,-1085.5 1090.5,-1085.5 1084.5,-1079.5 1084.5,-1073.5 1084.5,-1073.5 1084.5,-1044.5 1084.5,-1044.5 1084.5,-1038.5 1090.5,-1032.5 1096.5,-1032.5 1096.5,-1032.5 1179.5,-1032.5 1179.5,-1032.5 1185.5,-1032.5 1191.5,-1038.5 1191.5,-1044.5 1191.5,-1044.5 1191.5,-1073.5 1191.5,-1073.5 1191.5,-1079.5 1185.5,-1085.5 1179.5,-1085.5\"/>\n<text text-anchor=\"middle\" x=\"1138\" y=\"-1070.3\" font-family=\"Helvetica,sans-Serif\" font-size=\"14.00\" fill=\"#000000\">gini = 0.0</text>\n<text text-anchor=\"middle\" x=\"1138\" y=\"-1055.3\" font-family=\"Helvetica,sans-Serif\" font-size=\"14.00\" fill=\"#000000\">samples = 15</text>\n<text text-anchor=\"middle\" x=\"1138\" y=\"-1040.3\" font-family=\"Helvetica,sans-Serif\" font-size=\"14.00\" fill=\"#000000\">value = [15, 0]</text>\n</g>\n<!-- 46&#45;&gt;47 -->\n<g id=\"edge47\" class=\"edge\">\n<title>46&#45;&gt;47</title>\n<path fill=\"none\" stroke=\"#000000\" d=\"M1222.0703,-1128.9465C1207.9045,-1117.1606 1192.0537,-1103.9726 1177.9662,-1092.2519\"/>\n<polygon fill=\"#000000\" stroke=\"#000000\" points=\"1179.8275,-1089.2474 1169.9016,-1085.5422 1175.3504,-1094.6285 1179.8275,-1089.2474\"/>\n</g>\n<!-- 48 -->\n<g id=\"node49\" class=\"node\">\n<title>48</title>\n<path fill=\"#83c2ef\" stroke=\"#000000\" d=\"M1302,-1093C1302,-1093 1222,-1093 1222,-1093 1216,-1093 1210,-1087 1210,-1081 1210,-1081 1210,-1037 1210,-1037 1210,-1031 1216,-1025 1222,-1025 1222,-1025 1302,-1025 1302,-1025 1308,-1025 1314,-1031 1314,-1037 1314,-1037 1314,-1081 1314,-1081 1314,-1087 1308,-1093 1302,-1093\"/>\n<text text-anchor=\"middle\" x=\"1262\" y=\"-1077.8\" font-family=\"Helvetica,sans-Serif\" font-size=\"14.00\" fill=\"#000000\">x1 &lt;= 20.7</text>\n<text text-anchor=\"middle\" x=\"1262\" y=\"-1062.8\" font-family=\"Helvetica,sans-Serif\" font-size=\"14.00\" fill=\"#000000\">gini = 0.397</text>\n<text text-anchor=\"middle\" x=\"1262\" y=\"-1047.8\" font-family=\"Helvetica,sans-Serif\" font-size=\"14.00\" fill=\"#000000\">samples = 11</text>\n<text text-anchor=\"middle\" x=\"1262\" y=\"-1032.8\" font-family=\"Helvetica,sans-Serif\" font-size=\"14.00\" fill=\"#000000\">value = [3, 8]</text>\n</g>\n<!-- 46&#45;&gt;48 -->\n<g id=\"edge48\" class=\"edge\">\n<title>46&#45;&gt;48</title>\n<path fill=\"none\" stroke=\"#000000\" d=\"M1262.6726,-1128.9465C1262.594,-1120.776 1262.509,-1111.9318 1262.4266,-1103.3697\"/>\n<polygon fill=\"#000000\" stroke=\"#000000\" points=\"1265.9243,-1103.0958 1262.3282,-1093.13 1258.9246,-1103.1632 1265.9243,-1103.0958\"/>\n</g>\n<!-- 49 -->\n<g id=\"node50\" class=\"node\">\n<title>49</title>\n<path fill=\"#6ab6ec\" stroke=\"#000000\" d=\"M1006,-989C1006,-989 924,-989 924,-989 918,-989 912,-983 912,-977 912,-977 912,-933 912,-933 912,-927 918,-921 924,-921 924,-921 1006,-921 1006,-921 1012,-921 1018,-927 1018,-933 1018,-933 1018,-977 1018,-977 1018,-983 1012,-989 1006,-989\"/>\n<text text-anchor=\"middle\" x=\"965\" y=\"-973.8\" font-family=\"Helvetica,sans-Serif\" font-size=\"14.00\" fill=\"#000000\">x2 &lt;= &#45;30.408</text>\n<text text-anchor=\"middle\" x=\"965\" y=\"-958.8\" font-family=\"Helvetica,sans-Serif\" font-size=\"14.00\" fill=\"#000000\">gini = 0.32</text>\n<text text-anchor=\"middle\" x=\"965\" y=\"-943.8\" font-family=\"Helvetica,sans-Serif\" font-size=\"14.00\" fill=\"#000000\">samples = 10</text>\n<text text-anchor=\"middle\" x=\"965\" y=\"-928.8\" font-family=\"Helvetica,sans-Serif\" font-size=\"14.00\" fill=\"#000000\">value = [2, 8]</text>\n</g>\n<!-- 48&#45;&gt;49 -->\n<g id=\"edge49\" class=\"edge\">\n<title>48&#45;&gt;49</title>\n<path fill=\"none\" stroke=\"#000000\" d=\"M1209.9557,-1029.4458C1206.6217,-1027.8691 1203.2852,-1026.3718 1200,-1025 1143.5215,-1001.4167 1076.3596,-982.2441 1028.3283,-969.9664\"/>\n<polygon fill=\"#000000\" stroke=\"#000000\" points=\"1028.9328,-966.5092 1018.38,-967.452 1027.2175,-973.2957 1028.9328,-966.5092\"/>\n</g>\n<!-- 56 -->\n<g id=\"node57\" class=\"node\">\n<title>56</title>\n<path fill=\"#e58139\" stroke=\"#000000\" d=\"M1263.5,-981.5C1263.5,-981.5 1188.5,-981.5 1188.5,-981.5 1182.5,-981.5 1176.5,-975.5 1176.5,-969.5 1176.5,-969.5 1176.5,-940.5 1176.5,-940.5 1176.5,-934.5 1182.5,-928.5 1188.5,-928.5 1188.5,-928.5 1263.5,-928.5 1263.5,-928.5 1269.5,-928.5 1275.5,-934.5 1275.5,-940.5 1275.5,-940.5 1275.5,-969.5 1275.5,-969.5 1275.5,-975.5 1269.5,-981.5 1263.5,-981.5\"/>\n<text text-anchor=\"middle\" x=\"1226\" y=\"-966.3\" font-family=\"Helvetica,sans-Serif\" font-size=\"14.00\" fill=\"#000000\">gini = 0.0</text>\n<text text-anchor=\"middle\" x=\"1226\" y=\"-951.3\" font-family=\"Helvetica,sans-Serif\" font-size=\"14.00\" fill=\"#000000\">samples = 1</text>\n<text text-anchor=\"middle\" x=\"1226\" y=\"-936.3\" font-family=\"Helvetica,sans-Serif\" font-size=\"14.00\" fill=\"#000000\">value = [1, 0]</text>\n</g>\n<!-- 48&#45;&gt;56 -->\n<g id=\"edge56\" class=\"edge\">\n<title>48&#45;&gt;56</title>\n<path fill=\"none\" stroke=\"#000000\" d=\"M1250.2123,-1024.9465C1246.4757,-1014.1519 1242.332,-1002.1813 1238.5442,-991.2389\"/>\n<polygon fill=\"#000000\" stroke=\"#000000\" points=\"1241.7663,-989.8471 1235.1877,-981.5422 1235.1514,-992.1369 1241.7663,-989.8471\"/>\n</g>\n<!-- 50 -->\n<g id=\"node51\" class=\"node\">\n<title>50</title>\n<path fill=\"#52a9e8\" stroke=\"#000000\" d=\"M885,-885C885,-885 803,-885 803,-885 797,-885 791,-879 791,-873 791,-873 791,-829 791,-829 791,-823 797,-817 803,-817 803,-817 885,-817 885,-817 891,-817 897,-823 897,-829 897,-829 897,-873 897,-873 897,-879 891,-885 885,-885\"/>\n<text text-anchor=\"middle\" x=\"844\" y=\"-869.8\" font-family=\"Helvetica,sans-Serif\" font-size=\"14.00\" fill=\"#000000\">x2 &lt;= &#45;35.704</text>\n<text text-anchor=\"middle\" x=\"844\" y=\"-854.8\" font-family=\"Helvetica,sans-Serif\" font-size=\"14.00\" fill=\"#000000\">gini = 0.198</text>\n<text text-anchor=\"middle\" x=\"844\" y=\"-839.8\" font-family=\"Helvetica,sans-Serif\" font-size=\"14.00\" fill=\"#000000\">samples = 9</text>\n<text text-anchor=\"middle\" x=\"844\" y=\"-824.8\" font-family=\"Helvetica,sans-Serif\" font-size=\"14.00\" fill=\"#000000\">value = [1, 8]</text>\n</g>\n<!-- 49&#45;&gt;50 -->\n<g id=\"edge50\" class=\"edge\">\n<title>49&#45;&gt;50</title>\n<path fill=\"none\" stroke=\"#000000\" d=\"M925.3801,-920.9465C914.516,-911.6088 902.6282,-901.3911 891.3765,-891.7203\"/>\n<polygon fill=\"#000000\" stroke=\"#000000\" points=\"893.5741,-888.994 883.7089,-885.13 889.0113,-894.3026 893.5741,-888.994\"/>\n</g>\n<!-- 55 -->\n<g id=\"node56\" class=\"node\">\n<title>55</title>\n<path fill=\"#e58139\" stroke=\"#000000\" d=\"M1002.5,-877.5C1002.5,-877.5 927.5,-877.5 927.5,-877.5 921.5,-877.5 915.5,-871.5 915.5,-865.5 915.5,-865.5 915.5,-836.5 915.5,-836.5 915.5,-830.5 921.5,-824.5 927.5,-824.5 927.5,-824.5 1002.5,-824.5 1002.5,-824.5 1008.5,-824.5 1014.5,-830.5 1014.5,-836.5 1014.5,-836.5 1014.5,-865.5 1014.5,-865.5 1014.5,-871.5 1008.5,-877.5 1002.5,-877.5\"/>\n<text text-anchor=\"middle\" x=\"965\" y=\"-862.3\" font-family=\"Helvetica,sans-Serif\" font-size=\"14.00\" fill=\"#000000\">gini = 0.0</text>\n<text text-anchor=\"middle\" x=\"965\" y=\"-847.3\" font-family=\"Helvetica,sans-Serif\" font-size=\"14.00\" fill=\"#000000\">samples = 1</text>\n<text text-anchor=\"middle\" x=\"965\" y=\"-832.3\" font-family=\"Helvetica,sans-Serif\" font-size=\"14.00\" fill=\"#000000\">value = [1, 0]</text>\n</g>\n<!-- 49&#45;&gt;55 -->\n<g id=\"edge55\" class=\"edge\">\n<title>49&#45;&gt;55</title>\n<path fill=\"none\" stroke=\"#000000\" d=\"M965,-920.9465C965,-910.2621 965,-898.4254 965,-887.5742\"/>\n<polygon fill=\"#000000\" stroke=\"#000000\" points=\"968.5001,-887.5421 965,-877.5422 961.5001,-887.5422 968.5001,-887.5421\"/>\n</g>\n<!-- 51 -->\n<g id=\"node52\" class=\"node\">\n<title>51</title>\n<path fill=\"#9ccef2\" stroke=\"#000000\" d=\"M766,-781C766,-781 684,-781 684,-781 678,-781 672,-775 672,-769 672,-769 672,-725 672,-725 672,-719 678,-713 684,-713 684,-713 766,-713 766,-713 772,-713 778,-719 778,-725 778,-725 778,-769 778,-769 778,-775 772,-781 766,-781\"/>\n<text text-anchor=\"middle\" x=\"725\" y=\"-765.8\" font-family=\"Helvetica,sans-Serif\" font-size=\"14.00\" fill=\"#000000\">x2 &lt;= &#45;36.594</text>\n<text text-anchor=\"middle\" x=\"725\" y=\"-750.8\" font-family=\"Helvetica,sans-Serif\" font-size=\"14.00\" fill=\"#000000\">gini = 0.444</text>\n<text text-anchor=\"middle\" x=\"725\" y=\"-735.8\" font-family=\"Helvetica,sans-Serif\" font-size=\"14.00\" fill=\"#000000\">samples = 3</text>\n<text text-anchor=\"middle\" x=\"725\" y=\"-720.8\" font-family=\"Helvetica,sans-Serif\" font-size=\"14.00\" fill=\"#000000\">value = [1, 2]</text>\n</g>\n<!-- 50&#45;&gt;51 -->\n<g id=\"edge51\" class=\"edge\">\n<title>50&#45;&gt;51</title>\n<path fill=\"none\" stroke=\"#000000\" d=\"M805.0349,-816.9465C794.3505,-807.6088 782.6591,-797.3911 771.5934,-787.7203\"/>\n<polygon fill=\"#000000\" stroke=\"#000000\" points=\"773.8855,-785.0752 764.0526,-781.13 769.2791,-790.346 773.8855,-785.0752\"/>\n</g>\n<!-- 54 -->\n<g id=\"node55\" class=\"node\">\n<title>54</title>\n<path fill=\"#399de5\" stroke=\"#000000\" d=\"M883.5,-773.5C883.5,-773.5 808.5,-773.5 808.5,-773.5 802.5,-773.5 796.5,-767.5 796.5,-761.5 796.5,-761.5 796.5,-732.5 796.5,-732.5 796.5,-726.5 802.5,-720.5 808.5,-720.5 808.5,-720.5 883.5,-720.5 883.5,-720.5 889.5,-720.5 895.5,-726.5 895.5,-732.5 895.5,-732.5 895.5,-761.5 895.5,-761.5 895.5,-767.5 889.5,-773.5 883.5,-773.5\"/>\n<text text-anchor=\"middle\" x=\"846\" y=\"-758.3\" font-family=\"Helvetica,sans-Serif\" font-size=\"14.00\" fill=\"#000000\">gini = 0.0</text>\n<text text-anchor=\"middle\" x=\"846\" y=\"-743.3\" font-family=\"Helvetica,sans-Serif\" font-size=\"14.00\" fill=\"#000000\">samples = 6</text>\n<text text-anchor=\"middle\" x=\"846\" y=\"-728.3\" font-family=\"Helvetica,sans-Serif\" font-size=\"14.00\" fill=\"#000000\">value = [0, 6]</text>\n</g>\n<!-- 50&#45;&gt;54 -->\n<g id=\"edge54\" class=\"edge\">\n<title>50&#45;&gt;54</title>\n<path fill=\"none\" stroke=\"#000000\" d=\"M844.6549,-816.9465C844.8603,-806.2621 845.088,-794.4254 845.2966,-783.5742\"/>\n<polygon fill=\"#000000\" stroke=\"#000000\" points=\"848.7966,-783.6076 845.4896,-773.5422 841.7979,-783.473 848.7966,-783.6076\"/>\n</g>\n<!-- 52 -->\n<g id=\"node53\" class=\"node\">\n<title>52</title>\n<path fill=\"#399de5\" stroke=\"#000000\" d=\"M704.5,-669.5C704.5,-669.5 629.5,-669.5 629.5,-669.5 623.5,-669.5 617.5,-663.5 617.5,-657.5 617.5,-657.5 617.5,-628.5 617.5,-628.5 617.5,-622.5 623.5,-616.5 629.5,-616.5 629.5,-616.5 704.5,-616.5 704.5,-616.5 710.5,-616.5 716.5,-622.5 716.5,-628.5 716.5,-628.5 716.5,-657.5 716.5,-657.5 716.5,-663.5 710.5,-669.5 704.5,-669.5\"/>\n<text text-anchor=\"middle\" x=\"667\" y=\"-654.3\" font-family=\"Helvetica,sans-Serif\" font-size=\"14.00\" fill=\"#000000\">gini = 0.0</text>\n<text text-anchor=\"middle\" x=\"667\" y=\"-639.3\" font-family=\"Helvetica,sans-Serif\" font-size=\"14.00\" fill=\"#000000\">samples = 2</text>\n<text text-anchor=\"middle\" x=\"667\" y=\"-624.3\" font-family=\"Helvetica,sans-Serif\" font-size=\"14.00\" fill=\"#000000\">value = [0, 2]</text>\n</g>\n<!-- 51&#45;&gt;52 -->\n<g id=\"edge52\" class=\"edge\">\n<title>51&#45;&gt;52</title>\n<path fill=\"none\" stroke=\"#000000\" d=\"M706.0086,-712.9465C699.8657,-701.9316 693.0399,-689.6922 686.8373,-678.5703\"/>\n<polygon fill=\"#000000\" stroke=\"#000000\" points=\"689.7299,-676.5711 681.8024,-669.5422 683.6163,-679.9806 689.7299,-676.5711\"/>\n</g>\n<!-- 53 -->\n<g id=\"node54\" class=\"node\">\n<title>53</title>\n<path fill=\"#e58139\" stroke=\"#000000\" d=\"M821.5,-669.5C821.5,-669.5 746.5,-669.5 746.5,-669.5 740.5,-669.5 734.5,-663.5 734.5,-657.5 734.5,-657.5 734.5,-628.5 734.5,-628.5 734.5,-622.5 740.5,-616.5 746.5,-616.5 746.5,-616.5 821.5,-616.5 821.5,-616.5 827.5,-616.5 833.5,-622.5 833.5,-628.5 833.5,-628.5 833.5,-657.5 833.5,-657.5 833.5,-663.5 827.5,-669.5 821.5,-669.5\"/>\n<text text-anchor=\"middle\" x=\"784\" y=\"-654.3\" font-family=\"Helvetica,sans-Serif\" font-size=\"14.00\" fill=\"#000000\">gini = 0.0</text>\n<text text-anchor=\"middle\" x=\"784\" y=\"-639.3\" font-family=\"Helvetica,sans-Serif\" font-size=\"14.00\" fill=\"#000000\">samples = 1</text>\n<text text-anchor=\"middle\" x=\"784\" y=\"-624.3\" font-family=\"Helvetica,sans-Serif\" font-size=\"14.00\" fill=\"#000000\">value = [1, 0]</text>\n</g>\n<!-- 51&#45;&gt;53 -->\n<g id=\"edge53\" class=\"edge\">\n<title>51&#45;&gt;53</title>\n<path fill=\"none\" stroke=\"#000000\" d=\"M744.3188,-712.9465C750.5676,-701.9316 757.5112,-689.6922 763.8207,-678.5703\"/>\n<polygon fill=\"#000000\" stroke=\"#000000\" points=\"767.0523,-679.967 768.9424,-669.5422 760.9638,-676.513 767.0523,-679.967\"/>\n</g>\n<!-- 58 -->\n<g id=\"node59\" class=\"node\">\n<title>58</title>\n<path fill=\"#b8dcf6\" stroke=\"#000000\" d=\"M1439,-1093C1439,-1093 1347,-1093 1347,-1093 1341,-1093 1335,-1087 1335,-1081 1335,-1081 1335,-1037 1335,-1037 1335,-1031 1341,-1025 1347,-1025 1347,-1025 1439,-1025 1439,-1025 1445,-1025 1451,-1031 1451,-1037 1451,-1037 1451,-1081 1451,-1081 1451,-1087 1445,-1093 1439,-1093\"/>\n<text text-anchor=\"middle\" x=\"1393\" y=\"-1077.8\" font-family=\"Helvetica,sans-Serif\" font-size=\"14.00\" fill=\"#000000\">x1 &lt;= &#45;6.001</text>\n<text text-anchor=\"middle\" x=\"1393\" y=\"-1062.8\" font-family=\"Helvetica,sans-Serif\" font-size=\"14.00\" fill=\"#000000\">gini = 0.476</text>\n<text text-anchor=\"middle\" x=\"1393\" y=\"-1047.8\" font-family=\"Helvetica,sans-Serif\" font-size=\"14.00\" fill=\"#000000\">samples = 41</text>\n<text text-anchor=\"middle\" x=\"1393\" y=\"-1032.8\" font-family=\"Helvetica,sans-Serif\" font-size=\"14.00\" fill=\"#000000\">value = [16, 25]</text>\n</g>\n<!-- 57&#45;&gt;58 -->\n<g id=\"edge58\" class=\"edge\">\n<title>57&#45;&gt;58</title>\n<path fill=\"none\" stroke=\"#000000\" d=\"M1393,-1128.9465C1393,-1120.776 1393,-1111.9318 1393,-1103.3697\"/>\n<polygon fill=\"#000000\" stroke=\"#000000\" points=\"1396.5001,-1103.13 1393,-1093.13 1389.5001,-1103.13 1396.5001,-1103.13\"/>\n</g>\n<!-- 95 -->\n<g id=\"node96\" class=\"node\">\n<title>95</title>\n<path fill=\"#f1ba93\" stroke=\"#000000\" d=\"M1869,-1093C1869,-1093 1777,-1093 1777,-1093 1771,-1093 1765,-1087 1765,-1081 1765,-1081 1765,-1037 1765,-1037 1765,-1031 1771,-1025 1777,-1025 1777,-1025 1869,-1025 1869,-1025 1875,-1025 1881,-1031 1881,-1037 1881,-1037 1881,-1081 1881,-1081 1881,-1087 1875,-1093 1869,-1093\"/>\n<text text-anchor=\"middle\" x=\"1823\" y=\"-1077.8\" font-family=\"Helvetica,sans-Serif\" font-size=\"14.00\" fill=\"#000000\">x2 &lt;= &#45;15.674</text>\n<text text-anchor=\"middle\" x=\"1823\" y=\"-1062.8\" font-family=\"Helvetica,sans-Serif\" font-size=\"14.00\" fill=\"#000000\">gini = 0.43</text>\n<text text-anchor=\"middle\" x=\"1823\" y=\"-1047.8\" font-family=\"Helvetica,sans-Serif\" font-size=\"14.00\" fill=\"#000000\">samples = 32</text>\n<text text-anchor=\"middle\" x=\"1823\" y=\"-1032.8\" font-family=\"Helvetica,sans-Serif\" font-size=\"14.00\" fill=\"#000000\">value = [22, 10]</text>\n</g>\n<!-- 57&#45;&gt;95 -->\n<g id=\"edge95\" class=\"edge\">\n<title>57&#45;&gt;95</title>\n<path fill=\"none\" stroke=\"#000000\" d=\"M1451.0469,-1132.3402C1454.0433,-1131.1378 1457.0384,-1130.0146 1460,-1129 1559.5982,-1094.8796 1680.5975,-1075.7451 1754.6796,-1066.4006\"/>\n<polygon fill=\"#000000\" stroke=\"#000000\" points=\"1755.32,-1069.8481 1764.8144,-1065.1465 1754.4603,-1062.9011 1755.32,-1069.8481\"/>\n</g>\n<!-- 59 -->\n<g id=\"node60\" class=\"node\">\n<title>59</title>\n<path fill=\"#e5f2fc\" stroke=\"#000000\" d=\"M1398,-989C1398,-989 1306,-989 1306,-989 1300,-989 1294,-983 1294,-977 1294,-977 1294,-933 1294,-933 1294,-927 1300,-921 1306,-921 1306,-921 1398,-921 1398,-921 1404,-921 1410,-927 1410,-933 1410,-933 1410,-977 1410,-977 1410,-983 1404,-989 1398,-989\"/>\n<text text-anchor=\"middle\" x=\"1352\" y=\"-973.8\" font-family=\"Helvetica,sans-Serif\" font-size=\"14.00\" fill=\"#000000\">x1 &lt;= &#45;15.433</text>\n<text text-anchor=\"middle\" x=\"1352\" y=\"-958.8\" font-family=\"Helvetica,sans-Serif\" font-size=\"14.00\" fill=\"#000000\">gini = 0.497</text>\n<text text-anchor=\"middle\" x=\"1352\" y=\"-943.8\" font-family=\"Helvetica,sans-Serif\" font-size=\"14.00\" fill=\"#000000\">samples = 28</text>\n<text text-anchor=\"middle\" x=\"1352\" y=\"-928.8\" font-family=\"Helvetica,sans-Serif\" font-size=\"14.00\" fill=\"#000000\">value = [13, 15]</text>\n</g>\n<!-- 58&#45;&gt;59 -->\n<g id=\"edge59\" class=\"edge\">\n<title>58&#45;&gt;59</title>\n<path fill=\"none\" stroke=\"#000000\" d=\"M1379.5751,-1024.9465C1376.2478,-1016.5067 1372.6372,-1007.3479 1369.1584,-998.5239\"/>\n<polygon fill=\"#000000\" stroke=\"#000000\" points=\"1372.3789,-997.1495 1365.4551,-989.13 1365.8666,-999.7168 1372.3789,-997.1495\"/>\n</g>\n<!-- 86 -->\n<g id=\"node87\" class=\"node\">\n<title>86</title>\n<path fill=\"#74baed\" stroke=\"#000000\" d=\"M1549.5,-989C1549.5,-989 1466.5,-989 1466.5,-989 1460.5,-989 1454.5,-983 1454.5,-977 1454.5,-977 1454.5,-933 1454.5,-933 1454.5,-927 1460.5,-921 1466.5,-921 1466.5,-921 1549.5,-921 1549.5,-921 1555.5,-921 1561.5,-927 1561.5,-933 1561.5,-933 1561.5,-977 1561.5,-977 1561.5,-983 1555.5,-989 1549.5,-989\"/>\n<text text-anchor=\"middle\" x=\"1508\" y=\"-973.8\" font-family=\"Helvetica,sans-Serif\" font-size=\"14.00\" fill=\"#000000\">x1 &lt;= &#45;1.999</text>\n<text text-anchor=\"middle\" x=\"1508\" y=\"-958.8\" font-family=\"Helvetica,sans-Serif\" font-size=\"14.00\" fill=\"#000000\">gini = 0.355</text>\n<text text-anchor=\"middle\" x=\"1508\" y=\"-943.8\" font-family=\"Helvetica,sans-Serif\" font-size=\"14.00\" fill=\"#000000\">samples = 13</text>\n<text text-anchor=\"middle\" x=\"1508\" y=\"-928.8\" font-family=\"Helvetica,sans-Serif\" font-size=\"14.00\" fill=\"#000000\">value = [3, 10]</text>\n</g>\n<!-- 58&#45;&gt;86 -->\n<g id=\"edge86\" class=\"edge\">\n<title>58&#45;&gt;86</title>\n<path fill=\"none\" stroke=\"#000000\" d=\"M1430.6553,-1024.9465C1440.8813,-1015.6986 1452.0618,-1005.5876 1462.6641,-995.9994\"/>\n<polygon fill=\"#000000\" stroke=\"#000000\" points=\"1465.1908,-998.4334 1470.2601,-989.13 1460.4956,-993.2416 1465.1908,-998.4334\"/>\n</g>\n<!-- 60 -->\n<g id=\"node61\" class=\"node\">\n<title>60</title>\n<path fill=\"#acd6f4\" stroke=\"#000000\" d=\"M1127.5,-885C1127.5,-885 1044.5,-885 1044.5,-885 1038.5,-885 1032.5,-879 1032.5,-873 1032.5,-873 1032.5,-829 1032.5,-829 1032.5,-823 1038.5,-817 1044.5,-817 1044.5,-817 1127.5,-817 1127.5,-817 1133.5,-817 1139.5,-823 1139.5,-829 1139.5,-829 1139.5,-873 1139.5,-873 1139.5,-879 1133.5,-885 1127.5,-885\"/>\n<text text-anchor=\"middle\" x=\"1086\" y=\"-869.8\" font-family=\"Helvetica,sans-Serif\" font-size=\"14.00\" fill=\"#000000\">x2 &lt;= &#45;21.917</text>\n<text text-anchor=\"middle\" x=\"1086\" y=\"-854.8\" font-family=\"Helvetica,sans-Serif\" font-size=\"14.00\" fill=\"#000000\">gini = 0.465</text>\n<text text-anchor=\"middle\" x=\"1086\" y=\"-839.8\" font-family=\"Helvetica,sans-Serif\" font-size=\"14.00\" fill=\"#000000\">samples = 19</text>\n<text text-anchor=\"middle\" x=\"1086\" y=\"-824.8\" font-family=\"Helvetica,sans-Serif\" font-size=\"14.00\" fill=\"#000000\">value = [7, 12]</text>\n</g>\n<!-- 59&#45;&gt;60 -->\n<g id=\"edge60\" class=\"edge\">\n<title>59&#45;&gt;60</title>\n<path fill=\"none\" stroke=\"#000000\" d=\"M1293.9835,-925.4C1290.6245,-923.8712 1287.28,-922.3935 1284,-921 1239.7622,-902.206 1188.5801,-884.2057 1149.3366,-871.1654\"/>\n<polygon fill=\"#000000\" stroke=\"#000000\" points=\"1150.2213,-867.7717 1139.6282,-867.9594 1148.0263,-874.4187 1150.2213,-867.7717\"/>\n</g>\n<!-- 79 -->\n<g id=\"node80\" class=\"node\">\n<title>79</title>\n<path fill=\"#f2c09c\" stroke=\"#000000\" d=\"M1363.5,-885C1363.5,-885 1288.5,-885 1288.5,-885 1282.5,-885 1276.5,-879 1276.5,-873 1276.5,-873 1276.5,-829 1276.5,-829 1276.5,-823 1282.5,-817 1288.5,-817 1288.5,-817 1363.5,-817 1363.5,-817 1369.5,-817 1375.5,-823 1375.5,-829 1375.5,-829 1375.5,-873 1375.5,-873 1375.5,-879 1369.5,-885 1363.5,-885\"/>\n<text text-anchor=\"middle\" x=\"1326\" y=\"-869.8\" font-family=\"Helvetica,sans-Serif\" font-size=\"14.00\" fill=\"#000000\">x1 &lt;= &#45;11.48</text>\n<text text-anchor=\"middle\" x=\"1326\" y=\"-854.8\" font-family=\"Helvetica,sans-Serif\" font-size=\"14.00\" fill=\"#000000\">gini = 0.444</text>\n<text text-anchor=\"middle\" x=\"1326\" y=\"-839.8\" font-family=\"Helvetica,sans-Serif\" font-size=\"14.00\" fill=\"#000000\">samples = 9</text>\n<text text-anchor=\"middle\" x=\"1326\" y=\"-824.8\" font-family=\"Helvetica,sans-Serif\" font-size=\"14.00\" fill=\"#000000\">value = [6, 3]</text>\n</g>\n<!-- 59&#45;&gt;79 -->\n<g id=\"edge79\" class=\"edge\">\n<title>59&#45;&gt;79</title>\n<path fill=\"none\" stroke=\"#000000\" d=\"M1343.4866,-920.9465C1341.4216,-912.6863 1339.1843,-903.7374 1337.0219,-895.0875\"/>\n<polygon fill=\"#000000\" stroke=\"#000000\" points=\"1340.3534,-893.9825 1334.5325,-885.13 1333.5624,-895.6803 1340.3534,-893.9825\"/>\n</g>\n<!-- 61 -->\n<g id=\"node62\" class=\"node\">\n<title>61</title>\n<path fill=\"#399de5\" stroke=\"#000000\" d=\"M1002.5,-773.5C1002.5,-773.5 927.5,-773.5 927.5,-773.5 921.5,-773.5 915.5,-767.5 915.5,-761.5 915.5,-761.5 915.5,-732.5 915.5,-732.5 915.5,-726.5 921.5,-720.5 927.5,-720.5 927.5,-720.5 1002.5,-720.5 1002.5,-720.5 1008.5,-720.5 1014.5,-726.5 1014.5,-732.5 1014.5,-732.5 1014.5,-761.5 1014.5,-761.5 1014.5,-767.5 1008.5,-773.5 1002.5,-773.5\"/>\n<text text-anchor=\"middle\" x=\"965\" y=\"-758.3\" font-family=\"Helvetica,sans-Serif\" font-size=\"14.00\" fill=\"#000000\">gini = 0.0</text>\n<text text-anchor=\"middle\" x=\"965\" y=\"-743.3\" font-family=\"Helvetica,sans-Serif\" font-size=\"14.00\" fill=\"#000000\">samples = 4</text>\n<text text-anchor=\"middle\" x=\"965\" y=\"-728.3\" font-family=\"Helvetica,sans-Serif\" font-size=\"14.00\" fill=\"#000000\">value = [0, 4]</text>\n</g>\n<!-- 60&#45;&gt;61 -->\n<g id=\"edge61\" class=\"edge\">\n<title>60&#45;&gt;61</title>\n<path fill=\"none\" stroke=\"#000000\" d=\"M1046.3801,-816.9465C1032.6676,-805.1606 1017.3239,-791.9726 1003.6873,-780.2519\"/>\n<polygon fill=\"#000000\" stroke=\"#000000\" points=\"1005.7459,-777.4061 995.8808,-773.5422 1001.1831,-782.7147 1005.7459,-777.4061\"/>\n</g>\n<!-- 62 -->\n<g id=\"node63\" class=\"node\">\n<title>62</title>\n<path fill=\"#e6f3fc\" stroke=\"#000000\" d=\"M1125,-781C1125,-781 1045,-781 1045,-781 1039,-781 1033,-775 1033,-769 1033,-769 1033,-725 1033,-725 1033,-719 1039,-713 1045,-713 1045,-713 1125,-713 1125,-713 1131,-713 1137,-719 1137,-725 1137,-725 1137,-769 1137,-769 1137,-775 1131,-781 1125,-781\"/>\n<text text-anchor=\"middle\" x=\"1085\" y=\"-765.8\" font-family=\"Helvetica,sans-Serif\" font-size=\"14.00\" fill=\"#000000\">x2 &lt;= &#45;3.241</text>\n<text text-anchor=\"middle\" x=\"1085\" y=\"-750.8\" font-family=\"Helvetica,sans-Serif\" font-size=\"14.00\" fill=\"#000000\">gini = 0.498</text>\n<text text-anchor=\"middle\" x=\"1085\" y=\"-735.8\" font-family=\"Helvetica,sans-Serif\" font-size=\"14.00\" fill=\"#000000\">samples = 15</text>\n<text text-anchor=\"middle\" x=\"1085\" y=\"-720.8\" font-family=\"Helvetica,sans-Serif\" font-size=\"14.00\" fill=\"#000000\">value = [7, 8]</text>\n</g>\n<!-- 60&#45;&gt;62 -->\n<g id=\"edge62\" class=\"edge\">\n<title>60&#45;&gt;62</title>\n<path fill=\"none\" stroke=\"#000000\" d=\"M1085.6726,-816.9465C1085.594,-808.776 1085.509,-799.9318 1085.4266,-791.3697\"/>\n<polygon fill=\"#000000\" stroke=\"#000000\" points=\"1088.9243,-791.0958 1085.3282,-781.13 1081.9246,-791.1632 1088.9243,-791.0958\"/>\n</g>\n<!-- 63 -->\n<g id=\"node64\" class=\"node\">\n<title>63</title>\n<path fill=\"#f8dbc6\" stroke=\"#000000\" d=\"M1008,-677C1008,-677 926,-677 926,-677 920,-677 914,-671 914,-665 914,-665 914,-621 914,-621 914,-615 920,-609 926,-609 926,-609 1008,-609 1008,-609 1014,-609 1020,-615 1020,-621 1020,-621 1020,-665 1020,-665 1020,-671 1014,-677 1008,-677\"/>\n<text text-anchor=\"middle\" x=\"967\" y=\"-661.8\" font-family=\"Helvetica,sans-Serif\" font-size=\"14.00\" fill=\"#000000\">x2 &lt;= &#45;20.986</text>\n<text text-anchor=\"middle\" x=\"967\" y=\"-646.8\" font-family=\"Helvetica,sans-Serif\" font-size=\"14.00\" fill=\"#000000\">gini = 0.486</text>\n<text text-anchor=\"middle\" x=\"967\" y=\"-631.8\" font-family=\"Helvetica,sans-Serif\" font-size=\"14.00\" fill=\"#000000\">samples = 12</text>\n<text text-anchor=\"middle\" x=\"967\" y=\"-616.8\" font-family=\"Helvetica,sans-Serif\" font-size=\"14.00\" fill=\"#000000\">value = [7, 5]</text>\n</g>\n<!-- 62&#45;&gt;63 -->\n<g id=\"edge63\" class=\"edge\">\n<title>62&#45;&gt;63</title>\n<path fill=\"none\" stroke=\"#000000\" d=\"M1046.3624,-712.9465C1035.8696,-703.6986 1024.3974,-693.5876 1013.5186,-683.9994\"/>\n<polygon fill=\"#000000\" stroke=\"#000000\" points=\"1015.5407,-681.1163 1005.7244,-677.13 1010.9123,-686.3678 1015.5407,-681.1163\"/>\n</g>\n<!-- 78 -->\n<g id=\"node79\" class=\"node\">\n<title>78</title>\n<path fill=\"#399de5\" stroke=\"#000000\" d=\"M1125.5,-669.5C1125.5,-669.5 1050.5,-669.5 1050.5,-669.5 1044.5,-669.5 1038.5,-663.5 1038.5,-657.5 1038.5,-657.5 1038.5,-628.5 1038.5,-628.5 1038.5,-622.5 1044.5,-616.5 1050.5,-616.5 1050.5,-616.5 1125.5,-616.5 1125.5,-616.5 1131.5,-616.5 1137.5,-622.5 1137.5,-628.5 1137.5,-628.5 1137.5,-657.5 1137.5,-657.5 1137.5,-663.5 1131.5,-669.5 1125.5,-669.5\"/>\n<text text-anchor=\"middle\" x=\"1088\" y=\"-654.3\" font-family=\"Helvetica,sans-Serif\" font-size=\"14.00\" fill=\"#000000\">gini = 0.0</text>\n<text text-anchor=\"middle\" x=\"1088\" y=\"-639.3\" font-family=\"Helvetica,sans-Serif\" font-size=\"14.00\" fill=\"#000000\">samples = 3</text>\n<text text-anchor=\"middle\" x=\"1088\" y=\"-624.3\" font-family=\"Helvetica,sans-Serif\" font-size=\"14.00\" fill=\"#000000\">value = [0, 3]</text>\n</g>\n<!-- 62&#45;&gt;78 -->\n<g id=\"edge78\" class=\"edge\">\n<title>62&#45;&gt;78</title>\n<path fill=\"none\" stroke=\"#000000\" d=\"M1085.9823,-712.9465C1086.2905,-702.2621 1086.632,-690.4254 1086.945,-679.5742\"/>\n<polygon fill=\"#000000\" stroke=\"#000000\" points=\"1090.4445,-679.639 1087.2344,-669.5422 1083.4474,-679.4371 1090.4445,-679.639\"/>\n</g>\n<!-- 64 -->\n<g id=\"node65\" class=\"node\">\n<title>64</title>\n<path fill=\"#e58139\" stroke=\"#000000\" d=\"M977.5,-565.5C977.5,-565.5 902.5,-565.5 902.5,-565.5 896.5,-565.5 890.5,-559.5 890.5,-553.5 890.5,-553.5 890.5,-524.5 890.5,-524.5 890.5,-518.5 896.5,-512.5 902.5,-512.5 902.5,-512.5 977.5,-512.5 977.5,-512.5 983.5,-512.5 989.5,-518.5 989.5,-524.5 989.5,-524.5 989.5,-553.5 989.5,-553.5 989.5,-559.5 983.5,-565.5 977.5,-565.5\"/>\n<text text-anchor=\"middle\" x=\"940\" y=\"-550.3\" font-family=\"Helvetica,sans-Serif\" font-size=\"14.00\" fill=\"#000000\">gini = 0.0</text>\n<text text-anchor=\"middle\" x=\"940\" y=\"-535.3\" font-family=\"Helvetica,sans-Serif\" font-size=\"14.00\" fill=\"#000000\">samples = 2</text>\n<text text-anchor=\"middle\" x=\"940\" y=\"-520.3\" font-family=\"Helvetica,sans-Serif\" font-size=\"14.00\" fill=\"#000000\">value = [2, 0]</text>\n</g>\n<!-- 63&#45;&gt;64 -->\n<g id=\"edge64\" class=\"edge\">\n<title>63&#45;&gt;64</title>\n<path fill=\"none\" stroke=\"#000000\" d=\"M958.1592,-608.9465C955.3567,-598.1519 952.249,-586.1813 949.4082,-575.2389\"/>\n<polygon fill=\"#000000\" stroke=\"#000000\" points=\"952.7914,-574.3418 946.8908,-565.5422 946.016,-576.1008 952.7914,-574.3418\"/>\n</g>\n<!-- 65 -->\n<g id=\"node66\" class=\"node\">\n<title>65</title>\n<path fill=\"#ffffff\" stroke=\"#000000\" d=\"M1102,-573C1102,-573 1020,-573 1020,-573 1014,-573 1008,-567 1008,-561 1008,-561 1008,-517 1008,-517 1008,-511 1014,-505 1020,-505 1020,-505 1102,-505 1102,-505 1108,-505 1114,-511 1114,-517 1114,-517 1114,-561 1114,-561 1114,-567 1108,-573 1102,-573\"/>\n<text text-anchor=\"middle\" x=\"1061\" y=\"-557.8\" font-family=\"Helvetica,sans-Serif\" font-size=\"14.00\" fill=\"#000000\">x1 &lt;= &#45;21.503</text>\n<text text-anchor=\"middle\" x=\"1061\" y=\"-542.8\" font-family=\"Helvetica,sans-Serif\" font-size=\"14.00\" fill=\"#000000\">gini = 0.5</text>\n<text text-anchor=\"middle\" x=\"1061\" y=\"-527.8\" font-family=\"Helvetica,sans-Serif\" font-size=\"14.00\" fill=\"#000000\">samples = 10</text>\n<text text-anchor=\"middle\" x=\"1061\" y=\"-512.8\" font-family=\"Helvetica,sans-Serif\" font-size=\"14.00\" fill=\"#000000\">value = [5, 5]</text>\n</g>\n<!-- 63&#45;&gt;65 -->\n<g id=\"edge65\" class=\"edge\">\n<title>63&#45;&gt;65</title>\n<path fill=\"none\" stroke=\"#000000\" d=\"M997.7791,-608.9465C1005.9755,-599.8782 1014.922,-589.9799 1023.4375,-580.5585\"/>\n<polygon fill=\"#000000\" stroke=\"#000000\" points=\"1026.0429,-582.8957 1030.1517,-573.13 1020.8497,-578.2019 1026.0429,-582.8957\"/>\n</g>\n<!-- 66 -->\n<g id=\"node67\" class=\"node\">\n<title>66</title>\n<path fill=\"#7bbeee\" stroke=\"#000000\" d=\"M1042,-469C1042,-469 960,-469 960,-469 954,-469 948,-463 948,-457 948,-457 948,-413 948,-413 948,-407 954,-401 960,-401 960,-401 1042,-401 1042,-401 1048,-401 1054,-407 1054,-413 1054,-413 1054,-457 1054,-457 1054,-463 1048,-469 1042,-469\"/>\n<text text-anchor=\"middle\" x=\"1001\" y=\"-453.8\" font-family=\"Helvetica,sans-Serif\" font-size=\"14.00\" fill=\"#000000\">x1 &lt;= &#45;25.035</text>\n<text text-anchor=\"middle\" x=\"1001\" y=\"-438.8\" font-family=\"Helvetica,sans-Serif\" font-size=\"14.00\" fill=\"#000000\">gini = 0.375</text>\n<text text-anchor=\"middle\" x=\"1001\" y=\"-423.8\" font-family=\"Helvetica,sans-Serif\" font-size=\"14.00\" fill=\"#000000\">samples = 4</text>\n<text text-anchor=\"middle\" x=\"1001\" y=\"-408.8\" font-family=\"Helvetica,sans-Serif\" font-size=\"14.00\" fill=\"#000000\">value = [1, 3]</text>\n</g>\n<!-- 65&#45;&gt;66 -->\n<g id=\"edge66\" class=\"edge\">\n<title>65&#45;&gt;66</title>\n<path fill=\"none\" stroke=\"#000000\" d=\"M1041.3538,-504.9465C1036.381,-496.3271 1030.9757,-486.9579 1025.7852,-477.9611\"/>\n<polygon fill=\"#000000\" stroke=\"#000000\" points=\"1028.7193,-476.0428 1020.6904,-469.13 1022.656,-479.5409 1028.7193,-476.0428\"/>\n</g>\n<!-- 69 -->\n<g id=\"node70\" class=\"node\">\n<title>69</title>\n<path fill=\"#f2c09c\" stroke=\"#000000\" d=\"M1159.5,-469C1159.5,-469 1084.5,-469 1084.5,-469 1078.5,-469 1072.5,-463 1072.5,-457 1072.5,-457 1072.5,-413 1072.5,-413 1072.5,-407 1078.5,-401 1084.5,-401 1084.5,-401 1159.5,-401 1159.5,-401 1165.5,-401 1171.5,-407 1171.5,-413 1171.5,-413 1171.5,-457 1171.5,-457 1171.5,-463 1165.5,-469 1159.5,-469\"/>\n<text text-anchor=\"middle\" x=\"1122\" y=\"-453.8\" font-family=\"Helvetica,sans-Serif\" font-size=\"14.00\" fill=\"#000000\">x1 &lt;= &#45;20.09</text>\n<text text-anchor=\"middle\" x=\"1122\" y=\"-438.8\" font-family=\"Helvetica,sans-Serif\" font-size=\"14.00\" fill=\"#000000\">gini = 0.444</text>\n<text text-anchor=\"middle\" x=\"1122\" y=\"-423.8\" font-family=\"Helvetica,sans-Serif\" font-size=\"14.00\" fill=\"#000000\">samples = 6</text>\n<text text-anchor=\"middle\" x=\"1122\" y=\"-408.8\" font-family=\"Helvetica,sans-Serif\" font-size=\"14.00\" fill=\"#000000\">value = [4, 2]</text>\n</g>\n<!-- 65&#45;&gt;69 -->\n<g id=\"edge69\" class=\"edge\">\n<title>65&#45;&gt;69</title>\n<path fill=\"none\" stroke=\"#000000\" d=\"M1080.9737,-504.9465C1086.0293,-496.3271 1091.5247,-486.9579 1096.8017,-477.9611\"/>\n<polygon fill=\"#000000\" stroke=\"#000000\" points=\"1099.9411,-479.5265 1101.9814,-469.13 1093.9031,-475.985 1099.9411,-479.5265\"/>\n</g>\n<!-- 67 -->\n<g id=\"node68\" class=\"node\">\n<title>67</title>\n<path fill=\"#e58139\" stroke=\"#000000\" d=\"M922.5,-357.5C922.5,-357.5 847.5,-357.5 847.5,-357.5 841.5,-357.5 835.5,-351.5 835.5,-345.5 835.5,-345.5 835.5,-316.5 835.5,-316.5 835.5,-310.5 841.5,-304.5 847.5,-304.5 847.5,-304.5 922.5,-304.5 922.5,-304.5 928.5,-304.5 934.5,-310.5 934.5,-316.5 934.5,-316.5 934.5,-345.5 934.5,-345.5 934.5,-351.5 928.5,-357.5 922.5,-357.5\"/>\n<text text-anchor=\"middle\" x=\"885\" y=\"-342.3\" font-family=\"Helvetica,sans-Serif\" font-size=\"14.00\" fill=\"#000000\">gini = 0.0</text>\n<text text-anchor=\"middle\" x=\"885\" y=\"-327.3\" font-family=\"Helvetica,sans-Serif\" font-size=\"14.00\" fill=\"#000000\">samples = 1</text>\n<text text-anchor=\"middle\" x=\"885\" y=\"-312.3\" font-family=\"Helvetica,sans-Serif\" font-size=\"14.00\" fill=\"#000000\">value = [1, 0]</text>\n</g>\n<!-- 66&#45;&gt;67 -->\n<g id=\"edge67\" class=\"edge\">\n<title>66&#45;&gt;67</title>\n<path fill=\"none\" stroke=\"#000000\" d=\"M963.0173,-400.9465C949.8714,-389.1606 935.1618,-375.9726 922.0887,-364.2519\"/>\n<polygon fill=\"#000000\" stroke=\"#000000\" points=\"924.3869,-361.6116 914.6047,-357.5422 919.714,-366.8236 924.3869,-361.6116\"/>\n</g>\n<!-- 68 -->\n<g id=\"node69\" class=\"node\">\n<title>68</title>\n<path fill=\"#399de5\" stroke=\"#000000\" d=\"M1039.5,-357.5C1039.5,-357.5 964.5,-357.5 964.5,-357.5 958.5,-357.5 952.5,-351.5 952.5,-345.5 952.5,-345.5 952.5,-316.5 952.5,-316.5 952.5,-310.5 958.5,-304.5 964.5,-304.5 964.5,-304.5 1039.5,-304.5 1039.5,-304.5 1045.5,-304.5 1051.5,-310.5 1051.5,-316.5 1051.5,-316.5 1051.5,-345.5 1051.5,-345.5 1051.5,-351.5 1045.5,-357.5 1039.5,-357.5\"/>\n<text text-anchor=\"middle\" x=\"1002\" y=\"-342.3\" font-family=\"Helvetica,sans-Serif\" font-size=\"14.00\" fill=\"#000000\">gini = 0.0</text>\n<text text-anchor=\"middle\" x=\"1002\" y=\"-327.3\" font-family=\"Helvetica,sans-Serif\" font-size=\"14.00\" fill=\"#000000\">samples = 3</text>\n<text text-anchor=\"middle\" x=\"1002\" y=\"-312.3\" font-family=\"Helvetica,sans-Serif\" font-size=\"14.00\" fill=\"#000000\">value = [0, 3]</text>\n</g>\n<!-- 66&#45;&gt;68 -->\n<g id=\"edge68\" class=\"edge\">\n<title>66&#45;&gt;68</title>\n<path fill=\"none\" stroke=\"#000000\" d=\"M1001.3274,-400.9465C1001.4302,-390.2621 1001.544,-378.4254 1001.6483,-367.5742\"/>\n<polygon fill=\"#000000\" stroke=\"#000000\" points=\"1005.1484,-367.5754 1001.7448,-357.5422 998.1487,-367.508 1005.1484,-367.5754\"/>\n</g>\n<!-- 70 -->\n<g id=\"node71\" class=\"node\">\n<title>70</title>\n<path fill=\"#e58139\" stroke=\"#000000\" d=\"M1158.5,-357.5C1158.5,-357.5 1083.5,-357.5 1083.5,-357.5 1077.5,-357.5 1071.5,-351.5 1071.5,-345.5 1071.5,-345.5 1071.5,-316.5 1071.5,-316.5 1071.5,-310.5 1077.5,-304.5 1083.5,-304.5 1083.5,-304.5 1158.5,-304.5 1158.5,-304.5 1164.5,-304.5 1170.5,-310.5 1170.5,-316.5 1170.5,-316.5 1170.5,-345.5 1170.5,-345.5 1170.5,-351.5 1164.5,-357.5 1158.5,-357.5\"/>\n<text text-anchor=\"middle\" x=\"1121\" y=\"-342.3\" font-family=\"Helvetica,sans-Serif\" font-size=\"14.00\" fill=\"#000000\">gini = 0.0</text>\n<text text-anchor=\"middle\" x=\"1121\" y=\"-327.3\" font-family=\"Helvetica,sans-Serif\" font-size=\"14.00\" fill=\"#000000\">samples = 2</text>\n<text text-anchor=\"middle\" x=\"1121\" y=\"-312.3\" font-family=\"Helvetica,sans-Serif\" font-size=\"14.00\" fill=\"#000000\">value = [2, 0]</text>\n</g>\n<!-- 69&#45;&gt;70 -->\n<g id=\"edge70\" class=\"edge\">\n<title>69&#45;&gt;70</title>\n<path fill=\"none\" stroke=\"#000000\" d=\"M1121.6726,-400.9465C1121.5698,-390.2621 1121.456,-378.4254 1121.3517,-367.5742\"/>\n<polygon fill=\"#000000\" stroke=\"#000000\" points=\"1124.8513,-367.508 1121.2552,-357.5422 1117.8516,-367.5754 1124.8513,-367.508\"/>\n</g>\n<!-- 71 -->\n<g id=\"node72\" class=\"node\">\n<title>71</title>\n<path fill=\"#ffffff\" stroke=\"#000000\" d=\"M1283,-365C1283,-365 1201,-365 1201,-365 1195,-365 1189,-359 1189,-353 1189,-353 1189,-309 1189,-309 1189,-303 1195,-297 1201,-297 1201,-297 1283,-297 1283,-297 1289,-297 1295,-303 1295,-309 1295,-309 1295,-353 1295,-353 1295,-359 1289,-365 1283,-365\"/>\n<text text-anchor=\"middle\" x=\"1242\" y=\"-349.8\" font-family=\"Helvetica,sans-Serif\" font-size=\"14.00\" fill=\"#000000\">x1 &lt;= &#45;18.959</text>\n<text text-anchor=\"middle\" x=\"1242\" y=\"-334.8\" font-family=\"Helvetica,sans-Serif\" font-size=\"14.00\" fill=\"#000000\">gini = 0.5</text>\n<text text-anchor=\"middle\" x=\"1242\" y=\"-319.8\" font-family=\"Helvetica,sans-Serif\" font-size=\"14.00\" fill=\"#000000\">samples = 4</text>\n<text text-anchor=\"middle\" x=\"1242\" y=\"-304.8\" font-family=\"Helvetica,sans-Serif\" font-size=\"14.00\" fill=\"#000000\">value = [2, 2]</text>\n</g>\n<!-- 69&#45;&gt;71 -->\n<g id=\"edge71\" class=\"edge\">\n<title>69&#45;&gt;71</title>\n<path fill=\"none\" stroke=\"#000000\" d=\"M1161.2925,-400.9465C1172.0667,-391.6088 1183.8564,-381.3911 1195.015,-371.7203\"/>\n<polygon fill=\"#000000\" stroke=\"#000000\" points=\"1197.3546,-374.3243 1202.6192,-365.13 1192.7701,-369.0344 1197.3546,-374.3243\"/>\n</g>\n<!-- 72 -->\n<g id=\"node73\" class=\"node\">\n<title>72</title>\n<path fill=\"#399de5\" stroke=\"#000000\" d=\"M1220.5,-253.5C1220.5,-253.5 1145.5,-253.5 1145.5,-253.5 1139.5,-253.5 1133.5,-247.5 1133.5,-241.5 1133.5,-241.5 1133.5,-212.5 1133.5,-212.5 1133.5,-206.5 1139.5,-200.5 1145.5,-200.5 1145.5,-200.5 1220.5,-200.5 1220.5,-200.5 1226.5,-200.5 1232.5,-206.5 1232.5,-212.5 1232.5,-212.5 1232.5,-241.5 1232.5,-241.5 1232.5,-247.5 1226.5,-253.5 1220.5,-253.5\"/>\n<text text-anchor=\"middle\" x=\"1183\" y=\"-238.3\" font-family=\"Helvetica,sans-Serif\" font-size=\"14.00\" fill=\"#000000\">gini = 0.0</text>\n<text text-anchor=\"middle\" x=\"1183\" y=\"-223.3\" font-family=\"Helvetica,sans-Serif\" font-size=\"14.00\" fill=\"#000000\">samples = 1</text>\n<text text-anchor=\"middle\" x=\"1183\" y=\"-208.3\" font-family=\"Helvetica,sans-Serif\" font-size=\"14.00\" fill=\"#000000\">value = [0, 1]</text>\n</g>\n<!-- 71&#45;&gt;72 -->\n<g id=\"edge72\" class=\"edge\">\n<title>71&#45;&gt;72</title>\n<path fill=\"none\" stroke=\"#000000\" d=\"M1222.6812,-296.9465C1216.4324,-285.9316 1209.4888,-273.6922 1203.1793,-262.5703\"/>\n<polygon fill=\"#000000\" stroke=\"#000000\" points=\"1206.0362,-260.513 1198.0576,-253.5422 1199.9477,-263.967 1206.0362,-260.513\"/>\n</g>\n<!-- 73 -->\n<g id=\"node74\" class=\"node\">\n<title>73</title>\n<path fill=\"#f2c09c\" stroke=\"#000000\" d=\"M1337.5,-261C1337.5,-261 1262.5,-261 1262.5,-261 1256.5,-261 1250.5,-255 1250.5,-249 1250.5,-249 1250.5,-205 1250.5,-205 1250.5,-199 1256.5,-193 1262.5,-193 1262.5,-193 1337.5,-193 1337.5,-193 1343.5,-193 1349.5,-199 1349.5,-205 1349.5,-205 1349.5,-249 1349.5,-249 1349.5,-255 1343.5,-261 1337.5,-261\"/>\n<text text-anchor=\"middle\" x=\"1300\" y=\"-245.8\" font-family=\"Helvetica,sans-Serif\" font-size=\"14.00\" fill=\"#000000\">x2 &lt;= &#45;13.5</text>\n<text text-anchor=\"middle\" x=\"1300\" y=\"-230.8\" font-family=\"Helvetica,sans-Serif\" font-size=\"14.00\" fill=\"#000000\">gini = 0.444</text>\n<text text-anchor=\"middle\" x=\"1300\" y=\"-215.8\" font-family=\"Helvetica,sans-Serif\" font-size=\"14.00\" fill=\"#000000\">samples = 3</text>\n<text text-anchor=\"middle\" x=\"1300\" y=\"-200.8\" font-family=\"Helvetica,sans-Serif\" font-size=\"14.00\" fill=\"#000000\">value = [2, 1]</text>\n</g>\n<!-- 71&#45;&gt;73 -->\n<g id=\"edge73\" class=\"edge\">\n<title>71&#45;&gt;73</title>\n<path fill=\"none\" stroke=\"#000000\" d=\"M1260.9914,-296.9465C1265.7983,-288.3271 1271.0235,-278.9579 1276.0409,-269.9611\"/>\n<polygon fill=\"#000000\" stroke=\"#000000\" points=\"1279.152,-271.5684 1280.966,-261.13 1273.0385,-268.1589 1279.152,-271.5684\"/>\n</g>\n<!-- 74 -->\n<g id=\"node75\" class=\"node\">\n<title>74</title>\n<path fill=\"#e58139\" stroke=\"#000000\" d=\"M1277.5,-149.5C1277.5,-149.5 1202.5,-149.5 1202.5,-149.5 1196.5,-149.5 1190.5,-143.5 1190.5,-137.5 1190.5,-137.5 1190.5,-108.5 1190.5,-108.5 1190.5,-102.5 1196.5,-96.5 1202.5,-96.5 1202.5,-96.5 1277.5,-96.5 1277.5,-96.5 1283.5,-96.5 1289.5,-102.5 1289.5,-108.5 1289.5,-108.5 1289.5,-137.5 1289.5,-137.5 1289.5,-143.5 1283.5,-149.5 1277.5,-149.5\"/>\n<text text-anchor=\"middle\" x=\"1240\" y=\"-134.3\" font-family=\"Helvetica,sans-Serif\" font-size=\"14.00\" fill=\"#000000\">gini = 0.0</text>\n<text text-anchor=\"middle\" x=\"1240\" y=\"-119.3\" font-family=\"Helvetica,sans-Serif\" font-size=\"14.00\" fill=\"#000000\">samples = 1</text>\n<text text-anchor=\"middle\" x=\"1240\" y=\"-104.3\" font-family=\"Helvetica,sans-Serif\" font-size=\"14.00\" fill=\"#000000\">value = [1, 0]</text>\n</g>\n<!-- 73&#45;&gt;74 -->\n<g id=\"edge74\" class=\"edge\">\n<title>73&#45;&gt;74</title>\n<path fill=\"none\" stroke=\"#000000\" d=\"M1280.3538,-192.9465C1273.9355,-181.8215 1266.7965,-169.4473 1260.329,-158.237\"/>\n<polygon fill=\"#000000\" stroke=\"#000000\" points=\"1263.3417,-156.455 1255.3128,-149.5422 1257.2784,-159.9531 1263.3417,-156.455\"/>\n</g>\n<!-- 75 -->\n<g id=\"node76\" class=\"node\">\n<title>75</title>\n<path fill=\"#ffffff\" stroke=\"#000000\" d=\"M1402,-157C1402,-157 1320,-157 1320,-157 1314,-157 1308,-151 1308,-145 1308,-145 1308,-101 1308,-101 1308,-95 1314,-89 1320,-89 1320,-89 1402,-89 1402,-89 1408,-89 1414,-95 1414,-101 1414,-101 1414,-145 1414,-145 1414,-151 1408,-157 1402,-157\"/>\n<text text-anchor=\"middle\" x=\"1361\" y=\"-141.8\" font-family=\"Helvetica,sans-Serif\" font-size=\"14.00\" fill=\"#000000\">x2 &lt;= &#45;12.779</text>\n<text text-anchor=\"middle\" x=\"1361\" y=\"-126.8\" font-family=\"Helvetica,sans-Serif\" font-size=\"14.00\" fill=\"#000000\">gini = 0.5</text>\n<text text-anchor=\"middle\" x=\"1361\" y=\"-111.8\" font-family=\"Helvetica,sans-Serif\" font-size=\"14.00\" fill=\"#000000\">samples = 2</text>\n<text text-anchor=\"middle\" x=\"1361\" y=\"-96.8\" font-family=\"Helvetica,sans-Serif\" font-size=\"14.00\" fill=\"#000000\">value = [1, 1]</text>\n</g>\n<!-- 73&#45;&gt;75 -->\n<g id=\"edge75\" class=\"edge\">\n<title>73&#45;&gt;75</title>\n<path fill=\"none\" stroke=\"#000000\" d=\"M1319.9737,-192.9465C1325.0293,-184.3271 1330.5247,-174.9579 1335.8017,-165.9611\"/>\n<polygon fill=\"#000000\" stroke=\"#000000\" points=\"1338.9411,-167.5265 1340.9814,-157.13 1332.9031,-163.985 1338.9411,-167.5265\"/>\n</g>\n<!-- 76 -->\n<g id=\"node77\" class=\"node\">\n<title>76</title>\n<path fill=\"#399de5\" stroke=\"#000000\" d=\"M1340.5,-53C1340.5,-53 1265.5,-53 1265.5,-53 1259.5,-53 1253.5,-47 1253.5,-41 1253.5,-41 1253.5,-12 1253.5,-12 1253.5,-6 1259.5,0 1265.5,0 1265.5,0 1340.5,0 1340.5,0 1346.5,0 1352.5,-6 1352.5,-12 1352.5,-12 1352.5,-41 1352.5,-41 1352.5,-47 1346.5,-53 1340.5,-53\"/>\n<text text-anchor=\"middle\" x=\"1303\" y=\"-37.8\" font-family=\"Helvetica,sans-Serif\" font-size=\"14.00\" fill=\"#000000\">gini = 0.0</text>\n<text text-anchor=\"middle\" x=\"1303\" y=\"-22.8\" font-family=\"Helvetica,sans-Serif\" font-size=\"14.00\" fill=\"#000000\">samples = 1</text>\n<text text-anchor=\"middle\" x=\"1303\" y=\"-7.8\" font-family=\"Helvetica,sans-Serif\" font-size=\"14.00\" fill=\"#000000\">value = [0, 1]</text>\n</g>\n<!-- 75&#45;&gt;76 -->\n<g id=\"edge76\" class=\"edge\">\n<title>75&#45;&gt;76</title>\n<path fill=\"none\" stroke=\"#000000\" d=\"M1340.5514,-88.9777C1335.2678,-80.187 1329.5684,-70.7044 1324.2452,-61.8477\"/>\n<polygon fill=\"#000000\" stroke=\"#000000\" points=\"1327.2282,-60.0165 1319.0768,-53.2485 1321.2285,-63.6225 1327.2282,-60.0165\"/>\n</g>\n<!-- 77 -->\n<g id=\"node78\" class=\"node\">\n<title>77</title>\n<path fill=\"#e58139\" stroke=\"#000000\" d=\"M1457.5,-53C1457.5,-53 1382.5,-53 1382.5,-53 1376.5,-53 1370.5,-47 1370.5,-41 1370.5,-41 1370.5,-12 1370.5,-12 1370.5,-6 1376.5,0 1382.5,0 1382.5,0 1457.5,0 1457.5,0 1463.5,0 1469.5,-6 1469.5,-12 1469.5,-12 1469.5,-41 1469.5,-41 1469.5,-47 1463.5,-53 1457.5,-53\"/>\n<text text-anchor=\"middle\" x=\"1420\" y=\"-37.8\" font-family=\"Helvetica,sans-Serif\" font-size=\"14.00\" fill=\"#000000\">gini = 0.0</text>\n<text text-anchor=\"middle\" x=\"1420\" y=\"-22.8\" font-family=\"Helvetica,sans-Serif\" font-size=\"14.00\" fill=\"#000000\">samples = 1</text>\n<text text-anchor=\"middle\" x=\"1420\" y=\"-7.8\" font-family=\"Helvetica,sans-Serif\" font-size=\"14.00\" fill=\"#000000\">value = [1, 0]</text>\n</g>\n<!-- 75&#45;&gt;77 -->\n<g id=\"edge77\" class=\"edge\">\n<title>75&#45;&gt;77</title>\n<path fill=\"none\" stroke=\"#000000\" d=\"M1381.8012,-88.9777C1387.1758,-80.187 1392.9735,-70.7044 1398.3885,-61.8477\"/>\n<polygon fill=\"#000000\" stroke=\"#000000\" points=\"1401.4158,-63.6059 1403.646,-53.2485 1395.4436,-59.9545 1401.4158,-63.6059\"/>\n</g>\n<!-- 80 -->\n<g id=\"node81\" class=\"node\">\n<title>80</title>\n<path fill=\"#e58139\" stroke=\"#000000\" d=\"M1242.5,-773.5C1242.5,-773.5 1167.5,-773.5 1167.5,-773.5 1161.5,-773.5 1155.5,-767.5 1155.5,-761.5 1155.5,-761.5 1155.5,-732.5 1155.5,-732.5 1155.5,-726.5 1161.5,-720.5 1167.5,-720.5 1167.5,-720.5 1242.5,-720.5 1242.5,-720.5 1248.5,-720.5 1254.5,-726.5 1254.5,-732.5 1254.5,-732.5 1254.5,-761.5 1254.5,-761.5 1254.5,-767.5 1248.5,-773.5 1242.5,-773.5\"/>\n<text text-anchor=\"middle\" x=\"1205\" y=\"-758.3\" font-family=\"Helvetica,sans-Serif\" font-size=\"14.00\" fill=\"#000000\">gini = 0.0</text>\n<text text-anchor=\"middle\" x=\"1205\" y=\"-743.3\" font-family=\"Helvetica,sans-Serif\" font-size=\"14.00\" fill=\"#000000\">samples = 4</text>\n<text text-anchor=\"middle\" x=\"1205\" y=\"-728.3\" font-family=\"Helvetica,sans-Serif\" font-size=\"14.00\" fill=\"#000000\">value = [4, 0]</text>\n</g>\n<!-- 79&#45;&gt;80 -->\n<g id=\"edge80\" class=\"edge\">\n<title>79&#45;&gt;80</title>\n<path fill=\"none\" stroke=\"#000000\" d=\"M1286.3801,-816.9465C1272.6676,-805.1606 1257.3239,-791.9726 1243.6873,-780.2519\"/>\n<polygon fill=\"#000000\" stroke=\"#000000\" points=\"1245.7459,-777.4061 1235.8808,-773.5422 1241.1831,-782.7147 1245.7459,-777.4061\"/>\n</g>\n<!-- 81 -->\n<g id=\"node82\" class=\"node\">\n<title>81</title>\n<path fill=\"#bddef6\" stroke=\"#000000\" d=\"M1367,-781C1367,-781 1285,-781 1285,-781 1279,-781 1273,-775 1273,-769 1273,-769 1273,-725 1273,-725 1273,-719 1279,-713 1285,-713 1285,-713 1367,-713 1367,-713 1373,-713 1379,-719 1379,-725 1379,-725 1379,-769 1379,-769 1379,-775 1373,-781 1367,-781\"/>\n<text text-anchor=\"middle\" x=\"1326\" y=\"-765.8\" font-family=\"Helvetica,sans-Serif\" font-size=\"14.00\" fill=\"#000000\">x1 &lt;= &#45;10.758</text>\n<text text-anchor=\"middle\" x=\"1326\" y=\"-750.8\" font-family=\"Helvetica,sans-Serif\" font-size=\"14.00\" fill=\"#000000\">gini = 0.48</text>\n<text text-anchor=\"middle\" x=\"1326\" y=\"-735.8\" font-family=\"Helvetica,sans-Serif\" font-size=\"14.00\" fill=\"#000000\">samples = 5</text>\n<text text-anchor=\"middle\" x=\"1326\" y=\"-720.8\" font-family=\"Helvetica,sans-Serif\" font-size=\"14.00\" fill=\"#000000\">value = [2, 3]</text>\n</g>\n<!-- 79&#45;&gt;81 -->\n<g id=\"edge81\" class=\"edge\">\n<title>79&#45;&gt;81</title>\n<path fill=\"none\" stroke=\"#000000\" d=\"M1326,-816.9465C1326,-808.776 1326,-799.9318 1326,-791.3697\"/>\n<polygon fill=\"#000000\" stroke=\"#000000\" points=\"1329.5001,-791.13 1326,-781.13 1322.5001,-791.13 1329.5001,-791.13\"/>\n</g>\n<!-- 82 -->\n<g id=\"node83\" class=\"node\">\n<title>82</title>\n<path fill=\"#399de5\" stroke=\"#000000\" d=\"M1247.5,-669.5C1247.5,-669.5 1172.5,-669.5 1172.5,-669.5 1166.5,-669.5 1160.5,-663.5 1160.5,-657.5 1160.5,-657.5 1160.5,-628.5 1160.5,-628.5 1160.5,-622.5 1166.5,-616.5 1172.5,-616.5 1172.5,-616.5 1247.5,-616.5 1247.5,-616.5 1253.5,-616.5 1259.5,-622.5 1259.5,-628.5 1259.5,-628.5 1259.5,-657.5 1259.5,-657.5 1259.5,-663.5 1253.5,-669.5 1247.5,-669.5\"/>\n<text text-anchor=\"middle\" x=\"1210\" y=\"-654.3\" font-family=\"Helvetica,sans-Serif\" font-size=\"14.00\" fill=\"#000000\">gini = 0.0</text>\n<text text-anchor=\"middle\" x=\"1210\" y=\"-639.3\" font-family=\"Helvetica,sans-Serif\" font-size=\"14.00\" fill=\"#000000\">samples = 2</text>\n<text text-anchor=\"middle\" x=\"1210\" y=\"-624.3\" font-family=\"Helvetica,sans-Serif\" font-size=\"14.00\" fill=\"#000000\">value = [0, 2]</text>\n</g>\n<!-- 81&#45;&gt;82 -->\n<g id=\"edge82\" class=\"edge\">\n<title>81&#45;&gt;82</title>\n<path fill=\"none\" stroke=\"#000000\" d=\"M1288.0173,-712.9465C1274.8714,-701.1606 1260.1618,-687.9726 1247.0887,-676.2519\"/>\n<polygon fill=\"#000000\" stroke=\"#000000\" points=\"1249.3869,-673.6116 1239.6047,-669.5422 1244.714,-678.8236 1249.3869,-673.6116\"/>\n</g>\n<!-- 83 -->\n<g id=\"node84\" class=\"node\">\n<title>83</title>\n<path fill=\"#f2c09c\" stroke=\"#000000\" d=\"M1364.5,-677C1364.5,-677 1289.5,-677 1289.5,-677 1283.5,-677 1277.5,-671 1277.5,-665 1277.5,-665 1277.5,-621 1277.5,-621 1277.5,-615 1283.5,-609 1289.5,-609 1289.5,-609 1364.5,-609 1364.5,-609 1370.5,-609 1376.5,-615 1376.5,-621 1376.5,-621 1376.5,-665 1376.5,-665 1376.5,-671 1370.5,-677 1364.5,-677\"/>\n<text text-anchor=\"middle\" x=\"1327\" y=\"-661.8\" font-family=\"Helvetica,sans-Serif\" font-size=\"14.00\" fill=\"#000000\">x2 &lt;= &#45;1.5</text>\n<text text-anchor=\"middle\" x=\"1327\" y=\"-646.8\" font-family=\"Helvetica,sans-Serif\" font-size=\"14.00\" fill=\"#000000\">gini = 0.444</text>\n<text text-anchor=\"middle\" x=\"1327\" y=\"-631.8\" font-family=\"Helvetica,sans-Serif\" font-size=\"14.00\" fill=\"#000000\">samples = 3</text>\n<text text-anchor=\"middle\" x=\"1327\" y=\"-616.8\" font-family=\"Helvetica,sans-Serif\" font-size=\"14.00\" fill=\"#000000\">value = [2, 1]</text>\n</g>\n<!-- 81&#45;&gt;83 -->\n<g id=\"edge83\" class=\"edge\">\n<title>81&#45;&gt;83</title>\n<path fill=\"none\" stroke=\"#000000\" d=\"M1326.3274,-712.9465C1326.406,-704.776 1326.491,-695.9318 1326.5734,-687.3697\"/>\n<polygon fill=\"#000000\" stroke=\"#000000\" points=\"1330.0754,-687.1632 1326.6718,-677.13 1323.0757,-687.0958 1330.0754,-687.1632\"/>\n</g>\n<!-- 84 -->\n<g id=\"node85\" class=\"node\">\n<title>84</title>\n<path fill=\"#e58139\" stroke=\"#000000\" d=\"M1275.5,-565.5C1275.5,-565.5 1200.5,-565.5 1200.5,-565.5 1194.5,-565.5 1188.5,-559.5 1188.5,-553.5 1188.5,-553.5 1188.5,-524.5 1188.5,-524.5 1188.5,-518.5 1194.5,-512.5 1200.5,-512.5 1200.5,-512.5 1275.5,-512.5 1275.5,-512.5 1281.5,-512.5 1287.5,-518.5 1287.5,-524.5 1287.5,-524.5 1287.5,-553.5 1287.5,-553.5 1287.5,-559.5 1281.5,-565.5 1275.5,-565.5\"/>\n<text text-anchor=\"middle\" x=\"1238\" y=\"-550.3\" font-family=\"Helvetica,sans-Serif\" font-size=\"14.00\" fill=\"#000000\">gini = 0.0</text>\n<text text-anchor=\"middle\" x=\"1238\" y=\"-535.3\" font-family=\"Helvetica,sans-Serif\" font-size=\"14.00\" fill=\"#000000\">samples = 2</text>\n<text text-anchor=\"middle\" x=\"1238\" y=\"-520.3\" font-family=\"Helvetica,sans-Serif\" font-size=\"14.00\" fill=\"#000000\">value = [2, 0]</text>\n</g>\n<!-- 83&#45;&gt;84 -->\n<g id=\"edge84\" class=\"edge\">\n<title>83&#45;&gt;84</title>\n<path fill=\"none\" stroke=\"#000000\" d=\"M1297.8581,-608.9465C1288.0548,-597.491 1277.1181,-584.711 1267.3025,-573.2412\"/>\n<polygon fill=\"#000000\" stroke=\"#000000\" points=\"1269.8751,-570.8642 1260.714,-565.5422 1264.5567,-575.4156 1269.8751,-570.8642\"/>\n</g>\n<!-- 85 -->\n<g id=\"node86\" class=\"node\">\n<title>85</title>\n<path fill=\"#399de5\" stroke=\"#000000\" d=\"M1392.5,-565.5C1392.5,-565.5 1317.5,-565.5 1317.5,-565.5 1311.5,-565.5 1305.5,-559.5 1305.5,-553.5 1305.5,-553.5 1305.5,-524.5 1305.5,-524.5 1305.5,-518.5 1311.5,-512.5 1317.5,-512.5 1317.5,-512.5 1392.5,-512.5 1392.5,-512.5 1398.5,-512.5 1404.5,-518.5 1404.5,-524.5 1404.5,-524.5 1404.5,-553.5 1404.5,-553.5 1404.5,-559.5 1398.5,-565.5 1392.5,-565.5\"/>\n<text text-anchor=\"middle\" x=\"1355\" y=\"-550.3\" font-family=\"Helvetica,sans-Serif\" font-size=\"14.00\" fill=\"#000000\">gini = 0.0</text>\n<text text-anchor=\"middle\" x=\"1355\" y=\"-535.3\" font-family=\"Helvetica,sans-Serif\" font-size=\"14.00\" fill=\"#000000\">samples = 1</text>\n<text text-anchor=\"middle\" x=\"1355\" y=\"-520.3\" font-family=\"Helvetica,sans-Serif\" font-size=\"14.00\" fill=\"#000000\">value = [0, 1]</text>\n</g>\n<!-- 83&#45;&gt;85 -->\n<g id=\"edge85\" class=\"edge\">\n<title>83&#45;&gt;85</title>\n<path fill=\"none\" stroke=\"#000000\" d=\"M1336.1682,-608.9465C1339.0745,-598.1519 1342.2974,-586.1813 1345.2434,-575.2389\"/>\n<polygon fill=\"#000000\" stroke=\"#000000\" points=\"1348.6339,-576.1083 1347.854,-565.5422 1341.8746,-574.2884 1348.6339,-576.1083\"/>\n</g>\n<!-- 87 -->\n<g id=\"node88\" class=\"node\">\n<title>87</title>\n<path fill=\"#52a9e8\" stroke=\"#000000\" d=\"M1545.5,-885C1545.5,-885 1470.5,-885 1470.5,-885 1464.5,-885 1458.5,-879 1458.5,-873 1458.5,-873 1458.5,-829 1458.5,-829 1458.5,-823 1464.5,-817 1470.5,-817 1470.5,-817 1545.5,-817 1545.5,-817 1551.5,-817 1557.5,-823 1557.5,-829 1557.5,-829 1557.5,-873 1557.5,-873 1557.5,-879 1551.5,-885 1545.5,-885\"/>\n<text text-anchor=\"middle\" x=\"1508\" y=\"-869.8\" font-family=\"Helvetica,sans-Serif\" font-size=\"14.00\" fill=\"#000000\">x1 &lt;= &#45;4.887</text>\n<text text-anchor=\"middle\" x=\"1508\" y=\"-854.8\" font-family=\"Helvetica,sans-Serif\" font-size=\"14.00\" fill=\"#000000\">gini = 0.198</text>\n<text text-anchor=\"middle\" x=\"1508\" y=\"-839.8\" font-family=\"Helvetica,sans-Serif\" font-size=\"14.00\" fill=\"#000000\">samples = 9</text>\n<text text-anchor=\"middle\" x=\"1508\" y=\"-824.8\" font-family=\"Helvetica,sans-Serif\" font-size=\"14.00\" fill=\"#000000\">value = [1, 8]</text>\n</g>\n<!-- 86&#45;&gt;87 -->\n<g id=\"edge87\" class=\"edge\">\n<title>86&#45;&gt;87</title>\n<path fill=\"none\" stroke=\"#000000\" d=\"M1508,-920.9465C1508,-912.776 1508,-903.9318 1508,-895.3697\"/>\n<polygon fill=\"#000000\" stroke=\"#000000\" points=\"1511.5001,-895.13 1508,-885.13 1504.5001,-895.13 1511.5001,-895.13\"/>\n</g>\n<!-- 92 -->\n<g id=\"node93\" class=\"node\">\n<title>92</title>\n<path fill=\"#ffffff\" stroke=\"#000000\" d=\"M1714.5,-885C1714.5,-885 1639.5,-885 1639.5,-885 1633.5,-885 1627.5,-879 1627.5,-873 1627.5,-873 1627.5,-829 1627.5,-829 1627.5,-823 1633.5,-817 1639.5,-817 1639.5,-817 1714.5,-817 1714.5,-817 1720.5,-817 1726.5,-823 1726.5,-829 1726.5,-829 1726.5,-873 1726.5,-873 1726.5,-879 1720.5,-885 1714.5,-885\"/>\n<text text-anchor=\"middle\" x=\"1677\" y=\"-869.8\" font-family=\"Helvetica,sans-Serif\" font-size=\"14.00\" fill=\"#000000\">x1 &lt;= &#45;0.481</text>\n<text text-anchor=\"middle\" x=\"1677\" y=\"-854.8\" font-family=\"Helvetica,sans-Serif\" font-size=\"14.00\" fill=\"#000000\">gini = 0.5</text>\n<text text-anchor=\"middle\" x=\"1677\" y=\"-839.8\" font-family=\"Helvetica,sans-Serif\" font-size=\"14.00\" fill=\"#000000\">samples = 4</text>\n<text text-anchor=\"middle\" x=\"1677\" y=\"-824.8\" font-family=\"Helvetica,sans-Serif\" font-size=\"14.00\" fill=\"#000000\">value = [2, 2]</text>\n</g>\n<!-- 86&#45;&gt;92 -->\n<g id=\"edge92\" class=\"edge\">\n<title>86&#45;&gt;92</title>\n<path fill=\"none\" stroke=\"#000000\" d=\"M1561.9373,-921.8078C1579.9516,-910.7221 1600.1077,-898.3183 1618.4556,-887.0273\"/>\n<polygon fill=\"#000000\" stroke=\"#000000\" points=\"1620.618,-889.8063 1627.3002,-881.5845 1616.9492,-883.8447 1620.618,-889.8063\"/>\n</g>\n<!-- 88 -->\n<g id=\"node89\" class=\"node\">\n<title>88</title>\n<path fill=\"#9ccef2\" stroke=\"#000000\" d=\"M1484.5,-781C1484.5,-781 1409.5,-781 1409.5,-781 1403.5,-781 1397.5,-775 1397.5,-769 1397.5,-769 1397.5,-725 1397.5,-725 1397.5,-719 1403.5,-713 1409.5,-713 1409.5,-713 1484.5,-713 1484.5,-713 1490.5,-713 1496.5,-719 1496.5,-725 1496.5,-725 1496.5,-769 1496.5,-769 1496.5,-775 1490.5,-781 1484.5,-781\"/>\n<text text-anchor=\"middle\" x=\"1447\" y=\"-765.8\" font-family=\"Helvetica,sans-Serif\" font-size=\"14.00\" fill=\"#000000\">x1 &lt;= &#45;5.339</text>\n<text text-anchor=\"middle\" x=\"1447\" y=\"-750.8\" font-family=\"Helvetica,sans-Serif\" font-size=\"14.00\" fill=\"#000000\">gini = 0.444</text>\n<text text-anchor=\"middle\" x=\"1447\" y=\"-735.8\" font-family=\"Helvetica,sans-Serif\" font-size=\"14.00\" fill=\"#000000\">samples = 3</text>\n<text text-anchor=\"middle\" x=\"1447\" y=\"-720.8\" font-family=\"Helvetica,sans-Serif\" font-size=\"14.00\" fill=\"#000000\">value = [1, 2]</text>\n</g>\n<!-- 87&#45;&gt;88 -->\n<g id=\"edge88\" class=\"edge\">\n<title>87&#45;&gt;88</title>\n<path fill=\"none\" stroke=\"#000000\" d=\"M1488.0263,-816.9465C1482.9707,-808.3271 1477.4753,-798.9579 1472.1983,-789.9611\"/>\n<polygon fill=\"#000000\" stroke=\"#000000\" points=\"1475.0969,-787.985 1467.0186,-781.13 1469.0589,-791.5265 1475.0969,-787.985\"/>\n</g>\n<!-- 91 -->\n<g id=\"node92\" class=\"node\">\n<title>91</title>\n<path fill=\"#399de5\" stroke=\"#000000\" d=\"M1601.5,-773.5C1601.5,-773.5 1526.5,-773.5 1526.5,-773.5 1520.5,-773.5 1514.5,-767.5 1514.5,-761.5 1514.5,-761.5 1514.5,-732.5 1514.5,-732.5 1514.5,-726.5 1520.5,-720.5 1526.5,-720.5 1526.5,-720.5 1601.5,-720.5 1601.5,-720.5 1607.5,-720.5 1613.5,-726.5 1613.5,-732.5 1613.5,-732.5 1613.5,-761.5 1613.5,-761.5 1613.5,-767.5 1607.5,-773.5 1601.5,-773.5\"/>\n<text text-anchor=\"middle\" x=\"1564\" y=\"-758.3\" font-family=\"Helvetica,sans-Serif\" font-size=\"14.00\" fill=\"#000000\">gini = 0.0</text>\n<text text-anchor=\"middle\" x=\"1564\" y=\"-743.3\" font-family=\"Helvetica,sans-Serif\" font-size=\"14.00\" fill=\"#000000\">samples = 6</text>\n<text text-anchor=\"middle\" x=\"1564\" y=\"-728.3\" font-family=\"Helvetica,sans-Serif\" font-size=\"14.00\" fill=\"#000000\">value = [0, 6]</text>\n</g>\n<!-- 87&#45;&gt;91 -->\n<g id=\"edge91\" class=\"edge\">\n<title>87&#45;&gt;91</title>\n<path fill=\"none\" stroke=\"#000000\" d=\"M1526.3365,-816.9465C1532.2676,-805.9316 1538.8581,-793.6922 1544.8468,-782.5703\"/>\n<polygon fill=\"#000000\" stroke=\"#000000\" points=\"1548.0487,-784.0063 1549.7081,-773.5422 1541.8854,-780.6875 1548.0487,-784.0063\"/>\n</g>\n<!-- 89 -->\n<g id=\"node90\" class=\"node\">\n<title>89</title>\n<path fill=\"#399de5\" stroke=\"#000000\" d=\"M1483.5,-669.5C1483.5,-669.5 1408.5,-669.5 1408.5,-669.5 1402.5,-669.5 1396.5,-663.5 1396.5,-657.5 1396.5,-657.5 1396.5,-628.5 1396.5,-628.5 1396.5,-622.5 1402.5,-616.5 1408.5,-616.5 1408.5,-616.5 1483.5,-616.5 1483.5,-616.5 1489.5,-616.5 1495.5,-622.5 1495.5,-628.5 1495.5,-628.5 1495.5,-657.5 1495.5,-657.5 1495.5,-663.5 1489.5,-669.5 1483.5,-669.5\"/>\n<text text-anchor=\"middle\" x=\"1446\" y=\"-654.3\" font-family=\"Helvetica,sans-Serif\" font-size=\"14.00\" fill=\"#000000\">gini = 0.0</text>\n<text text-anchor=\"middle\" x=\"1446\" y=\"-639.3\" font-family=\"Helvetica,sans-Serif\" font-size=\"14.00\" fill=\"#000000\">samples = 2</text>\n<text text-anchor=\"middle\" x=\"1446\" y=\"-624.3\" font-family=\"Helvetica,sans-Serif\" font-size=\"14.00\" fill=\"#000000\">value = [0, 2]</text>\n</g>\n<!-- 88&#45;&gt;89 -->\n<g id=\"edge89\" class=\"edge\">\n<title>88&#45;&gt;89</title>\n<path fill=\"none\" stroke=\"#000000\" d=\"M1446.6726,-712.9465C1446.5698,-702.2621 1446.456,-690.4254 1446.3517,-679.5742\"/>\n<polygon fill=\"#000000\" stroke=\"#000000\" points=\"1449.8513,-679.508 1446.2552,-669.5422 1442.8516,-679.5754 1449.8513,-679.508\"/>\n</g>\n<!-- 90 -->\n<g id=\"node91\" class=\"node\">\n<title>90</title>\n<path fill=\"#e58139\" stroke=\"#000000\" d=\"M1600.5,-669.5C1600.5,-669.5 1525.5,-669.5 1525.5,-669.5 1519.5,-669.5 1513.5,-663.5 1513.5,-657.5 1513.5,-657.5 1513.5,-628.5 1513.5,-628.5 1513.5,-622.5 1519.5,-616.5 1525.5,-616.5 1525.5,-616.5 1600.5,-616.5 1600.5,-616.5 1606.5,-616.5 1612.5,-622.5 1612.5,-628.5 1612.5,-628.5 1612.5,-657.5 1612.5,-657.5 1612.5,-663.5 1606.5,-669.5 1600.5,-669.5\"/>\n<text text-anchor=\"middle\" x=\"1563\" y=\"-654.3\" font-family=\"Helvetica,sans-Serif\" font-size=\"14.00\" fill=\"#000000\">gini = 0.0</text>\n<text text-anchor=\"middle\" x=\"1563\" y=\"-639.3\" font-family=\"Helvetica,sans-Serif\" font-size=\"14.00\" fill=\"#000000\">samples = 1</text>\n<text text-anchor=\"middle\" x=\"1563\" y=\"-624.3\" font-family=\"Helvetica,sans-Serif\" font-size=\"14.00\" fill=\"#000000\">value = [1, 0]</text>\n</g>\n<!-- 88&#45;&gt;90 -->\n<g id=\"edge90\" class=\"edge\">\n<title>88&#45;&gt;90</title>\n<path fill=\"none\" stroke=\"#000000\" d=\"M1484.9827,-712.9465C1498.1286,-701.1606 1512.8382,-687.9726 1525.9113,-676.2519\"/>\n<polygon fill=\"#000000\" stroke=\"#000000\" points=\"1528.286,-678.8236 1533.3953,-669.5422 1523.6131,-673.6116 1528.286,-678.8236\"/>\n</g>\n<!-- 93 -->\n<g id=\"node94\" class=\"node\">\n<title>93</title>\n<path fill=\"#e58139\" stroke=\"#000000\" d=\"M1718.5,-773.5C1718.5,-773.5 1643.5,-773.5 1643.5,-773.5 1637.5,-773.5 1631.5,-767.5 1631.5,-761.5 1631.5,-761.5 1631.5,-732.5 1631.5,-732.5 1631.5,-726.5 1637.5,-720.5 1643.5,-720.5 1643.5,-720.5 1718.5,-720.5 1718.5,-720.5 1724.5,-720.5 1730.5,-726.5 1730.5,-732.5 1730.5,-732.5 1730.5,-761.5 1730.5,-761.5 1730.5,-767.5 1724.5,-773.5 1718.5,-773.5\"/>\n<text text-anchor=\"middle\" x=\"1681\" y=\"-758.3\" font-family=\"Helvetica,sans-Serif\" font-size=\"14.00\" fill=\"#000000\">gini = 0.0</text>\n<text text-anchor=\"middle\" x=\"1681\" y=\"-743.3\" font-family=\"Helvetica,sans-Serif\" font-size=\"14.00\" fill=\"#000000\">samples = 2</text>\n<text text-anchor=\"middle\" x=\"1681\" y=\"-728.3\" font-family=\"Helvetica,sans-Serif\" font-size=\"14.00\" fill=\"#000000\">value = [2, 0]</text>\n</g>\n<!-- 92&#45;&gt;93 -->\n<g id=\"edge93\" class=\"edge\">\n<title>92&#45;&gt;93</title>\n<path fill=\"none\" stroke=\"#000000\" d=\"M1678.3097,-816.9465C1678.7207,-806.2621 1679.1759,-794.4254 1679.5933,-783.5742\"/>\n<polygon fill=\"#000000\" stroke=\"#000000\" points=\"1683.0921,-783.6693 1679.9791,-773.5422 1676.0973,-783.4002 1683.0921,-783.6693\"/>\n</g>\n<!-- 94 -->\n<g id=\"node95\" class=\"node\">\n<title>94</title>\n<path fill=\"#399de5\" stroke=\"#000000\" d=\"M1835.5,-773.5C1835.5,-773.5 1760.5,-773.5 1760.5,-773.5 1754.5,-773.5 1748.5,-767.5 1748.5,-761.5 1748.5,-761.5 1748.5,-732.5 1748.5,-732.5 1748.5,-726.5 1754.5,-720.5 1760.5,-720.5 1760.5,-720.5 1835.5,-720.5 1835.5,-720.5 1841.5,-720.5 1847.5,-726.5 1847.5,-732.5 1847.5,-732.5 1847.5,-761.5 1847.5,-761.5 1847.5,-767.5 1841.5,-773.5 1835.5,-773.5\"/>\n<text text-anchor=\"middle\" x=\"1798\" y=\"-758.3\" font-family=\"Helvetica,sans-Serif\" font-size=\"14.00\" fill=\"#000000\">gini = 0.0</text>\n<text text-anchor=\"middle\" x=\"1798\" y=\"-743.3\" font-family=\"Helvetica,sans-Serif\" font-size=\"14.00\" fill=\"#000000\">samples = 2</text>\n<text text-anchor=\"middle\" x=\"1798\" y=\"-728.3\" font-family=\"Helvetica,sans-Serif\" font-size=\"14.00\" fill=\"#000000\">value = [0, 2]</text>\n</g>\n<!-- 92&#45;&gt;94 -->\n<g id=\"edge94\" class=\"edge\">\n<title>92&#45;&gt;94</title>\n<path fill=\"none\" stroke=\"#000000\" d=\"M1716.6199,-816.9465C1730.3324,-805.1606 1745.6761,-791.9726 1759.3127,-780.2519\"/>\n<polygon fill=\"#000000\" stroke=\"#000000\" points=\"1761.8169,-782.7147 1767.1192,-773.5422 1757.2541,-777.4061 1761.8169,-782.7147\"/>\n</g>\n<!-- 96 -->\n<g id=\"node97\" class=\"node\">\n<title>96</title>\n<path fill=\"#ffffff\" stroke=\"#000000\" d=\"M1863,-989C1863,-989 1783,-989 1783,-989 1777,-989 1771,-983 1771,-977 1771,-977 1771,-933 1771,-933 1771,-927 1777,-921 1783,-921 1783,-921 1863,-921 1863,-921 1869,-921 1875,-927 1875,-933 1875,-933 1875,-977 1875,-977 1875,-983 1869,-989 1863,-989\"/>\n<text text-anchor=\"middle\" x=\"1823\" y=\"-973.8\" font-family=\"Helvetica,sans-Serif\" font-size=\"14.00\" fill=\"#000000\">x1 &lt;= 3.655</text>\n<text text-anchor=\"middle\" x=\"1823\" y=\"-958.8\" font-family=\"Helvetica,sans-Serif\" font-size=\"14.00\" fill=\"#000000\">gini = 0.5</text>\n<text text-anchor=\"middle\" x=\"1823\" y=\"-943.8\" font-family=\"Helvetica,sans-Serif\" font-size=\"14.00\" fill=\"#000000\">samples = 16</text>\n<text text-anchor=\"middle\" x=\"1823\" y=\"-928.8\" font-family=\"Helvetica,sans-Serif\" font-size=\"14.00\" fill=\"#000000\">value = [8, 8]</text>\n</g>\n<!-- 95&#45;&gt;96 -->\n<g id=\"edge96\" class=\"edge\">\n<title>95&#45;&gt;96</title>\n<path fill=\"none\" stroke=\"#000000\" d=\"M1823,-1024.9465C1823,-1016.776 1823,-1007.9318 1823,-999.3697\"/>\n<polygon fill=\"#000000\" stroke=\"#000000\" points=\"1826.5001,-999.13 1823,-989.13 1819.5001,-999.13 1826.5001,-999.13\"/>\n</g>\n<!-- 111 -->\n<g id=\"node112\" class=\"node\">\n<title>111</title>\n<path fill=\"#e99355\" stroke=\"#000000\" d=\"M2047.5,-989C2047.5,-989 1964.5,-989 1964.5,-989 1958.5,-989 1952.5,-983 1952.5,-977 1952.5,-977 1952.5,-933 1952.5,-933 1952.5,-927 1958.5,-921 1964.5,-921 1964.5,-921 2047.5,-921 2047.5,-921 2053.5,-921 2059.5,-927 2059.5,-933 2059.5,-933 2059.5,-977 2059.5,-977 2059.5,-983 2053.5,-989 2047.5,-989\"/>\n<text text-anchor=\"middle\" x=\"2006\" y=\"-973.8\" font-family=\"Helvetica,sans-Serif\" font-size=\"14.00\" fill=\"#000000\">x1 &lt;= 8.77</text>\n<text text-anchor=\"middle\" x=\"2006\" y=\"-958.8\" font-family=\"Helvetica,sans-Serif\" font-size=\"14.00\" fill=\"#000000\">gini = 0.219</text>\n<text text-anchor=\"middle\" x=\"2006\" y=\"-943.8\" font-family=\"Helvetica,sans-Serif\" font-size=\"14.00\" fill=\"#000000\">samples = 16</text>\n<text text-anchor=\"middle\" x=\"2006\" y=\"-928.8\" font-family=\"Helvetica,sans-Serif\" font-size=\"14.00\" fill=\"#000000\">value = [14, 2]</text>\n</g>\n<!-- 95&#45;&gt;111 -->\n<g id=\"edge111\" class=\"edge\">\n<title>95&#45;&gt;111</title>\n<path fill=\"none\" stroke=\"#000000\" d=\"M1881.1538,-1025.9509C1901.0282,-1014.6561 1923.3343,-1001.9794 1943.5342,-990.4997\"/>\n<polygon fill=\"#000000\" stroke=\"#000000\" points=\"1945.384,-993.4742 1952.3488,-985.4903 1941.9253,-987.3883 1945.384,-993.4742\"/>\n</g>\n<!-- 97 -->\n<g id=\"node98\" class=\"node\">\n<title>97</title>\n<path fill=\"#e58139\" stroke=\"#000000\" d=\"M1831.5,-877.5C1831.5,-877.5 1756.5,-877.5 1756.5,-877.5 1750.5,-877.5 1744.5,-871.5 1744.5,-865.5 1744.5,-865.5 1744.5,-836.5 1744.5,-836.5 1744.5,-830.5 1750.5,-824.5 1756.5,-824.5 1756.5,-824.5 1831.5,-824.5 1831.5,-824.5 1837.5,-824.5 1843.5,-830.5 1843.5,-836.5 1843.5,-836.5 1843.5,-865.5 1843.5,-865.5 1843.5,-871.5 1837.5,-877.5 1831.5,-877.5\"/>\n<text text-anchor=\"middle\" x=\"1794\" y=\"-862.3\" font-family=\"Helvetica,sans-Serif\" font-size=\"14.00\" fill=\"#000000\">gini = 0.0</text>\n<text text-anchor=\"middle\" x=\"1794\" y=\"-847.3\" font-family=\"Helvetica,sans-Serif\" font-size=\"14.00\" fill=\"#000000\">samples = 2</text>\n<text text-anchor=\"middle\" x=\"1794\" y=\"-832.3\" font-family=\"Helvetica,sans-Serif\" font-size=\"14.00\" fill=\"#000000\">value = [2, 0]</text>\n</g>\n<!-- 96&#45;&gt;97 -->\n<g id=\"edge97\" class=\"edge\">\n<title>96&#45;&gt;97</title>\n<path fill=\"none\" stroke=\"#000000\" d=\"M1813.5043,-920.9465C1810.4943,-910.1519 1807.1563,-898.1813 1804.1051,-887.2389\"/>\n<polygon fill=\"#000000\" stroke=\"#000000\" points=\"1807.4586,-886.2346 1801.4012,-877.5422 1800.7159,-888.1148 1807.4586,-886.2346\"/>\n</g>\n<!-- 98 -->\n<g id=\"node99\" class=\"node\">\n<title>98</title>\n<path fill=\"#cee6f8\" stroke=\"#000000\" d=\"M1956,-885C1956,-885 1874,-885 1874,-885 1868,-885 1862,-879 1862,-873 1862,-873 1862,-829 1862,-829 1862,-823 1868,-817 1874,-817 1874,-817 1956,-817 1956,-817 1962,-817 1968,-823 1968,-829 1968,-829 1968,-873 1968,-873 1968,-879 1962,-885 1956,-885\"/>\n<text text-anchor=\"middle\" x=\"1915\" y=\"-869.8\" font-family=\"Helvetica,sans-Serif\" font-size=\"14.00\" fill=\"#000000\">x2 &lt;= &#45;25.521</text>\n<text text-anchor=\"middle\" x=\"1915\" y=\"-854.8\" font-family=\"Helvetica,sans-Serif\" font-size=\"14.00\" fill=\"#000000\">gini = 0.49</text>\n<text text-anchor=\"middle\" x=\"1915\" y=\"-839.8\" font-family=\"Helvetica,sans-Serif\" font-size=\"14.00\" fill=\"#000000\">samples = 14</text>\n<text text-anchor=\"middle\" x=\"1915\" y=\"-824.8\" font-family=\"Helvetica,sans-Serif\" font-size=\"14.00\" fill=\"#000000\">value = [6, 8]</text>\n</g>\n<!-- 96&#45;&gt;98 -->\n<g id=\"edge98\" class=\"edge\">\n<title>96&#45;&gt;98</title>\n<path fill=\"none\" stroke=\"#000000\" d=\"M1853.1242,-920.9465C1861.0668,-911.968 1869.7291,-902.1758 1877.989,-892.8385\"/>\n<polygon fill=\"#000000\" stroke=\"#000000\" points=\"1880.8038,-894.939 1884.8081,-885.13 1875.5608,-890.301 1880.8038,-894.939\"/>\n</g>\n<!-- 99 -->\n<g id=\"node100\" class=\"node\">\n<title>99</title>\n<path fill=\"#e58139\" stroke=\"#000000\" d=\"M1952.5,-773.5C1952.5,-773.5 1877.5,-773.5 1877.5,-773.5 1871.5,-773.5 1865.5,-767.5 1865.5,-761.5 1865.5,-761.5 1865.5,-732.5 1865.5,-732.5 1865.5,-726.5 1871.5,-720.5 1877.5,-720.5 1877.5,-720.5 1952.5,-720.5 1952.5,-720.5 1958.5,-720.5 1964.5,-726.5 1964.5,-732.5 1964.5,-732.5 1964.5,-761.5 1964.5,-761.5 1964.5,-767.5 1958.5,-773.5 1952.5,-773.5\"/>\n<text text-anchor=\"middle\" x=\"1915\" y=\"-758.3\" font-family=\"Helvetica,sans-Serif\" font-size=\"14.00\" fill=\"#000000\">gini = 0.0</text>\n<text text-anchor=\"middle\" x=\"1915\" y=\"-743.3\" font-family=\"Helvetica,sans-Serif\" font-size=\"14.00\" fill=\"#000000\">samples = 2</text>\n<text text-anchor=\"middle\" x=\"1915\" y=\"-728.3\" font-family=\"Helvetica,sans-Serif\" font-size=\"14.00\" fill=\"#000000\">value = [2, 0]</text>\n</g>\n<!-- 98&#45;&gt;99 -->\n<g id=\"edge99\" class=\"edge\">\n<title>98&#45;&gt;99</title>\n<path fill=\"none\" stroke=\"#000000\" d=\"M1915,-816.9465C1915,-806.2621 1915,-794.4254 1915,-783.5742\"/>\n<polygon fill=\"#000000\" stroke=\"#000000\" points=\"1918.5001,-783.5421 1915,-773.5422 1911.5001,-783.5422 1918.5001,-783.5421\"/>\n</g>\n<!-- 100 -->\n<g id=\"node101\" class=\"node\">\n<title>100</title>\n<path fill=\"#9ccef2\" stroke=\"#000000\" d=\"M2075,-781C2075,-781 1995,-781 1995,-781 1989,-781 1983,-775 1983,-769 1983,-769 1983,-725 1983,-725 1983,-719 1989,-713 1995,-713 1995,-713 2075,-713 2075,-713 2081,-713 2087,-719 2087,-725 2087,-725 2087,-769 2087,-769 2087,-775 2081,-781 2075,-781\"/>\n<text text-anchor=\"middle\" x=\"2035\" y=\"-765.8\" font-family=\"Helvetica,sans-Serif\" font-size=\"14.00\" fill=\"#000000\">x1 &lt;= 7.133</text>\n<text text-anchor=\"middle\" x=\"2035\" y=\"-750.8\" font-family=\"Helvetica,sans-Serif\" font-size=\"14.00\" fill=\"#000000\">gini = 0.444</text>\n<text text-anchor=\"middle\" x=\"2035\" y=\"-735.8\" font-family=\"Helvetica,sans-Serif\" font-size=\"14.00\" fill=\"#000000\">samples = 12</text>\n<text text-anchor=\"middle\" x=\"2035\" y=\"-720.8\" font-family=\"Helvetica,sans-Serif\" font-size=\"14.00\" fill=\"#000000\">value = [4, 8]</text>\n</g>\n<!-- 98&#45;&gt;100 -->\n<g id=\"edge100\" class=\"edge\">\n<title>98&#45;&gt;100</title>\n<path fill=\"none\" stroke=\"#000000\" d=\"M1954.2925,-816.9465C1965.0667,-807.6088 1976.8564,-797.3911 1988.015,-787.7203\"/>\n<polygon fill=\"#000000\" stroke=\"#000000\" points=\"1990.3546,-790.3243 1995.6192,-781.13 1985.7701,-785.0344 1990.3546,-790.3243\"/>\n</g>\n<!-- 101 -->\n<g id=\"node102\" class=\"node\">\n<title>101</title>\n<path fill=\"#399de5\" stroke=\"#000000\" d=\"M1952.5,-669.5C1952.5,-669.5 1877.5,-669.5 1877.5,-669.5 1871.5,-669.5 1865.5,-663.5 1865.5,-657.5 1865.5,-657.5 1865.5,-628.5 1865.5,-628.5 1865.5,-622.5 1871.5,-616.5 1877.5,-616.5 1877.5,-616.5 1952.5,-616.5 1952.5,-616.5 1958.5,-616.5 1964.5,-622.5 1964.5,-628.5 1964.5,-628.5 1964.5,-657.5 1964.5,-657.5 1964.5,-663.5 1958.5,-669.5 1952.5,-669.5\"/>\n<text text-anchor=\"middle\" x=\"1915\" y=\"-654.3\" font-family=\"Helvetica,sans-Serif\" font-size=\"14.00\" fill=\"#000000\">gini = 0.0</text>\n<text text-anchor=\"middle\" x=\"1915\" y=\"-639.3\" font-family=\"Helvetica,sans-Serif\" font-size=\"14.00\" fill=\"#000000\">samples = 4</text>\n<text text-anchor=\"middle\" x=\"1915\" y=\"-624.3\" font-family=\"Helvetica,sans-Serif\" font-size=\"14.00\" fill=\"#000000\">value = [0, 4]</text>\n</g>\n<!-- 100&#45;&gt;101 -->\n<g id=\"edge101\" class=\"edge\">\n<title>100&#45;&gt;101</title>\n<path fill=\"none\" stroke=\"#000000\" d=\"M1995.7075,-712.9465C1982.1083,-701.1606 1966.8915,-687.9726 1953.3676,-676.2519\"/>\n<polygon fill=\"#000000\" stroke=\"#000000\" points=\"1955.4748,-673.4466 1945.6256,-669.5422 1950.8902,-678.7364 1955.4748,-673.4466\"/>\n</g>\n<!-- 102 -->\n<g id=\"node103\" class=\"node\">\n<title>102</title>\n<path fill=\"#ffffff\" stroke=\"#000000\" d=\"M2077,-677C2077,-677 1995,-677 1995,-677 1989,-677 1983,-671 1983,-665 1983,-665 1983,-621 1983,-621 1983,-615 1989,-609 1995,-609 1995,-609 2077,-609 2077,-609 2083,-609 2089,-615 2089,-621 2089,-621 2089,-665 2089,-665 2089,-671 2083,-677 2077,-677\"/>\n<text text-anchor=\"middle\" x=\"2036\" y=\"-661.8\" font-family=\"Helvetica,sans-Serif\" font-size=\"14.00\" fill=\"#000000\">x2 &lt;= &#45;21.522</text>\n<text text-anchor=\"middle\" x=\"2036\" y=\"-646.8\" font-family=\"Helvetica,sans-Serif\" font-size=\"14.00\" fill=\"#000000\">gini = 0.5</text>\n<text text-anchor=\"middle\" x=\"2036\" y=\"-631.8\" font-family=\"Helvetica,sans-Serif\" font-size=\"14.00\" fill=\"#000000\">samples = 8</text>\n<text text-anchor=\"middle\" x=\"2036\" y=\"-616.8\" font-family=\"Helvetica,sans-Serif\" font-size=\"14.00\" fill=\"#000000\">value = [4, 4]</text>\n</g>\n<!-- 100&#45;&gt;102 -->\n<g id=\"edge102\" class=\"edge\">\n<title>100&#45;&gt;102</title>\n<path fill=\"none\" stroke=\"#000000\" d=\"M2035.3274,-712.9465C2035.406,-704.776 2035.491,-695.9318 2035.5734,-687.3697\"/>\n<polygon fill=\"#000000\" stroke=\"#000000\" points=\"2039.0754,-687.1632 2035.6718,-677.13 2032.0757,-687.0958 2039.0754,-687.1632\"/>\n</g>\n<!-- 103 -->\n<g id=\"node104\" class=\"node\">\n<title>103</title>\n<path fill=\"#399de5\" stroke=\"#000000\" d=\"M1953.5,-565.5C1953.5,-565.5 1878.5,-565.5 1878.5,-565.5 1872.5,-565.5 1866.5,-559.5 1866.5,-553.5 1866.5,-553.5 1866.5,-524.5 1866.5,-524.5 1866.5,-518.5 1872.5,-512.5 1878.5,-512.5 1878.5,-512.5 1953.5,-512.5 1953.5,-512.5 1959.5,-512.5 1965.5,-518.5 1965.5,-524.5 1965.5,-524.5 1965.5,-553.5 1965.5,-553.5 1965.5,-559.5 1959.5,-565.5 1953.5,-565.5\"/>\n<text text-anchor=\"middle\" x=\"1916\" y=\"-550.3\" font-family=\"Helvetica,sans-Serif\" font-size=\"14.00\" fill=\"#000000\">gini = 0.0</text>\n<text text-anchor=\"middle\" x=\"1916\" y=\"-535.3\" font-family=\"Helvetica,sans-Serif\" font-size=\"14.00\" fill=\"#000000\">samples = 2</text>\n<text text-anchor=\"middle\" x=\"1916\" y=\"-520.3\" font-family=\"Helvetica,sans-Serif\" font-size=\"14.00\" fill=\"#000000\">value = [0, 2]</text>\n</g>\n<!-- 102&#45;&gt;103 -->\n<g id=\"edge103\" class=\"edge\">\n<title>102&#45;&gt;103</title>\n<path fill=\"none\" stroke=\"#000000\" d=\"M1996.7075,-608.9465C1983.1083,-597.1606 1967.8915,-583.9726 1954.3676,-572.2519\"/>\n<polygon fill=\"#000000\" stroke=\"#000000\" points=\"1956.4748,-569.4466 1946.6256,-565.5422 1951.8902,-574.7364 1956.4748,-569.4466\"/>\n</g>\n<!-- 104 -->\n<g id=\"node105\" class=\"node\">\n<title>104</title>\n<path fill=\"#f2c09c\" stroke=\"#000000\" d=\"M2078,-573C2078,-573 1996,-573 1996,-573 1990,-573 1984,-567 1984,-561 1984,-561 1984,-517 1984,-517 1984,-511 1990,-505 1996,-505 1996,-505 2078,-505 2078,-505 2084,-505 2090,-511 2090,-517 2090,-517 2090,-561 2090,-561 2090,-567 2084,-573 2078,-573\"/>\n<text text-anchor=\"middle\" x=\"2037\" y=\"-557.8\" font-family=\"Helvetica,sans-Serif\" font-size=\"14.00\" fill=\"#000000\">x2 &lt;= &#45;16.564</text>\n<text text-anchor=\"middle\" x=\"2037\" y=\"-542.8\" font-family=\"Helvetica,sans-Serif\" font-size=\"14.00\" fill=\"#000000\">gini = 0.444</text>\n<text text-anchor=\"middle\" x=\"2037\" y=\"-527.8\" font-family=\"Helvetica,sans-Serif\" font-size=\"14.00\" fill=\"#000000\">samples = 6</text>\n<text text-anchor=\"middle\" x=\"2037\" y=\"-512.8\" font-family=\"Helvetica,sans-Serif\" font-size=\"14.00\" fill=\"#000000\">value = [4, 2]</text>\n</g>\n<!-- 102&#45;&gt;104 -->\n<g id=\"edge104\" class=\"edge\">\n<title>102&#45;&gt;104</title>\n<path fill=\"none\" stroke=\"#000000\" d=\"M2036.3274,-608.9465C2036.406,-600.776 2036.491,-591.9318 2036.5734,-583.3697\"/>\n<polygon fill=\"#000000\" stroke=\"#000000\" points=\"2040.0754,-583.1632 2036.6718,-573.13 2033.0757,-583.0958 2040.0754,-583.1632\"/>\n</g>\n<!-- 105 -->\n<g id=\"node106\" class=\"node\">\n<title>105</title>\n<path fill=\"#eca06a\" stroke=\"#000000\" d=\"M2016.5,-469C2016.5,-469 1939.5,-469 1939.5,-469 1933.5,-469 1927.5,-463 1927.5,-457 1927.5,-457 1927.5,-413 1927.5,-413 1927.5,-407 1933.5,-401 1939.5,-401 1939.5,-401 2016.5,-401 2016.5,-401 2022.5,-401 2028.5,-407 2028.5,-413 2028.5,-413 2028.5,-457 2028.5,-457 2028.5,-463 2022.5,-469 2016.5,-469\"/>\n<text text-anchor=\"middle\" x=\"1978\" y=\"-453.8\" font-family=\"Helvetica,sans-Serif\" font-size=\"14.00\" fill=\"#000000\">x1 &lt;= 11.989</text>\n<text text-anchor=\"middle\" x=\"1978\" y=\"-438.8\" font-family=\"Helvetica,sans-Serif\" font-size=\"14.00\" fill=\"#000000\">gini = 0.32</text>\n<text text-anchor=\"middle\" x=\"1978\" y=\"-423.8\" font-family=\"Helvetica,sans-Serif\" font-size=\"14.00\" fill=\"#000000\">samples = 5</text>\n<text text-anchor=\"middle\" x=\"1978\" y=\"-408.8\" font-family=\"Helvetica,sans-Serif\" font-size=\"14.00\" fill=\"#000000\">value = [4, 1]</text>\n</g>\n<!-- 104&#45;&gt;105 -->\n<g id=\"edge105\" class=\"edge\">\n<title>104&#45;&gt;105</title>\n<path fill=\"none\" stroke=\"#000000\" d=\"M2017.6812,-504.9465C2012.7913,-496.3271 2007.4761,-486.9579 2002.3722,-477.9611\"/>\n<polygon fill=\"#000000\" stroke=\"#000000\" points=\"2005.3408,-476.1008 1997.3622,-469.13 1999.2524,-479.5549 2005.3408,-476.1008\"/>\n</g>\n<!-- 110 -->\n<g id=\"node111\" class=\"node\">\n<title>110</title>\n<path fill=\"#399de5\" stroke=\"#000000\" d=\"M2133.5,-461.5C2133.5,-461.5 2058.5,-461.5 2058.5,-461.5 2052.5,-461.5 2046.5,-455.5 2046.5,-449.5 2046.5,-449.5 2046.5,-420.5 2046.5,-420.5 2046.5,-414.5 2052.5,-408.5 2058.5,-408.5 2058.5,-408.5 2133.5,-408.5 2133.5,-408.5 2139.5,-408.5 2145.5,-414.5 2145.5,-420.5 2145.5,-420.5 2145.5,-449.5 2145.5,-449.5 2145.5,-455.5 2139.5,-461.5 2133.5,-461.5\"/>\n<text text-anchor=\"middle\" x=\"2096\" y=\"-446.3\" font-family=\"Helvetica,sans-Serif\" font-size=\"14.00\" fill=\"#000000\">gini = 0.0</text>\n<text text-anchor=\"middle\" x=\"2096\" y=\"-431.3\" font-family=\"Helvetica,sans-Serif\" font-size=\"14.00\" fill=\"#000000\">samples = 1</text>\n<text text-anchor=\"middle\" x=\"2096\" y=\"-416.3\" font-family=\"Helvetica,sans-Serif\" font-size=\"14.00\" fill=\"#000000\">value = [0, 1]</text>\n</g>\n<!-- 104&#45;&gt;110 -->\n<g id=\"edge110\" class=\"edge\">\n<title>104&#45;&gt;110</title>\n<path fill=\"none\" stroke=\"#000000\" d=\"M2056.3188,-504.9465C2062.5676,-493.9316 2069.5112,-481.6922 2075.8207,-470.5703\"/>\n<polygon fill=\"#000000\" stroke=\"#000000\" points=\"2079.0523,-471.967 2080.9424,-461.5422 2072.9638,-468.513 2079.0523,-471.967\"/>\n</g>\n<!-- 106 -->\n<g id=\"node107\" class=\"node\">\n<title>106</title>\n<path fill=\"#ffffff\" stroke=\"#000000\" d=\"M1957.5,-365C1957.5,-365 1882.5,-365 1882.5,-365 1876.5,-365 1870.5,-359 1870.5,-353 1870.5,-353 1870.5,-309 1870.5,-309 1870.5,-303 1876.5,-297 1882.5,-297 1882.5,-297 1957.5,-297 1957.5,-297 1963.5,-297 1969.5,-303 1969.5,-309 1969.5,-309 1969.5,-353 1969.5,-353 1969.5,-359 1963.5,-365 1957.5,-365\"/>\n<text text-anchor=\"middle\" x=\"1920\" y=\"-349.8\" font-family=\"Helvetica,sans-Serif\" font-size=\"14.00\" fill=\"#000000\">x1 &lt;= 9.633</text>\n<text text-anchor=\"middle\" x=\"1920\" y=\"-334.8\" font-family=\"Helvetica,sans-Serif\" font-size=\"14.00\" fill=\"#000000\">gini = 0.5</text>\n<text text-anchor=\"middle\" x=\"1920\" y=\"-319.8\" font-family=\"Helvetica,sans-Serif\" font-size=\"14.00\" fill=\"#000000\">samples = 2</text>\n<text text-anchor=\"middle\" x=\"1920\" y=\"-304.8\" font-family=\"Helvetica,sans-Serif\" font-size=\"14.00\" fill=\"#000000\">value = [1, 1]</text>\n</g>\n<!-- 105&#45;&gt;106 -->\n<g id=\"edge106\" class=\"edge\">\n<title>105&#45;&gt;106</title>\n<path fill=\"none\" stroke=\"#000000\" d=\"M1959.0086,-400.9465C1954.2017,-392.3271 1948.9765,-382.9579 1943.9591,-373.9611\"/>\n<polygon fill=\"#000000\" stroke=\"#000000\" points=\"1946.9615,-372.1589 1939.034,-365.13 1940.848,-375.5684 1946.9615,-372.1589\"/>\n</g>\n<!-- 109 -->\n<g id=\"node110\" class=\"node\">\n<title>109</title>\n<path fill=\"#e58139\" stroke=\"#000000\" d=\"M2074.5,-357.5C2074.5,-357.5 1999.5,-357.5 1999.5,-357.5 1993.5,-357.5 1987.5,-351.5 1987.5,-345.5 1987.5,-345.5 1987.5,-316.5 1987.5,-316.5 1987.5,-310.5 1993.5,-304.5 1999.5,-304.5 1999.5,-304.5 2074.5,-304.5 2074.5,-304.5 2080.5,-304.5 2086.5,-310.5 2086.5,-316.5 2086.5,-316.5 2086.5,-345.5 2086.5,-345.5 2086.5,-351.5 2080.5,-357.5 2074.5,-357.5\"/>\n<text text-anchor=\"middle\" x=\"2037\" y=\"-342.3\" font-family=\"Helvetica,sans-Serif\" font-size=\"14.00\" fill=\"#000000\">gini = 0.0</text>\n<text text-anchor=\"middle\" x=\"2037\" y=\"-327.3\" font-family=\"Helvetica,sans-Serif\" font-size=\"14.00\" fill=\"#000000\">samples = 3</text>\n<text text-anchor=\"middle\" x=\"2037\" y=\"-312.3\" font-family=\"Helvetica,sans-Serif\" font-size=\"14.00\" fill=\"#000000\">value = [3, 0]</text>\n</g>\n<!-- 105&#45;&gt;109 -->\n<g id=\"edge109\" class=\"edge\">\n<title>105&#45;&gt;109</title>\n<path fill=\"none\" stroke=\"#000000\" d=\"M1997.3188,-400.9465C2003.5676,-389.9316 2010.5112,-377.6922 2016.8207,-366.5703\"/>\n<polygon fill=\"#000000\" stroke=\"#000000\" points=\"2020.0523,-367.967 2021.9424,-357.5422 2013.9638,-364.513 2020.0523,-367.967\"/>\n</g>\n<!-- 107 -->\n<g id=\"node108\" class=\"node\">\n<title>107</title>\n<path fill=\"#e58139\" stroke=\"#000000\" d=\"M1898.5,-253.5C1898.5,-253.5 1823.5,-253.5 1823.5,-253.5 1817.5,-253.5 1811.5,-247.5 1811.5,-241.5 1811.5,-241.5 1811.5,-212.5 1811.5,-212.5 1811.5,-206.5 1817.5,-200.5 1823.5,-200.5 1823.5,-200.5 1898.5,-200.5 1898.5,-200.5 1904.5,-200.5 1910.5,-206.5 1910.5,-212.5 1910.5,-212.5 1910.5,-241.5 1910.5,-241.5 1910.5,-247.5 1904.5,-253.5 1898.5,-253.5\"/>\n<text text-anchor=\"middle\" x=\"1861\" y=\"-238.3\" font-family=\"Helvetica,sans-Serif\" font-size=\"14.00\" fill=\"#000000\">gini = 0.0</text>\n<text text-anchor=\"middle\" x=\"1861\" y=\"-223.3\" font-family=\"Helvetica,sans-Serif\" font-size=\"14.00\" fill=\"#000000\">samples = 1</text>\n<text text-anchor=\"middle\" x=\"1861\" y=\"-208.3\" font-family=\"Helvetica,sans-Serif\" font-size=\"14.00\" fill=\"#000000\">value = [1, 0]</text>\n</g>\n<!-- 106&#45;&gt;107 -->\n<g id=\"edge107\" class=\"edge\">\n<title>106&#45;&gt;107</title>\n<path fill=\"none\" stroke=\"#000000\" d=\"M1900.6812,-296.9465C1894.4324,-285.9316 1887.4888,-273.6922 1881.1793,-262.5703\"/>\n<polygon fill=\"#000000\" stroke=\"#000000\" points=\"1884.0362,-260.513 1876.0576,-253.5422 1877.9477,-263.967 1884.0362,-260.513\"/>\n</g>\n<!-- 108 -->\n<g id=\"node109\" class=\"node\">\n<title>108</title>\n<path fill=\"#399de5\" stroke=\"#000000\" d=\"M2015.5,-253.5C2015.5,-253.5 1940.5,-253.5 1940.5,-253.5 1934.5,-253.5 1928.5,-247.5 1928.5,-241.5 1928.5,-241.5 1928.5,-212.5 1928.5,-212.5 1928.5,-206.5 1934.5,-200.5 1940.5,-200.5 1940.5,-200.5 2015.5,-200.5 2015.5,-200.5 2021.5,-200.5 2027.5,-206.5 2027.5,-212.5 2027.5,-212.5 2027.5,-241.5 2027.5,-241.5 2027.5,-247.5 2021.5,-253.5 2015.5,-253.5\"/>\n<text text-anchor=\"middle\" x=\"1978\" y=\"-238.3\" font-family=\"Helvetica,sans-Serif\" font-size=\"14.00\" fill=\"#000000\">gini = 0.0</text>\n<text text-anchor=\"middle\" x=\"1978\" y=\"-223.3\" font-family=\"Helvetica,sans-Serif\" font-size=\"14.00\" fill=\"#000000\">samples = 1</text>\n<text text-anchor=\"middle\" x=\"1978\" y=\"-208.3\" font-family=\"Helvetica,sans-Serif\" font-size=\"14.00\" fill=\"#000000\">value = [0, 1]</text>\n</g>\n<!-- 106&#45;&gt;108 -->\n<g id=\"edge108\" class=\"edge\">\n<title>106&#45;&gt;108</title>\n<path fill=\"none\" stroke=\"#000000\" d=\"M1938.9914,-296.9465C1945.1343,-285.9316 1951.9601,-273.6922 1958.1627,-262.5703\"/>\n<polygon fill=\"#000000\" stroke=\"#000000\" points=\"1961.3837,-263.9806 1963.1976,-253.5422 1955.2701,-260.5711 1961.3837,-263.9806\"/>\n</g>\n<!-- 112 -->\n<g id=\"node113\" class=\"node\">\n<title>112</title>\n<path fill=\"#e58139\" stroke=\"#000000\" d=\"M2073.5,-877.5C2073.5,-877.5 1998.5,-877.5 1998.5,-877.5 1992.5,-877.5 1986.5,-871.5 1986.5,-865.5 1986.5,-865.5 1986.5,-836.5 1986.5,-836.5 1986.5,-830.5 1992.5,-824.5 1998.5,-824.5 1998.5,-824.5 2073.5,-824.5 2073.5,-824.5 2079.5,-824.5 2085.5,-830.5 2085.5,-836.5 2085.5,-836.5 2085.5,-865.5 2085.5,-865.5 2085.5,-871.5 2079.5,-877.5 2073.5,-877.5\"/>\n<text text-anchor=\"middle\" x=\"2036\" y=\"-862.3\" font-family=\"Helvetica,sans-Serif\" font-size=\"14.00\" fill=\"#000000\">gini = 0.0</text>\n<text text-anchor=\"middle\" x=\"2036\" y=\"-847.3\" font-family=\"Helvetica,sans-Serif\" font-size=\"14.00\" fill=\"#000000\">samples = 5</text>\n<text text-anchor=\"middle\" x=\"2036\" y=\"-832.3\" font-family=\"Helvetica,sans-Serif\" font-size=\"14.00\" fill=\"#000000\">value = [5, 0]</text>\n</g>\n<!-- 111&#45;&gt;112 -->\n<g id=\"edge112\" class=\"edge\">\n<title>111&#45;&gt;112</title>\n<path fill=\"none\" stroke=\"#000000\" d=\"M2015.8231,-920.9465C2018.937,-910.1519 2022.39,-898.1813 2025.5465,-887.2389\"/>\n<polygon fill=\"#000000\" stroke=\"#000000\" points=\"2028.9348,-888.1205 2028.3436,-877.5422 2022.209,-886.1803 2028.9348,-888.1205\"/>\n</g>\n<!-- 113 -->\n<g id=\"node114\" class=\"node\">\n<title>113</title>\n<path fill=\"#eb9d65\" stroke=\"#000000\" d=\"M2196,-885C2196,-885 2116,-885 2116,-885 2110,-885 2104,-879 2104,-873 2104,-873 2104,-829 2104,-829 2104,-823 2110,-817 2116,-817 2116,-817 2196,-817 2196,-817 2202,-817 2208,-823 2208,-829 2208,-829 2208,-873 2208,-873 2208,-879 2202,-885 2196,-885\"/>\n<text text-anchor=\"middle\" x=\"2156\" y=\"-869.8\" font-family=\"Helvetica,sans-Serif\" font-size=\"14.00\" fill=\"#000000\">x1 &lt;= 9.906</text>\n<text text-anchor=\"middle\" x=\"2156\" y=\"-854.8\" font-family=\"Helvetica,sans-Serif\" font-size=\"14.00\" fill=\"#000000\">gini = 0.298</text>\n<text text-anchor=\"middle\" x=\"2156\" y=\"-839.8\" font-family=\"Helvetica,sans-Serif\" font-size=\"14.00\" fill=\"#000000\">samples = 11</text>\n<text text-anchor=\"middle\" x=\"2156\" y=\"-824.8\" font-family=\"Helvetica,sans-Serif\" font-size=\"14.00\" fill=\"#000000\">value = [9, 2]</text>\n</g>\n<!-- 111&#45;&gt;113 -->\n<g id=\"edge113\" class=\"edge\">\n<title>111&#45;&gt;113</title>\n<path fill=\"none\" stroke=\"#000000\" d=\"M2055.1156,-920.9465C2068.9719,-911.3395 2084.1717,-900.8009 2098.4739,-890.8848\"/>\n<polygon fill=\"#000000\" stroke=\"#000000\" points=\"2100.5503,-893.7041 2106.774,-885.13 2096.5618,-887.9515 2100.5503,-893.7041\"/>\n</g>\n<!-- 114 -->\n<g id=\"node115\" class=\"node\">\n<title>114</title>\n<path fill=\"#399de5\" stroke=\"#000000\" d=\"M2193.5,-773.5C2193.5,-773.5 2118.5,-773.5 2118.5,-773.5 2112.5,-773.5 2106.5,-767.5 2106.5,-761.5 2106.5,-761.5 2106.5,-732.5 2106.5,-732.5 2106.5,-726.5 2112.5,-720.5 2118.5,-720.5 2118.5,-720.5 2193.5,-720.5 2193.5,-720.5 2199.5,-720.5 2205.5,-726.5 2205.5,-732.5 2205.5,-732.5 2205.5,-761.5 2205.5,-761.5 2205.5,-767.5 2199.5,-773.5 2193.5,-773.5\"/>\n<text text-anchor=\"middle\" x=\"2156\" y=\"-758.3\" font-family=\"Helvetica,sans-Serif\" font-size=\"14.00\" fill=\"#000000\">gini = 0.0</text>\n<text text-anchor=\"middle\" x=\"2156\" y=\"-743.3\" font-family=\"Helvetica,sans-Serif\" font-size=\"14.00\" fill=\"#000000\">samples = 1</text>\n<text text-anchor=\"middle\" x=\"2156\" y=\"-728.3\" font-family=\"Helvetica,sans-Serif\" font-size=\"14.00\" fill=\"#000000\">value = [0, 1]</text>\n</g>\n<!-- 113&#45;&gt;114 -->\n<g id=\"edge114\" class=\"edge\">\n<title>113&#45;&gt;114</title>\n<path fill=\"none\" stroke=\"#000000\" d=\"M2156,-816.9465C2156,-806.2621 2156,-794.4254 2156,-783.5742\"/>\n<polygon fill=\"#000000\" stroke=\"#000000\" points=\"2159.5001,-783.5421 2156,-773.5422 2152.5001,-783.5422 2159.5001,-783.5421\"/>\n</g>\n<!-- 115 -->\n<g id=\"node116\" class=\"node\">\n<title>115</title>\n<path fill=\"#e88f4f\" stroke=\"#000000\" d=\"M2316,-781C2316,-781 2236,-781 2236,-781 2230,-781 2224,-775 2224,-769 2224,-769 2224,-725 2224,-725 2224,-719 2230,-713 2236,-713 2236,-713 2316,-713 2316,-713 2322,-713 2328,-719 2328,-725 2328,-725 2328,-769 2328,-769 2328,-775 2322,-781 2316,-781\"/>\n<text text-anchor=\"middle\" x=\"2276\" y=\"-765.8\" font-family=\"Helvetica,sans-Serif\" font-size=\"14.00\" fill=\"#000000\">x2 &lt;= &#45;4.641</text>\n<text text-anchor=\"middle\" x=\"2276\" y=\"-750.8\" font-family=\"Helvetica,sans-Serif\" font-size=\"14.00\" fill=\"#000000\">gini = 0.18</text>\n<text text-anchor=\"middle\" x=\"2276\" y=\"-735.8\" font-family=\"Helvetica,sans-Serif\" font-size=\"14.00\" fill=\"#000000\">samples = 10</text>\n<text text-anchor=\"middle\" x=\"2276\" y=\"-720.8\" font-family=\"Helvetica,sans-Serif\" font-size=\"14.00\" fill=\"#000000\">value = [9, 1]</text>\n</g>\n<!-- 113&#45;&gt;115 -->\n<g id=\"edge115\" class=\"edge\">\n<title>113&#45;&gt;115</title>\n<path fill=\"none\" stroke=\"#000000\" d=\"M2195.2925,-816.9465C2206.0667,-807.6088 2217.8564,-797.3911 2229.015,-787.7203\"/>\n<polygon fill=\"#000000\" stroke=\"#000000\" points=\"2231.3546,-790.3243 2236.6192,-781.13 2226.7701,-785.0344 2231.3546,-790.3243\"/>\n</g>\n<!-- 116 -->\n<g id=\"node117\" class=\"node\">\n<title>116</title>\n<path fill=\"#e58139\" stroke=\"#000000\" d=\"M2254.5,-669.5C2254.5,-669.5 2179.5,-669.5 2179.5,-669.5 2173.5,-669.5 2167.5,-663.5 2167.5,-657.5 2167.5,-657.5 2167.5,-628.5 2167.5,-628.5 2167.5,-622.5 2173.5,-616.5 2179.5,-616.5 2179.5,-616.5 2254.5,-616.5 2254.5,-616.5 2260.5,-616.5 2266.5,-622.5 2266.5,-628.5 2266.5,-628.5 2266.5,-657.5 2266.5,-657.5 2266.5,-663.5 2260.5,-669.5 2254.5,-669.5\"/>\n<text text-anchor=\"middle\" x=\"2217\" y=\"-654.3\" font-family=\"Helvetica,sans-Serif\" font-size=\"14.00\" fill=\"#000000\">gini = 0.0</text>\n<text text-anchor=\"middle\" x=\"2217\" y=\"-639.3\" font-family=\"Helvetica,sans-Serif\" font-size=\"14.00\" fill=\"#000000\">samples = 6</text>\n<text text-anchor=\"middle\" x=\"2217\" y=\"-624.3\" font-family=\"Helvetica,sans-Serif\" font-size=\"14.00\" fill=\"#000000\">value = [6, 0]</text>\n</g>\n<!-- 115&#45;&gt;116 -->\n<g id=\"edge116\" class=\"edge\">\n<title>115&#45;&gt;116</title>\n<path fill=\"none\" stroke=\"#000000\" d=\"M2256.6812,-712.9465C2250.4324,-701.9316 2243.4888,-689.6922 2237.1793,-678.5703\"/>\n<polygon fill=\"#000000\" stroke=\"#000000\" points=\"2240.0362,-676.513 2232.0576,-669.5422 2233.9477,-679.967 2240.0362,-676.513\"/>\n</g>\n<!-- 117 -->\n<g id=\"node118\" class=\"node\">\n<title>117</title>\n<path fill=\"#eeab7b\" stroke=\"#000000\" d=\"M2373.5,-677C2373.5,-677 2296.5,-677 2296.5,-677 2290.5,-677 2284.5,-671 2284.5,-665 2284.5,-665 2284.5,-621 2284.5,-621 2284.5,-615 2290.5,-609 2296.5,-609 2296.5,-609 2373.5,-609 2373.5,-609 2379.5,-609 2385.5,-615 2385.5,-621 2385.5,-621 2385.5,-665 2385.5,-665 2385.5,-671 2379.5,-677 2373.5,-677\"/>\n<text text-anchor=\"middle\" x=\"2335\" y=\"-661.8\" font-family=\"Helvetica,sans-Serif\" font-size=\"14.00\" fill=\"#000000\">x1 &lt;= 16.638</text>\n<text text-anchor=\"middle\" x=\"2335\" y=\"-646.8\" font-family=\"Helvetica,sans-Serif\" font-size=\"14.00\" fill=\"#000000\">gini = 0.375</text>\n<text text-anchor=\"middle\" x=\"2335\" y=\"-631.8\" font-family=\"Helvetica,sans-Serif\" font-size=\"14.00\" fill=\"#000000\">samples = 4</text>\n<text text-anchor=\"middle\" x=\"2335\" y=\"-616.8\" font-family=\"Helvetica,sans-Serif\" font-size=\"14.00\" fill=\"#000000\">value = [3, 1]</text>\n</g>\n<!-- 115&#45;&gt;117 -->\n<g id=\"edge117\" class=\"edge\">\n<title>115&#45;&gt;117</title>\n<path fill=\"none\" stroke=\"#000000\" d=\"M2295.3188,-712.9465C2300.2087,-704.3271 2305.5239,-694.9579 2310.6278,-685.9611\"/>\n<polygon fill=\"#000000\" stroke=\"#000000\" points=\"2313.7476,-687.5549 2315.6378,-677.13 2307.6592,-684.1008 2313.7476,-687.5549\"/>\n</g>\n<!-- 118 -->\n<g id=\"node119\" class=\"node\">\n<title>118</title>\n<path fill=\"#e58139\" stroke=\"#000000\" d=\"M2313.5,-565.5C2313.5,-565.5 2238.5,-565.5 2238.5,-565.5 2232.5,-565.5 2226.5,-559.5 2226.5,-553.5 2226.5,-553.5 2226.5,-524.5 2226.5,-524.5 2226.5,-518.5 2232.5,-512.5 2238.5,-512.5 2238.5,-512.5 2313.5,-512.5 2313.5,-512.5 2319.5,-512.5 2325.5,-518.5 2325.5,-524.5 2325.5,-524.5 2325.5,-553.5 2325.5,-553.5 2325.5,-559.5 2319.5,-565.5 2313.5,-565.5\"/>\n<text text-anchor=\"middle\" x=\"2276\" y=\"-550.3\" font-family=\"Helvetica,sans-Serif\" font-size=\"14.00\" fill=\"#000000\">gini = 0.0</text>\n<text text-anchor=\"middle\" x=\"2276\" y=\"-535.3\" font-family=\"Helvetica,sans-Serif\" font-size=\"14.00\" fill=\"#000000\">samples = 3</text>\n<text text-anchor=\"middle\" x=\"2276\" y=\"-520.3\" font-family=\"Helvetica,sans-Serif\" font-size=\"14.00\" fill=\"#000000\">value = [3, 0]</text>\n</g>\n<!-- 117&#45;&gt;118 -->\n<g id=\"edge118\" class=\"edge\">\n<title>117&#45;&gt;118</title>\n<path fill=\"none\" stroke=\"#000000\" d=\"M2315.6812,-608.9465C2309.4324,-597.9316 2302.4888,-585.6922 2296.1793,-574.5703\"/>\n<polygon fill=\"#000000\" stroke=\"#000000\" points=\"2299.0362,-572.513 2291.0576,-565.5422 2292.9477,-575.967 2299.0362,-572.513\"/>\n</g>\n<!-- 119 -->\n<g id=\"node120\" class=\"node\">\n<title>119</title>\n<path fill=\"#399de5\" stroke=\"#000000\" d=\"M2430.5,-565.5C2430.5,-565.5 2355.5,-565.5 2355.5,-565.5 2349.5,-565.5 2343.5,-559.5 2343.5,-553.5 2343.5,-553.5 2343.5,-524.5 2343.5,-524.5 2343.5,-518.5 2349.5,-512.5 2355.5,-512.5 2355.5,-512.5 2430.5,-512.5 2430.5,-512.5 2436.5,-512.5 2442.5,-518.5 2442.5,-524.5 2442.5,-524.5 2442.5,-553.5 2442.5,-553.5 2442.5,-559.5 2436.5,-565.5 2430.5,-565.5\"/>\n<text text-anchor=\"middle\" x=\"2393\" y=\"-550.3\" font-family=\"Helvetica,sans-Serif\" font-size=\"14.00\" fill=\"#000000\">gini = 0.0</text>\n<text text-anchor=\"middle\" x=\"2393\" y=\"-535.3\" font-family=\"Helvetica,sans-Serif\" font-size=\"14.00\" fill=\"#000000\">samples = 1</text>\n<text text-anchor=\"middle\" x=\"2393\" y=\"-520.3\" font-family=\"Helvetica,sans-Serif\" font-size=\"14.00\" fill=\"#000000\">value = [0, 1]</text>\n</g>\n<!-- 117&#45;&gt;119 -->\n<g id=\"edge119\" class=\"edge\">\n<title>117&#45;&gt;119</title>\n<path fill=\"none\" stroke=\"#000000\" d=\"M2353.9914,-608.9465C2360.1343,-597.9316 2366.9601,-585.6922 2373.1627,-574.5703\"/>\n<polygon fill=\"#000000\" stroke=\"#000000\" points=\"2376.3837,-575.9806 2378.1976,-565.5422 2370.2701,-572.5711 2376.3837,-575.9806\"/>\n</g>\n<!-- 121 -->\n<g id=\"node122\" class=\"node\">\n<title>121</title>\n<path fill=\"#4ba6e7\" stroke=\"#000000\" d=\"M1499.5,-1405C1499.5,-1405 1416.5,-1405 1416.5,-1405 1410.5,-1405 1404.5,-1399 1404.5,-1393 1404.5,-1393 1404.5,-1349 1404.5,-1349 1404.5,-1343 1410.5,-1337 1416.5,-1337 1416.5,-1337 1499.5,-1337 1499.5,-1337 1505.5,-1337 1511.5,-1343 1511.5,-1349 1511.5,-1349 1511.5,-1393 1511.5,-1393 1511.5,-1399 1505.5,-1405 1499.5,-1405\"/>\n<text text-anchor=\"middle\" x=\"1458\" y=\"-1389.8\" font-family=\"Helvetica,sans-Serif\" font-size=\"14.00\" fill=\"#000000\">x2 &lt;= 8.049</text>\n<text text-anchor=\"middle\" x=\"1458\" y=\"-1374.8\" font-family=\"Helvetica,sans-Serif\" font-size=\"14.00\" fill=\"#000000\">gini = 0.153</text>\n<text text-anchor=\"middle\" x=\"1458\" y=\"-1359.8\" font-family=\"Helvetica,sans-Serif\" font-size=\"14.00\" fill=\"#000000\">samples = 36</text>\n<text text-anchor=\"middle\" x=\"1458\" y=\"-1344.8\" font-family=\"Helvetica,sans-Serif\" font-size=\"14.00\" fill=\"#000000\">value = [3, 33]</text>\n</g>\n<!-- 120&#45;&gt;121 -->\n<g id=\"edge121\" class=\"edge\">\n<title>120&#45;&gt;121</title>\n<path fill=\"none\" stroke=\"#000000\" d=\"M1456.6549,-1440.9465C1456.812,-1432.776 1456.9821,-1423.9318 1457.1467,-1415.3697\"/>\n<polygon fill=\"#000000\" stroke=\"#000000\" points=\"1460.6506,-1415.1955 1457.3437,-1405.13 1453.6519,-1415.0608 1460.6506,-1415.1955\"/>\n</g>\n<!-- 130 -->\n<g id=\"node131\" class=\"node\">\n<title>130</title>\n<path fill=\"#e58139\" stroke=\"#000000\" d=\"M1616.5,-1397.5C1616.5,-1397.5 1541.5,-1397.5 1541.5,-1397.5 1535.5,-1397.5 1529.5,-1391.5 1529.5,-1385.5 1529.5,-1385.5 1529.5,-1356.5 1529.5,-1356.5 1529.5,-1350.5 1535.5,-1344.5 1541.5,-1344.5 1541.5,-1344.5 1616.5,-1344.5 1616.5,-1344.5 1622.5,-1344.5 1628.5,-1350.5 1628.5,-1356.5 1628.5,-1356.5 1628.5,-1385.5 1628.5,-1385.5 1628.5,-1391.5 1622.5,-1397.5 1616.5,-1397.5\"/>\n<text text-anchor=\"middle\" x=\"1579\" y=\"-1382.3\" font-family=\"Helvetica,sans-Serif\" font-size=\"14.00\" fill=\"#000000\">gini = 0.0</text>\n<text text-anchor=\"middle\" x=\"1579\" y=\"-1367.3\" font-family=\"Helvetica,sans-Serif\" font-size=\"14.00\" fill=\"#000000\">samples = 2</text>\n<text text-anchor=\"middle\" x=\"1579\" y=\"-1352.3\" font-family=\"Helvetica,sans-Serif\" font-size=\"14.00\" fill=\"#000000\">value = [2, 0]</text>\n</g>\n<!-- 120&#45;&gt;130 -->\n<g id=\"edge130\" class=\"edge\">\n<title>120&#45;&gt;130</title>\n<path fill=\"none\" stroke=\"#000000\" d=\"M1496.2748,-1440.9465C1510.2139,-1429.1606 1525.8112,-1415.9726 1539.6732,-1404.2519\"/>\n<polygon fill=\"#000000\" stroke=\"#000000\" points=\"1542.2324,-1406.6715 1547.6088,-1397.5422 1537.7127,-1401.3262 1542.2324,-1406.6715\"/>\n</g>\n<!-- 122 -->\n<g id=\"node123\" class=\"node\">\n<title>122</title>\n<path fill=\"#61b1ea\" stroke=\"#000000\" d=\"M1500.5,-1301C1500.5,-1301 1417.5,-1301 1417.5,-1301 1411.5,-1301 1405.5,-1295 1405.5,-1289 1405.5,-1289 1405.5,-1245 1405.5,-1245 1405.5,-1239 1411.5,-1233 1417.5,-1233 1417.5,-1233 1500.5,-1233 1500.5,-1233 1506.5,-1233 1512.5,-1239 1512.5,-1245 1512.5,-1245 1512.5,-1289 1512.5,-1289 1512.5,-1295 1506.5,-1301 1500.5,-1301\"/>\n<text text-anchor=\"middle\" x=\"1459\" y=\"-1285.8\" font-family=\"Helvetica,sans-Serif\" font-size=\"14.00\" fill=\"#000000\">x2 &lt;= 6.771</text>\n<text text-anchor=\"middle\" x=\"1459\" y=\"-1270.8\" font-family=\"Helvetica,sans-Serif\" font-size=\"14.00\" fill=\"#000000\">gini = 0.278</text>\n<text text-anchor=\"middle\" x=\"1459\" y=\"-1255.8\" font-family=\"Helvetica,sans-Serif\" font-size=\"14.00\" fill=\"#000000\">samples = 18</text>\n<text text-anchor=\"middle\" x=\"1459\" y=\"-1240.8\" font-family=\"Helvetica,sans-Serif\" font-size=\"14.00\" fill=\"#000000\">value = [3, 15]</text>\n</g>\n<!-- 121&#45;&gt;122 -->\n<g id=\"edge122\" class=\"edge\">\n<title>121&#45;&gt;122</title>\n<path fill=\"none\" stroke=\"#000000\" d=\"M1458.3274,-1336.9465C1458.406,-1328.776 1458.491,-1319.9318 1458.5734,-1311.3697\"/>\n<polygon fill=\"#000000\" stroke=\"#000000\" points=\"1462.0754,-1311.1632 1458.6718,-1301.13 1455.0757,-1311.0958 1462.0754,-1311.1632\"/>\n</g>\n<!-- 129 -->\n<g id=\"node130\" class=\"node\">\n<title>129</title>\n<path fill=\"#399de5\" stroke=\"#000000\" d=\"M1625.5,-1293.5C1625.5,-1293.5 1542.5,-1293.5 1542.5,-1293.5 1536.5,-1293.5 1530.5,-1287.5 1530.5,-1281.5 1530.5,-1281.5 1530.5,-1252.5 1530.5,-1252.5 1530.5,-1246.5 1536.5,-1240.5 1542.5,-1240.5 1542.5,-1240.5 1625.5,-1240.5 1625.5,-1240.5 1631.5,-1240.5 1637.5,-1246.5 1637.5,-1252.5 1637.5,-1252.5 1637.5,-1281.5 1637.5,-1281.5 1637.5,-1287.5 1631.5,-1293.5 1625.5,-1293.5\"/>\n<text text-anchor=\"middle\" x=\"1584\" y=\"-1278.3\" font-family=\"Helvetica,sans-Serif\" font-size=\"14.00\" fill=\"#000000\">gini = 0.0</text>\n<text text-anchor=\"middle\" x=\"1584\" y=\"-1263.3\" font-family=\"Helvetica,sans-Serif\" font-size=\"14.00\" fill=\"#000000\">samples = 18</text>\n<text text-anchor=\"middle\" x=\"1584\" y=\"-1248.3\" font-family=\"Helvetica,sans-Serif\" font-size=\"14.00\" fill=\"#000000\">value = [0, 18]</text>\n</g>\n<!-- 121&#45;&gt;129 -->\n<g id=\"edge129\" class=\"edge\">\n<title>121&#45;&gt;129</title>\n<path fill=\"none\" stroke=\"#000000\" d=\"M1499.2571,-1336.9465C1513.6697,-1325.0504 1529.8127,-1311.726 1544.1117,-1299.9237\"/>\n<polygon fill=\"#000000\" stroke=\"#000000\" points=\"1546.3589,-1302.6071 1551.8431,-1293.5422 1541.9029,-1297.2086 1546.3589,-1302.6071\"/>\n</g>\n<!-- 123 -->\n<g id=\"node124\" class=\"node\">\n<title>123</title>\n<path fill=\"#399de5\" stroke=\"#000000\" d=\"M1564.5,-1189.5C1564.5,-1189.5 1481.5,-1189.5 1481.5,-1189.5 1475.5,-1189.5 1469.5,-1183.5 1469.5,-1177.5 1469.5,-1177.5 1469.5,-1148.5 1469.5,-1148.5 1469.5,-1142.5 1475.5,-1136.5 1481.5,-1136.5 1481.5,-1136.5 1564.5,-1136.5 1564.5,-1136.5 1570.5,-1136.5 1576.5,-1142.5 1576.5,-1148.5 1576.5,-1148.5 1576.5,-1177.5 1576.5,-1177.5 1576.5,-1183.5 1570.5,-1189.5 1564.5,-1189.5\"/>\n<text text-anchor=\"middle\" x=\"1523\" y=\"-1174.3\" font-family=\"Helvetica,sans-Serif\" font-size=\"14.00\" fill=\"#000000\">gini = 0.0</text>\n<text text-anchor=\"middle\" x=\"1523\" y=\"-1159.3\" font-family=\"Helvetica,sans-Serif\" font-size=\"14.00\" fill=\"#000000\">samples = 13</text>\n<text text-anchor=\"middle\" x=\"1523\" y=\"-1144.3\" font-family=\"Helvetica,sans-Serif\" font-size=\"14.00\" fill=\"#000000\">value = [0, 13]</text>\n</g>\n<!-- 122&#45;&gt;123 -->\n<g id=\"edge123\" class=\"edge\">\n<title>122&#45;&gt;123</title>\n<path fill=\"none\" stroke=\"#000000\" d=\"M1479.956,-1232.9465C1486.8022,-1221.8215 1494.4171,-1209.4473 1501.3157,-1198.237\"/>\n<polygon fill=\"#000000\" stroke=\"#000000\" points=\"1504.4061,-1199.8931 1506.6664,-1189.5422 1498.4445,-1196.2244 1504.4061,-1199.8931\"/>\n</g>\n<!-- 124 -->\n<g id=\"node125\" class=\"node\">\n<title>124</title>\n<path fill=\"#f6d5bd\" stroke=\"#000000\" d=\"M2017.5,-1197C2017.5,-1197 1942.5,-1197 1942.5,-1197 1936.5,-1197 1930.5,-1191 1930.5,-1185 1930.5,-1185 1930.5,-1141 1930.5,-1141 1930.5,-1135 1936.5,-1129 1942.5,-1129 1942.5,-1129 2017.5,-1129 2017.5,-1129 2023.5,-1129 2029.5,-1135 2029.5,-1141 2029.5,-1141 2029.5,-1185 2029.5,-1185 2029.5,-1191 2023.5,-1197 2017.5,-1197\"/>\n<text text-anchor=\"middle\" x=\"1980\" y=\"-1181.8\" font-family=\"Helvetica,sans-Serif\" font-size=\"14.00\" fill=\"#000000\">x2 &lt;= 7.415</text>\n<text text-anchor=\"middle\" x=\"1980\" y=\"-1166.8\" font-family=\"Helvetica,sans-Serif\" font-size=\"14.00\" fill=\"#000000\">gini = 0.48</text>\n<text text-anchor=\"middle\" x=\"1980\" y=\"-1151.8\" font-family=\"Helvetica,sans-Serif\" font-size=\"14.00\" fill=\"#000000\">samples = 5</text>\n<text text-anchor=\"middle\" x=\"1980\" y=\"-1136.8\" font-family=\"Helvetica,sans-Serif\" font-size=\"14.00\" fill=\"#000000\">value = [3, 2]</text>\n</g>\n<!-- 122&#45;&gt;124 -->\n<g id=\"edge124\" class=\"edge\">\n<title>122&#45;&gt;124</title>\n<path fill=\"none\" stroke=\"#000000\" d=\"M1512.5916,-1236.1685C1515.397,-1235.0114 1518.2093,-1233.9449 1521,-1233 1659.0732,-1186.2502 1831.1201,-1170.6184 1920.2425,-1165.4693\"/>\n<polygon fill=\"#000000\" stroke=\"#000000\" points=\"1920.64,-1168.9528 1930.4314,-1164.9057 1920.2533,-1161.9635 1920.64,-1168.9528\"/>\n</g>\n<!-- 125 -->\n<g id=\"node126\" class=\"node\">\n<title>125</title>\n<path fill=\"#e58139\" stroke=\"#000000\" d=\"M2017.5,-1085.5C2017.5,-1085.5 1942.5,-1085.5 1942.5,-1085.5 1936.5,-1085.5 1930.5,-1079.5 1930.5,-1073.5 1930.5,-1073.5 1930.5,-1044.5 1930.5,-1044.5 1930.5,-1038.5 1936.5,-1032.5 1942.5,-1032.5 1942.5,-1032.5 2017.5,-1032.5 2017.5,-1032.5 2023.5,-1032.5 2029.5,-1038.5 2029.5,-1044.5 2029.5,-1044.5 2029.5,-1073.5 2029.5,-1073.5 2029.5,-1079.5 2023.5,-1085.5 2017.5,-1085.5\"/>\n<text text-anchor=\"middle\" x=\"1980\" y=\"-1070.3\" font-family=\"Helvetica,sans-Serif\" font-size=\"14.00\" fill=\"#000000\">gini = 0.0</text>\n<text text-anchor=\"middle\" x=\"1980\" y=\"-1055.3\" font-family=\"Helvetica,sans-Serif\" font-size=\"14.00\" fill=\"#000000\">samples = 2</text>\n<text text-anchor=\"middle\" x=\"1980\" y=\"-1040.3\" font-family=\"Helvetica,sans-Serif\" font-size=\"14.00\" fill=\"#000000\">value = [2, 0]</text>\n</g>\n<!-- 124&#45;&gt;125 -->\n<g id=\"edge125\" class=\"edge\">\n<title>124&#45;&gt;125</title>\n<path fill=\"none\" stroke=\"#000000\" d=\"M1980,-1128.9465C1980,-1118.2621 1980,-1106.4254 1980,-1095.5742\"/>\n<polygon fill=\"#000000\" stroke=\"#000000\" points=\"1983.5001,-1095.5421 1980,-1085.5422 1976.5001,-1095.5422 1983.5001,-1095.5421\"/>\n</g>\n<!-- 126 -->\n<g id=\"node127\" class=\"node\">\n<title>126</title>\n<path fill=\"#9ccef2\" stroke=\"#000000\" d=\"M2164.5,-1093C2164.5,-1093 2089.5,-1093 2089.5,-1093 2083.5,-1093 2077.5,-1087 2077.5,-1081 2077.5,-1081 2077.5,-1037 2077.5,-1037 2077.5,-1031 2083.5,-1025 2089.5,-1025 2089.5,-1025 2164.5,-1025 2164.5,-1025 2170.5,-1025 2176.5,-1031 2176.5,-1037 2176.5,-1037 2176.5,-1081 2176.5,-1081 2176.5,-1087 2170.5,-1093 2164.5,-1093\"/>\n<text text-anchor=\"middle\" x=\"2127\" y=\"-1077.8\" font-family=\"Helvetica,sans-Serif\" font-size=\"14.00\" fill=\"#000000\">x2 &lt;= 7.839</text>\n<text text-anchor=\"middle\" x=\"2127\" y=\"-1062.8\" font-family=\"Helvetica,sans-Serif\" font-size=\"14.00\" fill=\"#000000\">gini = 0.444</text>\n<text text-anchor=\"middle\" x=\"2127\" y=\"-1047.8\" font-family=\"Helvetica,sans-Serif\" font-size=\"14.00\" fill=\"#000000\">samples = 3</text>\n<text text-anchor=\"middle\" x=\"2127\" y=\"-1032.8\" font-family=\"Helvetica,sans-Serif\" font-size=\"14.00\" fill=\"#000000\">value = [1, 2]</text>\n</g>\n<!-- 124&#45;&gt;126 -->\n<g id=\"edge126\" class=\"edge\">\n<title>124&#45;&gt;126</title>\n<path fill=\"none\" stroke=\"#000000\" d=\"M2028.1333,-1128.9465C2041.5856,-1119.4293 2056.33,-1108.9978 2070.2312,-1099.163\"/>\n<polygon fill=\"#000000\" stroke=\"#000000\" points=\"2072.6165,-1101.7628 2078.7586,-1093.13 2068.5736,-1096.0483 2072.6165,-1101.7628\"/>\n</g>\n<!-- 127 -->\n<g id=\"node128\" class=\"node\">\n<title>127</title>\n<path fill=\"#399de5\" stroke=\"#000000\" d=\"M2164.5,-981.5C2164.5,-981.5 2089.5,-981.5 2089.5,-981.5 2083.5,-981.5 2077.5,-975.5 2077.5,-969.5 2077.5,-969.5 2077.5,-940.5 2077.5,-940.5 2077.5,-934.5 2083.5,-928.5 2089.5,-928.5 2089.5,-928.5 2164.5,-928.5 2164.5,-928.5 2170.5,-928.5 2176.5,-934.5 2176.5,-940.5 2176.5,-940.5 2176.5,-969.5 2176.5,-969.5 2176.5,-975.5 2170.5,-981.5 2164.5,-981.5\"/>\n<text text-anchor=\"middle\" x=\"2127\" y=\"-966.3\" font-family=\"Helvetica,sans-Serif\" font-size=\"14.00\" fill=\"#000000\">gini = 0.0</text>\n<text text-anchor=\"middle\" x=\"2127\" y=\"-951.3\" font-family=\"Helvetica,sans-Serif\" font-size=\"14.00\" fill=\"#000000\">samples = 2</text>\n<text text-anchor=\"middle\" x=\"2127\" y=\"-936.3\" font-family=\"Helvetica,sans-Serif\" font-size=\"14.00\" fill=\"#000000\">value = [0, 2]</text>\n</g>\n<!-- 126&#45;&gt;127 -->\n<g id=\"edge127\" class=\"edge\">\n<title>126&#45;&gt;127</title>\n<path fill=\"none\" stroke=\"#000000\" d=\"M2127,-1024.9465C2127,-1014.2621 2127,-1002.4254 2127,-991.5742\"/>\n<polygon fill=\"#000000\" stroke=\"#000000\" points=\"2130.5001,-991.5421 2127,-981.5422 2123.5001,-991.5422 2130.5001,-991.5421\"/>\n</g>\n<!-- 128 -->\n<g id=\"node129\" class=\"node\">\n<title>128</title>\n<path fill=\"#e58139\" stroke=\"#000000\" d=\"M2281.5,-981.5C2281.5,-981.5 2206.5,-981.5 2206.5,-981.5 2200.5,-981.5 2194.5,-975.5 2194.5,-969.5 2194.5,-969.5 2194.5,-940.5 2194.5,-940.5 2194.5,-934.5 2200.5,-928.5 2206.5,-928.5 2206.5,-928.5 2281.5,-928.5 2281.5,-928.5 2287.5,-928.5 2293.5,-934.5 2293.5,-940.5 2293.5,-940.5 2293.5,-969.5 2293.5,-969.5 2293.5,-975.5 2287.5,-981.5 2281.5,-981.5\"/>\n<text text-anchor=\"middle\" x=\"2244\" y=\"-966.3\" font-family=\"Helvetica,sans-Serif\" font-size=\"14.00\" fill=\"#000000\">gini = 0.0</text>\n<text text-anchor=\"middle\" x=\"2244\" y=\"-951.3\" font-family=\"Helvetica,sans-Serif\" font-size=\"14.00\" fill=\"#000000\">samples = 1</text>\n<text text-anchor=\"middle\" x=\"2244\" y=\"-936.3\" font-family=\"Helvetica,sans-Serif\" font-size=\"14.00\" fill=\"#000000\">value = [1, 0]</text>\n</g>\n<!-- 126&#45;&gt;128 -->\n<g id=\"edge128\" class=\"edge\">\n<title>126&#45;&gt;128</title>\n<path fill=\"none\" stroke=\"#000000\" d=\"M2165.3102,-1024.9465C2178.5694,-1013.1606 2193.4058,-999.9726 2206.5916,-988.2519\"/>\n<polygon fill=\"#000000\" stroke=\"#000000\" points=\"2208.9912,-990.8018 2214.1401,-981.5422 2204.3407,-985.5699 2208.9912,-990.8018\"/>\n</g>\n<!-- 132 -->\n<g id=\"node133\" class=\"node\">\n<title>132</title>\n<path fill=\"#3b9ee5\" stroke=\"#000000\" d=\"M1753,-1613C1753,-1613 1661,-1613 1661,-1613 1655,-1613 1649,-1607 1649,-1601 1649,-1601 1649,-1557 1649,-1557 1649,-1551 1655,-1545 1661,-1545 1661,-1545 1753,-1545 1753,-1545 1759,-1545 1765,-1551 1765,-1557 1765,-1557 1765,-1601 1765,-1601 1765,-1607 1759,-1613 1753,-1613\"/>\n<text text-anchor=\"middle\" x=\"1707\" y=\"-1597.8\" font-family=\"Helvetica,sans-Serif\" font-size=\"14.00\" fill=\"#000000\">x2 &lt;= &#45;16.678</text>\n<text text-anchor=\"middle\" x=\"1707\" y=\"-1582.8\" font-family=\"Helvetica,sans-Serif\" font-size=\"14.00\" fill=\"#000000\">gini = 0.015</text>\n<text text-anchor=\"middle\" x=\"1707\" y=\"-1567.8\" font-family=\"Helvetica,sans-Serif\" font-size=\"14.00\" fill=\"#000000\">samples = 262</text>\n<text text-anchor=\"middle\" x=\"1707\" y=\"-1552.8\" font-family=\"Helvetica,sans-Serif\" font-size=\"14.00\" fill=\"#000000\">value = [2, 260]</text>\n</g>\n<!-- 131&#45;&gt;132 -->\n<g id=\"edge132\" class=\"edge\">\n<title>131&#45;&gt;132</title>\n<path fill=\"none\" stroke=\"#000000\" d=\"M1787.7075,-1648.9465C1776.9333,-1639.6088 1765.1436,-1629.3911 1753.985,-1619.7203\"/>\n<polygon fill=\"#000000\" stroke=\"#000000\" points=\"1756.2299,-1617.0344 1746.3808,-1613.13 1751.6454,-1622.3243 1756.2299,-1617.0344\"/>\n</g>\n<!-- 139 -->\n<g id=\"node140\" class=\"node\">\n<title>139</title>\n<path fill=\"#e78a48\" stroke=\"#000000\" d=\"M1878.5,-1613C1878.5,-1613 1795.5,-1613 1795.5,-1613 1789.5,-1613 1783.5,-1607 1783.5,-1601 1783.5,-1601 1783.5,-1557 1783.5,-1557 1783.5,-1551 1789.5,-1545 1795.5,-1545 1795.5,-1545 1878.5,-1545 1878.5,-1545 1884.5,-1545 1890.5,-1551 1890.5,-1557 1890.5,-1557 1890.5,-1601 1890.5,-1601 1890.5,-1607 1884.5,-1613 1878.5,-1613\"/>\n<text text-anchor=\"middle\" x=\"1837\" y=\"-1597.8\" font-family=\"Helvetica,sans-Serif\" font-size=\"14.00\" fill=\"#000000\">x1 &lt;= 25.444</text>\n<text text-anchor=\"middle\" x=\"1837\" y=\"-1582.8\" font-family=\"Helvetica,sans-Serif\" font-size=\"14.00\" fill=\"#000000\">gini = 0.128</text>\n<text text-anchor=\"middle\" x=\"1837\" y=\"-1567.8\" font-family=\"Helvetica,sans-Serif\" font-size=\"14.00\" fill=\"#000000\">samples = 29</text>\n<text text-anchor=\"middle\" x=\"1837\" y=\"-1552.8\" font-family=\"Helvetica,sans-Serif\" font-size=\"14.00\" fill=\"#000000\">value = [27, 2]</text>\n</g>\n<!-- 131&#45;&gt;139 -->\n<g id=\"edge139\" class=\"edge\">\n<title>131&#45;&gt;139</title>\n<path fill=\"none\" stroke=\"#000000\" d=\"M1830.2744,-1648.9465C1831.0686,-1640.6863 1831.9291,-1631.7374 1832.7608,-1623.0875\"/>\n<polygon fill=\"#000000\" stroke=\"#000000\" points=\"1836.245,-1623.4191 1833.7183,-1613.13 1829.2771,-1622.7491 1836.245,-1623.4191\"/>\n</g>\n<!-- 133 -->\n<g id=\"node134\" class=\"node\">\n<title>133</title>\n<path fill=\"#399de5\" stroke=\"#000000\" d=\"M1632,-1501.5C1632,-1501.5 1540,-1501.5 1540,-1501.5 1534,-1501.5 1528,-1495.5 1528,-1489.5 1528,-1489.5 1528,-1460.5 1528,-1460.5 1528,-1454.5 1534,-1448.5 1540,-1448.5 1540,-1448.5 1632,-1448.5 1632,-1448.5 1638,-1448.5 1644,-1454.5 1644,-1460.5 1644,-1460.5 1644,-1489.5 1644,-1489.5 1644,-1495.5 1638,-1501.5 1632,-1501.5\"/>\n<text text-anchor=\"middle\" x=\"1586\" y=\"-1486.3\" font-family=\"Helvetica,sans-Serif\" font-size=\"14.00\" fill=\"#000000\">gini = 0.0</text>\n<text text-anchor=\"middle\" x=\"1586\" y=\"-1471.3\" font-family=\"Helvetica,sans-Serif\" font-size=\"14.00\" fill=\"#000000\">samples = 254</text>\n<text text-anchor=\"middle\" x=\"1586\" y=\"-1456.3\" font-family=\"Helvetica,sans-Serif\" font-size=\"14.00\" fill=\"#000000\">value = [0, 254]</text>\n</g>\n<!-- 132&#45;&gt;133 -->\n<g id=\"edge133\" class=\"edge\">\n<title>132&#45;&gt;133</title>\n<path fill=\"none\" stroke=\"#000000\" d=\"M1667.3801,-1544.9465C1653.6676,-1533.1606 1638.3239,-1519.9726 1624.6873,-1508.2519\"/>\n<polygon fill=\"#000000\" stroke=\"#000000\" points=\"1626.7459,-1505.4061 1616.8808,-1501.5422 1622.1831,-1510.7147 1626.7459,-1505.4061\"/>\n</g>\n<!-- 134 -->\n<g id=\"node135\" class=\"node\">\n<title>134</title>\n<path fill=\"#7bbeee\" stroke=\"#000000\" d=\"M1751.5,-1509C1751.5,-1509 1674.5,-1509 1674.5,-1509 1668.5,-1509 1662.5,-1503 1662.5,-1497 1662.5,-1497 1662.5,-1453 1662.5,-1453 1662.5,-1447 1668.5,-1441 1674.5,-1441 1674.5,-1441 1751.5,-1441 1751.5,-1441 1757.5,-1441 1763.5,-1447 1763.5,-1453 1763.5,-1453 1763.5,-1497 1763.5,-1497 1763.5,-1503 1757.5,-1509 1751.5,-1509\"/>\n<text text-anchor=\"middle\" x=\"1713\" y=\"-1493.8\" font-family=\"Helvetica,sans-Serif\" font-size=\"14.00\" fill=\"#000000\">x1 &lt;= 34.753</text>\n<text text-anchor=\"middle\" x=\"1713\" y=\"-1478.8\" font-family=\"Helvetica,sans-Serif\" font-size=\"14.00\" fill=\"#000000\">gini = 0.375</text>\n<text text-anchor=\"middle\" x=\"1713\" y=\"-1463.8\" font-family=\"Helvetica,sans-Serif\" font-size=\"14.00\" fill=\"#000000\">samples = 8</text>\n<text text-anchor=\"middle\" x=\"1713\" y=\"-1448.8\" font-family=\"Helvetica,sans-Serif\" font-size=\"14.00\" fill=\"#000000\">value = [2, 6]</text>\n</g>\n<!-- 132&#45;&gt;134 -->\n<g id=\"edge134\" class=\"edge\">\n<title>132&#45;&gt;134</title>\n<path fill=\"none\" stroke=\"#000000\" d=\"M1708.9646,-1544.9465C1709.436,-1536.776 1709.9462,-1527.9318 1710.4402,-1519.3697\"/>\n<polygon fill=\"#000000\" stroke=\"#000000\" points=\"1713.9491,-1519.315 1711.031,-1509.13 1706.9607,-1518.9118 1713.9491,-1519.315\"/>\n</g>\n<!-- 135 -->\n<g id=\"node136\" class=\"node\">\n<title>135</title>\n<path fill=\"#399de5\" stroke=\"#000000\" d=\"M1741.5,-1397.5C1741.5,-1397.5 1666.5,-1397.5 1666.5,-1397.5 1660.5,-1397.5 1654.5,-1391.5 1654.5,-1385.5 1654.5,-1385.5 1654.5,-1356.5 1654.5,-1356.5 1654.5,-1350.5 1660.5,-1344.5 1666.5,-1344.5 1666.5,-1344.5 1741.5,-1344.5 1741.5,-1344.5 1747.5,-1344.5 1753.5,-1350.5 1753.5,-1356.5 1753.5,-1356.5 1753.5,-1385.5 1753.5,-1385.5 1753.5,-1391.5 1747.5,-1397.5 1741.5,-1397.5\"/>\n<text text-anchor=\"middle\" x=\"1704\" y=\"-1382.3\" font-family=\"Helvetica,sans-Serif\" font-size=\"14.00\" fill=\"#000000\">gini = 0.0</text>\n<text text-anchor=\"middle\" x=\"1704\" y=\"-1367.3\" font-family=\"Helvetica,sans-Serif\" font-size=\"14.00\" fill=\"#000000\">samples = 5</text>\n<text text-anchor=\"middle\" x=\"1704\" y=\"-1352.3\" font-family=\"Helvetica,sans-Serif\" font-size=\"14.00\" fill=\"#000000\">value = [0, 5]</text>\n</g>\n<!-- 134&#45;&gt;135 -->\n<g id=\"edge135\" class=\"edge\">\n<title>134&#45;&gt;135</title>\n<path fill=\"none\" stroke=\"#000000\" d=\"M1710.0531,-1440.9465C1709.1284,-1430.2621 1708.1041,-1418.4254 1707.1651,-1407.5742\"/>\n<polygon fill=\"#000000\" stroke=\"#000000\" points=\"1710.6461,-1407.2031 1706.2969,-1397.5422 1703.6722,-1407.8067 1710.6461,-1407.2031\"/>\n</g>\n<!-- 136 -->\n<g id=\"node137\" class=\"node\">\n<title>136</title>\n<path fill=\"#f2c09c\" stroke=\"#000000\" d=\"M1866,-1405C1866,-1405 1784,-1405 1784,-1405 1778,-1405 1772,-1399 1772,-1393 1772,-1393 1772,-1349 1772,-1349 1772,-1343 1778,-1337 1784,-1337 1784,-1337 1866,-1337 1866,-1337 1872,-1337 1878,-1343 1878,-1349 1878,-1349 1878,-1393 1878,-1393 1878,-1399 1872,-1405 1866,-1405\"/>\n<text text-anchor=\"middle\" x=\"1825\" y=\"-1389.8\" font-family=\"Helvetica,sans-Serif\" font-size=\"14.00\" fill=\"#000000\">x2 &lt;= &#45;10.831</text>\n<text text-anchor=\"middle\" x=\"1825\" y=\"-1374.8\" font-family=\"Helvetica,sans-Serif\" font-size=\"14.00\" fill=\"#000000\">gini = 0.444</text>\n<text text-anchor=\"middle\" x=\"1825\" y=\"-1359.8\" font-family=\"Helvetica,sans-Serif\" font-size=\"14.00\" fill=\"#000000\">samples = 3</text>\n<text text-anchor=\"middle\" x=\"1825\" y=\"-1344.8\" font-family=\"Helvetica,sans-Serif\" font-size=\"14.00\" fill=\"#000000\">value = [2, 1]</text>\n</g>\n<!-- 134&#45;&gt;136 -->\n<g id=\"edge136\" class=\"edge\">\n<title>134&#45;&gt;136</title>\n<path fill=\"none\" stroke=\"#000000\" d=\"M1749.673,-1440.9465C1759.6323,-1431.6986 1770.5211,-1421.5876 1780.8468,-1411.9994\"/>\n<polygon fill=\"#000000\" stroke=\"#000000\" points=\"1783.2982,-1414.4993 1788.2446,-1405.13 1778.5351,-1409.3698 1783.2982,-1414.4993\"/>\n</g>\n<!-- 137 -->\n<g id=\"node138\" class=\"node\">\n<title>137</title>\n<path fill=\"#e58139\" stroke=\"#000000\" d=\"M1750.5,-1293.5C1750.5,-1293.5 1675.5,-1293.5 1675.5,-1293.5 1669.5,-1293.5 1663.5,-1287.5 1663.5,-1281.5 1663.5,-1281.5 1663.5,-1252.5 1663.5,-1252.5 1663.5,-1246.5 1669.5,-1240.5 1675.5,-1240.5 1675.5,-1240.5 1750.5,-1240.5 1750.5,-1240.5 1756.5,-1240.5 1762.5,-1246.5 1762.5,-1252.5 1762.5,-1252.5 1762.5,-1281.5 1762.5,-1281.5 1762.5,-1287.5 1756.5,-1293.5 1750.5,-1293.5\"/>\n<text text-anchor=\"middle\" x=\"1713\" y=\"-1278.3\" font-family=\"Helvetica,sans-Serif\" font-size=\"14.00\" fill=\"#000000\">gini = 0.0</text>\n<text text-anchor=\"middle\" x=\"1713\" y=\"-1263.3\" font-family=\"Helvetica,sans-Serif\" font-size=\"14.00\" fill=\"#000000\">samples = 2</text>\n<text text-anchor=\"middle\" x=\"1713\" y=\"-1248.3\" font-family=\"Helvetica,sans-Serif\" font-size=\"14.00\" fill=\"#000000\">value = [2, 0]</text>\n</g>\n<!-- 136&#45;&gt;137 -->\n<g id=\"edge137\" class=\"edge\">\n<title>136&#45;&gt;137</title>\n<path fill=\"none\" stroke=\"#000000\" d=\"M1788.327,-1336.9465C1775.7531,-1325.2707 1761.6974,-1312.219 1749.1641,-1300.5809\"/>\n<polygon fill=\"#000000\" stroke=\"#000000\" points=\"1751.2934,-1297.7819 1741.5839,-1293.5422 1746.5302,-1302.9115 1751.2934,-1297.7819\"/>\n</g>\n<!-- 138 -->\n<g id=\"node139\" class=\"node\">\n<title>138</title>\n<path fill=\"#399de5\" stroke=\"#000000\" d=\"M1867.5,-1293.5C1867.5,-1293.5 1792.5,-1293.5 1792.5,-1293.5 1786.5,-1293.5 1780.5,-1287.5 1780.5,-1281.5 1780.5,-1281.5 1780.5,-1252.5 1780.5,-1252.5 1780.5,-1246.5 1786.5,-1240.5 1792.5,-1240.5 1792.5,-1240.5 1867.5,-1240.5 1867.5,-1240.5 1873.5,-1240.5 1879.5,-1246.5 1879.5,-1252.5 1879.5,-1252.5 1879.5,-1281.5 1879.5,-1281.5 1879.5,-1287.5 1873.5,-1293.5 1867.5,-1293.5\"/>\n<text text-anchor=\"middle\" x=\"1830\" y=\"-1278.3\" font-family=\"Helvetica,sans-Serif\" font-size=\"14.00\" fill=\"#000000\">gini = 0.0</text>\n<text text-anchor=\"middle\" x=\"1830\" y=\"-1263.3\" font-family=\"Helvetica,sans-Serif\" font-size=\"14.00\" fill=\"#000000\">samples = 1</text>\n<text text-anchor=\"middle\" x=\"1830\" y=\"-1248.3\" font-family=\"Helvetica,sans-Serif\" font-size=\"14.00\" fill=\"#000000\">value = [0, 1]</text>\n</g>\n<!-- 136&#45;&gt;138 -->\n<g id=\"edge138\" class=\"edge\">\n<title>136&#45;&gt;138</title>\n<path fill=\"none\" stroke=\"#000000\" d=\"M1826.6372,-1336.9465C1827.1509,-1326.2621 1827.7199,-1314.4254 1828.2416,-1303.5742\"/>\n<polygon fill=\"#000000\" stroke=\"#000000\" points=\"1831.7396,-1303.6987 1828.7239,-1293.5422 1824.7477,-1303.3625 1831.7396,-1303.6987\"/>\n</g>\n<!-- 140 -->\n<g id=\"node141\" class=\"node\">\n<title>140</title>\n<path fill=\"#399de5\" stroke=\"#000000\" d=\"M1868.5,-1501.5C1868.5,-1501.5 1793.5,-1501.5 1793.5,-1501.5 1787.5,-1501.5 1781.5,-1495.5 1781.5,-1489.5 1781.5,-1489.5 1781.5,-1460.5 1781.5,-1460.5 1781.5,-1454.5 1787.5,-1448.5 1793.5,-1448.5 1793.5,-1448.5 1868.5,-1448.5 1868.5,-1448.5 1874.5,-1448.5 1880.5,-1454.5 1880.5,-1460.5 1880.5,-1460.5 1880.5,-1489.5 1880.5,-1489.5 1880.5,-1495.5 1874.5,-1501.5 1868.5,-1501.5\"/>\n<text text-anchor=\"middle\" x=\"1831\" y=\"-1486.3\" font-family=\"Helvetica,sans-Serif\" font-size=\"14.00\" fill=\"#000000\">gini = 0.0</text>\n<text text-anchor=\"middle\" x=\"1831\" y=\"-1471.3\" font-family=\"Helvetica,sans-Serif\" font-size=\"14.00\" fill=\"#000000\">samples = 1</text>\n<text text-anchor=\"middle\" x=\"1831\" y=\"-1456.3\" font-family=\"Helvetica,sans-Serif\" font-size=\"14.00\" fill=\"#000000\">value = [0, 1]</text>\n</g>\n<!-- 139&#45;&gt;140 -->\n<g id=\"edge140\" class=\"edge\">\n<title>139&#45;&gt;140</title>\n<path fill=\"none\" stroke=\"#000000\" d=\"M1835.0354,-1544.9465C1834.419,-1534.2621 1833.7361,-1522.4254 1833.1101,-1511.5742\"/>\n<polygon fill=\"#000000\" stroke=\"#000000\" points=\"1836.6015,-1511.3239 1832.5313,-1501.5422 1829.6131,-1511.7272 1836.6015,-1511.3239\"/>\n</g>\n<!-- 141 -->\n<g id=\"node142\" class=\"node\">\n<title>141</title>\n<path fill=\"#e68640\" stroke=\"#000000\" d=\"M1993.5,-1509C1993.5,-1509 1910.5,-1509 1910.5,-1509 1904.5,-1509 1898.5,-1503 1898.5,-1497 1898.5,-1497 1898.5,-1453 1898.5,-1453 1898.5,-1447 1904.5,-1441 1910.5,-1441 1910.5,-1441 1993.5,-1441 1993.5,-1441 1999.5,-1441 2005.5,-1447 2005.5,-1453 2005.5,-1453 2005.5,-1497 2005.5,-1497 2005.5,-1503 1999.5,-1509 1993.5,-1509\"/>\n<text text-anchor=\"middle\" x=\"1952\" y=\"-1493.8\" font-family=\"Helvetica,sans-Serif\" font-size=\"14.00\" fill=\"#000000\">x1 &lt;= 29.974</text>\n<text text-anchor=\"middle\" x=\"1952\" y=\"-1478.8\" font-family=\"Helvetica,sans-Serif\" font-size=\"14.00\" fill=\"#000000\">gini = 0.069</text>\n<text text-anchor=\"middle\" x=\"1952\" y=\"-1463.8\" font-family=\"Helvetica,sans-Serif\" font-size=\"14.00\" fill=\"#000000\">samples = 28</text>\n<text text-anchor=\"middle\" x=\"1952\" y=\"-1448.8\" font-family=\"Helvetica,sans-Serif\" font-size=\"14.00\" fill=\"#000000\">value = [27, 1]</text>\n</g>\n<!-- 139&#45;&gt;141 -->\n<g id=\"edge141\" class=\"edge\">\n<title>139&#45;&gt;141</title>\n<path fill=\"none\" stroke=\"#000000\" d=\"M1874.6553,-1544.9465C1884.8813,-1535.6986 1896.0618,-1525.5876 1906.6641,-1515.9994\"/>\n<polygon fill=\"#000000\" stroke=\"#000000\" points=\"1909.1908,-1518.4334 1914.2601,-1509.13 1904.4956,-1513.2416 1909.1908,-1518.4334\"/>\n</g>\n<!-- 142 -->\n<g id=\"node143\" class=\"node\">\n<title>142</title>\n<path fill=\"#eeab7b\" stroke=\"#000000\" d=\"M1988.5,-1405C1988.5,-1405 1913.5,-1405 1913.5,-1405 1907.5,-1405 1901.5,-1399 1901.5,-1393 1901.5,-1393 1901.5,-1349 1901.5,-1349 1901.5,-1343 1907.5,-1337 1913.5,-1337 1913.5,-1337 1988.5,-1337 1988.5,-1337 1994.5,-1337 2000.5,-1343 2000.5,-1349 2000.5,-1349 2000.5,-1393 2000.5,-1393 2000.5,-1399 1994.5,-1405 1988.5,-1405\"/>\n<text text-anchor=\"middle\" x=\"1951\" y=\"-1389.8\" font-family=\"Helvetica,sans-Serif\" font-size=\"14.00\" fill=\"#000000\">x2 &lt;= 3.513</text>\n<text text-anchor=\"middle\" x=\"1951\" y=\"-1374.8\" font-family=\"Helvetica,sans-Serif\" font-size=\"14.00\" fill=\"#000000\">gini = 0.375</text>\n<text text-anchor=\"middle\" x=\"1951\" y=\"-1359.8\" font-family=\"Helvetica,sans-Serif\" font-size=\"14.00\" fill=\"#000000\">samples = 4</text>\n<text text-anchor=\"middle\" x=\"1951\" y=\"-1344.8\" font-family=\"Helvetica,sans-Serif\" font-size=\"14.00\" fill=\"#000000\">value = [3, 1]</text>\n</g>\n<!-- 141&#45;&gt;142 -->\n<g id=\"edge142\" class=\"edge\">\n<title>141&#45;&gt;142</title>\n<path fill=\"none\" stroke=\"#000000\" d=\"M1951.6726,-1440.9465C1951.594,-1432.776 1951.509,-1423.9318 1951.4266,-1415.3697\"/>\n<polygon fill=\"#000000\" stroke=\"#000000\" points=\"1954.9243,-1415.0958 1951.3282,-1405.13 1947.9246,-1415.1632 1954.9243,-1415.0958\"/>\n</g>\n<!-- 145 -->\n<g id=\"node146\" class=\"node\">\n<title>145</title>\n<path fill=\"#e58139\" stroke=\"#000000\" d=\"M2113.5,-1397.5C2113.5,-1397.5 2030.5,-1397.5 2030.5,-1397.5 2024.5,-1397.5 2018.5,-1391.5 2018.5,-1385.5 2018.5,-1385.5 2018.5,-1356.5 2018.5,-1356.5 2018.5,-1350.5 2024.5,-1344.5 2030.5,-1344.5 2030.5,-1344.5 2113.5,-1344.5 2113.5,-1344.5 2119.5,-1344.5 2125.5,-1350.5 2125.5,-1356.5 2125.5,-1356.5 2125.5,-1385.5 2125.5,-1385.5 2125.5,-1391.5 2119.5,-1397.5 2113.5,-1397.5\"/>\n<text text-anchor=\"middle\" x=\"2072\" y=\"-1382.3\" font-family=\"Helvetica,sans-Serif\" font-size=\"14.00\" fill=\"#000000\">gini = 0.0</text>\n<text text-anchor=\"middle\" x=\"2072\" y=\"-1367.3\" font-family=\"Helvetica,sans-Serif\" font-size=\"14.00\" fill=\"#000000\">samples = 24</text>\n<text text-anchor=\"middle\" x=\"2072\" y=\"-1352.3\" font-family=\"Helvetica,sans-Serif\" font-size=\"14.00\" fill=\"#000000\">value = [24, 0]</text>\n</g>\n<!-- 141&#45;&gt;145 -->\n<g id=\"edge145\" class=\"edge\">\n<title>141&#45;&gt;145</title>\n<path fill=\"none\" stroke=\"#000000\" d=\"M1991.2925,-1440.9465C2004.8917,-1429.1606 2020.1085,-1415.9726 2033.6324,-1404.2519\"/>\n<polygon fill=\"#000000\" stroke=\"#000000\" points=\"2036.1098,-1406.7364 2041.3744,-1397.5422 2031.5252,-1401.4466 2036.1098,-1406.7364\"/>\n</g>\n<!-- 143 -->\n<g id=\"node144\" class=\"node\">\n<title>143</title>\n<path fill=\"#399de5\" stroke=\"#000000\" d=\"M1988.5,-1293.5C1988.5,-1293.5 1913.5,-1293.5 1913.5,-1293.5 1907.5,-1293.5 1901.5,-1287.5 1901.5,-1281.5 1901.5,-1281.5 1901.5,-1252.5 1901.5,-1252.5 1901.5,-1246.5 1907.5,-1240.5 1913.5,-1240.5 1913.5,-1240.5 1988.5,-1240.5 1988.5,-1240.5 1994.5,-1240.5 2000.5,-1246.5 2000.5,-1252.5 2000.5,-1252.5 2000.5,-1281.5 2000.5,-1281.5 2000.5,-1287.5 1994.5,-1293.5 1988.5,-1293.5\"/>\n<text text-anchor=\"middle\" x=\"1951\" y=\"-1278.3\" font-family=\"Helvetica,sans-Serif\" font-size=\"14.00\" fill=\"#000000\">gini = 0.0</text>\n<text text-anchor=\"middle\" x=\"1951\" y=\"-1263.3\" font-family=\"Helvetica,sans-Serif\" font-size=\"14.00\" fill=\"#000000\">samples = 1</text>\n<text text-anchor=\"middle\" x=\"1951\" y=\"-1248.3\" font-family=\"Helvetica,sans-Serif\" font-size=\"14.00\" fill=\"#000000\">value = [0, 1]</text>\n</g>\n<!-- 142&#45;&gt;143 -->\n<g id=\"edge143\" class=\"edge\">\n<title>142&#45;&gt;143</title>\n<path fill=\"none\" stroke=\"#000000\" d=\"M1951,-1336.9465C1951,-1326.2621 1951,-1314.4254 1951,-1303.5742\"/>\n<polygon fill=\"#000000\" stroke=\"#000000\" points=\"1954.5001,-1303.5421 1951,-1293.5422 1947.5001,-1303.5422 1954.5001,-1303.5421\"/>\n</g>\n<!-- 144 -->\n<g id=\"node145\" class=\"node\">\n<title>144</title>\n<path fill=\"#e58139\" stroke=\"#000000\" d=\"M2105.5,-1293.5C2105.5,-1293.5 2030.5,-1293.5 2030.5,-1293.5 2024.5,-1293.5 2018.5,-1287.5 2018.5,-1281.5 2018.5,-1281.5 2018.5,-1252.5 2018.5,-1252.5 2018.5,-1246.5 2024.5,-1240.5 2030.5,-1240.5 2030.5,-1240.5 2105.5,-1240.5 2105.5,-1240.5 2111.5,-1240.5 2117.5,-1246.5 2117.5,-1252.5 2117.5,-1252.5 2117.5,-1281.5 2117.5,-1281.5 2117.5,-1287.5 2111.5,-1293.5 2105.5,-1293.5\"/>\n<text text-anchor=\"middle\" x=\"2068\" y=\"-1278.3\" font-family=\"Helvetica,sans-Serif\" font-size=\"14.00\" fill=\"#000000\">gini = 0.0</text>\n<text text-anchor=\"middle\" x=\"2068\" y=\"-1263.3\" font-family=\"Helvetica,sans-Serif\" font-size=\"14.00\" fill=\"#000000\">samples = 3</text>\n<text text-anchor=\"middle\" x=\"2068\" y=\"-1248.3\" font-family=\"Helvetica,sans-Serif\" font-size=\"14.00\" fill=\"#000000\">value = [3, 0]</text>\n</g>\n<!-- 142&#45;&gt;144 -->\n<g id=\"edge144\" class=\"edge\">\n<title>142&#45;&gt;144</title>\n<path fill=\"none\" stroke=\"#000000\" d=\"M1989.3102,-1336.9465C2002.5694,-1325.1606 2017.4058,-1311.9726 2030.5916,-1300.2519\"/>\n<polygon fill=\"#000000\" stroke=\"#000000\" points=\"2032.9912,-1302.8018 2038.1401,-1293.5422 2028.3407,-1297.5699 2032.9912,-1302.8018\"/>\n</g>\n<!-- 147 -->\n<g id=\"node148\" class=\"node\">\n<title>147</title>\n<path fill=\"#3c9ee5\" stroke=\"#000000\" d=\"M2061.5,-1717C2061.5,-1717 1978.5,-1717 1978.5,-1717 1972.5,-1717 1966.5,-1711 1966.5,-1705 1966.5,-1705 1966.5,-1661 1966.5,-1661 1966.5,-1655 1972.5,-1649 1978.5,-1649 1978.5,-1649 2061.5,-1649 2061.5,-1649 2067.5,-1649 2073.5,-1655 2073.5,-1661 2073.5,-1661 2073.5,-1705 2073.5,-1705 2073.5,-1711 2067.5,-1717 2061.5,-1717\"/>\n<text text-anchor=\"middle\" x=\"2020\" y=\"-1701.8\" font-family=\"Helvetica,sans-Serif\" font-size=\"14.00\" fill=\"#000000\">x1 &lt;= &#45;23.934</text>\n<text text-anchor=\"middle\" x=\"2020\" y=\"-1686.8\" font-family=\"Helvetica,sans-Serif\" font-size=\"14.00\" fill=\"#000000\">gini = 0.028</text>\n<text text-anchor=\"middle\" x=\"2020\" y=\"-1671.8\" font-family=\"Helvetica,sans-Serif\" font-size=\"14.00\" fill=\"#000000\">samples = 71</text>\n<text text-anchor=\"middle\" x=\"2020\" y=\"-1656.8\" font-family=\"Helvetica,sans-Serif\" font-size=\"14.00\" fill=\"#000000\">value = [1, 70]</text>\n</g>\n<!-- 146&#45;&gt;147 -->\n<g id=\"edge147\" class=\"edge\">\n<title>146&#45;&gt;147</title>\n<path fill=\"none\" stroke=\"#000000\" d=\"M2020,-1752.9465C2020,-1744.776 2020,-1735.9318 2020,-1727.3697\"/>\n<polygon fill=\"#000000\" stroke=\"#000000\" points=\"2023.5001,-1727.13 2020,-1717.13 2016.5001,-1727.13 2023.5001,-1727.13\"/>\n</g>\n<!-- 152 -->\n<g id=\"node153\" class=\"node\">\n<title>152</title>\n<path fill=\"#e5823a\" stroke=\"#000000\" d=\"M2357,-1717C2357,-1717 2265,-1717 2265,-1717 2259,-1717 2253,-1711 2253,-1705 2253,-1705 2253,-1661 2253,-1661 2253,-1655 2259,-1649 2265,-1649 2265,-1649 2357,-1649 2357,-1649 2363,-1649 2369,-1655 2369,-1661 2369,-1661 2369,-1705 2369,-1705 2369,-1711 2363,-1717 2357,-1717\"/>\n<text text-anchor=\"middle\" x=\"2311\" y=\"-1701.8\" font-family=\"Helvetica,sans-Serif\" font-size=\"14.00\" fill=\"#000000\">x1 &lt;= 21.53</text>\n<text text-anchor=\"middle\" x=\"2311\" y=\"-1686.8\" font-family=\"Helvetica,sans-Serif\" font-size=\"14.00\" fill=\"#000000\">gini = 0.01</text>\n<text text-anchor=\"middle\" x=\"2311\" y=\"-1671.8\" font-family=\"Helvetica,sans-Serif\" font-size=\"14.00\" fill=\"#000000\">samples = 384</text>\n<text text-anchor=\"middle\" x=\"2311\" y=\"-1656.8\" font-family=\"Helvetica,sans-Serif\" font-size=\"14.00\" fill=\"#000000\">value = [382, 2]</text>\n</g>\n<!-- 146&#45;&gt;152 -->\n<g id=\"edge152\" class=\"edge\">\n<title>146&#45;&gt;152</title>\n<path fill=\"none\" stroke=\"#000000\" d=\"M2082.0699,-1764.817C2129.4858,-1747.871 2194.756,-1724.5443 2243.4736,-1707.1331\"/>\n<polygon fill=\"#000000\" stroke=\"#000000\" points=\"2244.7475,-1710.3947 2252.9863,-1703.7334 2242.3917,-1703.8031 2244.7475,-1710.3947\"/>\n</g>\n<!-- 148 -->\n<g id=\"node149\" class=\"node\">\n<title>148</title>\n<path fill=\"#399de5\" stroke=\"#000000\" d=\"M2032.5,-1605.5C2032.5,-1605.5 1949.5,-1605.5 1949.5,-1605.5 1943.5,-1605.5 1937.5,-1599.5 1937.5,-1593.5 1937.5,-1593.5 1937.5,-1564.5 1937.5,-1564.5 1937.5,-1558.5 1943.5,-1552.5 1949.5,-1552.5 1949.5,-1552.5 2032.5,-1552.5 2032.5,-1552.5 2038.5,-1552.5 2044.5,-1558.5 2044.5,-1564.5 2044.5,-1564.5 2044.5,-1593.5 2044.5,-1593.5 2044.5,-1599.5 2038.5,-1605.5 2032.5,-1605.5\"/>\n<text text-anchor=\"middle\" x=\"1991\" y=\"-1590.3\" font-family=\"Helvetica,sans-Serif\" font-size=\"14.00\" fill=\"#000000\">gini = 0.0</text>\n<text text-anchor=\"middle\" x=\"1991\" y=\"-1575.3\" font-family=\"Helvetica,sans-Serif\" font-size=\"14.00\" fill=\"#000000\">samples = 62</text>\n<text text-anchor=\"middle\" x=\"1991\" y=\"-1560.3\" font-family=\"Helvetica,sans-Serif\" font-size=\"14.00\" fill=\"#000000\">value = [0, 62]</text>\n</g>\n<!-- 147&#45;&gt;148 -->\n<g id=\"edge148\" class=\"edge\">\n<title>147&#45;&gt;148</title>\n<path fill=\"none\" stroke=\"#000000\" d=\"M2010.5043,-1648.9465C2007.4943,-1638.1519 2004.1563,-1626.1813 2001.1051,-1615.2389\"/>\n<polygon fill=\"#000000\" stroke=\"#000000\" points=\"2004.4586,-1614.2346 1998.4012,-1605.5422 1997.7159,-1616.1148 2004.4586,-1614.2346\"/>\n</g>\n<!-- 149 -->\n<g id=\"node150\" class=\"node\">\n<title>149</title>\n<path fill=\"#52a9e8\" stroke=\"#000000\" d=\"M2157,-1613C2157,-1613 2075,-1613 2075,-1613 2069,-1613 2063,-1607 2063,-1601 2063,-1601 2063,-1557 2063,-1557 2063,-1551 2069,-1545 2075,-1545 2075,-1545 2157,-1545 2157,-1545 2163,-1545 2169,-1551 2169,-1557 2169,-1557 2169,-1601 2169,-1601 2169,-1607 2163,-1613 2157,-1613\"/>\n<text text-anchor=\"middle\" x=\"2116\" y=\"-1597.8\" font-family=\"Helvetica,sans-Serif\" font-size=\"14.00\" fill=\"#000000\">x1 &lt;= &#45;22.637</text>\n<text text-anchor=\"middle\" x=\"2116\" y=\"-1582.8\" font-family=\"Helvetica,sans-Serif\" font-size=\"14.00\" fill=\"#000000\">gini = 0.198</text>\n<text text-anchor=\"middle\" x=\"2116\" y=\"-1567.8\" font-family=\"Helvetica,sans-Serif\" font-size=\"14.00\" fill=\"#000000\">samples = 9</text>\n<text text-anchor=\"middle\" x=\"2116\" y=\"-1552.8\" font-family=\"Helvetica,sans-Serif\" font-size=\"14.00\" fill=\"#000000\">value = [1, 8]</text>\n</g>\n<!-- 147&#45;&gt;149 -->\n<g id=\"edge149\" class=\"edge\">\n<title>147&#45;&gt;149</title>\n<path fill=\"none\" stroke=\"#000000\" d=\"M2051.434,-1648.9465C2059.8047,-1639.8782 2068.9416,-1629.9799 2077.6383,-1620.5585\"/>\n<polygon fill=\"#000000\" stroke=\"#000000\" points=\"2080.2844,-1622.852 2084.4954,-1613.13 2075.1407,-1618.1041 2080.2844,-1622.852\"/>\n</g>\n<!-- 150 -->\n<g id=\"node151\" class=\"node\">\n<title>150</title>\n<path fill=\"#e58139\" stroke=\"#000000\" d=\"M2110.5,-1501.5C2110.5,-1501.5 2035.5,-1501.5 2035.5,-1501.5 2029.5,-1501.5 2023.5,-1495.5 2023.5,-1489.5 2023.5,-1489.5 2023.5,-1460.5 2023.5,-1460.5 2023.5,-1454.5 2029.5,-1448.5 2035.5,-1448.5 2035.5,-1448.5 2110.5,-1448.5 2110.5,-1448.5 2116.5,-1448.5 2122.5,-1454.5 2122.5,-1460.5 2122.5,-1460.5 2122.5,-1489.5 2122.5,-1489.5 2122.5,-1495.5 2116.5,-1501.5 2110.5,-1501.5\"/>\n<text text-anchor=\"middle\" x=\"2073\" y=\"-1486.3\" font-family=\"Helvetica,sans-Serif\" font-size=\"14.00\" fill=\"#000000\">gini = 0.0</text>\n<text text-anchor=\"middle\" x=\"2073\" y=\"-1471.3\" font-family=\"Helvetica,sans-Serif\" font-size=\"14.00\" fill=\"#000000\">samples = 1</text>\n<text text-anchor=\"middle\" x=\"2073\" y=\"-1456.3\" font-family=\"Helvetica,sans-Serif\" font-size=\"14.00\" fill=\"#000000\">value = [1, 0]</text>\n</g>\n<!-- 149&#45;&gt;150 -->\n<g id=\"edge150\" class=\"edge\">\n<title>149&#45;&gt;150</title>\n<path fill=\"none\" stroke=\"#000000\" d=\"M2101.9202,-1544.9465C2097.4115,-1534.0418 2092.4066,-1521.9368 2087.845,-1510.9043\"/>\n<polygon fill=\"#000000\" stroke=\"#000000\" points=\"2091.0296,-1509.4461 2083.9742,-1501.5422 2084.5607,-1512.1208 2091.0296,-1509.4461\"/>\n</g>\n<!-- 151 -->\n<g id=\"node152\" class=\"node\">\n<title>151</title>\n<path fill=\"#399de5\" stroke=\"#000000\" d=\"M2227.5,-1501.5C2227.5,-1501.5 2152.5,-1501.5 2152.5,-1501.5 2146.5,-1501.5 2140.5,-1495.5 2140.5,-1489.5 2140.5,-1489.5 2140.5,-1460.5 2140.5,-1460.5 2140.5,-1454.5 2146.5,-1448.5 2152.5,-1448.5 2152.5,-1448.5 2227.5,-1448.5 2227.5,-1448.5 2233.5,-1448.5 2239.5,-1454.5 2239.5,-1460.5 2239.5,-1460.5 2239.5,-1489.5 2239.5,-1489.5 2239.5,-1495.5 2233.5,-1501.5 2227.5,-1501.5\"/>\n<text text-anchor=\"middle\" x=\"2190\" y=\"-1486.3\" font-family=\"Helvetica,sans-Serif\" font-size=\"14.00\" fill=\"#000000\">gini = 0.0</text>\n<text text-anchor=\"middle\" x=\"2190\" y=\"-1471.3\" font-family=\"Helvetica,sans-Serif\" font-size=\"14.00\" fill=\"#000000\">samples = 8</text>\n<text text-anchor=\"middle\" x=\"2190\" y=\"-1456.3\" font-family=\"Helvetica,sans-Serif\" font-size=\"14.00\" fill=\"#000000\">value = [0, 8]</text>\n</g>\n<!-- 149&#45;&gt;151 -->\n<g id=\"edge151\" class=\"edge\">\n<title>149&#45;&gt;151</title>\n<path fill=\"none\" stroke=\"#000000\" d=\"M2140.2304,-1544.9465C2148.2246,-1533.7113 2157.1254,-1521.2021 2165.1642,-1509.9043\"/>\n<polygon fill=\"#000000\" stroke=\"#000000\" points=\"2168.1684,-1511.7192 2171.1142,-1501.5422 2162.4649,-1507.6609 2168.1684,-1511.7192\"/>\n</g>\n<!-- 153 -->\n<g id=\"node154\" class=\"node\">\n<title>153</title>\n<path fill=\"#e9965a\" stroke=\"#000000\" d=\"M2352.5,-1613C2352.5,-1613 2269.5,-1613 2269.5,-1613 2263.5,-1613 2257.5,-1607 2257.5,-1601 2257.5,-1601 2257.5,-1557 2257.5,-1557 2257.5,-1551 2263.5,-1545 2269.5,-1545 2269.5,-1545 2352.5,-1545 2352.5,-1545 2358.5,-1545 2364.5,-1551 2364.5,-1557 2364.5,-1557 2364.5,-1601 2364.5,-1601 2364.5,-1607 2358.5,-1613 2352.5,-1613\"/>\n<text text-anchor=\"middle\" x=\"2311\" y=\"-1597.8\" font-family=\"Helvetica,sans-Serif\" font-size=\"14.00\" fill=\"#000000\">x1 &lt;= 20.249</text>\n<text text-anchor=\"middle\" x=\"2311\" y=\"-1582.8\" font-family=\"Helvetica,sans-Serif\" font-size=\"14.00\" fill=\"#000000\">gini = 0.245</text>\n<text text-anchor=\"middle\" x=\"2311\" y=\"-1567.8\" font-family=\"Helvetica,sans-Serif\" font-size=\"14.00\" fill=\"#000000\">samples = 14</text>\n<text text-anchor=\"middle\" x=\"2311\" y=\"-1552.8\" font-family=\"Helvetica,sans-Serif\" font-size=\"14.00\" fill=\"#000000\">value = [12, 2]</text>\n</g>\n<!-- 152&#45;&gt;153 -->\n<g id=\"edge153\" class=\"edge\">\n<title>152&#45;&gt;153</title>\n<path fill=\"none\" stroke=\"#000000\" d=\"M2311,-1648.9465C2311,-1640.776 2311,-1631.9318 2311,-1623.3697\"/>\n<polygon fill=\"#000000\" stroke=\"#000000\" points=\"2314.5001,-1623.13 2311,-1613.13 2307.5001,-1623.13 2314.5001,-1623.13\"/>\n</g>\n<!-- 160 -->\n<g id=\"node161\" class=\"node\">\n<title>160</title>\n<path fill=\"#e58139\" stroke=\"#000000\" d=\"M2487,-1605.5C2487,-1605.5 2395,-1605.5 2395,-1605.5 2389,-1605.5 2383,-1599.5 2383,-1593.5 2383,-1593.5 2383,-1564.5 2383,-1564.5 2383,-1558.5 2389,-1552.5 2395,-1552.5 2395,-1552.5 2487,-1552.5 2487,-1552.5 2493,-1552.5 2499,-1558.5 2499,-1564.5 2499,-1564.5 2499,-1593.5 2499,-1593.5 2499,-1599.5 2493,-1605.5 2487,-1605.5\"/>\n<text text-anchor=\"middle\" x=\"2441\" y=\"-1590.3\" font-family=\"Helvetica,sans-Serif\" font-size=\"14.00\" fill=\"#000000\">gini = 0.0</text>\n<text text-anchor=\"middle\" x=\"2441\" y=\"-1575.3\" font-family=\"Helvetica,sans-Serif\" font-size=\"14.00\" fill=\"#000000\">samples = 370</text>\n<text text-anchor=\"middle\" x=\"2441\" y=\"-1560.3\" font-family=\"Helvetica,sans-Serif\" font-size=\"14.00\" fill=\"#000000\">value = [370, 0]</text>\n</g>\n<!-- 152&#45;&gt;160 -->\n<g id=\"edge160\" class=\"edge\">\n<title>152&#45;&gt;160</title>\n<path fill=\"none\" stroke=\"#000000\" d=\"M2353.5669,-1648.9465C2368.437,-1637.0504 2385.0925,-1623.726 2399.8454,-1611.9237\"/>\n<polygon fill=\"#000000\" stroke=\"#000000\" points=\"2402.2,-1614.5222 2407.8223,-1605.5422 2397.8271,-1609.0561 2402.2,-1614.5222\"/>\n</g>\n<!-- 154 -->\n<g id=\"node155\" class=\"node\">\n<title>154</title>\n<path fill=\"#e58139\" stroke=\"#000000\" d=\"M2352.5,-1501.5C2352.5,-1501.5 2269.5,-1501.5 2269.5,-1501.5 2263.5,-1501.5 2257.5,-1495.5 2257.5,-1489.5 2257.5,-1489.5 2257.5,-1460.5 2257.5,-1460.5 2257.5,-1454.5 2263.5,-1448.5 2269.5,-1448.5 2269.5,-1448.5 2352.5,-1448.5 2352.5,-1448.5 2358.5,-1448.5 2364.5,-1454.5 2364.5,-1460.5 2364.5,-1460.5 2364.5,-1489.5 2364.5,-1489.5 2364.5,-1495.5 2358.5,-1501.5 2352.5,-1501.5\"/>\n<text text-anchor=\"middle\" x=\"2311\" y=\"-1486.3\" font-family=\"Helvetica,sans-Serif\" font-size=\"14.00\" fill=\"#000000\">gini = 0.0</text>\n<text text-anchor=\"middle\" x=\"2311\" y=\"-1471.3\" font-family=\"Helvetica,sans-Serif\" font-size=\"14.00\" fill=\"#000000\">samples = 11</text>\n<text text-anchor=\"middle\" x=\"2311\" y=\"-1456.3\" font-family=\"Helvetica,sans-Serif\" font-size=\"14.00\" fill=\"#000000\">value = [11, 0]</text>\n</g>\n<!-- 153&#45;&gt;154 -->\n<g id=\"edge154\" class=\"edge\">\n<title>153&#45;&gt;154</title>\n<path fill=\"none\" stroke=\"#000000\" d=\"M2311,-1544.9465C2311,-1534.2621 2311,-1522.4254 2311,-1511.5742\"/>\n<polygon fill=\"#000000\" stroke=\"#000000\" points=\"2314.5001,-1511.5421 2311,-1501.5422 2307.5001,-1511.5422 2314.5001,-1511.5421\"/>\n</g>\n<!-- 155 -->\n<g id=\"node156\" class=\"node\">\n<title>155</title>\n<path fill=\"#9ccef2\" stroke=\"#000000\" d=\"M2471.5,-1509C2471.5,-1509 2394.5,-1509 2394.5,-1509 2388.5,-1509 2382.5,-1503 2382.5,-1497 2382.5,-1497 2382.5,-1453 2382.5,-1453 2382.5,-1447 2388.5,-1441 2394.5,-1441 2394.5,-1441 2471.5,-1441 2471.5,-1441 2477.5,-1441 2483.5,-1447 2483.5,-1453 2483.5,-1453 2483.5,-1497 2483.5,-1497 2483.5,-1503 2477.5,-1509 2471.5,-1509\"/>\n<text text-anchor=\"middle\" x=\"2433\" y=\"-1493.8\" font-family=\"Helvetica,sans-Serif\" font-size=\"14.00\" fill=\"#000000\">x1 &lt;= 20.742</text>\n<text text-anchor=\"middle\" x=\"2433\" y=\"-1478.8\" font-family=\"Helvetica,sans-Serif\" font-size=\"14.00\" fill=\"#000000\">gini = 0.444</text>\n<text text-anchor=\"middle\" x=\"2433\" y=\"-1463.8\" font-family=\"Helvetica,sans-Serif\" font-size=\"14.00\" fill=\"#000000\">samples = 3</text>\n<text text-anchor=\"middle\" x=\"2433\" y=\"-1448.8\" font-family=\"Helvetica,sans-Serif\" font-size=\"14.00\" fill=\"#000000\">value = [1, 2]</text>\n</g>\n<!-- 153&#45;&gt;155 -->\n<g id=\"edge155\" class=\"edge\">\n<title>153&#45;&gt;155</title>\n<path fill=\"none\" stroke=\"#000000\" d=\"M2350.9474,-1544.9465C2361.9012,-1535.6088 2373.8873,-1525.3911 2385.232,-1515.7203\"/>\n<polygon fill=\"#000000\" stroke=\"#000000\" points=\"2387.6233,-1518.2809 2392.9629,-1509.13 2383.0821,-1512.9538 2387.6233,-1518.2809\"/>\n</g>\n<!-- 156 -->\n<g id=\"node157\" class=\"node\">\n<title>156</title>\n<path fill=\"#399de5\" stroke=\"#000000\" d=\"M2411.5,-1397.5C2411.5,-1397.5 2336.5,-1397.5 2336.5,-1397.5 2330.5,-1397.5 2324.5,-1391.5 2324.5,-1385.5 2324.5,-1385.5 2324.5,-1356.5 2324.5,-1356.5 2324.5,-1350.5 2330.5,-1344.5 2336.5,-1344.5 2336.5,-1344.5 2411.5,-1344.5 2411.5,-1344.5 2417.5,-1344.5 2423.5,-1350.5 2423.5,-1356.5 2423.5,-1356.5 2423.5,-1385.5 2423.5,-1385.5 2423.5,-1391.5 2417.5,-1397.5 2411.5,-1397.5\"/>\n<text text-anchor=\"middle\" x=\"2374\" y=\"-1382.3\" font-family=\"Helvetica,sans-Serif\" font-size=\"14.00\" fill=\"#000000\">gini = 0.0</text>\n<text text-anchor=\"middle\" x=\"2374\" y=\"-1367.3\" font-family=\"Helvetica,sans-Serif\" font-size=\"14.00\" fill=\"#000000\">samples = 1</text>\n<text text-anchor=\"middle\" x=\"2374\" y=\"-1352.3\" font-family=\"Helvetica,sans-Serif\" font-size=\"14.00\" fill=\"#000000\">value = [0, 1]</text>\n</g>\n<!-- 155&#45;&gt;156 -->\n<g id=\"edge156\" class=\"edge\">\n<title>155&#45;&gt;156</title>\n<path fill=\"none\" stroke=\"#000000\" d=\"M2413.6812,-1440.9465C2407.4324,-1429.9316 2400.4888,-1417.6922 2394.1793,-1406.5703\"/>\n<polygon fill=\"#000000\" stroke=\"#000000\" points=\"2397.0362,-1404.513 2389.0576,-1397.5422 2390.9477,-1407.967 2397.0362,-1404.513\"/>\n</g>\n<!-- 157 -->\n<g id=\"node158\" class=\"node\">\n<title>157</title>\n<path fill=\"#ffffff\" stroke=\"#000000\" d=\"M2530.5,-1405C2530.5,-1405 2453.5,-1405 2453.5,-1405 2447.5,-1405 2441.5,-1399 2441.5,-1393 2441.5,-1393 2441.5,-1349 2441.5,-1349 2441.5,-1343 2447.5,-1337 2453.5,-1337 2453.5,-1337 2530.5,-1337 2530.5,-1337 2536.5,-1337 2542.5,-1343 2542.5,-1349 2542.5,-1349 2542.5,-1393 2542.5,-1393 2542.5,-1399 2536.5,-1405 2530.5,-1405\"/>\n<text text-anchor=\"middle\" x=\"2492\" y=\"-1389.8\" font-family=\"Helvetica,sans-Serif\" font-size=\"14.00\" fill=\"#000000\">x1 &lt;= 21.166</text>\n<text text-anchor=\"middle\" x=\"2492\" y=\"-1374.8\" font-family=\"Helvetica,sans-Serif\" font-size=\"14.00\" fill=\"#000000\">gini = 0.5</text>\n<text text-anchor=\"middle\" x=\"2492\" y=\"-1359.8\" font-family=\"Helvetica,sans-Serif\" font-size=\"14.00\" fill=\"#000000\">samples = 2</text>\n<text text-anchor=\"middle\" x=\"2492\" y=\"-1344.8\" font-family=\"Helvetica,sans-Serif\" font-size=\"14.00\" fill=\"#000000\">value = [1, 1]</text>\n</g>\n<!-- 155&#45;&gt;157 -->\n<g id=\"edge157\" class=\"edge\">\n<title>155&#45;&gt;157</title>\n<path fill=\"none\" stroke=\"#000000\" d=\"M2452.3188,-1440.9465C2457.2087,-1432.3271 2462.5239,-1422.9579 2467.6278,-1413.9611\"/>\n<polygon fill=\"#000000\" stroke=\"#000000\" points=\"2470.7476,-1415.5549 2472.6378,-1405.13 2464.6592,-1412.1008 2470.7476,-1415.5549\"/>\n</g>\n<!-- 158 -->\n<g id=\"node159\" class=\"node\">\n<title>158</title>\n<path fill=\"#e58139\" stroke=\"#000000\" d=\"M2470.5,-1293.5C2470.5,-1293.5 2395.5,-1293.5 2395.5,-1293.5 2389.5,-1293.5 2383.5,-1287.5 2383.5,-1281.5 2383.5,-1281.5 2383.5,-1252.5 2383.5,-1252.5 2383.5,-1246.5 2389.5,-1240.5 2395.5,-1240.5 2395.5,-1240.5 2470.5,-1240.5 2470.5,-1240.5 2476.5,-1240.5 2482.5,-1246.5 2482.5,-1252.5 2482.5,-1252.5 2482.5,-1281.5 2482.5,-1281.5 2482.5,-1287.5 2476.5,-1293.5 2470.5,-1293.5\"/>\n<text text-anchor=\"middle\" x=\"2433\" y=\"-1278.3\" font-family=\"Helvetica,sans-Serif\" font-size=\"14.00\" fill=\"#000000\">gini = 0.0</text>\n<text text-anchor=\"middle\" x=\"2433\" y=\"-1263.3\" font-family=\"Helvetica,sans-Serif\" font-size=\"14.00\" fill=\"#000000\">samples = 1</text>\n<text text-anchor=\"middle\" x=\"2433\" y=\"-1248.3\" font-family=\"Helvetica,sans-Serif\" font-size=\"14.00\" fill=\"#000000\">value = [1, 0]</text>\n</g>\n<!-- 157&#45;&gt;158 -->\n<g id=\"edge158\" class=\"edge\">\n<title>157&#45;&gt;158</title>\n<path fill=\"none\" stroke=\"#000000\" d=\"M2472.6812,-1336.9465C2466.4324,-1325.9316 2459.4888,-1313.6922 2453.1793,-1302.5703\"/>\n<polygon fill=\"#000000\" stroke=\"#000000\" points=\"2456.0362,-1300.513 2448.0576,-1293.5422 2449.9477,-1303.967 2456.0362,-1300.513\"/>\n</g>\n<!-- 159 -->\n<g id=\"node160\" class=\"node\">\n<title>159</title>\n<path fill=\"#399de5\" stroke=\"#000000\" d=\"M2587.5,-1293.5C2587.5,-1293.5 2512.5,-1293.5 2512.5,-1293.5 2506.5,-1293.5 2500.5,-1287.5 2500.5,-1281.5 2500.5,-1281.5 2500.5,-1252.5 2500.5,-1252.5 2500.5,-1246.5 2506.5,-1240.5 2512.5,-1240.5 2512.5,-1240.5 2587.5,-1240.5 2587.5,-1240.5 2593.5,-1240.5 2599.5,-1246.5 2599.5,-1252.5 2599.5,-1252.5 2599.5,-1281.5 2599.5,-1281.5 2599.5,-1287.5 2593.5,-1293.5 2587.5,-1293.5\"/>\n<text text-anchor=\"middle\" x=\"2550\" y=\"-1278.3\" font-family=\"Helvetica,sans-Serif\" font-size=\"14.00\" fill=\"#000000\">gini = 0.0</text>\n<text text-anchor=\"middle\" x=\"2550\" y=\"-1263.3\" font-family=\"Helvetica,sans-Serif\" font-size=\"14.00\" fill=\"#000000\">samples = 1</text>\n<text text-anchor=\"middle\" x=\"2550\" y=\"-1248.3\" font-family=\"Helvetica,sans-Serif\" font-size=\"14.00\" fill=\"#000000\">value = [0, 1]</text>\n</g>\n<!-- 157&#45;&gt;159 -->\n<g id=\"edge159\" class=\"edge\">\n<title>157&#45;&gt;159</title>\n<path fill=\"none\" stroke=\"#000000\" d=\"M2510.9914,-1336.9465C2517.1343,-1325.9316 2523.9601,-1313.6922 2530.1627,-1302.5703\"/>\n<polygon fill=\"#000000\" stroke=\"#000000\" points=\"2533.3837,-1303.9806 2535.1976,-1293.5422 2527.2701,-1300.5711 2533.3837,-1303.9806\"/>\n</g>\n</g>\n</svg>\n"
          },
          "metadata": {
            "tags": []
          },
          "execution_count": 84
        }
      ]
    },
    {
      "cell_type": "markdown",
      "metadata": {
        "id": "sizoLb6000Mf"
      },
      "source": [
        "**8.2.3 Calculating the Prediction**"
      ]
    },
    {
      "cell_type": "code",
      "metadata": {
        "id": "LIoku3lSpRhU"
      },
      "source": [
        "y_pred = clf.predict(x_test)"
      ],
      "execution_count": null,
      "outputs": []
    },
    {
      "cell_type": "code",
      "metadata": {
        "id": "t0zWzzsEp-nA",
        "colab": {
          "base_uri": "https://localhost:8080/"
        },
        "outputId": "4ab6425c-05de-45ba-fd48-2588bab8e6a9"
      },
      "source": [
        "print(\"Meam Absolute Error:\",metrics.mean_absolute_error(y_test,y_pred))\n",
        "print(\"R2 score:\",metrics.r2_score(y_test,y_pred))\n",
        "print(\"Accuracy score: - Test \",metrics.accuracy_score(y_test,y_pred))\n"
      ],
      "execution_count": null,
      "outputs": [
        {
          "output_type": "stream",
          "text": [
            "Meam Absolute Error: 0.06306306306306306\n",
            "R2 score: 0.7442396313364055\n",
            "Accuracy score: - Test  0.9369369369369369\n"
          ],
          "name": "stdout"
        }
      ]
    },
    {
      "cell_type": "code",
      "metadata": {
        "id": "R7NiYDClqEk4",
        "colab": {
          "base_uri": "https://localhost:8080/"
        },
        "outputId": "802d6a68-76d0-430e-ab2f-66986b7ae8d8"
      },
      "source": [
        "print(\"Accuracy score: - Train \",metrics.accuracy_score(y_train,model.predict(x_train)))"
      ],
      "execution_count": null,
      "outputs": [
        {
          "output_type": "stream",
          "text": [
            "Accuracy score: - Train  0.5692208628461043\n"
          ],
          "name": "stdout"
        }
      ]
    },
    {
      "cell_type": "markdown",
      "metadata": {
        "id": "SIiSwerD1CzF"
      },
      "source": [
        "**8.2.4 Printing the Confusion Matrix**"
      ]
    },
    {
      "cell_type": "code",
      "metadata": {
        "id": "0O6ygxlRqJFR",
        "colab": {
          "base_uri": "https://localhost:8080/"
        },
        "outputId": "3910b1ce-b842-4cd1-debc-ea9698d5db46"
      },
      "source": [
        "from sklearn.metrics import confusion_matrix\n",
        "print(confusion_matrix(y_test,y_pred))"
      ],
      "execution_count": null,
      "outputs": [
        {
          "output_type": "stream",
          "text": [
            "[[349  23]\n",
            " [ 19 275]]\n"
          ],
          "name": "stdout"
        }
      ]
    },
    {
      "cell_type": "markdown",
      "metadata": {
        "id": "WU1DDj431I4r"
      },
      "source": [
        "**8.2.5 Printing the Classification Report**"
      ]
    },
    {
      "cell_type": "code",
      "metadata": {
        "id": "9W7nSGyUqVbu",
        "colab": {
          "base_uri": "https://localhost:8080/"
        },
        "outputId": "e8359ce7-833e-4d9d-905e-e4e66d6053dc"
      },
      "source": [
        "\n",
        "from sklearn.metrics import classification_report\n",
        "print(classification_report(y_test,y_pred))\n"
      ],
      "execution_count": null,
      "outputs": [
        {
          "output_type": "stream",
          "text": [
            "              precision    recall  f1-score   support\n",
            "\n",
            "           0       0.95      0.94      0.94       372\n",
            "           1       0.92      0.94      0.93       294\n",
            "\n",
            "    accuracy                           0.94       666\n",
            "   macro avg       0.94      0.94      0.94       666\n",
            "weighted avg       0.94      0.94      0.94       666\n",
            "\n"
          ],
          "name": "stdout"
        }
      ]
    },
    {
      "cell_type": "markdown",
      "metadata": {
        "id": "4bGaLoEsqeFu"
      },
      "source": [
        "----------------------------------------------------------------------------------------------------------------------------------------------------------------\n",
        "\n",
        "**Conclusion**: It is working very much better than other Logistic Regression. It is showing 95% accuracy score.In confusion matrix the false negatives are very less as compared to Logistic Regression.\n",
        "\n",
        "----------------------------------------------------------------------------------------------------------------------------------------------------------------"
      ]
    },
    {
      "cell_type": "markdown",
      "metadata": {
        "id": "DBaY7r0lf1q-"
      },
      "source": [
        "### **8.6. Building the Machine Learning Model - KNN**`"
      ]
    },
    {
      "cell_type": "markdown",
      "metadata": {
        "id": "OswmJFl3gFVe"
      },
      "source": [
        "**K-Nearest Neighbors (KNN)** is one of the simplest algorithms used in Machine Learning for regression and classification problem. KNN algorithms use data and classify new data points based on similarity measures (e.g. distance function). Classification is done by a majority vote to its neighbors"
      ]
    },
    {
      "cell_type": "markdown",
      "metadata": {
        "id": "tccywUv25R8V"
      },
      "source": [
        "**8.6.1 Importing the KNeighborsClassifier**"
      ]
    },
    {
      "cell_type": "code",
      "metadata": {
        "id": "aZPXmEVCoNoI",
        "colab": {
          "base_uri": "https://localhost:8080/"
        },
        "outputId": "a32fbef9-9e65-42dc-b2de-15d7ddfb0e7c"
      },
      "source": [
        "from sklearn.neighbors import KNeighborsClassifier\n",
        "neigh = KNeighborsClassifier(n_neighbors=3)\n",
        "neigh.fit(x_train,y_train)"
      ],
      "execution_count": null,
      "outputs": [
        {
          "output_type": "execute_result",
          "data": {
            "text/plain": [
              "KNeighborsClassifier(algorithm='auto', leaf_size=30, metric='minkowski',\n",
              "                     metric_params=None, n_jobs=None, n_neighbors=3, p=2,\n",
              "                     weights='uniform')"
            ]
          },
          "metadata": {
            "tags": []
          },
          "execution_count": 90
        }
      ]
    },
    {
      "cell_type": "markdown",
      "metadata": {
        "id": "g0zJ-9Hh5Xrs"
      },
      "source": [
        "**8.6.2 Calculating the Prediction**"
      ]
    },
    {
      "cell_type": "code",
      "metadata": {
        "id": "wlEQTUcNoNoM"
      },
      "source": [
        "y_pred = neigh.predict(x_test)"
      ],
      "execution_count": null,
      "outputs": []
    },
    {
      "cell_type": "code",
      "metadata": {
        "id": "a6O99jTsoNoQ",
        "colab": {
          "base_uri": "https://localhost:8080/"
        },
        "outputId": "8aff1aff-8ad1-4262-ad42-56a3bd474bfd"
      },
      "source": [
        "print(\"Mean Absolute Error:\",metrics.mean_absolute_error(y_test,y_pred))\n",
        "print(\"R2 score:\",metrics.r2_score(y_test,y_pred))\n",
        "print(\"Accuracy score - Test data\",metrics.accuracy_score(y_test,y_pred))"
      ],
      "execution_count": null,
      "outputs": [
        {
          "output_type": "stream",
          "text": [
            "Mean Absolute Error: 0.05555555555555555\n",
            "R2 score: 0.7746872942725478\n",
            "Accuracy score - Test data 0.9444444444444444\n"
          ],
          "name": "stdout"
        }
      ]
    },
    {
      "cell_type": "code",
      "metadata": {
        "id": "OBSKEpWfoNoX",
        "colab": {
          "base_uri": "https://localhost:8080/"
        },
        "outputId": "f0ba9bf5-904e-4373-9e7a-ae5bb56bb7c4"
      },
      "source": [
        "print(\"Accuracy score - Train data\",metrics.accuracy_score(y_train,model.predict(x_train)))"
      ],
      "execution_count": null,
      "outputs": [
        {
          "output_type": "stream",
          "text": [
            "Accuracy score - Train data 0.5692208628461043\n"
          ],
          "name": "stdout"
        }
      ]
    },
    {
      "cell_type": "markdown",
      "metadata": {
        "id": "gqN3xN265e_u"
      },
      "source": [
        "**8.6.3 Printing the Confusion Matrix**"
      ]
    },
    {
      "cell_type": "code",
      "metadata": {
        "id": "Wa4T79TaoNoZ",
        "colab": {
          "base_uri": "https://localhost:8080/"
        },
        "outputId": "21fed92f-7758-408c-cc05-45888623a4e2"
      },
      "source": [
        "from sklearn.metrics import confusion_matrix\n",
        "print(confusion_matrix(y_test,y_pred))"
      ],
      "execution_count": null,
      "outputs": [
        {
          "output_type": "stream",
          "text": [
            "[[348  24]\n",
            " [ 13 281]]\n"
          ],
          "name": "stdout"
        }
      ]
    },
    {
      "cell_type": "markdown",
      "metadata": {
        "id": "pR79NnE85krP"
      },
      "source": [
        "**8.6.4 Printing the Classification Report**"
      ]
    },
    {
      "cell_type": "code",
      "metadata": {
        "id": "QH3yV7iBoNoe",
        "colab": {
          "base_uri": "https://localhost:8080/"
        },
        "outputId": "e0f09e17-4388-4464-8899-524926c98546"
      },
      "source": [
        "from sklearn.metrics import classification_report\n",
        "print(classification_report(y_test,y_pred))"
      ],
      "execution_count": null,
      "outputs": [
        {
          "output_type": "stream",
          "text": [
            "              precision    recall  f1-score   support\n",
            "\n",
            "           0       0.96      0.94      0.95       372\n",
            "           1       0.92      0.96      0.94       294\n",
            "\n",
            "    accuracy                           0.94       666\n",
            "   macro avg       0.94      0.95      0.94       666\n",
            "weighted avg       0.95      0.94      0.94       666\n",
            "\n"
          ],
          "name": "stdout"
        }
      ]
    },
    {
      "cell_type": "markdown",
      "metadata": {
        "id": "L15DaucwoNov"
      },
      "source": [
        "------------------------------------------------------------------------------------------------------------------------------------------------------------------------\n",
        "\n",
        "**Conclusion**: We can find that the model is working better when compared with Logistic and Decision trees accuracy score is 96%.\n",
        "\n",
        "------------------------------------------------------------------------------------------------------------------------------------------------------------------------\n"
      ]
    },
    {
      "cell_type": "markdown",
      "metadata": {
        "id": "WL6zjhJjdHZl"
      },
      "source": [
        "### **8.4. Building the Machine Learning Model - SVM with Linear Kernal**`"
      ]
    },
    {
      "cell_type": "markdown",
      "metadata": {
        "id": "dEyzI58ieNoN"
      },
      "source": [
        "**Support Vector Machine** (SVM) is a supervised machine learning algorithm which can be used for both classification or regression challenges. However,  it is mostly used in classification problems. In the SVM algorithm, we plot each data item as a point in n-dimensional space (where n is number of features you have) with the value of each feature being the value of a particular coordinate. Then, we perform classification by finding the hyper-plane that differentiates the two classes very well .\n",
        "\n",
        "\n",
        "**Resource: Google**"
      ]
    },
    {
      "cell_type": "markdown",
      "metadata": {
        "id": "Svr-aExo12Qz"
      },
      "source": [
        "**8.4.1 Importing the SVM**"
      ]
    },
    {
      "cell_type": "code",
      "metadata": {
        "id": "ngJAA6gHoNkL"
      },
      "source": [
        "from sklearn import svm\n",
        "clf = svm.SVC(kernel='linear')\n",
        "clf = clf.fit(x_train,y_train)"
      ],
      "execution_count": null,
      "outputs": []
    },
    {
      "cell_type": "markdown",
      "metadata": {
        "id": "fCEoDBPx16zh"
      },
      "source": [
        "**8.4.2 Calculating the Prediction**"
      ]
    },
    {
      "cell_type": "code",
      "metadata": {
        "id": "2hUK-GkToNkQ"
      },
      "source": [
        "y_pred = clf.predict(x_test)"
      ],
      "execution_count": null,
      "outputs": []
    },
    {
      "cell_type": "code",
      "metadata": {
        "id": "gDYBC9f8oNkf",
        "colab": {
          "base_uri": "https://localhost:8080/"
        },
        "outputId": "ab411e7a-06db-47a2-fa27-233c432361d3"
      },
      "source": [
        "print(\"Mean Absolute Error:\",metrics.mean_absolute_error(y_test,y_pred))\n",
        "print(\"R2 score:\",metrics.r2_score(y_test,y_pred))\n",
        "print(\"Accuracy score - Test\",metrics.accuracy_score(y_test,y_pred))\n"
      ],
      "execution_count": null,
      "outputs": [
        {
          "output_type": "stream",
          "text": [
            "Mean Absolute Error: 0.44144144144144143\n",
            "R2 score: -0.7903225806451613\n",
            "Accuracy score - Test 0.5585585585585585\n"
          ],
          "name": "stdout"
        }
      ]
    },
    {
      "cell_type": "code",
      "metadata": {
        "id": "yX7JofrxoNlO",
        "colab": {
          "base_uri": "https://localhost:8080/"
        },
        "outputId": "a45bc746-9c9c-454a-c24b-ac0668589516"
      },
      "source": [
        "print(\"Accuracy score - Train\",metrics.accuracy_score(y_train,model.predict(x_train)))"
      ],
      "execution_count": null,
      "outputs": [
        {
          "output_type": "stream",
          "text": [
            "Accuracy score - Train 0.5692208628461043\n"
          ],
          "name": "stdout"
        }
      ]
    },
    {
      "cell_type": "markdown",
      "metadata": {
        "id": "UjnSE_6o2EAH"
      },
      "source": [
        "**8.4.3 Printing the Confusion Matrix**"
      ]
    },
    {
      "cell_type": "code",
      "metadata": {
        "id": "VIFz1w9soNlY",
        "colab": {
          "base_uri": "https://localhost:8080/"
        },
        "outputId": "48cbed5f-c855-4f6f-8e01-7be181ffcb41"
      },
      "source": [
        "from sklearn.metrics import confusion_matrix\n",
        "print(confusion_matrix(y_test,y_pred))"
      ],
      "execution_count": null,
      "outputs": [
        {
          "output_type": "stream",
          "text": [
            "[[372   0]\n",
            " [294   0]]\n"
          ],
          "name": "stdout"
        }
      ]
    },
    {
      "cell_type": "markdown",
      "metadata": {
        "id": "HBwuzUGc2KxI"
      },
      "source": [
        "**8.4.4 Printing the Classification Report**"
      ]
    },
    {
      "cell_type": "code",
      "metadata": {
        "id": "fwXCZGmJoNlh",
        "colab": {
          "base_uri": "https://localhost:8080/"
        },
        "outputId": "5f528b3c-c10b-4945-bfc1-3b37efc8a142"
      },
      "source": [
        "from sklearn.metrics import classification_report\n",
        "print(classification_report(y_test,y_pred))"
      ],
      "execution_count": null,
      "outputs": [
        {
          "output_type": "stream",
          "text": [
            "              precision    recall  f1-score   support\n",
            "\n",
            "           0       0.56      1.00      0.72       372\n",
            "           1       0.00      0.00      0.00       294\n",
            "\n",
            "    accuracy                           0.56       666\n",
            "   macro avg       0.28      0.50      0.36       666\n",
            "weighted avg       0.31      0.56      0.40       666\n",
            "\n"
          ],
          "name": "stdout"
        },
        {
          "output_type": "stream",
          "text": [
            "/usr/local/lib/python3.7/dist-packages/sklearn/metrics/_classification.py:1272: UndefinedMetricWarning: Precision and F-score are ill-defined and being set to 0.0 in labels with no predicted samples. Use `zero_division` parameter to control this behavior.\n",
            "  _warn_prf(average, modifier, msg_start, len(result))\n"
          ],
          "name": "stderr"
        }
      ]
    },
    {
      "cell_type": "markdown",
      "metadata": {
        "id": "-X1o7cuIoNlp"
      },
      "source": [
        "------------------------------------------------------------------------------------------------------------------------------------------------------------------------\n",
        "\n",
        "**Conclusion**: We can see that the accuracy score using svm with linear kernel is 56%. It was 94% in KNN. So KNN is working good rather than svm.\n",
        "\n",
        "------------------------------------------------------------------------------------------------------------------------------------------------------------------------\n"
      ]
    },
    {
      "cell_type": "code",
      "metadata": {
        "id": "xcBFve-GIFw5"
      },
      "source": [
        ""
      ],
      "execution_count": null,
      "outputs": []
    },
    {
      "cell_type": "markdown",
      "metadata": {
        "id": "_bTuKku6IGLI"
      },
      "source": [
        "### **8.4. Building the Machine Learning Model - SVM with RBF Kernal**`"
      ]
    },
    {
      "cell_type": "markdown",
      "metadata": {
        "id": "2F2wcWmJIGLJ"
      },
      "source": [
        "\n",
        "**Support Vector Machine** (SVM) is a supervised machine learning algorithm which can be used for both classification or regression challenges. However,  it is mostly used in classification problems. In the SVM algorithm, we plot each data item as a point in n-dimensional space (where n is number of features you have) with the value of each feature being the value of a particular coordinate. Then, we perform classification by finding the hyper-plane that differentiates the two classes very well \n",
        "\n",
        "\n",
        "**Resource: Google**"
      ]
    },
    {
      "cell_type": "markdown",
      "metadata": {
        "id": "ybvKLW-MIGLK"
      },
      "source": [
        "**8.4.1 Importing the SVM**"
      ]
    },
    {
      "cell_type": "code",
      "metadata": {
        "id": "BmGxbTLeIGLL"
      },
      "source": [
        "from sklearn import svm\n",
        "clf = svm.SVC(kernel='rbf')\n",
        "clf = clf.fit(x_train,y_train)"
      ],
      "execution_count": null,
      "outputs": []
    },
    {
      "cell_type": "markdown",
      "metadata": {
        "id": "_A16wIagIGLL"
      },
      "source": [
        "**8.4.2 Calculating the Prediction**"
      ]
    },
    {
      "cell_type": "code",
      "metadata": {
        "id": "Gul0gKrPIGLM"
      },
      "source": [
        "y_pred = clf.predict(x_test)"
      ],
      "execution_count": null,
      "outputs": []
    },
    {
      "cell_type": "code",
      "metadata": {
        "id": "Gwnc4bt4IGLM",
        "colab": {
          "base_uri": "https://localhost:8080/"
        },
        "outputId": "5d2efc07-5769-44e1-f9b2-cbf06637c9ad"
      },
      "source": [
        "print(\"Mean Absolute Error:\",metrics.mean_absolute_error(y_test,y_pred))\n",
        "print(\"R2 score:\",metrics.r2_score(y_test,y_pred))\n",
        "print(\"Accuracy score - Test\",metrics.accuracy_score(y_test,y_pred))\n"
      ],
      "execution_count": null,
      "outputs": [
        {
          "output_type": "stream",
          "text": [
            "Mean Absolute Error: 0.44144144144144143\n",
            "R2 score: -0.7903225806451613\n",
            "Accuracy score - Test 0.5585585585585585\n"
          ],
          "name": "stdout"
        }
      ]
    },
    {
      "cell_type": "code",
      "metadata": {
        "id": "3IJyKRcOIGLN",
        "colab": {
          "base_uri": "https://localhost:8080/"
        },
        "outputId": "ff05271f-12d1-4156-9d6b-4a66a330ff28"
      },
      "source": [
        "print(\"Accuracy score - Train\",metrics.accuracy_score(y_train,model.predict(x_train)))"
      ],
      "execution_count": null,
      "outputs": [
        {
          "output_type": "stream",
          "text": [
            "Accuracy score - Train 0.5692208628461043\n"
          ],
          "name": "stdout"
        }
      ]
    },
    {
      "cell_type": "markdown",
      "metadata": {
        "id": "Zq5kugnHIGLO"
      },
      "source": [
        "**8.4.3 Printing the Confusion Matrix**"
      ]
    },
    {
      "cell_type": "code",
      "metadata": {
        "id": "NVKecsaOIGLO",
        "colab": {
          "base_uri": "https://localhost:8080/"
        },
        "outputId": "28769764-6090-4b95-ab8a-9ffeb2e66489"
      },
      "source": [
        "from sklearn.metrics import confusion_matrix\n",
        "print(confusion_matrix(y_test,y_pred))"
      ],
      "execution_count": null,
      "outputs": [
        {
          "output_type": "stream",
          "text": [
            "[[372   0]\n",
            " [294   0]]\n"
          ],
          "name": "stdout"
        }
      ]
    },
    {
      "cell_type": "markdown",
      "metadata": {
        "id": "8z0tAr2IIGLP"
      },
      "source": [
        "**8.4.4 Printing the Classification Report**"
      ]
    },
    {
      "cell_type": "code",
      "metadata": {
        "id": "ZMse8EiMIGLP",
        "colab": {
          "base_uri": "https://localhost:8080/"
        },
        "outputId": "3c5b1d5e-266f-48ee-aa95-69f0b0b07d85"
      },
      "source": [
        "from sklearn.metrics import classification_report\n",
        "print(classification_report(y_test,y_pred))"
      ],
      "execution_count": null,
      "outputs": [
        {
          "output_type": "stream",
          "text": [
            "              precision    recall  f1-score   support\n",
            "\n",
            "           0       0.56      1.00      0.72       372\n",
            "           1       0.00      0.00      0.00       294\n",
            "\n",
            "    accuracy                           0.56       666\n",
            "   macro avg       0.28      0.50      0.36       666\n",
            "weighted avg       0.31      0.56      0.40       666\n",
            "\n"
          ],
          "name": "stdout"
        },
        {
          "output_type": "stream",
          "text": [
            "/usr/local/lib/python3.7/dist-packages/sklearn/metrics/_classification.py:1272: UndefinedMetricWarning: Precision and F-score are ill-defined and being set to 0.0 in labels with no predicted samples. Use `zero_division` parameter to control this behavior.\n",
            "  _warn_prf(average, modifier, msg_start, len(result))\n"
          ],
          "name": "stderr"
        }
      ]
    },
    {
      "cell_type": "markdown",
      "metadata": {
        "id": "jsiq4Im4IGLP"
      },
      "source": [
        "------------------------------------------------------------------------------------------------------------------------------------------------------------------------\n",
        "\n",
        "**Conclusion**: We can see that the accuracy score using svm with linear kernel is 56%. It was 94% in KNN. So KNN is working good rather than svm.\n",
        "\n",
        "------------------------------------------------------------------------------------------------------------------------------------------------------------------------\n"
      ]
    },
    {
      "cell_type": "markdown",
      "metadata": {
        "id": "mVUDIR7Gc_L8"
      },
      "source": [
        "### **8.3. Building the Machine Learning Model - Random Forest**`"
      ]
    },
    {
      "cell_type": "markdown",
      "metadata": {
        "id": "7BV2kTFxstxj"
      },
      "source": [
        "**Random forest**, like its name implies, consists of a large number of individual decision trees that operate as an ensemble. Each individual tree in the random forest spits out a class prediction and the class with the most votes becomes our model’s prediction"
      ]
    },
    {
      "cell_type": "markdown",
      "metadata": {
        "id": "viBoog941Q8B"
      },
      "source": [
        "**8.3.1 Importing the RandomForestClassifier**"
      ]
    },
    {
      "cell_type": "code",
      "metadata": {
        "id": "ESwvqTPeqxGj",
        "colab": {
          "base_uri": "https://localhost:8080/"
        },
        "outputId": "5579cdfe-f315-4068-847f-b5b9f7a36a7b"
      },
      "source": [
        "from sklearn.ensemble import RandomForestClassifier\n",
        "clf = RandomForestClassifier()\n",
        "clf.fit(x_train,y_train)"
      ],
      "execution_count": null,
      "outputs": [
        {
          "output_type": "execute_result",
          "data": {
            "text/plain": [
              "RandomForestClassifier(bootstrap=True, ccp_alpha=0.0, class_weight=None,\n",
              "                       criterion='gini', max_depth=None, max_features='auto',\n",
              "                       max_leaf_nodes=None, max_samples=None,\n",
              "                       min_impurity_decrease=0.0, min_impurity_split=None,\n",
              "                       min_samples_leaf=1, min_samples_split=2,\n",
              "                       min_weight_fraction_leaf=0.0, n_estimators=100,\n",
              "                       n_jobs=None, oob_score=False, random_state=None,\n",
              "                       verbose=0, warm_start=False)"
            ]
          },
          "metadata": {
            "tags": []
          },
          "execution_count": 109
        }
      ]
    },
    {
      "cell_type": "markdown",
      "metadata": {
        "id": "SYF47Hze1WEI"
      },
      "source": [
        "**8.3.2 Calculating the Prediction**"
      ]
    },
    {
      "cell_type": "code",
      "metadata": {
        "id": "JGLnX1-lsy9L"
      },
      "source": [
        "y_pred = clf.predict(x_test)"
      ],
      "execution_count": null,
      "outputs": []
    },
    {
      "cell_type": "code",
      "metadata": {
        "id": "nwhH872Hs2xj",
        "colab": {
          "base_uri": "https://localhost:8080/"
        },
        "outputId": "de71b798-989a-4bc1-8860-3c6666d94390"
      },
      "source": [
        "print(\"Mean Absolute Error:\",metrics.mean_absolute_error(y_test,y_pred))\n",
        "print(\"R2 score:\",metrics.r2_score(y_test,y_pred))\n",
        "print(\"Accuracy score - Test\",metrics.accuracy_score(y_test,y_pred))"
      ],
      "execution_count": null,
      "outputs": [
        {
          "output_type": "stream",
          "text": [
            "Mean Absolute Error: 0.057057057057057055\n",
            "R2 score: 0.7685977616853192\n",
            "Accuracy score - Test 0.9429429429429429\n"
          ],
          "name": "stdout"
        }
      ]
    },
    {
      "cell_type": "code",
      "metadata": {
        "id": "RC93cZFZs8Yx",
        "colab": {
          "base_uri": "https://localhost:8080/"
        },
        "outputId": "1cab2d58-fc2c-486f-a2bf-c26c0c4578a5"
      },
      "source": [
        "print(\"Accuracy score - Train\",metrics.accuracy_score(y_train,model.predict(x_train)))"
      ],
      "execution_count": null,
      "outputs": [
        {
          "output_type": "stream",
          "text": [
            "Accuracy score - Train 0.5692208628461043\n"
          ],
          "name": "stdout"
        }
      ]
    },
    {
      "cell_type": "markdown",
      "metadata": {
        "id": "_r0RKTJE1iLg"
      },
      "source": [
        "**8.3.3 Printing the Confusion Matrix**"
      ]
    },
    {
      "cell_type": "code",
      "metadata": {
        "id": "Mt6BBSdItFDT",
        "colab": {
          "base_uri": "https://localhost:8080/"
        },
        "outputId": "3d1760d1-7029-42dd-87f8-e38cefd73d53"
      },
      "source": [
        "from sklearn.metrics import confusion_matrix\n",
        "print(confusion_matrix(y_test,y_pred))"
      ],
      "execution_count": null,
      "outputs": [
        {
          "output_type": "stream",
          "text": [
            "[[350  22]\n",
            " [ 16 278]]\n"
          ],
          "name": "stdout"
        }
      ]
    },
    {
      "cell_type": "markdown",
      "metadata": {
        "id": "NoOkPfG61n1g"
      },
      "source": [
        "**8.3.4 Printing the Classification Report**"
      ]
    },
    {
      "cell_type": "code",
      "metadata": {
        "id": "sn_neknHbnb0",
        "colab": {
          "base_uri": "https://localhost:8080/"
        },
        "outputId": "d2267031-ef66-4585-eb5b-c515a18cee75"
      },
      "source": [
        "from sklearn.metrics import classification_report\n",
        "print(classification_report(y_test,y_pred))"
      ],
      "execution_count": null,
      "outputs": [
        {
          "output_type": "stream",
          "text": [
            "              precision    recall  f1-score   support\n",
            "\n",
            "           0       0.96      0.94      0.95       372\n",
            "           1       0.93      0.95      0.94       294\n",
            "\n",
            "    accuracy                           0.94       666\n",
            "   macro avg       0.94      0.94      0.94       666\n",
            "weighted avg       0.94      0.94      0.94       666\n",
            "\n"
          ],
          "name": "stdout"
        }
      ]
    },
    {
      "cell_type": "markdown",
      "metadata": {
        "id": "jirc9AQqcN79"
      },
      "source": [
        "------------------------------------------------------------------------------------------------------------------------------------------------------------------------\n",
        "\n",
        "**Conclusion** : It is clearly showing that the model of random forest is working very good. The accuracy score is 98% for test data which is highest in all the algorithm we have used till now. Also the confusion matrix is also better than the previous results.\n",
        "\n",
        "------------------------------------------------------------------------------------------------------------------------------------------------------------------------\n",
        "\n"
      ]
    },
    {
      "cell_type": "markdown",
      "metadata": {
        "id": "BMuus29XeIXe"
      },
      "source": [
        "### **8.5. Building the Machine Learning Model - Naive Bayes**`"
      ]
    },
    {
      "cell_type": "markdown",
      "metadata": {
        "id": "ZP6v0M4wfBZh"
      },
      "source": [
        "A **Naive Bayes Classifier** is a supervised machine-learning algorithm that uses the Bayes' Theorem, which assumes that features are statistically independent. ... Regardless of this assumption, it has proven itself to be a classifier with good results."
      ]
    },
    {
      "cell_type": "markdown",
      "metadata": {
        "id": "eqYAW7aY2SDu"
      },
      "source": [
        "**8.5.1 Importing the GaussianNB**"
      ]
    },
    {
      "cell_type": "code",
      "metadata": {
        "id": "AzQt1G_5oNnN",
        "colab": {
          "base_uri": "https://localhost:8080/"
        },
        "outputId": "5068398e-f140-41d8-cce0-7bc7633c6772"
      },
      "source": [
        "from sklearn.naive_bayes import GaussianNB\n",
        "model = GaussianNB()\n",
        "model.fit(x_train,y_train)\n"
      ],
      "execution_count": null,
      "outputs": [
        {
          "output_type": "execute_result",
          "data": {
            "text/plain": [
              "GaussianNB(priors=None, var_smoothing=1e-09)"
            ]
          },
          "metadata": {
            "tags": []
          },
          "execution_count": 115
        }
      ]
    },
    {
      "cell_type": "markdown",
      "metadata": {
        "id": "IqQ-v4hU4711"
      },
      "source": [
        "**8.5.2 Calculating the Prediction**"
      ]
    },
    {
      "cell_type": "code",
      "metadata": {
        "id": "1xeVQU_DoNnT"
      },
      "source": [
        "y_pred = model.predict(x_test)"
      ],
      "execution_count": null,
      "outputs": []
    },
    {
      "cell_type": "code",
      "metadata": {
        "id": "2E0L3Sy_oNnZ",
        "colab": {
          "base_uri": "https://localhost:8080/"
        },
        "outputId": "da8fb166-fa56-40f7-9be0-adb2d6e4a259"
      },
      "source": [
        "print(\"Mean Absolute Error:\",metrics.mean_absolute_error(y_test,y_pred))\n",
        "print(\"R2 score:\",metrics.r2_score(y_test,y_pred))\n",
        "print(\"Accuracy score - test data\",metrics.accuracy_score(y_test,y_pred))"
      ],
      "execution_count": null,
      "outputs": [
        {
          "output_type": "stream",
          "text": [
            "Mean Absolute Error: 0.5585585585585585\n",
            "R2 score: -1.2653061224489797\n",
            "Accuracy score - test data 0.44144144144144143\n"
          ],
          "name": "stdout"
        }
      ]
    },
    {
      "cell_type": "code",
      "metadata": {
        "id": "cEYS5fMpoNno",
        "colab": {
          "base_uri": "https://localhost:8080/"
        },
        "outputId": "f062716e-b756-438e-ed05-445b2842a43c"
      },
      "source": [
        "print(\"Accuracy score -  train data\",metrics.accuracy_score(y_train,model.predict(x_train)))"
      ],
      "execution_count": null,
      "outputs": [
        {
          "output_type": "stream",
          "text": [
            "Accuracy score -  train data 0.4436574372182872\n"
          ],
          "name": "stdout"
        }
      ]
    },
    {
      "cell_type": "markdown",
      "metadata": {
        "id": "hv3nWMij5Aa2"
      },
      "source": [
        "**8.5.3 Calculating the Confusion Matrix**"
      ]
    },
    {
      "cell_type": "code",
      "metadata": {
        "id": "xKbRhdMxoNnv",
        "colab": {
          "base_uri": "https://localhost:8080/"
        },
        "outputId": "9b842d87-c0e3-4c8d-e0c3-afdf3051c19d"
      },
      "source": [
        "from sklearn.metrics import confusion_matrix\n",
        "print(confusion_matrix(y_test,y_pred))"
      ],
      "execution_count": null,
      "outputs": [
        {
          "output_type": "stream",
          "text": [
            "[[  0 372]\n",
            " [  0 294]]\n"
          ],
          "name": "stdout"
        }
      ]
    },
    {
      "cell_type": "markdown",
      "metadata": {
        "id": "ta4X3xIo5Fzu"
      },
      "source": [
        "**8.5.4 Calculating the Classification Report**"
      ]
    },
    {
      "cell_type": "code",
      "metadata": {
        "id": "p7XbTOQYoNoA",
        "colab": {
          "base_uri": "https://localhost:8080/"
        },
        "outputId": "2716a7e6-8537-4447-e708-9f25c223eec9"
      },
      "source": [
        "from sklearn.metrics import classification_report\n",
        "print(classification_report(y_test,y_pred))"
      ],
      "execution_count": null,
      "outputs": [
        {
          "output_type": "stream",
          "text": [
            "              precision    recall  f1-score   support\n",
            "\n",
            "           0       0.00      0.00      0.00       372\n",
            "           1       0.44      1.00      0.61       294\n",
            "\n",
            "    accuracy                           0.44       666\n",
            "   macro avg       0.22      0.50      0.31       666\n",
            "weighted avg       0.19      0.44      0.27       666\n",
            "\n"
          ],
          "name": "stdout"
        },
        {
          "output_type": "stream",
          "text": [
            "/usr/local/lib/python3.7/dist-packages/sklearn/metrics/_classification.py:1272: UndefinedMetricWarning: Precision and F-score are ill-defined and being set to 0.0 in labels with no predicted samples. Use `zero_division` parameter to control this behavior.\n",
            "  _warn_prf(average, modifier, msg_start, len(result))\n"
          ],
          "name": "stderr"
        }
      ]
    },
    {
      "cell_type": "markdown",
      "metadata": {
        "id": "Oqsp8kzZoNoH"
      },
      "source": [
        "------------------------------------------------------------------------------------------------------------------------------------------------------------------------\n",
        "\n",
        "**Conclusion** :The accuracy score for naive bayes algorithm in this case is 88% which is less than other models\n",
        "\n",
        "------------------------------------------------------------------------------------------------------------------------------------------------------------------------"
      ]
    },
    {
      "cell_type": "markdown",
      "metadata": {
        "id": "mgt4cOkpgz4Y"
      },
      "source": [
        "### **8.7. Building the Machine Learning Model - Neural Network**`"
      ]
    },
    {
      "cell_type": "markdown",
      "metadata": {
        "id": "nTcSC_FihNTm"
      },
      "source": [
        "A **neural network** is a series of algorithms that endeavors to recognize underlying relationships in a set of data through a process that mimics the way the human brain operates. ... Neural networks can adapt to changing input; so the network generates the best possible result without needing to redesign the output criteria."
      ]
    },
    {
      "cell_type": "markdown",
      "metadata": {
        "id": "zFE3j6Z851Ho"
      },
      "source": [
        "**8.7.1 Importing the MLPClassifier**"
      ]
    },
    {
      "cell_type": "code",
      "metadata": {
        "id": "Z2UNbJhnoNow",
        "colab": {
          "base_uri": "https://localhost:8080/"
        },
        "outputId": "3915247a-5c18-45d5-c20b-9000b7e3f5e7"
      },
      "source": [
        "from sklearn.neural_network import MLPClassifier\n",
        "mlp = MLPClassifier(hidden_layer_sizes=(8,8,8), activation='relu', solver='adam', max_iter=500)\n",
        "mlp.fit(x_train,y_train)"
      ],
      "execution_count": null,
      "outputs": [
        {
          "output_type": "execute_result",
          "data": {
            "text/plain": [
              "MLPClassifier(activation='relu', alpha=0.0001, batch_size='auto', beta_1=0.9,\n",
              "              beta_2=0.999, early_stopping=False, epsilon=1e-08,\n",
              "              hidden_layer_sizes=(8, 8, 8), learning_rate='constant',\n",
              "              learning_rate_init=0.001, max_fun=15000, max_iter=500,\n",
              "              momentum=0.9, n_iter_no_change=10, nesterovs_momentum=True,\n",
              "              power_t=0.5, random_state=None, shuffle=True, solver='adam',\n",
              "              tol=0.0001, validation_fraction=0.1, verbose=False,\n",
              "              warm_start=False)"
            ]
          },
          "metadata": {
            "tags": []
          },
          "execution_count": 121
        }
      ]
    },
    {
      "cell_type": "markdown",
      "metadata": {
        "id": "y0eYptSL55ai"
      },
      "source": [
        "**8.7.2 Calculating the Prediction**"
      ]
    },
    {
      "cell_type": "code",
      "metadata": {
        "id": "3CXnEDIeoNoz"
      },
      "source": [
        "y_pred = mlp.predict(x_test)"
      ],
      "execution_count": null,
      "outputs": []
    },
    {
      "cell_type": "code",
      "metadata": {
        "id": "QJ-hY6o9oNo4",
        "colab": {
          "base_uri": "https://localhost:8080/"
        },
        "outputId": "2321cfad-96be-4f31-8519-b3031d7d9477"
      },
      "source": [
        "print(\"Mean Absolute Error:\",metrics.mean_absolute_error(y_test,y_pred))\n",
        "print(\"R2 score:\",metrics.r2_score(y_test,y_pred))\n",
        "print(\"Accuracy score - Test data\",metrics.accuracy_score(y_test,y_pred))"
      ],
      "execution_count": null,
      "outputs": [
        {
          "output_type": "stream",
          "text": [
            "Mean Absolute Error: 0.05855855855855856\n",
            "R2 score: 0.7625082290980909\n",
            "Accuracy score - Test data 0.9414414414414415\n"
          ],
          "name": "stdout"
        }
      ]
    },
    {
      "cell_type": "code",
      "metadata": {
        "id": "83iI3EmkoNpA",
        "colab": {
          "base_uri": "https://localhost:8080/"
        },
        "outputId": "9fb589fa-6e87-4124-da5c-efef3d68bc1a"
      },
      "source": [
        "print(\"Accuracy score - Train data\",metrics.accuracy_score(y_train,model.predict(x_train)))"
      ],
      "execution_count": null,
      "outputs": [
        {
          "output_type": "stream",
          "text": [
            "Accuracy score - Train data 0.4436574372182872\n"
          ],
          "name": "stdout"
        }
      ]
    },
    {
      "cell_type": "markdown",
      "metadata": {
        "id": "YVTQEoHN5-0_"
      },
      "source": [
        "**8.7.3 Printing the Confusion Matrix**"
      ]
    },
    {
      "cell_type": "code",
      "metadata": {
        "id": "5-4QIcw_oNrl",
        "colab": {
          "base_uri": "https://localhost:8080/"
        },
        "outputId": "cdecdaaf-eb2d-4096-dd73-43087764c3f6"
      },
      "source": [
        "from sklearn.metrics import confusion_matrix\n",
        "print(confusion_matrix(y_test,y_pred))"
      ],
      "execution_count": null,
      "outputs": [
        {
          "output_type": "stream",
          "text": [
            "[[353  19]\n",
            " [ 20 274]]\n"
          ],
          "name": "stdout"
        }
      ]
    },
    {
      "cell_type": "markdown",
      "metadata": {
        "id": "4lKJ7bjm6LlM"
      },
      "source": [
        "**8.7.4 Printing the Classification Report**"
      ]
    },
    {
      "cell_type": "code",
      "metadata": {
        "id": "CSWdFyBb6LlN",
        "colab": {
          "base_uri": "https://localhost:8080/"
        },
        "outputId": "16b27cf8-6b71-4488-d8ff-a52273160cd9"
      },
      "source": [
        "from sklearn.metrics import classification_report\n",
        "print(classification_report(y_test,y_pred))"
      ],
      "execution_count": null,
      "outputs": [
        {
          "output_type": "stream",
          "text": [
            "              precision    recall  f1-score   support\n",
            "\n",
            "           0       0.95      0.95      0.95       372\n",
            "           1       0.94      0.93      0.93       294\n",
            "\n",
            "    accuracy                           0.94       666\n",
            "   macro avg       0.94      0.94      0.94       666\n",
            "weighted avg       0.94      0.94      0.94       666\n",
            "\n"
          ],
          "name": "stdout"
        }
      ]
    },
    {
      "cell_type": "markdown",
      "metadata": {
        "id": "4vUxH1l2oNr3"
      },
      "source": [
        "------------------------------------------------------------------------------------------------------------------------------------------------------------------------\n",
        "\n",
        "**Conclusion**: It is clear that neural network accuracy score is 98% which is more than most of our models we used previously.\n",
        "\n",
        "------------------------------------------------------------------------------------------------------------------------------------------------------------------------"
      ]
    },
    {
      "cell_type": "markdown",
      "metadata": {
        "id": "3P7z7GDbVJ9V"
      },
      "source": [
        "### **8.8. Building the Machine Learning Model - Gradient Boosting**`"
      ]
    },
    {
      "cell_type": "markdown",
      "metadata": {
        "id": "w5DuqOwvVU3a"
      },
      "source": [
        "**Gradient boosing** is one of the most powerful machine learning algorithms. Essentially, the model creates a bunch of weak models and takes the best components of each one using gradient descent. Think of this like random forrest but instead of just averaging all the values, the model picks the best branches of each tree"
      ]
    },
    {
      "cell_type": "markdown",
      "metadata": {
        "id": "Sl-xiSEj60h4"
      },
      "source": [
        "**8.8.1 Importing the Gradient Boosting Classifier**"
      ]
    },
    {
      "cell_type": "code",
      "metadata": {
        "id": "sQi5rVG_TpUa",
        "colab": {
          "base_uri": "https://localhost:8080/"
        },
        "outputId": "25396053-e688-4f8b-95dc-65bc168cc711"
      },
      "source": [
        "from sklearn.ensemble import GradientBoostingClassifier\n",
        "gradientboost = GradientBoostingClassifier()\n",
        "gradientboost.fit(x_train, y_train)"
      ],
      "execution_count": null,
      "outputs": [
        {
          "output_type": "execute_result",
          "data": {
            "text/plain": [
              "GradientBoostingClassifier(ccp_alpha=0.0, criterion='friedman_mse', init=None,\n",
              "                           learning_rate=0.1, loss='deviance', max_depth=3,\n",
              "                           max_features=None, max_leaf_nodes=None,\n",
              "                           min_impurity_decrease=0.0, min_impurity_split=None,\n",
              "                           min_samples_leaf=1, min_samples_split=2,\n",
              "                           min_weight_fraction_leaf=0.0, n_estimators=100,\n",
              "                           n_iter_no_change=None, presort='deprecated',\n",
              "                           random_state=None, subsample=1.0, tol=0.0001,\n",
              "                           validation_fraction=0.1, verbose=0,\n",
              "                           warm_start=False)"
            ]
          },
          "metadata": {
            "tags": []
          },
          "execution_count": 127
        }
      ]
    },
    {
      "cell_type": "markdown",
      "metadata": {
        "id": "gYNefRUd66L9"
      },
      "source": [
        "**8.8.2 Calculating the Prediction**"
      ]
    },
    {
      "cell_type": "code",
      "metadata": {
        "id": "r9iTGY7wVkZy"
      },
      "source": [
        "y_pred = gradientboost.predict(x_test)"
      ],
      "execution_count": null,
      "outputs": []
    },
    {
      "cell_type": "code",
      "metadata": {
        "id": "DBPxiVjhVkZ5",
        "colab": {
          "base_uri": "https://localhost:8080/"
        },
        "outputId": "29e2184d-f283-4df5-9ce0-f4f8d2dcf6b5"
      },
      "source": [
        "print(\"Mean Absolute Error:\",metrics.mean_absolute_error(y_test,y_pred))\n",
        "print(\"R2 score:\",metrics.r2_score(y_test,y_pred))\n",
        "print(\"Accuracy score - Test data\",metrics.accuracy_score(y_test,y_pred))"
      ],
      "execution_count": null,
      "outputs": [
        {
          "output_type": "stream",
          "text": [
            "Mean Absolute Error: 0.057057057057057055\n",
            "R2 score: 0.7685977616853192\n",
            "Accuracy score - Test data 0.9429429429429429\n"
          ],
          "name": "stdout"
        }
      ]
    },
    {
      "cell_type": "code",
      "metadata": {
        "id": "ZI79BA5GVkZ-",
        "colab": {
          "base_uri": "https://localhost:8080/"
        },
        "outputId": "225dfb18-fdf7-4d4d-8e8a-a628a03839cc"
      },
      "source": [
        "print(\"Accuracy score - Train data\",metrics.accuracy_score(y_train,model.predict(x_train)))"
      ],
      "execution_count": null,
      "outputs": [
        {
          "output_type": "stream",
          "text": [
            "Accuracy score - Train data 0.4436574372182872\n"
          ],
          "name": "stdout"
        }
      ]
    },
    {
      "cell_type": "markdown",
      "metadata": {
        "id": "dqIPokCB6_gb"
      },
      "source": [
        "**8.8.3 Printing the Confusion Matrix**"
      ]
    },
    {
      "cell_type": "code",
      "metadata": {
        "id": "mncyWsLrVkaC",
        "colab": {
          "base_uri": "https://localhost:8080/"
        },
        "outputId": "1b8fce4d-34ed-4e09-f565-99127a834797"
      },
      "source": [
        "from sklearn.metrics import confusion_matrix\n",
        "print(confusion_matrix(y_test,y_pred))"
      ],
      "execution_count": null,
      "outputs": [
        {
          "output_type": "stream",
          "text": [
            "[[353  19]\n",
            " [ 19 275]]\n"
          ],
          "name": "stdout"
        }
      ]
    },
    {
      "cell_type": "markdown",
      "metadata": {
        "id": "1sDrYrrn7KLb"
      },
      "source": [
        "**8.8.4 Printing the Classification Report**"
      ]
    },
    {
      "cell_type": "code",
      "metadata": {
        "id": "8UkVDaYQ7KLc",
        "colab": {
          "base_uri": "https://localhost:8080/"
        },
        "outputId": "67b24d07-30a2-4317-9a31-83633fde94eb"
      },
      "source": [
        "from sklearn.metrics import classification_report\n",
        "print(classification_report(y_test,y_pred))"
      ],
      "execution_count": null,
      "outputs": [
        {
          "output_type": "stream",
          "text": [
            "              precision    recall  f1-score   support\n",
            "\n",
            "           0       0.95      0.95      0.95       372\n",
            "           1       0.94      0.94      0.94       294\n",
            "\n",
            "    accuracy                           0.94       666\n",
            "   macro avg       0.94      0.94      0.94       666\n",
            "weighted avg       0.94      0.94      0.94       666\n",
            "\n"
          ],
          "name": "stdout"
        }
      ]
    },
    {
      "cell_type": "markdown",
      "metadata": {
        "id": "aykGOWEAVkaI"
      },
      "source": [
        "------------------------------------------------------------------------------------------------------------------------------------------------------------------------\n",
        "\n",
        "**Conclusion**: It is clear that Gradient Descent accuracy score is 98% which is more than most of our models we used previousy and has very less false negatives.This is the best model till now\n",
        "\n",
        "------------------------------------------------------------------------------------------------------------------------------------------------------------------------"
      ]
    },
    {
      "cell_type": "markdown",
      "metadata": {
        "id": "ar46V_Ew9JgP"
      },
      "source": [
        "### **9. Understanding the Bussiness Model**"
      ]
    },
    {
      "cell_type": "markdown",
      "metadata": {
        "id": "wPK5oIvXBw6n"
      },
      "source": [
        "### **Models Build:**\n",
        "\n",
        "#### **1. Logistic Regression**:\n",
        "\n",
        "**Report of Logistic Regression :**\n",
        "\n",
        "> **1. Test Accuracy :** 0.59309\n",
        "> **2. Train Accuracy:** 0.56922\n",
        "\n",
        "> **3. Confusion Matrix**:\n",
        "  [[342   30]\n",
        "  [  241   53]]\n",
        "\n",
        "> **4.Classification Report:** \n",
        "\n",
        "                             precision   recall   f1-score   support\n",
        "\n",
        "                       0       0.59      0.92      0.72      3752\n",
        "                       1       0.64      0.18      0.28       294\n",
        "\n",
        "                accuracy                           0.59      666\n",
        "               macro avg       0.61      0.55      0.50      666\n",
        "            weighted avg       0.61      0.59      0.52      666\n",
        "\n",
        "\n",
        "-------------------------------------------------------------------------------------------------------------------------------------------------------------------------------------------------------------------------------------------------------------------------------------------------------------------------------------------------------\n",
        "-----------------------------------------------------------------------------------------------------------------------------------------------------------------------------------------------------------------------------------------------------------------------------------------------------------------------------------------\n",
        "\n",
        "\n",
        "\n",
        "\n",
        "#### **2. Decision Tree**:\n",
        "\n",
        "**Report of Decision Tree :**\n",
        "\n",
        "> **1. Test Accuracy :** \n",
        "\n",
        "> **2. Train Accuracy:**  0.56\n",
        "\n",
        "> **3. Confusion Matrix**:\n",
        "[[349   23]\n",
        " [  19  275]]\n",
        "\n",
        "> **4.Classification Report:** \n",
        "\n",
        "                             precision   recall   f1-score   support\n",
        "\n",
        "                       0       0.95      0.94      0.94      372\n",
        "                       1       0.92      0.94      0.93      294\n",
        "\n",
        "                accuracy                           0.94      666\n",
        "               macro avg       0.94      0.94      0.94      666\n",
        "            weighted avg       0.94      0.94      0.94      666\n",
        "\n",
        "\n",
        "-------------------------------------------------------------------------------------------------------------------------------------------------------------------------------------------------------------------------------------------------------------------------------------------------------------------------------------------------------\n",
        "-----------------------------------------------------------------------------------------------------------------------------------------------------------------------------------------------------------------------------------------------------------------------------------------------------------------------------------------\n",
        "\n",
        "\n",
        "\n",
        "#### **3.KNN**:\n",
        "\n",
        "**Report of SVM with Linear Kernel :**\n",
        "\n",
        "> **1. Test Accuracy :** 0.944\n",
        "\n",
        "> **2. Train Accuracy:**  0.56\n",
        "\n",
        "> **3. Confusion Matrix**:\n",
        "[[348   24]\n",
        " [  13  281]]\n",
        "\n",
        "> **4.Classification Report:** \n",
        "\n",
        "                             precision  recall   f1-score   support\n",
        "\n",
        "                       0       0.96      0.94      0.95       372\n",
        "                       1       0.94      0.92      0.93       294\n",
        "\n",
        "                accuracy                           0.94       666\n",
        "               macro avg       0.94      0.95      0.94       666\n",
        "            weighted avg       0.95      0.94      0.94       666\n",
        "\n",
        "\n",
        "\n",
        "-------------------------------------------------------------------------------------------------------------------------------------------------------------------------------------------------------------------------------------------------------------------------------------------------------------------------------------------------------\n",
        "-----------------------------------------------------------------------------------------------------------------------------------------------------------------------------------------------------------------------------------------------------------------------------------------------------------------------------------------\n",
        "\n",
        "\n",
        "\n",
        "#### **4.  Support Vector Machine with Linear Kernel**:\n",
        "\n",
        "**Report of  Support Vector Machine :**\n",
        "\n",
        "> **1. Test Accuracy :** 0.5585585585585\n",
        "\n",
        "> **2. Train Accuracy:**  0.9497142857142857\n",
        "\n",
        "> **3. Confusion Matrix**:\n",
        "[[372    0]\n",
        " [ 294    0]]\n",
        "\n",
        "> **4.Classification Report:** \n",
        "\n",
        "                             precision  recall   f1-score   support\n",
        "\n",
        "                       0       0.56      1.00      0.72       372\n",
        "                       1       0.00      0.00      0.00       294\n",
        "\n",
        "                accuracy                           0.56       666\n",
        "               macro avg       0.28      0.50      0.48       666\n",
        "            weighted avg       0.31      0.56      0.40       666\n",
        "\n",
        "\n",
        "\n",
        "-------------------------------------------------------------------------------------------------------------------------------------------------------------------------------------------------------------------------------------------------------------------------------------------------------------------------------------------------------\n",
        "-----------------------------------------------------------------------------------------------------------------------------------------------------------------------------------------------------------------------------------------------------------------------------------------------------------------------------------------\n",
        "\n",
        "\n",
        "\n",
        "#### **4.  Support Vector Machine with RBF Kernel**:\n",
        "\n",
        "**Report of  Support Vector Machine :**\n",
        "\n",
        "> **1. Test Accuracy :** 0.5585585585585\n",
        "\n",
        "> **2. Train Accuracy:**  0.9497142857142857\n",
        "\n",
        "> **3. Confusion Matrix**:\n",
        "[[372    0]\n",
        " [ 294    0]]\n",
        "\n",
        "> **4.Classification Report:** \n",
        "\n",
        "                             precision  recall   f1-score   support\n",
        "\n",
        "                       0       0.56      1.00      0.72       372\n",
        "                       1       0.00      0.00      0.00       294\n",
        "\n",
        "                accuracy                           0.56       666\n",
        "               macro avg       0.28      0.50      0.48       666\n",
        "            weighted avg       0.31      0.56      0.40       666\n",
        "\n",
        "\n",
        "\n",
        "-------------------------------------------------------------------------------------------------------------------------------------------------------------------------------------------------------------------------------------------------------------------------------------------------------------------------------------------------------\n",
        "-----------------------------------------------------------------------------------------------------------------------------------------------------------------------------------------------------------------------------------------------------------------------------------------------------------------------------------------\n",
        "\n",
        "\n",
        "\n",
        "\n",
        "\n"
      ]
    },
    {
      "cell_type": "markdown",
      "metadata": {
        "id": "mY1tVGbVZSmq"
      },
      "source": [
        "**Developer** : **Duggirala Akhil**\n",
        "\n",
        "**Course**   : B.Tech-Computer Science and Engineering - III year\n",
        "\n",
        "**College**   : Rajiv Gandhi University of Knowledge Technologies - IIIT Srikakulam\n"
      ]
    }
  ]
}